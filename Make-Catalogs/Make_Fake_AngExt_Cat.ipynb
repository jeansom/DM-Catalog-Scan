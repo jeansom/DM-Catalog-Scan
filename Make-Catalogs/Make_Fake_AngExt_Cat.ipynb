{
 "cells": [
  {
   "cell_type": "code",
   "execution_count": 41,
   "metadata": {
    "collapsed": true
   },
   "outputs": [],
   "source": [
    "import numpy as np\n",
    "import pandas as pd\n",
    "import healpy as hp\n",
    "import matplotlib.pyplot as plt\n",
    "\n",
    "from astropy.cosmology import Planck15\n",
    "\n",
    "%matplotlib inline"
   ]
  },
  {
   "cell_type": "code",
   "execution_count": 42,
   "metadata": {
    "collapsed": true
   },
   "outputs": [],
   "source": [
    "# How many fake halos\n",
    "Nh_fake = 20"
   ]
  },
  {
   "cell_type": "markdown",
   "metadata": {},
   "source": [
    "Load Tully catalog and remove garbage halos"
   ]
  },
  {
   "cell_type": "code",
   "execution_count": 43,
   "metadata": {
    "collapsed": false
   },
   "outputs": [],
   "source": [
    "tully_cat = pd.read_csv(\"../DataFiles/Catalogs/2MRSTully_ALL_DATAPAPER_Planck15_v4.csv\")\n",
    "tully_cat = tully_cat[tully_cat['mulog10J_inf'] > -900]"
   ]
  },
  {
   "cell_type": "markdown",
   "metadata": {},
   "source": [
    "Get their angular extent, defined as $2 r_s/d_A$, and get minimum and maximum values"
   ]
  },
  {
   "cell_type": "code",
   "execution_count": 44,
   "metadata": {
    "collapsed": false
   },
   "outputs": [],
   "source": [
    "ang_ext = 2*tully_cat['rs'].values/(Planck15.angular_diameter_distance(tully_cat['z']).value*1000)*(180/np.pi)"
   ]
  },
  {
   "cell_type": "code",
   "execution_count": 45,
   "metadata": {
    "collapsed": false
   },
   "outputs": [
    {
     "data": {
      "text/plain": [
       "array([ 1.79187433,  1.12941394,  0.95258013, ...,  0.03100132,\n",
       "        0.02948074,  0.0288448 ])"
      ]
     },
     "execution_count": 45,
     "metadata": {},
     "output_type": "execute_result"
    }
   ],
   "source": [
    "ang_ext"
   ]
  },
  {
   "cell_type": "code",
   "execution_count": 46,
   "metadata": {
    "collapsed": true
   },
   "outputs": [],
   "source": [
    "theta_min = np.min(ang_ext)\n",
    "theta_max = np.max(ang_ext)"
   ]
  },
  {
   "cell_type": "markdown",
   "metadata": {},
   "source": [
    "Fix the redshift and get rs values corresponding to linspaced angular extensions between min and max in the catalog"
   ]
  },
  {
   "cell_type": "code",
   "execution_count": 57,
   "metadata": {
    "collapsed": false
   },
   "outputs": [],
   "source": [
    "z_fix = 0.003\n",
    "dA_fix = Planck15.angular_diameter_distance(z_fix).value*1000"
   ]
  },
  {
   "cell_type": "code",
   "execution_count": 58,
   "metadata": {
    "collapsed": false
   },
   "outputs": [
    {
     "data": {
      "text/plain": [
       "13227.981671549178"
      ]
     },
     "execution_count": 58,
     "metadata": {},
     "output_type": "execute_result"
    }
   ],
   "source": [
    "dA_fix"
   ]
  },
  {
   "cell_type": "code",
   "execution_count": null,
   "metadata": {
    "collapsed": true
   },
   "outputs": [],
   "source": [
    "theta_rep = np.linspace(theta_min,theta_max,Nh_fake)*(np.pi/180)"
   ]
  },
  {
   "cell_type": "code",
   "execution_count": 59,
   "metadata": {
    "collapsed": true
   },
   "outputs": [],
   "source": [
    "rs_rep = np.linspace(dA_fix*theta_min,dA_fix*theta_max,Nh_fake)/2.*(np.pi/180)"
   ]
  },
  {
   "cell_type": "code",
   "execution_count": 61,
   "metadata": {
    "collapsed": false
   },
   "outputs": [
    {
     "data": {
      "text/plain": [
       "array([   3.21554528,   13.93297214,   24.65039901,   35.36782587,\n",
       "         46.08525273,   56.8026796 ,   67.52010646,   78.23753332,\n",
       "         88.95496018,   99.67238705,  110.38981391,  121.10724077,\n",
       "        131.82466763,  142.5420945 ,  153.25952136,  163.97694822,\n",
       "        174.69437509,  185.41180195,  196.12922881,  206.84665567])"
      ]
     },
     "execution_count": 61,
     "metadata": {},
     "output_type": "execute_result"
    }
   ],
   "source": [
    "rs_rep"
   ]
  },
  {
   "cell_type": "markdown",
   "metadata": {},
   "source": [
    "Make table with fake values for other quantities that are loaded"
   ]
  },
  {
   "cell_type": "code",
   "execution_count": 62,
   "metadata": {
    "collapsed": false
   },
   "outputs": [],
   "source": [
    "sales = zip(np.ones(Nh_fake)*15,\\\n",
    "            np.ones(Nh_fake)*15,\\\n",
    "            np.ones(Nh_fake)*z_fix,\\\n",
    "            rs_rep)\n",
    "labels = ['mulog10J_inf',\"mulog10Jnb_inf\",\"z\",\"rs\"]\n",
    "cat_fake = pd.DataFrame.from_records(sales, columns=labels)\n"
   ]
  },
  {
   "cell_type": "code",
   "execution_count": 63,
   "metadata": {
    "collapsed": false
   },
   "outputs": [
    {
     "data": {
      "text/html": [
       "<div>\n",
       "<table border=\"1\" class=\"dataframe\">\n",
       "  <thead>\n",
       "    <tr style=\"text-align: right;\">\n",
       "      <th></th>\n",
       "      <th>mulog10J_inf</th>\n",
       "      <th>mulog10Jnb_inf</th>\n",
       "      <th>z</th>\n",
       "      <th>rs</th>\n",
       "    </tr>\n",
       "  </thead>\n",
       "  <tbody>\n",
       "    <tr>\n",
       "      <th>0</th>\n",
       "      <td>15.0</td>\n",
       "      <td>15.0</td>\n",
       "      <td>0.003</td>\n",
       "      <td>3.215545</td>\n",
       "    </tr>\n",
       "    <tr>\n",
       "      <th>1</th>\n",
       "      <td>15.0</td>\n",
       "      <td>15.0</td>\n",
       "      <td>0.003</td>\n",
       "      <td>13.932972</td>\n",
       "    </tr>\n",
       "    <tr>\n",
       "      <th>2</th>\n",
       "      <td>15.0</td>\n",
       "      <td>15.0</td>\n",
       "      <td>0.003</td>\n",
       "      <td>24.650399</td>\n",
       "    </tr>\n",
       "    <tr>\n",
       "      <th>3</th>\n",
       "      <td>15.0</td>\n",
       "      <td>15.0</td>\n",
       "      <td>0.003</td>\n",
       "      <td>35.367826</td>\n",
       "    </tr>\n",
       "    <tr>\n",
       "      <th>4</th>\n",
       "      <td>15.0</td>\n",
       "      <td>15.0</td>\n",
       "      <td>0.003</td>\n",
       "      <td>46.085253</td>\n",
       "    </tr>\n",
       "    <tr>\n",
       "      <th>5</th>\n",
       "      <td>15.0</td>\n",
       "      <td>15.0</td>\n",
       "      <td>0.003</td>\n",
       "      <td>56.802680</td>\n",
       "    </tr>\n",
       "    <tr>\n",
       "      <th>6</th>\n",
       "      <td>15.0</td>\n",
       "      <td>15.0</td>\n",
       "      <td>0.003</td>\n",
       "      <td>67.520106</td>\n",
       "    </tr>\n",
       "    <tr>\n",
       "      <th>7</th>\n",
       "      <td>15.0</td>\n",
       "      <td>15.0</td>\n",
       "      <td>0.003</td>\n",
       "      <td>78.237533</td>\n",
       "    </tr>\n",
       "    <tr>\n",
       "      <th>8</th>\n",
       "      <td>15.0</td>\n",
       "      <td>15.0</td>\n",
       "      <td>0.003</td>\n",
       "      <td>88.954960</td>\n",
       "    </tr>\n",
       "    <tr>\n",
       "      <th>9</th>\n",
       "      <td>15.0</td>\n",
       "      <td>15.0</td>\n",
       "      <td>0.003</td>\n",
       "      <td>99.672387</td>\n",
       "    </tr>\n",
       "    <tr>\n",
       "      <th>10</th>\n",
       "      <td>15.0</td>\n",
       "      <td>15.0</td>\n",
       "      <td>0.003</td>\n",
       "      <td>110.389814</td>\n",
       "    </tr>\n",
       "    <tr>\n",
       "      <th>11</th>\n",
       "      <td>15.0</td>\n",
       "      <td>15.0</td>\n",
       "      <td>0.003</td>\n",
       "      <td>121.107241</td>\n",
       "    </tr>\n",
       "    <tr>\n",
       "      <th>12</th>\n",
       "      <td>15.0</td>\n",
       "      <td>15.0</td>\n",
       "      <td>0.003</td>\n",
       "      <td>131.824668</td>\n",
       "    </tr>\n",
       "    <tr>\n",
       "      <th>13</th>\n",
       "      <td>15.0</td>\n",
       "      <td>15.0</td>\n",
       "      <td>0.003</td>\n",
       "      <td>142.542094</td>\n",
       "    </tr>\n",
       "    <tr>\n",
       "      <th>14</th>\n",
       "      <td>15.0</td>\n",
       "      <td>15.0</td>\n",
       "      <td>0.003</td>\n",
       "      <td>153.259521</td>\n",
       "    </tr>\n",
       "    <tr>\n",
       "      <th>15</th>\n",
       "      <td>15.0</td>\n",
       "      <td>15.0</td>\n",
       "      <td>0.003</td>\n",
       "      <td>163.976948</td>\n",
       "    </tr>\n",
       "    <tr>\n",
       "      <th>16</th>\n",
       "      <td>15.0</td>\n",
       "      <td>15.0</td>\n",
       "      <td>0.003</td>\n",
       "      <td>174.694375</td>\n",
       "    </tr>\n",
       "    <tr>\n",
       "      <th>17</th>\n",
       "      <td>15.0</td>\n",
       "      <td>15.0</td>\n",
       "      <td>0.003</td>\n",
       "      <td>185.411802</td>\n",
       "    </tr>\n",
       "    <tr>\n",
       "      <th>18</th>\n",
       "      <td>15.0</td>\n",
       "      <td>15.0</td>\n",
       "      <td>0.003</td>\n",
       "      <td>196.129229</td>\n",
       "    </tr>\n",
       "    <tr>\n",
       "      <th>19</th>\n",
       "      <td>15.0</td>\n",
       "      <td>15.0</td>\n",
       "      <td>0.003</td>\n",
       "      <td>206.846656</td>\n",
       "    </tr>\n",
       "  </tbody>\n",
       "</table>\n",
       "</div>"
      ],
      "text/plain": [
       "    mulog10J_inf  mulog10Jnb_inf      z          rs\n",
       "0           15.0            15.0  0.003    3.215545\n",
       "1           15.0            15.0  0.003   13.932972\n",
       "2           15.0            15.0  0.003   24.650399\n",
       "3           15.0            15.0  0.003   35.367826\n",
       "4           15.0            15.0  0.003   46.085253\n",
       "5           15.0            15.0  0.003   56.802680\n",
       "6           15.0            15.0  0.003   67.520106\n",
       "7           15.0            15.0  0.003   78.237533\n",
       "8           15.0            15.0  0.003   88.954960\n",
       "9           15.0            15.0  0.003   99.672387\n",
       "10          15.0            15.0  0.003  110.389814\n",
       "11          15.0            15.0  0.003  121.107241\n",
       "12          15.0            15.0  0.003  131.824668\n",
       "13          15.0            15.0  0.003  142.542094\n",
       "14          15.0            15.0  0.003  153.259521\n",
       "15          15.0            15.0  0.003  163.976948\n",
       "16          15.0            15.0  0.003  174.694375\n",
       "17          15.0            15.0  0.003  185.411802\n",
       "18          15.0            15.0  0.003  196.129229\n",
       "19          15.0            15.0  0.003  206.846656"
      ]
     },
     "execution_count": 63,
     "metadata": {},
     "output_type": "execute_result"
    }
   ],
   "source": [
    "cat_fake"
   ]
  },
  {
   "cell_type": "code",
   "execution_count": 64,
   "metadata": {
    "collapsed": true
   },
   "outputs": [],
   "source": [
    "cat_fake.to_csv(\"../DataFiles/Catalogs/fake_cat_angext_v1.csv\")"
   ]
  },
  {
   "cell_type": "code",
   "execution_count": null,
   "metadata": {
    "collapsed": true
   },
   "outputs": [],
   "source": []
  },
  {
   "cell_type": "code",
   "execution_count": null,
   "metadata": {
    "collapsed": true
   },
   "outputs": [],
   "source": []
  }
 ],
 "metadata": {
  "kernelspec": {
   "display_name": "Python 2",
   "language": "python",
   "name": "python2"
  },
  "language_info": {
   "codemirror_mode": {
    "name": "ipython",
    "version": 2
   },
   "file_extension": ".py",
   "mimetype": "text/x-python",
   "name": "python",
   "nbconvert_exporter": "python",
   "pygments_lexer": "ipython2",
   "version": "2.7.13"
  }
 },
 "nbformat": 4,
 "nbformat_minor": 2
}
