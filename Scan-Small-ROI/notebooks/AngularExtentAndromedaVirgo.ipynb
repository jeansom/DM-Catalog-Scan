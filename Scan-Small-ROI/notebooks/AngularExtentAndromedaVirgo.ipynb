{
 "cells": [
  {
   "cell_type": "code",
   "execution_count": 1,
   "metadata": {
    "collapsed": true
   },
   "outputs": [],
   "source": [
    "import sys\n",
    "import shutil\n",
    "sys.path.append(\"../\")\n",
    "\n",
    "import numpy as np\n",
    "import matplotlib.pyplot as plt\n",
    "import pandas as pd\n",
    "from tqdm import *\n",
    "from plot_skylocs import LimitPlot\n",
    "from astropy.cosmology import Planck15\n",
    "import corner\n",
    "\n",
    "%matplotlib inline\n",
    "%load_ext autoreload\n",
    "%autoreload 2"
   ]
  },
  {
   "cell_type": "code",
   "execution_count": 2,
   "metadata": {},
   "outputs": [
    {
     "name": "stderr",
     "output_type": "stream",
     "text": [
      "/tigress/smsharma/anaconda2/lib/python2.7/site-packages/IPython/core/interactiveshell.py:2717: DtypeWarning: Columns (21,22,23) have mixed types. Specify dtype option on import or set low_memory=False.\n",
      "  interactivity=interactivity, compiler=compiler, result=result)\n"
     ]
    }
   ],
   "source": [
    "catalog = pd.read_csv(\"/tigress/nrodd/DM-Catalog-Scan/DataFiles/Catalogs/2MRSLocalTully_ALL_DATAPAPER_Planck15_v7.csv\")"
   ]
  },
  {
   "cell_type": "code",
   "execution_count": 3,
   "metadata": {},
   "outputs": [
    {
     "name": "stdout",
     "output_type": "stream",
     "text": [
      "['Unnamed: 0', 'Name', 'mulog10J_inf', 'siglog10J_inf', 'mulog10Jnb_inf', 'siglog10Jnb_inf', 'mulog10JB_inf', 'siglog10JB_inf', 'mulog10JBnb_inf', 'siglog10JBnb_inf', 'mulog10D_inf', 'siglog10D_inf', 'log10Mvir_inf', 'z', 'Nest', 'Ng', 'l', 'b', 'cvir_inf', 'rvir_inf', 'rs', 'ID_2MASXJ', 'Bib_z', 'GName', '3FGL 0.5', '3FGL 1', '3FGL 2', '3FGL 5', '3FGL 10', 'N3FGL 5', 'ang_ext', 'theta_vir', 'log10M200_inf', 'ra', 'dec', 'dA']\n"
     ]
    }
   ],
   "source": [
    "print list(catalog)"
   ]
  },
  {
   "cell_type": "code",
   "execution_count": 5,
   "metadata": {},
   "outputs": [
    {
     "name": "stdout",
     "output_type": "stream",
     "text": [
      "369.956240978\n",
      "2023.32217542\n",
      "33.6149157413\n",
      "317.947047392\n",
      "0.749998910288\n",
      "15.7600017396\n"
     ]
    }
   ],
   "source": [
    "print catalog['rvir_inf'][0]\n",
    "print catalog['rvir_inf'][1]\n",
    "\n",
    "print catalog['rs'][0]\n",
    "print catalog['rs'][1]\n",
    "\n",
    "print catalog['dA'][0]\n",
    "print catalog['dA'][1]"
   ]
  },
  {
   "cell_type": "code",
   "execution_count": 18,
   "metadata": {},
   "outputs": [
    {
     "name": "stdout",
     "output_type": "stream",
     "text": [
      "24.2894005235\n",
      "1.18110996901\n",
      "4.35717116676\n"
     ]
    }
   ],
   "source": [
    "print 317.947047392*1e-3/0.749998910288*180./np.pi\n",
    "print np.arctan(0.46*33.6149157413*1e-3/0.749998910288)*180./np.pi\n",
    "print np.arctan(1.7*33.6149157413*1e-3/0.749998910288)*180./np.pi"
   ]
  },
  {
   "cell_type": "code",
   "execution_count": 19,
   "metadata": {},
   "outputs": [
    {
     "name": "stdout",
     "output_type": "stream",
     "text": [
      "7.3558254093\n",
      "0.531699843324\n",
      "1.96426418419\n"
     ]
    }
   ],
   "source": [
    "print 2023.32217542*1e-3/15.7600017396*180./np.pi\n",
    "print np.arctan(0.46*317.947047392*1e-3/15.7600017396)*180./np.pi\n",
    "print np.arctan(1.7*317.947047392*1e-3/15.7600017396)*180./np.pi"
   ]
  },
  {
   "cell_type": "code",
   "execution_count": null,
   "metadata": {
    "collapsed": true
   },
   "outputs": [],
   "source": []
  }
 ],
 "metadata": {
  "kernelspec": {
   "display_name": "Python 2",
   "language": "python",
   "name": "python2"
  },
  "language_info": {
   "codemirror_mode": {
    "name": "ipython",
    "version": 2
   },
   "file_extension": ".py",
   "mimetype": "text/x-python",
   "name": "python",
   "nbconvert_exporter": "python",
   "pygments_lexer": "ipython2",
   "version": "2.7.13"
  }
 },
 "nbformat": 4,
 "nbformat_minor": 2
}
