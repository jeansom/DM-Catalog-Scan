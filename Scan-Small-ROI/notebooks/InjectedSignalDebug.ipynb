{
 "cells": [
  {
   "cell_type": "code",
   "execution_count": 1,
   "metadata": {
    "collapsed": true
   },
   "outputs": [],
   "source": [
    "import sys\n",
    "sys.path.append(\"../\")\n",
    "\n",
    "import numpy as np\n",
    "import matplotlib.pyplot as plt\n",
    "import pandas as pd\n",
    "import healpy as hp\n",
    "from tqdm import *\n",
    "from plot import LimitPlot\n",
    "\n",
    "%matplotlib inline\n",
    "%load_ext autoreload\n",
    "%autoreload 2"
   ]
  },
  {
   "cell_type": "code",
   "execution_count": 18,
   "metadata": {
    "collapsed": false
   },
   "outputs": [],
   "source": [
    "nmc = 10\n",
    "\n",
    "xsec_max_ary = np.zeros((5,nmc))\n",
    "limit_ary = np.zeros((5,nmc))\n",
    "\n",
    "for idm, dm in enumerate(tqdm_notebook([5,7,9,11,13])):\n",
    "    plot_mc = LimitPlot(data_dir='/tigress/nrodd/DM-Catalog-Scan/Scan-Small-ROI/data/FloatPS_indiv_floatDM_nodmless7_dm' + str(dm)+'/',\n",
    "                        elephant=True, \n",
    "                        nmc=nmc, \n",
    "                        halos_ran=150, \n",
    "                        halos_to_keep=150,\n",
    "                        data_type=\"mc\",\n",
    "                        elephantm = [0])\n",
    "    limit_ary_temp, xsec_max_ary_temp = plot_mc.return_limits()\n",
    "    \n",
    "    xsec_max_ary[idm] = xsec_max_ary_temp[-1,0,:]\n",
    "    limit_ary[idm] = limit_ary_temp[-1,0,:]"
   ]
  },
  {
   "cell_type": "code",
   "execution_count": 19,
   "metadata": {
    "collapsed": false
   },
   "outputs": [],
   "source": [
    "xsec_max = np.log10(np.percentile(xsec_max_ary[:10], [16,50,84], axis=1))\n",
    "lims = np.log10(np.percentile(10**limit_ary[:10], [16,50,84], axis=1))"
   ]
  },
  {
   "cell_type": "code",
   "execution_count": 26,
   "metadata": {
    "collapsed": false
   },
   "outputs": [
    {
     "data": {
      "text/plain": [
       "<matplotlib.legend.Legend at 0x2af0e50b6ed0>"
      ]
     },
     "execution_count": 26,
     "metadata": {},
     "output_type": "execute_result"
    },
    {
     "data": {
      "image/png": "[encoded data removed]",
      "text/plain": [
       "<matplotlib.figure.Figure at 0x2af0e4ff6250>"
      ]
     },
     "metadata": {},
     "output_type": "display_data"
    }
   ],
   "source": [
    "plt.plot(np.arange(-23,-28,-1),  xsec_max[1], label='maxTS')\n",
    "plt.fill_between(np.arange(-23,-28,-1),  xsec_max[0], xsec_max[2], alpha=0.2)\n",
    "\n",
    "plt.plot(np.arange(-23,-28,-1),  lims[1], label='Limit')\n",
    "plt.fill_between(np.arange(-23,-28,-1),  lims[0], lims[2], alpha=0.2)\n",
    "\n",
    "plt.plot([-27,-21],[-27,-21],ls='--', color='grey')\n",
    "\n",
    "# plt.axvspan(limit_nodm[0],limit_nodm[2],color='firebrick',alpha=0.2)\n",
    "# plt.axvline(limit_nodm[1],color='firebrick',alpha=1,ls='--', label=\"null Limit\")\n",
    "\n",
    "\n",
    "plt.xlabel(\"$\\langle \\sigma v \\\\rangle_\\mathrm{inj}$ [cm$^3$s$^{-1}$]\")\n",
    "plt.ylabel(\"$\\langle \\sigma v \\\\rangle_\\mathrm{rec}$ [cm$^3$s$^{-1}$]\")\n",
    "\n",
    "plt.ylim(-28,-22)\n",
    "plt.xlim(-28,-22)\n",
    "\n",
    "\n",
    "plt.legend()"
   ]
  },
  {
   "cell_type": "code",
   "execution_count": 20,
   "metadata": {
    "collapsed": false
   },
   "outputs": [
    {
     "name": "stdout",
     "output_type": "stream",
     "text": [
      "[[  1.00000000e-23   1.00000000e-23   1.00000000e-23   1.00000000e-23\n",
      "    1.00000000e-23   1.00000000e-23   1.00000000e-23   1.00000000e-23\n",
      "    1.00000000e-23   1.00000000e-23]\n",
      " [  1.00000000e-24   1.12201845e-24   1.12201845e-24   1.12201845e-24\n",
      "    1.00000000e-24   1.12201845e-24   1.25892541e-24   1.12201845e-24\n",
      "    1.12201845e-24   1.12201845e-24]\n",
      " [  1.58489319e-25   2.51188643e-26   1.12201845e-25   1.12201845e-25\n",
      "    1.77827941e-25   2.23872114e-25   7.07945784e-26   4.46683592e-26\n",
      "    1.12201845e-25   7.94328235e-26]\n",
      " [  1.77827941e-26   1.25892541e-31   6.30957344e-26   1.00000000e-26\n",
      "    1.00000000e-33   3.98107171e-32   1.58489319e-32   3.16227766e-26\n",
      "    1.00000000e-32   1.00000000e-33]\n",
      " [  1.00000000e-33   2.23872114e-26   3.16227766e-26   1.99526231e-32\n",
      "    4.46683592e-26   2.51188643e-32   8.91250938e-33   3.98107171e-32\n",
      "    4.46683592e-26   5.01187234e-26]]\n"
     ]
    }
   ],
   "source": [
    "print xsec_max_ary"
   ]
  },
  {
   "cell_type": "code",
   "execution_count": 25,
   "metadata": {
    "collapsed": false
   },
   "outputs": [
    {
     "name": "stdout",
     "output_type": "stream",
     "text": [
      "[-23 -24 -25 -26 -27]\n"
     ]
    }
   ],
   "source": [
    "print np.arange(-23,-28,-1)"
   ]
  },
  {
   "cell_type": "code",
   "execution_count": null,
   "metadata": {
    "collapsed": true
   },
   "outputs": [],
   "source": []
  }
 ],
 "metadata": {
  "kernelspec": {
   "display_name": "Python 2",
   "language": "python",
   "name": "python2"
  },
  "language_info": {
   "codemirror_mode": {
    "name": "ipython",
    "version": 2
   },
   "file_extension": ".py",
   "mimetype": "text/x-python",
   "name": "python",
   "nbconvert_exporter": "python",
   "pygments_lexer": "ipython2",
   "version": "2.7.13"
  },
  "widgets": {
   "state": {
    "000653b06d1942ac87594b73958bc9ca": {
     "views": [
      {
       "cell_index": 1
      }
     ]
    },
    "0014b04e21e341d797332991c414fd58": {
     "views": [
      {
       "cell_index": 1
      }
     ]
    },
    "001d598a313d412dbe0dfa2d7594d08c": {
     "views": [
      {
       "cell_index": 1
      }
     ]
    },
    "00460dd6081f480b9385a552fd319556": {
     "views": [
      {
       "cell_index": 1
      }
     ]
    },
    "005b678ba7e244d4876e2dd3abd5f8de": {
     "views": [
      {
       "cell_index": 1
      }
     ]
    },
    "0078f8f6b9c7473ca7d9fa04e10d0cf2": {
     "views": [
      {
       "cell_index": 1
      }
     ]
    },
    "00794d0d45604ee3aaeacc791c7c8c13": {
     "views": [
      {
       "cell_index": 1
      }
     ]
    },
    "00d226f7548e4404a693e39c7349f126": {
     "views": [
      {
       "cell_index": 1
      }
     ]
    },
    "028e5bfee8ee44a09157721559554bf5": {
     "views": [
      {
       "cell_index": 1
      }
     ]
    },
    "029a79326b7d416f9a5fd8756ab74047": {
     "views": [
      {
       "cell_index": 1
      }
     ]
    },
    "02c1764f50cb4502aa0fecbf79f3c17f": {
     "views": [
      {
       "cell_index": 1
      }
     ]
    },
    "02fbd816aa4641f8b86d533a744a6fc6": {
     "views": [
      {
       "cell_index": 1
      }
     ]
    },
    "03094aeac81946d8a6a9808d8926c496": {
     "views": [
      {
       "cell_index": 1
      }
     ]
    },
    "0316a07e85fa48ef80e5f4f828912e40": {
     "views": [
      {
       "cell_index": 1
      }
     ]
    },
    "034860e6c0a4456d8f91de5db49a75ef": {
     "views": [
      {
       "cell_index": 1
      }
     ]
    },
    "03dd2d3f3d454eb18846dac0fab85af9": {
     "views": [
      {
       "cell_index": 1
      }
     ]
    },
    "03e1e5dfc0c942a5bacd843fd7c89ebf": {
     "views": [
      {
       "cell_index": 1
      }
     ]
    },
    "04050329171a4248acf47e71774fb403": {
     "views": [
      {
       "cell_index": 1
      }
     ]
    },
    "044bf5c0d99b4ee596c9011f12bd255f": {
     "views": [
      {
       "cell_index": 1
      }
     ]
    },
    "045aa4804cab44d2b740bbf1da88becf": {
     "views": [
      {
       "cell_index": 1
      }
     ]
    },
    "04f3a8cbf2f6495aa8f34720795efd10": {
     "views": [
      {
       "cell_index": 1
      }
     ]
    },
    "052032b8813e4d24b013377c1bd0a2f7": {
     "views": [
      {
       "cell_index": 1
      }
     ]
    },
    "053062c1831246af8364f30d0bfbbf98": {
     "views": [
      {
       "cell_index": 1
      }
     ]
    },
    "0570ace2391c4dc8a614895c580826a5": {
     "views": [
      {
       "cell_index": 1
      }
     ]
    },
    "05e8d28df02b4f6ca4801646d0bb88ae": {
     "views": [
      {
       "cell_index": 1
      }
     ]
    },
    "063a5be78db040d4b38a44532f9d4695": {
     "views": [
      {
       "cell_index": 1
      }
     ]
    },
    "0651ac0d30114e48913e03160b73da3b": {
     "views": [
      {
       "cell_index": 1
      }
     ]
    },
    "06541218423943618fe4b2ed0df30380": {
     "views": [
      {
       "cell_index": 1
      }
     ]
    },
    "06ad1e8d95b241a7920c9da975481086": {
     "views": [
      {
       "cell_index": 1
      }
     ]
    },
    "06be1ec0b93747cf867e6e2a0d5c89b0": {
     "views": [
      {
       "cell_index": 1
      }
     ]
    },
    "06e4893aec73448e9ff72404f0c39944": {
     "views": [
      {
       "cell_index": 1
      }
     ]
    },
    "07400fa11c0f44a1952b299dd728a48e": {
     "views": [
      {
       "cell_index": 1
      }
     ]
    },
    "0758ce04fbec49bd95b32234c1b574ca": {
     "views": [
      {
       "cell_index": 1
      }
     ]
    },
    "07929c8a1f4049d9b1320de6e175feb6": {
     "views": [
      {
       "cell_index": 1
      }
     ]
    },
    "07b9b997e70f4863b6e0d2ecb45ba246": {
     "views": [
      {
       "cell_index": 1
      }
     ]
    },
    "07c30cd898524e2fbe26b5afb6490518": {
     "views": [
      {
       "cell_index": 1
      }
     ]
    },
    "086890389f7e4b4bacea432b36c8ce85": {
     "views": [
      {
       "cell_index": 1
      }
     ]
    },
    "08721ddd70e4439b8f9c1d991c02b831": {
     "views": [
      {
       "cell_index": 1
      }
     ]
    },
    "08fc69e721274207890778bc7eb989ca": {
     "views": [
      {
       "cell_index": 1
      }
     ]
    },
    "091df07089db4cadb3a46e3b8c585bc2": {
     "views": [
      {
       "cell_index": 1
      }
     ]
    },
    "093f420b13ac4223a6a1d268d5afd4fa": {
     "views": [
      {
       "cell_index": 1
      }
     ]
    },
    "09402a901d9c4d47af63463385c25007": {
     "views": [
      {
       "cell_index": 1
      }
     ]
    },
    "09709ed0626b4743902a77ae9c845dea": {
     "views": [
      {
       "cell_index": 1
      }
     ]
    },
    "0972101114c445958256b1dc8b84d93d": {
     "views": [
      {
       "cell_index": 1
      }
     ]
    },
    "098e5ebaf26e43baa4f151c5bcaad5e3": {
     "views": [
      {
       "cell_index": 1
      }
     ]
    },
    "09fe913a090b4b47b01fd5e793ab7127": {
     "views": [
      {
       "cell_index": 1
      }
     ]
    },
    "0a18e2c77a5e4c608e445053be743652": {
     "views": [
      {
       "cell_index": 1
      }
     ]
    },
    "0a41491286a34d8bb68fa873f4643bd2": {
     "views": [
      {
       "cell_index": 1
      }
     ]
    },
    "0a93b421961942668dc9a64e945989dc": {
     "views": [
      {
       "cell_index": 1
      }
     ]
    },
    "0b3c5ffeed744c2b9cd8abfb8e303ac1": {
     "views": [
      {
       "cell_index": 1
      }
     ]
    },
    "0c0f42ca40444c7fbdb948878a98122a": {
     "views": [
      {
       "cell_index": 1
      }
     ]
    },
    "0c13c357badc495c8fa354253a85b8f6": {
     "views": [
      {
       "cell_index": 1
      }
     ]
    },
    "0c157d74a979402c8f8d1bd7ce964b2e": {
     "views": [
      {
       "cell_index": 1
      }
     ]
    },
    "0c4a47383d0340d89e78c288cbab34b2": {
     "views": [
      {
       "cell_index": 1
      }
     ]
    },
    "0c7596b74c07459aabc7ae38abcfa9c6": {
     "views": [
      {
       "cell_index": 1
      }
     ]
    },
    "0cefeeb8bafc480c97abd536604ec8d9": {
     "views": [
      {
       "cell_index": 1
      }
     ]
    },
    "0d60a02400da407e8a5b96885cbdfc9f": {
     "views": [
      {
       "cell_index": 1
      }
     ]
    },
    "0da39636427d49b2af5690bb8260d6b6": {
     "views": [
      {
       "cell_index": 1
      }
     ]
    },
    "0dba8b52a21540e5bb053649e94be421": {
     "views": [
      {
       "cell_index": 1
      }
     ]
    },
    "0dbdc941e9ce472cbec10eee28bc159e": {
     "views": [
      {
       "cell_index": 1
      }
     ]
    },
    "0dc8670f2fcc43e5ba207089968afc79": {
     "views": [
      {
       "cell_index": 1
      }
     ]
    },
    "0df0fc11f72f46218276e9e3459015f6": {
     "views": [
      {
       "cell_index": 1
      }
     ]
    },
    "0e413176393d44f5ba006a07fe913a38": {
     "views": [
      {
       "cell_index": 1
      }
     ]
    },
    "0e5362bd897140a2a8db6d8a9ef12630": {
     "views": [
      {
       "cell_index": 1
      }
     ]
    },
    "0e53d2568b8641be97d5de5e2d3aab77": {
     "views": [
      {
       "cell_index": 1
      }
     ]
    },
    "0e6b656724ae4184845282aa94c7dd07": {
     "views": [
      {
       "cell_index": 1
      }
     ]
    },
    "0ea8664a22a24994a4b35c989b27e15c": {
     "views": [
      {
       "cell_index": 1
      }
     ]
    },
    "0eb5e4445eec4cdb8394641f7f3466da": {
     "views": [
      {
       "cell_index": 1
      }
     ]
    },
    "0ebfddff2556466f961fd46faabe0d3c": {
     "views": [
      {
       "cell_index": 1
      }
     ]
    },
    "0f0c62dc1b1b4fa19a3717eef32502ef": {
     "views": [
      {
       "cell_index": 1
      }
     ]
    },
    "0f856de231244bbaa185dbfa38c44d87": {
     "views": [
      {
       "cell_index": 1
      }
     ]
    },
    "0fa1ffd1aa424e0191f5baef6826faef": {
     "views": [
      {
       "cell_index": 1
      }
     ]
    },
    "0fc6816ad9df4f9d97a264e88287cb3d": {
     "views": [
      {
       "cell_index": 1
      }
     ]
    },
    "0fc88c65d4b34dc490d3ad9f44a86469": {
     "views": [
      {
       "cell_index": 1
      }
     ]
    },
    "0fcdc7e8a2a24889bb18a8738e0fc6fd": {
     "views": [
      {
       "cell_index": 1
      }
     ]
    },
    "102cba30e67147378c47ffc28875df5b": {
     "views": [
      {
       "cell_index": 1
      }
     ]
    },
    "108e44a7f0f940ec8a9ba2bf1f89fc0c": {
     "views": [
      {
       "cell_index": 1
      }
     ]
    },
    "1095057d98814bfaab7886a493bc4647": {
     "views": [
      {
       "cell_index": 1
      }
     ]
    },
    "11092aa5484246b688d5d7a5587027a8": {
     "views": [
      {
       "cell_index": 1
      }
     ]
    },
    "1133db30ece543f1958dd14f8b835f4a": {
     "views": [
      {
       "cell_index": 1
      }
     ]
    },
    "1141d0fb0bb8497a83ad9e5031dbe727": {
     "views": [
      {
       "cell_index": 1
      }
     ]
    },
    "1159838436a14f4e8c01b2ed664ec5cf": {
     "views": [
      {
       "cell_index": 1
      }
     ]
    },
    "1166d798cf0242dfa191c6299d56b8b7": {
     "views": [
      {
       "cell_index": 1
      }
     ]
    },
    "118c7eb356db4fea9546e69966c808ee": {
     "views": [
      {
       "cell_index": 1
      }
     ]
    },
    "11d591aeac6d4fddab07e7dc8481a641": {
     "views": [
      {
       "cell_index": 1
      }
     ]
    },
    "12bae6e387b94c9ba4dbf38030a4989c": {
     "views": [
      {
       "cell_index": 1
      }
     ]
    },
    "12d5bc051d394485a51fbe085379d34d": {
     "views": [
      {
       "cell_index": 1
      }
     ]
    },
    "12e7c3f0dc234189aa8c55fb26860f9a": {
     "views": [
      {
       "cell_index": 1
      }
     ]
    },
    "13020e666d004cdb89f171f5d170c8fc": {
     "views": [
      {
       "cell_index": 1
      }
     ]
    },
    "131ed3025f854b8eab0c8b91483a733c": {
     "views": [
      {
       "cell_index": 1
      }
     ]
    },
    "133db80f4a584b8d96a4c4add33a5674": {
     "views": [
      {
       "cell_index": 1
      }
     ]
    },
    "13fda1ecdb074c0b951d88fa2d1ad6b5": {
     "views": [
      {
       "cell_index": 1
      }
     ]
    },
    "13feab9d760549a9a0004eece778a210": {
     "views": [
      {
       "cell_index": 1
      }
     ]
    },
    "142bf2c7dfcc4388b85d27cb4aa6782a": {
     "views": [
      {
       "cell_index": 1
      }
     ]
    },
    "1441ce7840054b7e8238ce3170b37150": {
     "views": [
      {
       "cell_index": 1
      }
     ]
    },
    "14790235d8c84655950bfdcff8611871": {
     "views": [
      {
       "cell_index": 1
      }
     ]
    },
    "147ca33d100c4cb6980f373edfd6a520": {
     "views": [
      {
       "cell_index": 1
      }
     ]
    },
    "14f3e2dc74b04abf9e770bceb3f47d83": {
     "views": [
      {
       "cell_index": 1
      }
     ]
    },
    "1505524388554b95855adaf8f4132fbd": {
     "views": [
      {
       "cell_index": 1
      }
     ]
    },
    "1519fa36b0524be482adf6b0d2fee187": {
     "views": [
      {
       "cell_index": 1
      }
     ]
    },
    "157cea834a4646d4a24383ad17f0acfd": {
     "views": [
      {
       "cell_index": 1
      }
     ]
    },
    "160e652418b141aabab5dd49c9d1fa6b": {
     "views": [
      {
       "cell_index": 1
      }
     ]
    },
    "161d32b787ae46af8d39aa919ab067cd": {
     "views": [
      {
       "cell_index": 1
      }
     ]
    },
    "163dfe721df4474f944a222fb55ccac9": {
     "views": [
      {
       "cell_index": 1
      }
     ]
    },
    "163e2e52edff4b54b65d98ad89a598b5": {
     "views": [
      {
       "cell_index": 1
      }
     ]
    },
    "16bd5d645f504811a0cc143509439da8": {
     "views": [
      {
       "cell_index": 1
      }
     ]
    },
    "16d050e7cd6d4fab9818306bdd3b692c": {
     "views": [
      {
       "cell_index": 1
      }
     ]
    },
    "17208214f9e84055aac38163ef5859e2": {
     "views": [
      {
       "cell_index": 1
      }
     ]
    },
    "17682f44f3cb49ee8ae9518f1a17fcb2": {
     "views": [
      {
       "cell_index": 1
      }
     ]
    },
    "17d29d519da442a4a34774e4491f489a": {
     "views": [
      {
       "cell_index": 1
      }
     ]
    },
    "1805c45280da47e6ad79a4bd2fee66bc": {
     "views": [
      {
       "cell_index": 1
      }
     ]
    },
    "180caa6a5a2c4150b139f64460dfb53d": {
     "views": [
      {
       "cell_index": 1
      }
     ]
    },
    "18126c47649446688f7d3b16703f9838": {
     "views": [
      {
       "cell_index": 1
      }
     ]
    },
    "1850daf37c61488aa30ed641a0f72b59": {
     "views": [
      {
       "cell_index": 1
      }
     ]
    },
    "188b882e523841389f77c1ac97008cca": {
     "views": [
      {
       "cell_index": 1
      }
     ]
    },
    "190994ba6e6345daadbc5006ec397b3f": {
     "views": [
      {
       "cell_index": 1
      }
     ]
    },
    "19484dddd737440c8c9479133f034980": {
     "views": [
      {
       "cell_index": 1
      }
     ]
    },
    "197945ed949d4bfc859399c2208e542b": {
     "views": [
      {
       "cell_index": 1
      }
     ]
    },
    "1a583cd201324118bffc761dbd200c3a": {
     "views": [
      {
       "cell_index": 1
      }
     ]
    },
    "1a7c4151b84a4191900a1d89390ce504": {
     "views": [
      {
       "cell_index": 1
      }
     ]
    },
    "1b130770a17f4a9da5c51e79884dcc3f": {
     "views": [
      {
       "cell_index": 1
      }
     ]
    },
    "1b59ca72b15c416d850f3ed24370a0ce": {
     "views": [
      {
       "cell_index": 1
      }
     ]
    },
    "1b6b6fc9fcbd46599a3ac7aa13eaf3d5": {
     "views": [
      {
       "cell_index": 1
      }
     ]
    },
    "1b740a6587734573941118441d75882d": {
     "views": [
      {
       "cell_index": 1
      }
     ]
    },
    "1b90c349f3c74a4b83f604d9f8a85329": {
     "views": [
      {
       "cell_index": 1
      }
     ]
    },
    "1bc92b0becb14324851df8c47550160d": {
     "views": [
      {
       "cell_index": 1
      }
     ]
    },
    "1bd41cd60680434f97434ce34c4d167c": {
     "views": [
      {
       "cell_index": 1
      }
     ]
    },
    "1bd887395ed94d8985e7fd504e5da82c": {
     "views": [
      {
       "cell_index": 1
      }
     ]
    },
    "1c2ec576629142048bdeaeb82dca0986": {
     "views": [
      {
       "cell_index": 1
      }
     ]
    },
    "1c4c4861125d4995877e5176eb772983": {
     "views": [
      {
       "cell_index": 1
      }
     ]
    },
    "1c549b0a34f242409de801720e6e0a61": {
     "views": [
      {
       "cell_index": 1
      }
     ]
    },
    "1ce27742f1924b5b884fe5ab0de4a80b": {
     "views": [
      {
       "cell_index": 1
      }
     ]
    },
    "1cfa2566d2ca446691e4e198f37eb716": {
     "views": [
      {
       "cell_index": 1
      }
     ]
    },
    "1d45ed11577740a5b4e1980da666a1ba": {
     "views": [
      {
       "cell_index": 1
      }
     ]
    },
    "1d9c560ebeb049e3b31a7f7e4e99eb1f": {
     "views": [
      {
       "cell_index": 1
      }
     ]
    },
    "1da2b953f89741bd9e71630c060eeb3a": {
     "views": [
      {
       "cell_index": 1
      }
     ]
    },
    "1dba6020b27143db8ef6d023a3db2082": {
     "views": [
      {
       "cell_index": 1
      }
     ]
    },
    "1dd602c7ba1e4e6e97914fa72ac508f6": {
     "views": [
      {
       "cell_index": 1
      }
     ]
    },
    "1df65467926f4fad9f84f80c94eaedd7": {
     "views": [
      {
       "cell_index": 1
      }
     ]
    },
    "1e3982e6d42b4d28a6140653626f41bd": {
     "views": [
      {
       "cell_index": 1
      }
     ]
    },
    "1e6af06d78e24daa86e00fe8c4c2a57b": {
     "views": [
      {
       "cell_index": 1
      }
     ]
    },
    "1e76239ded6a4403bf0e4a1d3a9a5512": {
     "views": [
      {
       "cell_index": 1
      }
     ]
    },
    "1ebfadf1810345b3aa7f9df28db1142d": {
     "views": [
      {
       "cell_index": 1
      }
     ]
    },
    "1f87884a5c2c4aa79071b48e6cc6429e": {
     "views": [
      {
       "cell_index": 1
      }
     ]
    },
    "1fb39dc4af284764ba18d67177054d3c": {
     "views": [
      {
       "cell_index": 1
      }
     ]
    },
    "20144ef25a674d6cb493cc33dcf6f9b6": {
     "views": [
      {
       "cell_index": 1
      }
     ]
    },
    "2037c72bda8647769bfbe582d44133fc": {
     "views": [
      {
       "cell_index": 1
      }
     ]
    },
    "20aa129e1fa546b1bed8b2d38b5a9b3f": {
     "views": [
      {
       "cell_index": 1
      }
     ]
    },
    "20e6670ba2ad48d1ba9a0b6c9ca40623": {
     "views": [
      {
       "cell_index": 1
      }
     ]
    },
    "21007a9be3454d63a889505317120d41": {
     "views": [
      {
       "cell_index": 1
      }
     ]
    },
    "2134d495621f47f49bdb6bfdac5794b0": {
     "views": [
      {
       "cell_index": 1
      }
     ]
    },
    "2135858fff20448f8d37f6382a55353a": {
     "views": [
      {
       "cell_index": 1
      }
     ]
    },
    "21a932bd3d2048ce9cc8f0cac1c49a78": {
     "views": [
      {
       "cell_index": 1
      }
     ]
    },
    "22548635c37f41f4bdc9a54ac75fec89": {
     "views": [
      {
       "cell_index": 1
      }
     ]
    },
    "228e1e1054734c75baff3626d8b7e6d2": {
     "views": [
      {
       "cell_index": 1
      }
     ]
    },
    "2338d6bd4bfa450f88866f26417e7c93": {
     "views": [
      {
       "cell_index": 1
      }
     ]
    },
    "234f088331ac4dfca1c8b3b1aa58d3ac": {
     "views": [
      {
       "cell_index": 1
      }
     ]
    },
    "237ab2113596490e9300ed205171682c": {
     "views": [
      {
       "cell_index": 1
      }
     ]
    },
    "23a5c6b647a4436f888f7af1b2638734": {
     "views": [
      {
       "cell_index": 1
      }
     ]
    },
    "23dffdb5fea84960bf5f61d7c3511cbc": {
     "views": [
      {
       "cell_index": 1
      }
     ]
    },
    "2403244f664e4792b1a0ef79aac9cd71": {
     "views": [
      {
       "cell_index": 1
      }
     ]
    },
    "2424a7e4cd414c3eb663bc638aecb5cd": {
     "views": [
      {
       "cell_index": 1
      }
     ]
    },
    "246cc7a2f6c54055b518c0115b50e137": {
     "views": [
      {
       "cell_index": 1
      }
     ]
    },
    "25569368722f45a193ebc18749152b46": {
     "views": [
      {
       "cell_index": 1
      }
     ]
    },
    "259fed12c84e4f4ea7a26edf547bd2fb": {
     "views": [
      {
       "cell_index": 1
      }
     ]
    },
    "263732f1cf51405786a8b63506b2bd23": {
     "views": [
      {
       "cell_index": 1
      }
     ]
    },
    "266b8891655a4742866d38376884b194": {
     "views": [
      {
       "cell_index": 1
      }
     ]
    },
    "26a091a1af7b43e38e495020e5795b92": {
     "views": [
      {
       "cell_index": 1
      }
     ]
    },
    "26b79f8b910c4fb49b6438abb926e957": {
     "views": [
      {
       "cell_index": 1
      }
     ]
    },
    "276f6c7afc1449ce8bea8c5015af5cdf": {
     "views": [
      {
       "cell_index": 1
      }
     ]
    },
    "2791bc56e0a9421198da001b173d616a": {
     "views": [
      {
       "cell_index": 1
      }
     ]
    },
    "28b9807947e646b9bdf60ccfd0b264bf": {
     "views": [
      {
       "cell_index": 1
      }
     ]
    },
    "28f18207c40e4b8a86254ba74d88b171": {
     "views": [
      {
       "cell_index": 1
      }
     ]
    },
    "291611d9fcf94855ac86b32033ea45d8": {
     "views": [
      {
       "cell_index": 1
      }
     ]
    },
    "29488226a3a94817a744168dc890e45b": {
     "views": [
      {
       "cell_index": 1
      }
     ]
    },
    "294bcf94d59247a48ad4fb6bdd6dbf91": {
     "views": [
      {
       "cell_index": 1
      }
     ]
    },
    "2951243301c34329b35b415947b44965": {
     "views": [
      {
       "cell_index": 1
      }
     ]
    },
    "2994ee0a8c494ae1b3b548c61124047f": {
     "views": [
      {
       "cell_index": 1
      }
     ]
    },
    "299abb24827643ef8f58bcbe7de04866": {
     "views": [
      {
       "cell_index": 1
      }
     ]
    },
    "29b325cc75094989b9937c30e2a35537": {
     "views": [
      {
       "cell_index": 1
      }
     ]
    },
    "29c39d2846094d10a37a2879cd44ec48": {
     "views": [
      {
       "cell_index": 1
      }
     ]
    },
    "2a87c4ecb7f2424ca3a59b46a3c3abec": {
     "views": [
      {
       "cell_index": 1
      }
     ]
    },
    "2ae10df3f5584c779eee361f6b8e7d6a": {
     "views": [
      {
       "cell_index": 1
      }
     ]
    },
    "2ae36d9ee4b44ae08234a12ba5661446": {
     "views": [
      {
       "cell_index": 1
      }
     ]
    },
    "2ae8a4931d3444ea94ce74218badbc96": {
     "views": [
      {
       "cell_index": 1
      }
     ]
    },
    "2b1ee75a34b04b15be5dfb1e90686ec1": {
     "views": [
      {
       "cell_index": 1
      }
     ]
    },
    "2b4da7a8ddca4fe6b9d81550ec397239": {
     "views": [
      {
       "cell_index": 1
      }
     ]
    },
    "2b7f21fffacb423baa6cd78991e716f7": {
     "views": [
      {
       "cell_index": 1
      }
     ]
    },
    "2ba81f067f4840b08acfc34518e0b137": {
     "views": [
      {
       "cell_index": 1
      }
     ]
    },
    "2bdf9513d3cc4e51858ec3cdb33c514b": {
     "views": [
      {
       "cell_index": 1
      }
     ]
    },
    "2c0575baa89748f58ab912a73c946862": {
     "views": [
      {
       "cell_index": 1
      }
     ]
    },
    "2c3c873ad5274243bf957be78ee5bc72": {
     "views": [
      {
       "cell_index": 1
      }
     ]
    },
    "2c4e612ebe6044baab495ff907b6ccdf": {
     "views": [
      {
       "cell_index": 1
      }
     ]
    },
    "2c7fc701f70c4cbcba8db82a60af912f": {
     "views": [
      {
       "cell_index": 1
      }
     ]
    },
    "2cad547887a74b469f391f6c8c12028c": {
     "views": [
      {
       "cell_index": 1
      }
     ]
    },
    "2d338dcf547a4e3eb8212e06f0c044d4": {
     "views": [
      {
       "cell_index": 1
      }
     ]
    },
    "2d362c8c1f874871903c907a849b407b": {
     "views": [
      {
       "cell_index": 1
      }
     ]
    },
    "2d75361f51844b3a93ff60601f0580ea": {
     "views": [
      {
       "cell_index": 1
      }
     ]
    },
    "2da3e49869f04dc4a8c74128f4b67db4": {
     "views": [
      {
       "cell_index": 1
      }
     ]
    },
    "2ddb6fb26f1b4c1eafcceb6d35fb9c74": {
     "views": [
      {
       "cell_index": 1
      }
     ]
    },
    "2de01ebb6a024f119f31604be8ad0a5e": {
     "views": [
      {
       "cell_index": 1
      }
     ]
    },
    "2e30a2385a074c35a82532f9b9407eb7": {
     "views": [
      {
       "cell_index": 1
      }
     ]
    },
    "2e714b87f7ae4a4e9be23cf25fe8f7a7": {
     "views": [
      {
       "cell_index": 1
      }
     ]
    },
    "2e8e31154610427fa47b9f1fd1a7e547": {
     "views": [
      {
       "cell_index": 1
      }
     ]
    },
    "2ea8cd9c885844c3accd76810944576e": {
     "views": [
      {
       "cell_index": 1
      }
     ]
    },
    "2f0b3d7379ac4e0dab263990863546cc": {
     "views": [
      {
       "cell_index": 1
      }
     ]
    },
    "2f0e38ef34914d2394f9a77af6cf2306": {
     "views": [
      {
       "cell_index": 1
      }
     ]
    },
    "2f14a568ccb04334a198df6042dcf64a": {
     "views": [
      {
       "cell_index": 1
      }
     ]
    },
    "2f9fcb121f9f460faccf742488f7975d": {
     "views": [
      {
       "cell_index": 1
      }
     ]
    },
    "2ff70f4ef1ff4012a038cee43bfc5408": {
     "views": [
      {
       "cell_index": 1
      }
     ]
    },
    "30d191c4eb68489eb4ec5fa98a9295ed": {
     "views": [
      {
       "cell_index": 1
      }
     ]
    },
    "30d4072dcb554a89902f9dac6eba59e9": {
     "views": [
      {
       "cell_index": 1
      }
     ]
    },
    "30f9940af06345e1a602409d59e86a6a": {
     "views": [
      {
       "cell_index": 1
      }
     ]
    },
    "30fd20d286b64376a06d0b9b470fae8c": {
     "views": [
      {
       "cell_index": 1
      }
     ]
    },
    "3116877c9ded4840a516d2ecb7c93716": {
     "views": [
      {
       "cell_index": 1
      }
     ]
    },
    "3120d31330f9433c8e423e8ed6ab30f5": {
     "views": [
      {
       "cell_index": 1
      }
     ]
    },
    "3124be1ba5344bbf9c16b0e360f43edd": {
     "views": [
      {
       "cell_index": 1
      }
     ]
    },
    "312bd50d8136485ba5723481795528fb": {
     "views": [
      {
       "cell_index": 1
      }
     ]
    },
    "315b854065224f8cb6d31ed385c1b145": {
     "views": [
      {
       "cell_index": 1
      }
     ]
    },
    "3166e1c0d5fc479ab224cbdfd506ab63": {
     "views": [
      {
       "cell_index": 1
      }
     ]
    },
    "316c52e26c6d49b3bcddc5eae0704521": {
     "views": [
      {
       "cell_index": 1
      }
     ]
    },
    "318ba7e3c51043d481de7687a24cf1f7": {
     "views": [
      {
       "cell_index": 1
      }
     ]
    },
    "31ab711c23424939a73e6aa70494d4c5": {
     "views": [
      {
       "cell_index": 1
      }
     ]
    },
    "31fd8bee41ee441d9f27f3de4c6a598a": {
     "views": [
      {
       "cell_index": 1
      }
     ]
    },
    "324ecf1721034694afc5fe95c23d675c": {
     "views": [
      {
       "cell_index": 1
      }
     ]
    },
    "32722a7e3b1448628f9ddca4f01cc59d": {
     "views": [
      {
       "cell_index": 1
      }
     ]
    },
    "32906a517a1b44d38dd85724e30b9807": {
     "views": [
      {
       "cell_index": 1
      }
     ]
    },
    "335b9b2d612540e78bc7e0011f84a871": {
     "views": [
      {
       "cell_index": 1
      }
     ]
    },
    "347de4914bca49af8e584f31bd24c9e2": {
     "views": [
      {
       "cell_index": 1
      }
     ]
    },
    "348ee7a0926c4678ab79ca8743666a8f": {
     "views": [
      {
       "cell_index": 1
      }
     ]
    },
    "34926df4e0374640bddfdd710aea2b47": {
     "views": [
      {
       "cell_index": 1
      }
     ]
    },
    "3498e90d7d63424f8758c23adc41cfa3": {
     "views": [
      {
       "cell_index": 1
      }
     ]
    },
    "34a9f021fb7042b9aa61275178bdf5a9": {
     "views": [
      {
       "cell_index": 1
      }
     ]
    },
    "34b18ce9112344f0b70bf30117fd95ab": {
     "views": [
      {
       "cell_index": 1
      }
     ]
    },
    "34cac278222c468aa002a787a245276b": {
     "views": [
      {
       "cell_index": 1
      }
     ]
    },
    "350432cd7cc449cc90676e6307ab11a0": {
     "views": [
      {
       "cell_index": 1
      }
     ]
    },
    "352b7181e1754d4682a9f2f53b9f6fd8": {
     "views": [
      {
       "cell_index": 1
      }
     ]
    },
    "3542badd4eca420fa55d4a4c1ca6bfb9": {
     "views": [
      {
       "cell_index": 1
      }
     ]
    },
    "3557f52494d04f76b4cae14ae9181971": {
     "views": [
      {
       "cell_index": 1
      }
     ]
    },
    "36132c47b6e44b339599ae636bcab495": {
     "views": [
      {
       "cell_index": 1
      }
     ]
    },
    "365360b77028464aa03cde5188892621": {
     "views": [
      {
       "cell_index": 1
      }
     ]
    },
    "36a67742a717418dac90664aee9bd5dc": {
     "views": [
      {
       "cell_index": 1
      }
     ]
    },
    "36b2da7c9bae43699fe8ccb9a453d0a1": {
     "views": [
      {
       "cell_index": 1
      }
     ]
    },
    "36cd02ec56004b259d73482cd12677c2": {
     "views": [
      {
       "cell_index": 1
      }
     ]
    },
    "36d8fc64570b4302abc9b11ccca2af79": {
     "views": [
      {
       "cell_index": 1
      }
     ]
    },
    "36e2ab5e107a4df6a37de8102ce66cef": {
     "views": [
      {
       "cell_index": 1
      }
     ]
    },
    "36f7982580814e65a5b83a34ffb8ed1b": {
     "views": [
      {
       "cell_index": 1
      }
     ]
    },
    "375aadfc68584cbfa0e4ec980f116fa6": {
     "views": [
      {
       "cell_index": 1
      }
     ]
    },
    "3775669b91444cafa4371931feba92ec": {
     "views": [
      {
       "cell_index": 1
      }
     ]
    },
    "37a88e13057746c6aa48338df248744f": {
     "views": [
      {
       "cell_index": 1
      }
     ]
    },
    "37acdd4f89cf40cbac3813afb3c88b4e": {
     "views": [
      {
       "cell_index": 1
      }
     ]
    },
    "37e647cc29d54549a508f45f76696a05": {
     "views": [
      {
       "cell_index": 1
      }
     ]
    },
    "37ec17159c654791ac6ae4dc6d051807": {
     "views": [
      {
       "cell_index": 1
      }
     ]
    },
    "3816657704c14298bbcebeebb4221d16": {
     "views": [
      {
       "cell_index": 1
      }
     ]
    },
    "3862c4eec2194c36a4d7234c11889ec5": {
     "views": [
      {
       "cell_index": 1
      }
     ]
    },
    "38c1f83684484e919432c06bf81f7605": {
     "views": [
      {
       "cell_index": 1
      }
     ]
    },
    "3907facbfed54927bf2cfbbdc5cfbbed": {
     "views": [
      {
       "cell_index": 1
      }
     ]
    },
    "39236f934316406bb437eed05b124b4a": {
     "views": [
      {
       "cell_index": 1
      }
     ]
    },
    "392ddad87f224575ab382098bc85e4f7": {
     "views": [
      {
       "cell_index": 1
      }
     ]
    },
    "39cd75c359d246d5bd6f2f5fa5e2b9ee": {
     "views": [
      {
       "cell_index": 1
      }
     ]
    },
    "39d9a4291f3b4847b0767ec3c4d73536": {
     "views": [
      {
       "cell_index": 1
      }
     ]
    },
    "39f6d0ca6df748d88948370571622de9": {
     "views": [
      {
       "cell_index": 1
      }
     ]
    },
    "3a90ef4e44f648e198763467222fc2b6": {
     "views": [
      {
       "cell_index": 1
      }
     ]
    },
    "3a9bed3e614a40ff9cf014b2d7c21665": {
     "views": [
      {
       "cell_index": 1
      }
     ]
    },
    "3c5a0bbc5f6e45a8929b13b3cfdd4ff9": {
     "views": [
      {
       "cell_index": 1
      }
     ]
    },
    "3c76e17839f94c7e8566a1f76970ff1a": {
     "views": [
      {
       "cell_index": 1
      }
     ]
    },
    "3cec3a4a418e44e18397fe2795d87646": {
     "views": [
      {
       "cell_index": 1
      }
     ]
    },
    "3d178aaf01194c3499104c23d2e90e0a": {
     "views": [
      {
       "cell_index": 1
      }
     ]
    },
    "3d242fcb92dc497a9c0a61fe67b6ce58": {
     "views": [
      {
       "cell_index": 1
      }
     ]
    },
    "3d76a2839e89463188a609770b4df71a": {
     "views": [
      {
       "cell_index": 1
      }
     ]
    },
    "3df174585ff94cb29415681c8756bc92": {
     "views": [
      {
       "cell_index": 1
      }
     ]
    },
    "3dff442e2bf2454d9cdc2c76432836a0": {
     "views": [
      {
       "cell_index": 1
      }
     ]
    },
    "3fb04a05b7b744d4be1ab4bf041a6e72": {
     "views": [
      {
       "cell_index": 1
      }
     ]
    },
    "3fc9dc22c7504e518ac11138c65d595e": {
     "views": [
      {
       "cell_index": 1
      }
     ]
    },
    "400c87cd67404447834374977e94b9c8": {
     "views": [
      {
       "cell_index": 1
      }
     ]
    },
    "402c7b77dac84b0386f342df57208674": {
     "views": [
      {
       "cell_index": 1
      }
     ]
    },
    "403bf7575613498a9f1b010a03a23995": {
     "views": [
      {
       "cell_index": 1
      }
     ]
    },
    "407958ff5d904dcd870b970ba1e3aae2": {
     "views": [
      {
       "cell_index": 1
      }
     ]
    },
    "40bcdb0ed8934d3985e3321049962edb": {
     "views": [
      {
       "cell_index": 1
      }
     ]
    },
    "40db9548feee411ab62049abe4978640": {
     "views": [
      {
       "cell_index": 1
      }
     ]
    },
    "410b85f6946a49b2a10fade1830f005d": {
     "views": [
      {
       "cell_index": 1
      }
     ]
    },
    "411d5b33d36c452a895d074a82db1ec6": {
     "views": [
      {
       "cell_index": 1
      }
     ]
    },
    "414beb1a39364b8eb0e72ab69047a00a": {
     "views": [
      {
       "cell_index": 1
      }
     ]
    },
    "41b0c68675534ae4b1f45b7bf01f7a8e": {
     "views": [
      {
       "cell_index": 1
      }
     ]
    },
    "41fec13e93794d12ac167023a7356091": {
     "views": [
      {
       "cell_index": 1
      }
     ]
    },
    "4266a5a511884b13b1afa906f7e4e1a1": {
     "views": [
      {
       "cell_index": 1
      }
     ]
    },
    "4298f17c87404dbdbd91cf8f77f7b6fa": {
     "views": [
      {
       "cell_index": 1
      }
     ]
    },
    "43062a64d766473a9e9fb247113389dc": {
     "views": [
      {
       "cell_index": 1
      }
     ]
    },
    "4366d233a49b41f98627f9b84f71390b": {
     "views": [
      {
       "cell_index": 1
      }
     ]
    },
    "4390af478ce14857aa082234eeb4fb43": {
     "views": [
      {
       "cell_index": 1
      }
     ]
    },
    "43f97b199a21444a9ca16b03eec0166b": {
     "views": [
      {
       "cell_index": 1
      }
     ]
    },
    "447615a1a6ff46608a6144378c362ec1": {
     "views": [
      {
       "cell_index": 1
      }
     ]
    },
    "448f13911e88493896088854e44b9e68": {
     "views": [
      {
       "cell_index": 1
      }
     ]
    },
    "44c9937866ad410499f71337357158d2": {
     "views": [
      {
       "cell_index": 1
      }
     ]
    },
    "4500db7d3eb84907a8660fae1ea62c4c": {
     "views": [
      {
       "cell_index": 1
      }
     ]
    },
    "45034c1366db4e17b5691ad724e5a6e0": {
     "views": [
      {
       "cell_index": 1
      }
     ]
    },
    "4580c2c8b32342d78d415babbcacce7f": {
     "views": [
      {
       "cell_index": 1
      }
     ]
    },
    "461c900772964889a07dc503cbc46d69": {
     "views": [
      {
       "cell_index": 1
      }
     ]
    },
    "46323049925d44af869d879e950c7f5d": {
     "views": [
      {
       "cell_index": 1
      }
     ]
    },
    "4655792038ca4578ac327a6eec2294ed": {
     "views": [
      {
       "cell_index": 1
      }
     ]
    },
    "4667446ac7774eda8f7348ace72a6ab6": {
     "views": [
      {
       "cell_index": 1
      }
     ]
    },
    "474500cad92348efab6cf5fce695e266": {
     "views": [
      {
       "cell_index": 1
      }
     ]
    },
    "47de48165e954550a9f1a28faedc687b": {
     "views": [
      {
       "cell_index": 1
      }
     ]
    },
    "4832ef30c8cb45088ff037d85de1e793": {
     "views": [
      {
       "cell_index": 1
      }
     ]
    },
    "48451fceab19486abbecb52680941462": {
     "views": [
      {
       "cell_index": 1
      }
     ]
    },
    "4877b06c8cd54bdc87792c6ad5408b9a": {
     "views": [
      {
       "cell_index": 1
      }
     ]
    },
    "48904574b506418a8e54062e669657df": {
     "views": [
      {
       "cell_index": 1
      }
     ]
    },
    "48979c2db876444abf2197be34a87a84": {
     "views": [
      {
       "cell_index": 1
      }
     ]
    },
    "48a5bb6cb9a343d6842966ffb1506dbb": {
     "views": [
      {
       "cell_index": 1
      }
     ]
    },
    "48b63f5f5ec34d66ae311f249bf6fccc": {
     "views": [
      {
       "cell_index": 1
      }
     ]
    },
    "48e3462d32f2450d91f36a2680fdf04b": {
     "views": [
      {
       "cell_index": 1
      }
     ]
    },
    "4915107bd2ac4208a57d9a23906116b0": {
     "views": [
      {
       "cell_index": 1
      }
     ]
    },
    "4917854c2a8d44779af304d9160fc2d4": {
     "views": [
      {
       "cell_index": 1
      }
     ]
    },
    "4953160a3f7846acb8e81a366599366b": {
     "views": [
      {
       "cell_index": 1
      }
     ]
    },
    "497d00c534b34dd8a7cedf513fbfc16e": {
     "views": [
      {
       "cell_index": 1
      }
     ]
    },
    "4998fe5fbcac444ea6156e6bc818a3e5": {
     "views": [
      {
       "cell_index": 1
      }
     ]
    },
    "49ca8a0d07a54b0dadeebadf084bf132": {
     "views": [
      {
       "cell_index": 1
      }
     ]
    },
    "4a6187c2e80d4e62b8939bee40b10c6d": {
     "views": [
      {
       "cell_index": 1
      }
     ]
    },
    "4a7cdb622ff74e7ab28b97751a3f733c": {
     "views": [
      {
       "cell_index": 1
      }
     ]
    },
    "4ae753594fab40a99f1463caadf13592": {
     "views": [
      {
       "cell_index": 1
      }
     ]
    },
    "4affacd8f19b4512b42df4d294a6e9c3": {
     "views": [
      {
       "cell_index": 1
      }
     ]
    },
    "4b06bd46bc954bf2a6c6b09e5d7cfc5f": {
     "views": [
      {
       "cell_index": 1
      }
     ]
    },
    "4b20e175744f481c8433ebc680bae023": {
     "views": [
      {
       "cell_index": 1
      }
     ]
    },
    "4b26d8a3d29343d1a3e5c76fef5abdd7": {
     "views": [
      {
       "cell_index": 1
      }
     ]
    },
    "4b7116d3a8d8435fb54e6591582f8eef": {
     "views": [
      {
       "cell_index": 1
      }
     ]
    },
    "4b7f645b823940d6956b4daff5b9a570": {
     "views": [
      {
       "cell_index": 1
      }
     ]
    },
    "4b8b796cb7be45368d873f6079edcb36": {
     "views": [
      {
       "cell_index": 1
      }
     ]
    },
    "4c4c2c34a3cb42e2bbc889745d19304f": {
     "views": [
      {
       "cell_index": 1
      }
     ]
    },
    "4c52527b78c24854b46af8075c1b9f60": {
     "views": [
      {
       "cell_index": 1
      }
     ]
    },
    "4c59d12a8c604b6ba4ea1ec27c82f5aa": {
     "views": [
      {
       "cell_index": 1
      }
     ]
    },
    "4cc283fc240a4474b8550a3a7d8e9357": {
     "views": [
      {
       "cell_index": 1
      }
     ]
    },
    "4cd094c2fd74441c956274c57de3455d": {
     "views": [
      {
       "cell_index": 1
      }
     ]
    },
    "4d5b5602d3564bc0a6bdfcd98b2bed3b": {
     "views": [
      {
       "cell_index": 1
      }
     ]
    },
    "4d6dd9cc65c34825b78323d7c6c919ac": {
     "views": [
      {
       "cell_index": 1
      }
     ]
    },
    "4d74dffdae4a4c4d8eb076af6808052f": {
     "views": [
      {
       "cell_index": 1
      }
     ]
    },
    "4dee5151949c4f63a049f7cd2e1ebdf6": {
     "views": [
      {
       "cell_index": 1
      }
     ]
    },
    "4dfcc6cec2e34e7bb7c2fd818cdcaffe": {
     "views": [
      {
       "cell_index": 1
      }
     ]
    },
    "4e5992b011444411a4a4a2a80f941023": {
     "views": [
      {
       "cell_index": 1
      }
     ]
    },
    "4e5e883ed05b4a20818d7c75e3539545": {
     "views": [
      {
       "cell_index": 1
      }
     ]
    },
    "4e7cd0875db14961936e11c2c409fc37": {
     "views": [
      {
       "cell_index": 1
      }
     ]
    },
    "4e89eb0e877b4a82b4d4174321ad9109": {
     "views": [
      {
       "cell_index": 1
      }
     ]
    },
    "4e8c0b5ea48a4542a966ee84fc2200ed": {
     "views": [
      {
       "cell_index": 1
      }
     ]
    },
    "4e9e9b1f16264847b3c81b6a21ee0091": {
     "views": [
      {
       "cell_index": 1
      }
     ]
    },
    "4e9fd0cb0ce342848213180ccbca2313": {
     "views": [
      {
       "cell_index": 1
      }
     ]
    },
    "4eae1141d93a487f92ad77593e95b22c": {
     "views": [
      {
       "cell_index": 1
      }
     ]
    },
    "4ecd3a1bcb924c4e9ad5aafbac3da222": {
     "views": [
      {
       "cell_index": 1
      }
     ]
    },
    "4ed4ec84327a4279939ee9ef8a1e6bf3": {
     "views": [
      {
       "cell_index": 1
      }
     ]
    },
    "4ee17845e83b465d95480e8f4145601a": {
     "views": [
      {
       "cell_index": 1
      }
     ]
    },
    "4ee81c17196446398e36111bc1a4ddbf": {
     "views": [
      {
       "cell_index": 1
      }
     ]
    },
    "4f1bc69fedd4442d9dd92724865cbf12": {
     "views": [
      {
       "cell_index": 1
      }
     ]
    },
    "4f4d57105e4f4efa95d27dd9496e03ff": {
     "views": [
      {
       "cell_index": 1
      }
     ]
    },
    "500ad11c70be4d4a9e19edc505de9a8e": {
     "views": [
      {
       "cell_index": 1
      }
     ]
    },
    "504a8ed4375240519314871644edf050": {
     "views": [
      {
       "cell_index": 1
      }
     ]
    },
    "5089e0ea76a34162bb729c497a68c21d": {
     "views": [
      {
       "cell_index": 1
      }
     ]
    },
    "50a58dbfc03f44deb197b596515dc059": {
     "views": [
      {
       "cell_index": 1
      }
     ]
    },
    "51158188c4014999a5d16ab2b52429c9": {
     "views": [
      {
       "cell_index": 1
      }
     ]
    },
    "5123528f10034bcca7f46f6cd374f320": {
     "views": [
      {
       "cell_index": 1
      }
     ]
    },
    "51ad302961244a7a9078483e58de9635": {
     "views": [
      {
       "cell_index": 1
      }
     ]
    },
    "51bb0d648c58410d8d6a4c21b3ba467b": {
     "views": [
      {
       "cell_index": 1
      }
     ]
    },
    "51c47a90066a4491bb7199344bd113d7": {
     "views": [
      {
       "cell_index": 1
      }
     ]
    },
    "523162e8eafd4ad69cb12bec7b0a7aa0": {
     "views": [
      {
       "cell_index": 1
      }
     ]
    },
    "5277bd8ea5c443239c45f8df865a8626": {
     "views": [
      {
       "cell_index": 1
      }
     ]
    },
    "52a3aa5f14cc4fa79f2a454467fa5b44": {
     "views": [
      {
       "cell_index": 1
      }
     ]
    },
    "52a4bfdcd8ac4f9f8aa2a2923ab4c393": {
     "views": [
      {
       "cell_index": 1
      }
     ]
    },
    "52c128fffff64899aef80de179c6f1ce": {
     "views": [
      {
       "cell_index": 1
      }
     ]
    },
    "53191a3328fd42bea8d8a8b46f82caca": {
     "views": [
      {
       "cell_index": 1
      }
     ]
    },
    "53b42657ba3843eca406657a68d8ab85": {
     "views": [
      {
       "cell_index": 1
      }
     ]
    },
    "5471c51b35f4420fbee6850e651665fe": {
     "views": [
      {
       "cell_index": 1
      }
     ]
    },
    "548e6057542e49798d199d4c750a97e0": {
     "views": [
      {
       "cell_index": 1
      }
     ]
    },
    "549dfb550f9748c8bf1bd5484d2a9d6d": {
     "views": [
      {
       "cell_index": 1
      }
     ]
    },
    "54e2a5164ab3402bba80c5fc07c363fd": {
     "views": [
      {
       "cell_index": 1
      }
     ]
    },
    "5588c051c81141328b2caa5953bbf116": {
     "views": [
      {
       "cell_index": 1
      }
     ]
    },
    "55e645f2b20747fb8fde5a0ab1a8a663": {
     "views": [
      {
       "cell_index": 1
      }
     ]
    },
    "55f81e02d943436cabfeba89a61cb976": {
     "views": [
      {
       "cell_index": 1
      }
     ]
    },
    "563c2aef91874644a304b65cffb0adc6": {
     "views": [
      {
       "cell_index": 1
      }
     ]
    },
    "565c0e52acaa4f23b7ba66ad5deff506": {
     "views": [
      {
       "cell_index": 1
      }
     ]
    },
    "5686fc4f0d1d4dac956c60fa1393f7c5": {
     "views": [
      {
       "cell_index": 1
      }
     ]
    },
    "56fcef3c350b45acb66f0f334c39ea87": {
     "views": [
      {
       "cell_index": 1
      }
     ]
    },
    "570a4ad3745743adb142fcd6b79bb535": {
     "views": [
      {
       "cell_index": 1
      }
     ]
    },
    "571aba0eced24290a93459c6bcf80e2b": {
     "views": [
      {
       "cell_index": 1
      }
     ]
    },
    "5751148f398c45848e43cd1c99dd1777": {
     "views": [
      {
       "cell_index": 1
      }
     ]
    },
    "5752828125154d6e86738664379e5aa2": {
     "views": [
      {
       "cell_index": 1
      }
     ]
    },
    "578f48e88f3248608f6300faf36f88ee": {
     "views": [
      {
       "cell_index": 1
      }
     ]
    },
    "579e79e16a1c459fb4f940d338e48dd9": {
     "views": [
      {
       "cell_index": 1
      }
     ]
    },
    "57c097d9e07c42edbab59923f7025f07": {
     "views": [
      {
       "cell_index": 1
      }
     ]
    },
    "57c9777822884d40849aa2972e97422f": {
     "views": [
      {
       "cell_index": 1
      }
     ]
    },
    "57d86ee62e084dbeb1c8a5b172cda1ae": {
     "views": [
      {
       "cell_index": 1
      }
     ]
    },
    "581ca2e847d4481485e011852e8c5914": {
     "views": [
      {
       "cell_index": 1
      }
     ]
    },
    "58a998c12a9e456fabfc2dd94fe346bd": {
     "views": [
      {
       "cell_index": 1
      }
     ]
    },
    "58ebd9e35f4e4b1e8b1debf8dead0671": {
     "views": [
      {
       "cell_index": 1
      }
     ]
    },
    "58ff4be150e94f3b80908e50fd6bcee7": {
     "views": [
      {
       "cell_index": 1
      }
     ]
    },
    "59600f67a565421d9b4128ecb7aa86bc": {
     "views": [
      {
       "cell_index": 1
      }
     ]
    },
    "5987d07ea1cd4408b99dcffe566ce634": {
     "views": [
      {
       "cell_index": 1
      }
     ]
    },
    "59914be60b364dabb4b78fed4c8480fc": {
     "views": [
      {
       "cell_index": 1
      }
     ]
    },
    "59b11fa44a6a4a9aad25f86ba89fe5ae": {
     "views": [
      {
       "cell_index": 1
      }
     ]
    },
    "59e93d06bc304ed9a563ea92ad07f912": {
     "views": [
      {
       "cell_index": 1
      }
     ]
    },
    "5a15fb457658426780c0ea1183900b27": {
     "views": [
      {
       "cell_index": 1
      }
     ]
    },
    "5ab3d04d8a324feeb064faf0439d14ac": {
     "views": [
      {
       "cell_index": 1
      }
     ]
    },
    "5b8619f77cbc4cf984267acb7c4fd849": {
     "views": [
      {
       "cell_index": 1
      }
     ]
    },
    "5b99959a2b764a6e8951d7a50281ebab": {
     "views": [
      {
       "cell_index": 1
      }
     ]
    },
    "5b9bf93e49b14a3496f327948dd7addd": {
     "views": [
      {
       "cell_index": 1
      }
     ]
    },
    "5b9e4aec3a5c4340a3468d560faad2ac": {
     "views": [
      {
       "cell_index": 1
      }
     ]
    },
    "5ba5a61719454b78b4c16b00cb16e089": {
     "views": [
      {
       "cell_index": 1
      }
     ]
    },
    "5bbd2c073dd74a10b3959fb843f1667e": {
     "views": [
      {
       "cell_index": 1
      }
     ]
    },
    "5bda3d6c9eff4f869c615f0a56229848": {
     "views": [
      {
       "cell_index": 1
      }
     ]
    },
    "5c02790078804757902b992c6eb34b67": {
     "views": [
      {
       "cell_index": 1
      }
     ]
    },
    "5c27f22e32e145ef9746701a1582b5e8": {
     "views": [
      {
       "cell_index": 1
      }
     ]
    },
    "5c39c24b4bbc44d6bc388e4c25287464": {
     "views": [
      {
       "cell_index": 1
      }
     ]
    },
    "5c4da585b6664a38998f98d9f2703d67": {
     "views": [
      {
       "cell_index": 1
      }
     ]
    },
    "5c5d716df1ae4f86b323aa5c600741eb": {
     "views": [
      {
       "cell_index": 1
      }
     ]
    },
    "5c6dfc1724d54167a77308be732e670b": {
     "views": [
      {
       "cell_index": 1
      }
     ]
    },
    "5ca2c6d8659d4576b019a5443e16c134": {
     "views": [
      {
       "cell_index": 1
      }
     ]
    },
    "5cb9647300994528a95f07dc4dab5e31": {
     "views": [
      {
       "cell_index": 1
      }
     ]
    },
    "5ce2bc0fb5a640479cdadf79a4a92817": {
     "views": [
      {
       "cell_index": 1
      }
     ]
    },
    "5d5e1275caa7430a94519cfb2fd516c1": {
     "views": [
      {
       "cell_index": 1
      }
     ]
    },
    "5df0091e6d9945d19c7bbfd24d540bd1": {
     "views": [
      {
       "cell_index": 1
      }
     ]
    },
    "5e6e6e1bdcdf4b3ba641698dbd9bf4bd": {
     "views": [
      {
       "cell_index": 1
      }
     ]
    },
    "5e80d8866e22456fab841206015e50a8": {
     "views": [
      {
       "cell_index": 1
      }
     ]
    },
    "5ebd0d84d86a47bfa72a78e9ab60208b": {
     "views": [
      {
       "cell_index": 1
      }
     ]
    },
    "5ee0e28c3e064edb80d393b8468c4d5f": {
     "views": [
      {
       "cell_index": 1
      }
     ]
    },
    "5ef09de90aa84e5bb6e70148e577f5d8": {
     "views": [
      {
       "cell_index": 1
      }
     ]
    },
    "5f00fa213788423a89fe9e4c39c29873": {
     "views": [
      {
       "cell_index": 1
      }
     ]
    },
    "5f5c7640587e4c42914f5689e898ca35": {
     "views": [
      {
       "cell_index": 1
      }
     ]
    },
    "5f9f26212f574f95b2c48247b2827acd": {
     "views": [
      {
       "cell_index": 1
      }
     ]
    },
    "5fdb0499d0574e028a4b14f5f37973d7": {
     "views": [
      {
       "cell_index": 1
      }
     ]
    },
    "5fe0e5bb106044b489488ab4fada9f23": {
     "views": [
      {
       "cell_index": 1
      }
     ]
    },
    "6025c09fb6934315857adfc74b0f33db": {
     "views": [
      {
       "cell_index": 1
      }
     ]
    },
    "6048258b365b4bdf99d8d427bfa68389": {
     "views": [
      {
       "cell_index": 1
      }
     ]
    },
    "6073fa017d914295a8a29aca682b2483": {
     "views": [
      {
       "cell_index": 1
      }
     ]
    },
    "60cd37be515640b88a2b6bd378f9b168": {
     "views": [
      {
       "cell_index": 1
      }
     ]
    },
    "60e63ace69954f4f94d91abd20d58dba": {
     "views": [
      {
       "cell_index": 1
      }
     ]
    },
    "60fc1309039843e4ae2078721a46dbbc": {
     "views": [
      {
       "cell_index": 1
      }
     ]
    },
    "61380d16d44f4458a181b5e1f4d395f9": {
     "views": [
      {
       "cell_index": 1
      }
     ]
    },
    "6147991a649945c39e60298ef92f3900": {
     "views": [
      {
       "cell_index": 1
      }
     ]
    },
    "6147fc2ffbd84750af7fbac2e5e43313": {
     "views": [
      {
       "cell_index": 1
      }
     ]
    },
    "61a2e48f74d24080b0fb058e9a647bd2": {
     "views": [
      {
       "cell_index": 1
      }
     ]
    },
    "61af2ff77ccb49e1a30d83931f9d315d": {
     "views": [
      {
       "cell_index": 1
      }
     ]
    },
    "61b4826954ce46ed96c48880d7161b64": {
     "views": [
      {
       "cell_index": 1
      }
     ]
    },
    "61f5b315cbe544aa9787b11bf93a5f58": {
     "views": [
      {
       "cell_index": 1
      }
     ]
    },
    "6232123abb1749928dc7386f9e9d32ec": {
     "views": [
      {
       "cell_index": 1
      }
     ]
    },
    "63450a229c5441f3bd46abc346805d1d": {
     "views": [
      {
       "cell_index": 1
      }
     ]
    },
    "63bb5f2078a441e79583031d15e5de4e": {
     "views": [
      {
       "cell_index": 1
      }
     ]
    },
    "63d7739a15c645618a3a3608d421578b": {
     "views": [
      {
       "cell_index": 1
      }
     ]
    },
    "63f5151d6c0549a4ba936b1a79fc5c77": {
     "views": [
      {
       "cell_index": 1
      }
     ]
    },
    "644665d4d0e74385b00365f85715d230": {
     "views": [
      {
       "cell_index": 1
      }
     ]
    },
    "650d2ec445b8432ab1b69d82a1c63e4d": {
     "views": [
      {
       "cell_index": 1
      }
     ]
    },
    "652ea08a56f24db4aaca8a485358fd28": {
     "views": [
      {
       "cell_index": 1
      }
     ]
    },
    "653fe7a3a70a4064b6aa8164f517ce08": {
     "views": [
      {
       "cell_index": 1
      }
     ]
    },
    "658b957ff73d4b709f6e8c7dbdd079e3": {
     "views": [
      {
       "cell_index": 1
      }
     ]
    },
    "659845e2dfa74a848fd732b1bb72b423": {
     "views": [
      {
       "cell_index": 1
      }
     ]
    },
    "659c7da811e34e73b5be2f1040fe1a1e": {
     "views": [
      {
       "cell_index": 1
      }
     ]
    },
    "65a70ec04679469c8add91ddd0a8d8f1": {
     "views": [
      {
       "cell_index": 1
      }
     ]
    },
    "65b7c3038a7b4ba99d788a75acdc5cc3": {
     "views": [
      {
       "cell_index": 1
      }
     ]
    },
    "66e003d11e51489f845dbe6c2528b467": {
     "views": [
      {
       "cell_index": 1
      }
     ]
    },
    "66ee526015c647459fbb0fd04106b889": {
     "views": [
      {
       "cell_index": 1
      }
     ]
    },
    "6756799e36394882a5207ea3da21a1d2": {
     "views": [
      {
       "cell_index": 1
      }
     ]
    },
    "67569ad11d524c79a03ad9d6cad2c952": {
     "views": [
      {
       "cell_index": 1
      }
     ]
    },
    "67bf18afd5c64cf18b24068ef649f04c": {
     "views": [
      {
       "cell_index": 1
      }
     ]
    },
    "67ef5988039949e5800291db8a4ca567": {
     "views": [
      {
       "cell_index": 1
      }
     ]
    },
    "6819b451abd44d8f9a86e5b62e03a988": {
     "views": [
      {
       "cell_index": 1
      }
     ]
    },
    "687b129204aa47898da0e2d5e8fe13c5": {
     "views": [
      {
       "cell_index": 1
      }
     ]
    },
    "688fb1bbb6cb485fabd10dc1914c9ae5": {
     "views": [
      {
       "cell_index": 1
      }
     ]
    },
    "689cc997e2484d85881b9436afadd350": {
     "views": [
      {
       "cell_index": 1
      }
     ]
    },
    "68a5e2ef783441b680790ea8895be6fa": {
     "views": [
      {
       "cell_index": 1
      }
     ]
    },
    "68c0ebfa10174e01ac647b0df6deacbe": {
     "views": [
      {
       "cell_index": 1
      }
     ]
    },
    "693a85c48d854554bf3b42c5f6d2e4c6": {
     "views": [
      {
       "cell_index": 1
      }
     ]
    },
    "697c68dd8983480397fb455fc7ad159d": {
     "views": [
      {
       "cell_index": 1
      }
     ]
    },
    "6a02332b1f9a489c87359e76e436162c": {
     "views": [
      {
       "cell_index": 1
      }
     ]
    },
    "6c35d8cb99a74721bed88c125854b9f7": {
     "views": [
      {
       "cell_index": 1
      }
     ]
    },
    "6d15329c95514b81934a33abc0a7e2d0": {
     "views": [
      {
       "cell_index": 1
      }
     ]
    },
    "6d189a27695a4274a433caaab6c9134f": {
     "views": [
      {
       "cell_index": 1
      }
     ]
    },
    "6de0c4e9669644b7b191d59d69835e3c": {
     "views": [
      {
       "cell_index": 1
      }
     ]
    },
    "6e3b2107a0004beba83bfb7ae3ebace1": {
     "views": [
      {
       "cell_index": 1
      }
     ]
    },
    "6e4be58efd1247e2b3a3ce8f3d9b939e": {
     "views": [
      {
       "cell_index": 1
      }
     ]
    },
    "6e70ee19a23442b78c478b0352cef300": {
     "views": [
      {
       "cell_index": 1
      }
     ]
    },
    "6e74a9da5fed4a44947b3c94321eb59e": {
     "views": [
      {
       "cell_index": 1
      }
     ]
    },
    "6e75f24c259a4b55af4c3e69fab0dc95": {
     "views": [
      {
       "cell_index": 1
      }
     ]
    },
    "6e9946bed807406a89f8cd70942691e4": {
     "views": [
      {
       "cell_index": 1
      }
     ]
    },
    "6ebac97dc1564173bbf904c85fe6193c": {
     "views": [
      {
       "cell_index": 1
      }
     ]
    },
    "6ebb63c437704ba389a74ba6d93d8548": {
     "views": [
      {
       "cell_index": 1
      }
     ]
    },
    "6f7fad4e946b4b0bb8875e55ae59fa63": {
     "views": [
      {
       "cell_index": 1
      }
     ]
    },
    "6fa1475f9c294f1788a710b654753af3": {
     "views": [
      {
       "cell_index": 1
      }
     ]
    },
    "70052195399643bc969569ce11f26258": {
     "views": [
      {
       "cell_index": 1
      }
     ]
    },
    "70247c46885b4fdba528ed70dcc0c67b": {
     "views": [
      {
       "cell_index": 1
      }
     ]
    },
    "707aaaedb79e4e30ab29cfa2b9d0e89a": {
     "views": [
      {
       "cell_index": 1
      }
     ]
    },
    "70da9db1d4364fd385c23b4a7b0ed7c1": {
     "views": [
      {
       "cell_index": 1
      }
     ]
    },
    "70e80ea9dc424be0bb90eafb59cd52e2": {
     "views": [
      {
       "cell_index": 1
      }
     ]
    },
    "712643252c9348d0a06feb0e8fb22736": {
     "views": [
      {
       "cell_index": 1
      }
     ]
    },
    "7172e2c28c334d4789cbde0ba743f93e": {
     "views": [
      {
       "cell_index": 1
      }
     ]
    },
    "717bdfe88e504156a88671c7f65f33a5": {
     "views": [
      {
       "cell_index": 1
      }
     ]
    },
    "71b33d192aa04e868d7bf4d63b50e793": {
     "views": [
      {
       "cell_index": 1
      }
     ]
    },
    "721927f856374c3c89e71492ecbced2f": {
     "views": [
      {
       "cell_index": 1
      }
     ]
    },
    "72791c365c4d4166873a4f96a83c429a": {
     "views": [
      {
       "cell_index": 1
      }
     ]
    },
    "727aab9e3326458981c059547d9baaa7": {
     "views": [
      {
       "cell_index": 1
      }
     ]
    },
    "729f9bb3fbb74d81b0d61c41c28bd1e6": {
     "views": [
      {
       "cell_index": 1
      }
     ]
    },
    "74032859d1ea46589ae28ca6f66d71b5": {
     "views": [
      {
       "cell_index": 1
      }
     ]
    },
    "7499e87e2fc24b968e46ff5bee781ea2": {
     "views": [
      {
       "cell_index": 1
      }
     ]
    },
    "749d041ff5154388943170a76f12478d": {
     "views": [
      {
       "cell_index": 1
      }
     ]
    },
    "7519f5be7ea44dfe9a494f10cae75f84": {
     "views": [
      {
       "cell_index": 1
      }
     ]
    },
    "752370f9ac1b42d4b9410e53891bb148": {
     "views": [
      {
       "cell_index": 1
      }
     ]
    },
    "753a4c6430e04a0e96ac5d19b57115d0": {
     "views": [
      {
       "cell_index": 1
      }
     ]
    },
    "75b6ea3086604cf6a63e64d1882e48ba": {
     "views": [
      {
       "cell_index": 1
      }
     ]
    },
    "75cd5454cb134384ac5907515d8fb960": {
     "views": [
      {
       "cell_index": 1
      }
     ]
    },
    "75f9f6a57de54666b9081f851a9aa6fa": {
     "views": [
      {
       "cell_index": 1
      }
     ]
    },
    "7658bd7c820245fcb9189f1c855295b6": {
     "views": [
      {
       "cell_index": 1
      }
     ]
    },
    "76b05e0e50ae4e38ae5fc2a9e84dd0d7": {
     "views": [
      {
       "cell_index": 1
      }
     ]
    },
    "775c3d6b61b74e5aa85c87ab5ed8f3b2": {
     "views": [
      {
       "cell_index": 1
      }
     ]
    },
    "7764a4aa002945bbbd82f52ea638b533": {
     "views": [
      {
       "cell_index": 1
      }
     ]
    },
    "777ac72f0a364a43bc2af5aa54b30111": {
     "views": [
      {
       "cell_index": 1
      }
     ]
    },
    "778eb100cec04854b99e32f3df41b2eb": {
     "views": [
      {
       "cell_index": 1
      }
     ]
    },
    "77dbc65b15214fadbdaafe1eaf838165": {
     "views": [
      {
       "cell_index": 1
      }
     ]
    },
    "77fd24809ab940d4a6b0878f19da4d13": {
     "views": [
      {
       "cell_index": 1
      }
     ]
    },
    "77ff73a2afe4491d95a2bd8acf3d9171": {
     "views": [
      {
       "cell_index": 1
      }
     ]
    },
    "7807c2a5319b40fcaa939858c008335b": {
     "views": [
      {
       "cell_index": 1
      }
     ]
    },
    "79056f4582634a8fb2101d01c3e6077f": {
     "views": [
      {
       "cell_index": 1
      }
     ]
    },
    "79370521a3ec43a290d4f1709264217d": {
     "views": [
      {
       "cell_index": 1
      }
     ]
    },
    "7949fc89e258459c8ab6061d63dd700e": {
     "views": [
      {
       "cell_index": 1
      }
     ]
    },
    "7961ea180c7c4482b806e40b37653816": {
     "views": [
      {
       "cell_index": 1
      }
     ]
    },
    "79a31fe053d245a3b1491da60df0a16c": {
     "views": [
      {
       "cell_index": 1
      }
     ]
    },
    "79bd4aadc3bb44ac8674403d718b3b2c": {
     "views": [
      {
       "cell_index": 1
      }
     ]
    },
    "79f3beb684b94f7abadb215c3e0e7779": {
     "views": [
      {
       "cell_index": 1
      }
     ]
    },
    "7a10cfb9b7fa4cf7a90f5f9e39c4db9f": {
     "views": [
      {
       "cell_index": 1
      }
     ]
    },
    "7a12f0325fe34c84b64a977c4a214d2e": {
     "views": [
      {
       "cell_index": 1
      }
     ]
    },
    "7a18209916ba4bec8fc74890de31d204": {
     "views": [
      {
       "cell_index": 1
      }
     ]
    },
    "7a71de79126247718bbf22467d774208": {
     "views": [
      {
       "cell_index": 1
      }
     ]
    },
    "7a7ba75312a3497885aee9186672dbf1": {
     "views": [
      {
       "cell_index": 1
      }
     ]
    },
    "7a815327827745bbb01590803569f57c": {
     "views": [
      {
       "cell_index": 1
      }
     ]
    },
    "7aa83c402bea41a4adebd1a3d930315c": {
     "views": [
      {
       "cell_index": 1
      }
     ]
    },
    "7add3d6fe5eb4e67a8bfa71b42d17b82": {
     "views": [
      {
       "cell_index": 1
      }
     ]
    },
    "7af9fbab3d484c68ba5081a146f3837e": {
     "views": [
      {
       "cell_index": 1
      }
     ]
    },
    "7b174d5f8d3b4717bcc1582b72aa0786": {
     "views": [
      {
       "cell_index": 1
      }
     ]
    },
    "7b81539b551e4a24addd630927381a02": {
     "views": [
      {
       "cell_index": 1
      }
     ]
    },
    "7bc1ec81bdf8485baf486015d2069ceb": {
     "views": [
      {
       "cell_index": 1
      }
     ]
    },
    "7bd4f03ead3c4223bc002d11bb6f29e3": {
     "views": [
      {
       "cell_index": 1
      }
     ]
    },
    "7c30b28be5ef4596bff0a0371893a5ac": {
     "views": [
      {
       "cell_index": 1
      }
     ]
    },
    "7cb56b960edf44649c640bdd77e63267": {
     "views": [
      {
       "cell_index": 1
      }
     ]
    },
    "7cef4a72276249698cf3a7c34fb776ae": {
     "views": [
      {
       "cell_index": 1
      }
     ]
    },
    "7d142004c7334975b37af8eeca6e30b8": {
     "views": [
      {
       "cell_index": 1
      }
     ]
    },
    "7d774b3e512d48f3a054d1969370d42b": {
     "views": [
      {
       "cell_index": 1
      }
     ]
    },
    "7e2f7766e16748ffb0f2bf805834065e": {
     "views": [
      {
       "cell_index": 1
      }
     ]
    },
    "7e4ebeeb400a46b596ba75f0fdd322fc": {
     "views": [
      {
       "cell_index": 1
      }
     ]
    },
    "7e5d29c91a7e4efb9b3d3bc965c1dd88": {
     "views": [
      {
       "cell_index": 1
      }
     ]
    },
    "7e87d933ad2b429a965de33a25d44df5": {
     "views": [
      {
       "cell_index": 1
      }
     ]
    },
    "7ecd35faf8d4486a856c812d74a9ef32": {
     "views": [
      {
       "cell_index": 1
      }
     ]
    },
    "7ef7f4471d2a4931a005929eb866aece": {
     "views": [
      {
       "cell_index": 1
      }
     ]
    },
    "7f184d82a4da49fdb833e22b6a028cd3": {
     "views": [
      {
       "cell_index": 1
      }
     ]
    },
    "7f36f75653dc42b98ea12191d2082a02": {
     "views": [
      {
       "cell_index": 1
      }
     ]
    },
    "7f690af3d90c4232bc1997f790e0d30d": {
     "views": [
      {
       "cell_index": 1
      }
     ]
    },
    "7fb0f92ec5d74c3c8a453c435d7f094f": {
     "views": [
      {
       "cell_index": 1
      }
     ]
    },
    "80010e40335b48a6a069774461c2a640": {
     "views": [
      {
       "cell_index": 1
      }
     ]
    },
    "800e02b0d36b4b46b7fadc26be72ef24": {
     "views": [
      {
       "cell_index": 1
      }
     ]
    },
    "801e360e35944f97a34624468879b64d": {
     "views": [
      {
       "cell_index": 1
      }
     ]
    },
    "805854acfe6b4dc7b8abced922e98fd6": {
     "views": [
      {
       "cell_index": 1
      }
     ]
    },
    "806e4c7bc01945b98a68a29a50ee4533": {
     "views": [
      {
       "cell_index": 1
      }
     ]
    },
    "807fc78a81814f5eae67f71a7e9e8e68": {
     "views": [
      {
       "cell_index": 1
      }
     ]
    },
    "809e6d9a01d44ad9813f242d02145f4d": {
     "views": [
      {
       "cell_index": 1
      }
     ]
    },
    "80a4564a79b34568a417e99187bae8fb": {
     "views": [
      {
       "cell_index": 1
      }
     ]
    },
    "80eb12ef3a774050945cb05712c37615": {
     "views": [
      {
       "cell_index": 1
      }
     ]
    },
    "8119b93633bc4ecd971ea3aa505f08d0": {
     "views": [
      {
       "cell_index": 1
      }
     ]
    },
    "8129f0bf0cfb4186a117520e085e291e": {
     "views": [
      {
       "cell_index": 1
      }
     ]
    },
    "813a2bad05ad4fc3b896f6745c09950f": {
     "views": [
      {
       "cell_index": 1
      }
     ]
    },
    "81837f7a23de416f855e1da7e359f070": {
     "views": [
      {
       "cell_index": 1
      }
     ]
    },
    "818acbd4002e4923bdc35d00cb816900": {
     "views": [
      {
       "cell_index": 1
      }
     ]
    },
    "81a3230f6e44438692ccf8ca053cacaf": {
     "views": [
      {
       "cell_index": 1
      }
     ]
    },
    "81b0590b766041579a50fcd53c636717": {
     "views": [
      {
       "cell_index": 1
      }
     ]
    },
    "81c7a85d26a9410caccf2493a3d108ec": {
     "views": [
      {
       "cell_index": 1
      }
     ]
    },
    "81d0fecf98414f39b112db8308fc54fc": {
     "views": [
      {
       "cell_index": 1
      }
     ]
    },
    "81e44f4ae8634b9da60aef43d4dc9536": {
     "views": [
      {
       "cell_index": 1
      }
     ]
    },
    "8227242a9e2a4b29a56bcb7e13ec02e7": {
     "views": [
      {
       "cell_index": 1
      }
     ]
    },
    "82330328e1964188bd974b780c84c848": {
     "views": [
      {
       "cell_index": 1
      }
     ]
    },
    "82a5ed41633643f6a1e182ec518b4b1b": {
     "views": [
      {
       "cell_index": 1
      }
     ]
    },
    "83b6e1e6fc49456790833f7372598db8": {
     "views": [
      {
       "cell_index": 1
      }
     ]
    },
    "8430eb8820984aa79c8e12e22cbc3f06": {
     "views": [
      {
       "cell_index": 1
      }
     ]
    },
    "8445a95784fc41399616e721604a6622": {
     "views": [
      {
       "cell_index": 1
      }
     ]
    },
    "8480511523c8431c91259eec4254dbc4": {
     "views": [
      {
       "cell_index": 1
      }
     ]
    },
    "848d7bf6cab34ec7b034fe6e0fa82b32": {
     "views": [
      {
       "cell_index": 1
      }
     ]
    },
    "8508a5358ba54bdb9667b14c49872804": {
     "views": [
      {
       "cell_index": 1
      }
     ]
    },
    "852c975127474878b0ebff788724cf1d": {
     "views": [
      {
       "cell_index": 1
      }
     ]
    },
    "852fbc351854465b8ef36d0d41427aa1": {
     "views": [
      {
       "cell_index": 1
      }
     ]
    },
    "85367f4690f54a7d99d2a6d75bd4fc57": {
     "views": [
      {
       "cell_index": 1
      }
     ]
    },
    "853c7f4b621d449c81c8ad60290eeb7b": {
     "views": [
      {
       "cell_index": 1
      }
     ]
    },
    "861498589e6a47a09a18e180e28878ab": {
     "views": [
      {
       "cell_index": 1
      }
     ]
    },
    "86196b2cab454daa83b897ffe957ea1f": {
     "views": [
      {
       "cell_index": 1
      }
     ]
    },
    "867449483fe040028103d6c6ce746392": {
     "views": [
      {
       "cell_index": 1
      }
     ]
    },
    "86a35b66bb174561bc53af15e5bd3aee": {
     "views": [
      {
       "cell_index": 1
      }
     ]
    },
    "8710b0f4f3e240ab9323a237c3cd89cb": {
     "views": [
      {
       "cell_index": 1
      }
     ]
    },
    "874c7f80a98d4a928c6b33f496bc8988": {
     "views": [
      {
       "cell_index": 1
      }
     ]
    },
    "874e36c2acd14b7aab9d1cabe72e8b0d": {
     "views": [
      {
       "cell_index": 1
      }
     ]
    },
    "87e4b03eb27b4e0ca969fe95e7648f1c": {
     "views": [
      {
       "cell_index": 1
      }
     ]
    },
    "87f973cca18447ae9a3be18536c00fc4": {
     "views": [
      {
       "cell_index": 1
      }
     ]
    },
    "87fb984dc727416ab1e345434c2c02ff": {
     "views": [
      {
       "cell_index": 1
      }
     ]
    },
    "88228145def34dc8949c33ddb6162b67": {
     "views": [
      {
       "cell_index": 1
      }
     ]
    },
    "8867d4ca8c9c4ab589d1c1053e025c9d": {
     "views": [
      {
       "cell_index": 1
      }
     ]
    },
    "8882296019244d53ab2bd643022d4dde": {
     "views": [
      {
       "cell_index": 1
      }
     ]
    },
    "88c206c265f8486dbcdece70e0d7ea52": {
     "views": [
      {
       "cell_index": 1
      }
     ]
    },
    "894790177f8a488b8c63fef7720504c5": {
     "views": [
      {
       "cell_index": 1
      }
     ]
    },
    "8951a20765f949f3a3de7376cefc183e": {
     "views": [
      {
       "cell_index": 1
      }
     ]
    },
    "8972f2a73cd9408a93de3c000a4047a6": {
     "views": [
      {
       "cell_index": 1
      }
     ]
    },
    "89b8d248d2dc4723b2b180e37b100826": {
     "views": [
      {
       "cell_index": 1
      }
     ]
    },
    "8a031aab7aa6489f8fce9379a323fac8": {
     "views": [
      {
       "cell_index": 1
      }
     ]
    },
    "8a374fe360ed4a6484fac00898c19780": {
     "views": [
      {
       "cell_index": 1
      }
     ]
    },
    "8a6eabae86e74956b6ee6cfec773bc1c": {
     "views": [
      {
       "cell_index": 1
      }
     ]
    },
    "8a98e01519a740928864959ee6543bf9": {
     "views": [
      {
       "cell_index": 1
      }
     ]
    },
    "8ab7ed6b8cfa47fabe70b902618d17a3": {
     "views": [
      {
       "cell_index": 1
      }
     ]
    },
    "8b1675d490f54b9f92b6efc3aac7ff1d": {
     "views": [
      {
       "cell_index": 1
      }
     ]
    },
    "8b1992daf4b64dc29ff7663152d1c2ce": {
     "views": [
      {
       "cell_index": 1
      }
     ]
    },
    "8b300ea3d69b42e08b64e143ddc68cc1": {
     "views": [
      {
       "cell_index": 1
      }
     ]
    },
    "8b62e801351f44109ac92be0bcddfd2e": {
     "views": [
      {
       "cell_index": 1
      }
     ]
    },
    "8bd090a6c6694c81abd7ab29c5254d09": {
     "views": [
      {
       "cell_index": 1
      }
     ]
    },
    "8c0ae7936fd7447d916a0c6813e7d77c": {
     "views": [
      {
       "cell_index": 1
      }
     ]
    },
    "8c6d7b3903e64f06b37b34725406e9f5": {
     "views": [
      {
       "cell_index": 1
      }
     ]
    },
    "8c7d5ed6c603463382ad0da824dfbbee": {
     "views": [
      {
       "cell_index": 1
      }
     ]
    },
    "8ca8f8f9018346e29fced48f4587a914": {
     "views": [
      {
       "cell_index": 1
      }
     ]
    },
    "8d853a29d5fe4eb694a114fb5adeae91": {
     "views": [
      {
       "cell_index": 1
      }
     ]
    },
    "8dbc050f77764ac9b4c39c851876bc9b": {
     "views": [
      {
       "cell_index": 1
      }
     ]
    },
    "8de1c31e8f6d4fcb836db5a0c097ba8d": {
     "views": [
      {
       "cell_index": 1
      }
     ]
    },
    "8e00a3ff6afa4067932e4dea6b13c891": {
     "views": [
      {
       "cell_index": 1
      }
     ]
    },
    "8e01e6a427914415bb502d79ce50da1a": {
     "views": [
      {
       "cell_index": 1
      }
     ]
    },
    "8e211bdcb11a402a98ab2b99a82a6a2e": {
     "views": [
      {
       "cell_index": 1
      }
     ]
    },
    "8f36235fb4074ec4af0d6829f976059c": {
     "views": [
      {
       "cell_index": 1
      }
     ]
    },
    "8f500b45f8e441c6b255675b2e891a8e": {
     "views": [
      {
       "cell_index": 1
      }
     ]
    },
    "8fe1acaf434e4a94b94f15d1a9d7d3db": {
     "views": [
      {
       "cell_index": 1
      }
     ]
    },
    "90530c4a4f0d4058bce59fee596ef4e9": {
     "views": [
      {
       "cell_index": 1
      }
     ]
    },
    "905efa96a9254792afce04d0f8ed4b32": {
     "views": [
      {
       "cell_index": 1
      }
     ]
    },
    "907021e27cad4d6a90ef141c660a5750": {
     "views": [
      {
       "cell_index": 1
      }
     ]
    },
    "90d917109e724d989ad3d7f813f0c720": {
     "views": [
      {
       "cell_index": 1
      }
     ]
    },
    "910c136e2590411c8d65ecd20de76748": {
     "views": [
      {
       "cell_index": 1
      }
     ]
    },
    "916547c9b92444948558cce3463d937b": {
     "views": [
      {
       "cell_index": 1
      }
     ]
    },
    "920533b60daf4dbb9969da6330605f38": {
     "views": [
      {
       "cell_index": 1
      }
     ]
    },
    "92142a99058d4777907bbb0e2a66613d": {
     "views": [
      {
       "cell_index": 1
      }
     ]
    },
    "924b93fa8fea4982aa713472e7c2027d": {
     "views": [
      {
       "cell_index": 1
      }
     ]
    },
    "9281a265f4254b1591e99e824ce471bf": {
     "views": [
      {
       "cell_index": 1
      }
     ]
    },
    "92f18966c5b44be9a1170b9c8c0af339": {
     "views": [
      {
       "cell_index": 1
      }
     ]
    },
    "930167dc1de741ab8c3428dbaf267b07": {
     "views": [
      {
       "cell_index": 1
      }
     ]
    },
    "93069ef5568c49ae9d66f2dfcbd01f68": {
     "views": [
      {
       "cell_index": 1
      }
     ]
    },
    "930bd47063674ebf8e12cb1704224469": {
     "views": [
      {
       "cell_index": 1
      }
     ]
    },
    "93a3516c5ade41e2ac0bddd253673bab": {
     "views": [
      {
       "cell_index": 1
      }
     ]
    },
    "93f576647bd24e369686b1b3e488cee9": {
     "views": [
      {
       "cell_index": 1
      }
     ]
    },
    "940db072888e4ae6bc5ced2cde521c5c": {
     "views": [
      {
       "cell_index": 1
      }
     ]
    },
    "94dcf01973dd409aa63dbcec3d657746": {
     "views": [
      {
       "cell_index": 1
      }
     ]
    },
    "95084c137d424eaa96fd9bf2f0fbd148": {
     "views": [
      {
       "cell_index": 1
      }
     ]
    },
    "9535c4c80f1f43229b1eb5a8ecc4b836": {
     "views": [
      {
       "cell_index": 1
      }
     ]
    },
    "95713de640bf4ff2961c516795703e75": {
     "views": [
      {
       "cell_index": 1
      }
     ]
    },
    "957d894a9a044dce915a4e87ac0fe2ed": {
     "views": [
      {
       "cell_index": 1
      }
     ]
    },
    "95d471bbfe4443f1a8d1aa1fb654a534": {
     "views": [
      {
       "cell_index": 1
      }
     ]
    },
    "96600077295945629f1d0cf77c4cd9e9": {
     "views": [
      {
       "cell_index": 1
      }
     ]
    },
    "968f610d53374e55bd0967809f23b1a0": {
     "views": [
      {
       "cell_index": 1
      }
     ]
    },
    "96a07d33dfb74156b0acb28bcceacf6a": {
     "views": [
      {
       "cell_index": 1
      }
     ]
    },
    "96a86ca72675494e92c8503c6811da4c": {
     "views": [
      {
       "cell_index": 1
      }
     ]
    },
    "973ff54a06b14179b1086cc31ded4204": {
     "views": [
      {
       "cell_index": 1
      }
     ]
    },
    "97925e66e93a434eb5018766d1dd9657": {
     "views": [
      {
       "cell_index": 1
      }
     ]
    },
    "9794104fe2ca44e8bf4bafaa370b4c13": {
     "views": [
      {
       "cell_index": 1
      }
     ]
    },
    "97dd33da338945948d6aec3f807d76a3": {
     "views": [
      {
       "cell_index": 1
      }
     ]
    },
    "97e3135805524f83811c613f09559ba4": {
     "views": [
      {
       "cell_index": 1
      }
     ]
    },
    "983b12d3bafb47c2ba4be8f7bb89ef87": {
     "views": [
      {
       "cell_index": 1
      }
     ]
    },
    "9874febab63345dfa34223d9f940a3a8": {
     "views": [
      {
       "cell_index": 1
      }
     ]
    },
    "98a2a3ab1bdc4dc9b55430b0ea531101": {
     "views": [
      {
       "cell_index": 1
      }
     ]
    },
    "98c33adea11d4c13bab802077ece8125": {
     "views": [
      {
       "cell_index": 1
      }
     ]
    },
    "9906635d4e5b4852ade9edce8d136c9f": {
     "views": [
      {
       "cell_index": 1
      }
     ]
    },
    "994ebb5a65f24600a3aa0c63487df7a8": {
     "views": [
      {
       "cell_index": 1
      }
     ]
    },
    "9952173cbf0442ed9aef956878aaa493": {
     "views": [
      {
       "cell_index": 1
      }
     ]
    },
    "9954c51584734f52b2b0c84644364f06": {
     "views": [
      {
       "cell_index": 1
      }
     ]
    },
    "998d5885f41444138a3877162691489c": {
     "views": [
      {
       "cell_index": 1
      }
     ]
    },
    "99a314f4df504269910935e1963c20aa": {
     "views": [
      {
       "cell_index": 1
      }
     ]
    },
    "99f1036f9db643449d827e9f6547479e": {
     "views": [
      {
       "cell_index": 1
      }
     ]
    },
    "9a98eb76f4854fc1aeaf3c75db1b68e0": {
     "views": [
      {
       "cell_index": 1
      }
     ]
    },
    "9aa3d6731a604bbb85f0132228d92d4a": {
     "views": [
      {
       "cell_index": 1
      }
     ]
    },
    "9b0477303b864e75b206314a4627164d": {
     "views": [
      {
       "cell_index": 1
      }
     ]
    },
    "9b05c2db78d141f09f9922571310fcdd": {
     "views": [
      {
       "cell_index": 1
      }
     ]
    },
    "9b259b22ec76490485793d0745a65cc1": {
     "views": [
      {
       "cell_index": 1
      }
     ]
    },
    "9b4683d4c1ec4afe929dc03d27a03ed5": {
     "views": [
      {
       "cell_index": 1
      }
     ]
    },
    "9bab73321b924b7682a746280f2e9d98": {
     "views": [
      {
       "cell_index": 1
      }
     ]
    },
    "9bc310a71b81495c98420250867bb174": {
     "views": [
      {
       "cell_index": 1
      }
     ]
    },
    "9bfad4d0adfb44b498babe18cd5572bc": {
     "views": [
      {
       "cell_index": 1
      }
     ]
    },
    "9c18aa2e1df24d03bd866f6e74d28be6": {
     "views": [
      {
       "cell_index": 1
      }
     ]
    },
    "9c7bc973cfc1453ba4cb817152ab65ce": {
     "views": [
      {
       "cell_index": 1
      }
     ]
    },
    "9c9bee98f0aa432491a8f616e45e6e11": {
     "views": [
      {
       "cell_index": 1
      }
     ]
    },
    "9df2f3af0ef444d094438271fd7f6a12": {
     "views": [
      {
       "cell_index": 1
      }
     ]
    },
    "9e0318fe97994ef3a4242d1d109977b3": {
     "views": [
      {
       "cell_index": 1
      }
     ]
    },
    "9e6462a6b22149be8a9b6e576268a458": {
     "views": [
      {
       "cell_index": 1
      }
     ]
    },
    "9e94a356f3b148108a271767dab0458b": {
     "views": [
      {
       "cell_index": 1
      }
     ]
    },
    "9eacd7f45fc04ecb9ce8c5fc9c5bdc99": {
     "views": [
      {
       "cell_index": 1
      }
     ]
    },
    "9efaa429d11c48ae80cb8ce841a251d7": {
     "views": [
      {
       "cell_index": 1
      }
     ]
    },
    "9f191adc985e43cfbc450a39fea2ff47": {
     "views": [
      {
       "cell_index": 1
      }
     ]
    },
    "9f7131141a8f4e1599a59f05c3dc0620": {
     "views": [
      {
       "cell_index": 1
      }
     ]
    },
    "9fdf775fcbd34a948af278fa26e6a278": {
     "views": [
      {
       "cell_index": 1
      }
     ]
    },
    "9fecda01799d44ebb1a0119d0504fc9c": {
     "views": [
      {
       "cell_index": 1
      }
     ]
    },
    "a0395331c1394242b36d95b3d3a6a8b7": {
     "views": [
      {
       "cell_index": 1
      }
     ]
    },
    "a066d0415d2c4429b33ca4075e0cfce4": {
     "views": [
      {
       "cell_index": 1
      }
     ]
    },
    "a08b09adfdad4137a7beefff919ada1e": {
     "views": [
      {
       "cell_index": 1
      }
     ]
    },
    "a126c9a295c445de8b4c4f4b864f19bd": {
     "views": [
      {
       "cell_index": 1
      }
     ]
    },
    "a1551f2f9c1c460fb85002456bee846f": {
     "views": [
      {
       "cell_index": 1
      }
     ]
    },
    "a1d99f7c6e21415ebc29d2983f2e497d": {
     "views": [
      {
       "cell_index": 1
      }
     ]
    },
    "a234d1e9355e4f858ef585d213613ea2": {
     "views": [
      {
       "cell_index": 1
      }
     ]
    },
    "a2a6cb54dc694dfd8b5dfb2595035227": {
     "views": [
      {
       "cell_index": 1
      }
     ]
    },
    "a2e96d4ff6d945d0b1d53fbd13b40187": {
     "views": [
      {
       "cell_index": 1
      }
     ]
    },
    "a2fe65def1d240d580771d5a1e3cd58e": {
     "views": [
      {
       "cell_index": 1
      }
     ]
    },
    "a34d9324d770404489b410ab98bbcc6c": {
     "views": [
      {
       "cell_index": 1
      }
     ]
    },
    "a361b043bd434a77b036f22d26834fcf": {
     "views": [
      {
       "cell_index": 1
      }
     ]
    },
    "a37e281952b0440481eb2246ee7df54b": {
     "views": [
      {
       "cell_index": 1
      }
     ]
    },
    "a41e26af614844e1b8c1b8e7d2fb9705": {
     "views": [
      {
       "cell_index": 1
      }
     ]
    },
    "a44dfabd6597424bbbe20dd4a9c45099": {
     "views": [
      {
       "cell_index": 1
      }
     ]
    },
    "a465f9c82a17426b9800e53d63b7d798": {
     "views": [
      {
       "cell_index": 1
      }
     ]
    },
    "a4b6df4989434b0bbb2778a116407803": {
     "views": [
      {
       "cell_index": 1
      }
     ]
    },
    "a4c3d86fee654a6fa6e2de1f78ed2855": {
     "views": [
      {
       "cell_index": 1
      }
     ]
    },
    "a512b75bda8042e8b925db407e11ebea": {
     "views": [
      {
       "cell_index": 1
      }
     ]
    },
    "a567f27a176c442a9a56b53fdada0d51": {
     "views": [
      {
       "cell_index": 1
      }
     ]
    },
    "a58e07fabced46f2b128f843225abaee": {
     "views": [
      {
       "cell_index": 1
      }
     ]
    },
    "a5d1b9a66ca34104bc9e7c8f9fd03d4f": {
     "views": [
      {
       "cell_index": 1
      }
     ]
    },
    "a5f07150503549afa1611348e63c0359": {
     "views": [
      {
       "cell_index": 1
      }
     ]
    },
    "a60fa7f258344654b32e9ff2d2e75d45": {
     "views": [
      {
       "cell_index": 1
      }
     ]
    },
    "a6c77b1dbf4945f1a1f6c6193e55aade": {
     "views": [
      {
       "cell_index": 1
      }
     ]
    },
    "a6ce672f0a2541ac8061bce64a01978d": {
     "views": [
      {
       "cell_index": 1
      }
     ]
    },
    "a7b9482b7a8e4494826a97ffc077a83c": {
     "views": [
      {
       "cell_index": 1
      }
     ]
    },
    "a7c325804dee4f4593bd7d447ee4fe89": {
     "views": [
      {
       "cell_index": 1
      }
     ]
    },
    "a7c7c446cea0492791060ca662df8301": {
     "views": [
      {
       "cell_index": 1
      }
     ]
    },
    "a7d12dbc10574cd1bdf676ffcdc815c8": {
     "views": [
      {
       "cell_index": 1
      }
     ]
    },
    "a7fc90b4496c435bafc0592b13cc177d": {
     "views": [
      {
       "cell_index": 1
      }
     ]
    },
    "a83323b6cf5a486f800d473d36f87227": {
     "views": [
      {
       "cell_index": 1
      }
     ]
    },
    "a854e1dcc56a4325ac3282ad6a7094c3": {
     "views": [
      {
       "cell_index": 1
      }
     ]
    },
    "a8c9b36e5a4646e1a992ef7061c1cd84": {
     "views": [
      {
       "cell_index": 1
      }
     ]
    },
    "a9645b5c09ed4164ab30343891cf9e31": {
     "views": [
      {
       "cell_index": 1
      }
     ]
    },
    "a96df3459d684d7fba59afae82062730": {
     "views": [
      {
       "cell_index": 1
      }
     ]
    },
    "a9ac4134844b41e5a848afbb982b1802": {
     "views": [
      {
       "cell_index": 1
      }
     ]
    },
    "a9c0ebca1aca4d2da9d49a7ca06d3dc0": {
     "views": [
      {
       "cell_index": 1
      }
     ]
    },
    "aa039922a87946c6adf4e48584aa951e": {
     "views": [
      {
       "cell_index": 1
      }
     ]
    },
    "aa13361e1a5c4c0a9e6c11df2dfc9201": {
     "views": [
      {
       "cell_index": 1
      }
     ]
    },
    "aa22e2f381654605a6d769d9e1896b36": {
     "views": [
      {
       "cell_index": 1
      }
     ]
    },
    "aa39a516cec34e33ae8141e97b583286": {
     "views": [
      {
       "cell_index": 1
      }
     ]
    },
    "aa4ee7be15804bb9949aa9a11aa521a3": {
     "views": [
      {
       "cell_index": 1
      }
     ]
    },
    "aa8821ce64a3439a95ab085d2f876a5d": {
     "views": [
      {
       "cell_index": 1
      }
     ]
    },
    "aacbd9a5407a468db07756cf0217c7a8": {
     "views": [
      {
       "cell_index": 1
      }
     ]
    },
    "ab513bca9d534710bd832442e4aec416": {
     "views": [
      {
       "cell_index": 1
      }
     ]
    },
    "ab650f874f80428fba6cf9746b13860b": {
     "views": [
      {
       "cell_index": 1
      }
     ]
    },
    "ab687dfd3073491ba91516ac2605d652": {
     "views": [
      {
       "cell_index": 1
      }
     ]
    },
    "ab738107fd304b4189e82ebde3038948": {
     "views": [
      {
       "cell_index": 1
      }
     ]
    },
    "ab81ac37ef0b43c89c9e9780a8048e2d": {
     "views": [
      {
       "cell_index": 1
      }
     ]
    },
    "abb6168c6d3b450ebf07a9cea7d595bc": {
     "views": [
      {
       "cell_index": 1
      }
     ]
    },
    "abbd8f28c2d54d0f85a9a72c33809867": {
     "views": [
      {
       "cell_index": 1
      }
     ]
    },
    "abf7835a24cb4a7eab7e82427655ced2": {
     "views": [
      {
       "cell_index": 1
      }
     ]
    },
    "acaa101da87243a99ee930a2fdae86df": {
     "views": [
      {
       "cell_index": 1
      }
     ]
    },
    "acbcd51c58c640c09e7269fed3d1c094": {
     "views": [
      {
       "cell_index": 1
      }
     ]
    },
    "ad21496a43364ea998e630df3bc1b37d": {
     "views": [
      {
       "cell_index": 1
      }
     ]
    },
    "ad42bea78ae145029c3c9523880f0222": {
     "views": [
      {
       "cell_index": 1
      }
     ]
    },
    "ad60d6f547434b728e63d4655ea6819f": {
     "views": [
      {
       "cell_index": 1
      }
     ]
    },
    "ad73309df1f64d89a103e793244c6372": {
     "views": [
      {
       "cell_index": 1
      }
     ]
    },
    "ad768b099b674a3c8b4bdb9a9bc6f257": {
     "views": [
      {
       "cell_index": 1
      }
     ]
    },
    "ad7836a1c8894a01ae27ed6ffe7435a3": {
     "views": [
      {
       "cell_index": 1
      }
     ]
    },
    "adad4cf965064d88b606f2a186958a06": {
     "views": [
      {
       "cell_index": 1
      }
     ]
    },
    "add9409fd5344cdf9514bd4ff418ccbb": {
     "views": [
      {
       "cell_index": 1
      }
     ]
    },
    "adef87968e2b46a7b028a237171b4c60": {
     "views": [
      {
       "cell_index": 1
      }
     ]
    },
    "ae3eb1e345004fc4b446b090e6a425e8": {
     "views": [
      {
       "cell_index": 1
      }
     ]
    },
    "ae4778a478ef40d98f9be49150e5ac20": {
     "views": [
      {
       "cell_index": 1
      }
     ]
    },
    "ae6b2020c3824aa992d51af4692ce628": {
     "views": [
      {
       "cell_index": 1
      }
     ]
    },
    "ae94ca46b595407bbb8ba69d782d5229": {
     "views": [
      {
       "cell_index": 1
      }
     ]
    },
    "aeaa8c80a7354147b9ad3c784e110b6f": {
     "views": [
      {
       "cell_index": 1
      }
     ]
    },
    "aeacd7e84eca4199982b8d1d75a2d677": {
     "views": [
      {
       "cell_index": 1
      }
     ]
    },
    "af6ba519502c4afca6c2bcbe18d757ff": {
     "views": [
      {
       "cell_index": 1
      }
     ]
    },
    "afd3d9bb75ce457c90a57999f30a6bfe": {
     "views": [
      {
       "cell_index": 1
      }
     ]
    },
    "afeb84b22dd84093a9efc5c7cb49a2b5": {
     "views": [
      {
       "cell_index": 1
      }
     ]
    },
    "b011360c8543470c99437952214f14e7": {
     "views": [
      {
       "cell_index": 1
      }
     ]
    },
    "b038d9ced36f453491d11fe130a16c73": {
     "views": [
      {
       "cell_index": 1
      }
     ]
    },
    "b03e69a7f19b431ea4f86f404a24fecf": {
     "views": [
      {
       "cell_index": 1
      }
     ]
    },
    "b03e81f743bc466da02c8c2d0e93547e": {
     "views": [
      {
       "cell_index": 1
      }
     ]
    },
    "b05122b496f04795bbbb231096b34ba9": {
     "views": [
      {
       "cell_index": 1
      }
     ]
    },
    "b16989f1ff6f412ab4b8f1487cf32442": {
     "views": [
      {
       "cell_index": 1
      }
     ]
    },
    "b17de4f97b40467db5a99a9ec0296e08": {
     "views": [
      {
       "cell_index": 1
      }
     ]
    },
    "b1b5ece6749447f89d6defdff85e65b7": {
     "views": [
      {
       "cell_index": 1
      }
     ]
    },
    "b241c1299ea44bbd9f7e2c0d9c1275a1": {
     "views": [
      {
       "cell_index": 1
      }
     ]
    },
    "b2d6a5ec0fbd471fb4c4e4b801bddc99": {
     "views": [
      {
       "cell_index": 1
      }
     ]
    },
    "b3479cf2ffa0428eb5cb564c161ccd99": {
     "views": [
      {
       "cell_index": 1
      }
     ]
    },
    "b3cdd2115e4d4222a5de327c510a7879": {
     "views": [
      {
       "cell_index": 1
      }
     ]
    },
    "b3ee36a71fdd49beb835c472a2f917ab": {
     "views": [
      {
       "cell_index": 1
      }
     ]
    },
    "b3f6121c0d6240a5957680c0081f6655": {
     "views": [
      {
       "cell_index": 1
      }
     ]
    },
    "b44354e9cb454cc1a082d4ad1c00730e": {
     "views": [
      {
       "cell_index": 1
      }
     ]
    },
    "b44d37b0e0464a97b2ea513e3c7e17f7": {
     "views": [
      {
       "cell_index": 1
      }
     ]
    },
    "b4791e9a921a4790b674ce1304f3dc0c": {
     "views": [
      {
       "cell_index": 1
      }
     ]
    },
    "b5248c56b56a4d6f853676c7186e91b3": {
     "views": [
      {
       "cell_index": 1
      }
     ]
    },
    "b5aefb68f43a4a4d8bd5f301a0f42740": {
     "views": [
      {
       "cell_index": 1
      }
     ]
    },
    "b5e2d8ff5c4442a1b78f017d81c83a11": {
     "views": [
      {
       "cell_index": 1
      }
     ]
    },
    "b66f18d3343444fcab1998cbe3bf2674": {
     "views": [
      {
       "cell_index": 1
      }
     ]
    },
    "b692ed8526e547e796271cc6b98cef3c": {
     "views": [
      {
       "cell_index": 1
      }
     ]
    },
    "b6e84bf68e4e4be5bdf9bfbfeaaf8fe9": {
     "views": [
      {
       "cell_index": 1
      }
     ]
    },
    "b6edb69072cf4968b21313a44fb40970": {
     "views": [
      {
       "cell_index": 1
      }
     ]
    },
    "b7882a62e8554c7e827c403910df4920": {
     "views": [
      {
       "cell_index": 1
      }
     ]
    },
    "b897ddaf6d66411a9843e9f6f627cce7": {
     "views": [
      {
       "cell_index": 1
      }
     ]
    },
    "b8b3bf181b884f84b369b190838718d5": {
     "views": [
      {
       "cell_index": 1
      }
     ]
    },
    "b8cc98ca9461472bba65bd28198971db": {
     "views": [
      {
       "cell_index": 1
      }
     ]
    },
    "b9738c30b5034073b5ff6611a6055a66": {
     "views": [
      {
       "cell_index": 1
      }
     ]
    },
    "b97fc407b45247f68cbe4dc13411e192": {
     "views": [
      {
       "cell_index": 1
      }
     ]
    },
    "b9b4d6647e634a32803c844590115ada": {
     "views": [
      {
       "cell_index": 1
      }
     ]
    },
    "ba0ba99dcfbe43b6947fc2d9ac935e9e": {
     "views": [
      {
       "cell_index": 1
      }
     ]
    },
    "ba1061e83ff74b76a0a5bb2280ee0792": {
     "views": [
      {
       "cell_index": 1
      }
     ]
    },
    "ba263d20334942e592c2b6dee9e26011": {
     "views": [
      {
       "cell_index": 1
      }
     ]
    },
    "ba6ee32a24b140e7bdacb05f4ef32692": {
     "views": [
      {
       "cell_index": 1
      }
     ]
    },
    "ba849c96554d49db9d8546c1ae61f024": {
     "views": [
      {
       "cell_index": 1
      }
     ]
    },
    "baf840ee05d4473aa8b3953775bcf275": {
     "views": [
      {
       "cell_index": 1
      }
     ]
    },
    "bb14f58e47684d2dbea9f037655456ce": {
     "views": [
      {
       "cell_index": 1
      }
     ]
    },
    "bb182c30084c4db4a8239ddc5d45829f": {
     "views": [
      {
       "cell_index": 1
      }
     ]
    },
    "bb19024d631f4a8b9687b8e4420cb220": {
     "views": [
      {
       "cell_index": 1
      }
     ]
    },
    "bb348b7b1cee47d08b7c219ada5a1347": {
     "views": [
      {
       "cell_index": 1
      }
     ]
    },
    "bbbb89eae24345eca3bdd478363405f8": {
     "views": [
      {
       "cell_index": 1
      }
     ]
    },
    "bce20e7c3b5b4ab685c5cf43b9f64e42": {
     "views": [
      {
       "cell_index": 1
      }
     ]
    },
    "bcf61fdbd83542b58482183bd972948e": {
     "views": [
      {
       "cell_index": 1
      }
     ]
    },
    "bd845bfd347f4ea290030cf1b7223354": {
     "views": [
      {
       "cell_index": 1
      }
     ]
    },
    "bd88e4e7a87449e18473ad1aa18c808e": {
     "views": [
      {
       "cell_index": 1
      }
     ]
    },
    "bda042758ff84749b31f882c104cf103": {
     "views": [
      {
       "cell_index": 1
      }
     ]
    },
    "be01e8ee14444791a799261312ff9d76": {
     "views": [
      {
       "cell_index": 1
      }
     ]
    },
    "be371fd0d6554c8dbe644647a1c2a665": {
     "views": [
      {
       "cell_index": 1
      }
     ]
    },
    "bec4aa0c8cfc417e82aa0d35a4b89e95": {
     "views": [
      {
       "cell_index": 1
      }
     ]
    },
    "bf4b8adfe68f40ff9fcec4c24b23e83b": {
     "views": [
      {
       "cell_index": 1
      }
     ]
    },
    "bf5c59e9f70a4e6fbeb352a74169c10e": {
     "views": [
      {
       "cell_index": 1
      }
     ]
    },
    "bf716a58cdf34c99ac3618e7e43da5b3": {
     "views": [
      {
       "cell_index": 1
      }
     ]
    },
    "bf7fa074f12a46268a54b3bb644d48f6": {
     "views": [
      {
       "cell_index": 1
      }
     ]
    },
    "bf814efef5254cce92eb171f5215d9be": {
     "views": [
      {
       "cell_index": 1
      }
     ]
    },
    "bfe15e4755c946c0a67bb63b3fc74907": {
     "views": [
      {
       "cell_index": 1
      }
     ]
    },
    "c00ccea572b54fc0ba1896228dd1725b": {
     "views": [
      {
       "cell_index": 1
      }
     ]
    },
    "c0330eaabef94f5b8528d562fa9e2073": {
     "views": [
      {
       "cell_index": 1
      }
     ]
    },
    "c04352f3aabe45e8b661f0c4601f2f36": {
     "views": [
      {
       "cell_index": 1
      }
     ]
    },
    "c099089f4a0844da96bc3d5b78388fed": {
     "views": [
      {
       "cell_index": 1
      }
     ]
    },
    "c0a22b68f6414145aaa956fa7a8a4857": {
     "views": [
      {
       "cell_index": 1
      }
     ]
    },
    "c0fdb70ae2bf47d9bd9661e71a66acdd": {
     "views": [
      {
       "cell_index": 1
      }
     ]
    },
    "c1044c67a2f048d7857acd7ce4dc2a3d": {
     "views": [
      {
       "cell_index": 1
      }
     ]
    },
    "c129a936ec264bdc954cac98ad7fa0b3": {
     "views": [
      {
       "cell_index": 1
      }
     ]
    },
    "c1399ed8a3894a4fa9ce31cc1b72f23a": {
     "views": [
      {
       "cell_index": 1
      }
     ]
    },
    "c144a7dcc4ae4cef88a67a18e6f5890a": {
     "views": [
      {
       "cell_index": 1
      }
     ]
    },
    "c160315ad1ad4ce5b48fceed49d6b643": {
     "views": [
      {
       "cell_index": 1
      }
     ]
    },
    "c177487f880e4ce88e281c9f9ba63b83": {
     "views": [
      {
       "cell_index": 1
      }
     ]
    },
    "c17dc8b17d1c4df8bf20fe177d361586": {
     "views": [
      {
       "cell_index": 1
      }
     ]
    },
    "c1efc735d61d49b9b3b1a12c23ba72af": {
     "views": [
      {
       "cell_index": 1
      }
     ]
    },
    "c2240887da7f4fbf9bcf0e786d518202": {
     "views": [
      {
       "cell_index": 1
      }
     ]
    },
    "c25b8a84a2aa4a999a128d06a73c7ef7": {
     "views": [
      {
       "cell_index": 1
      }
     ]
    },
    "c2fa44f982ac496f94363315c830a67f": {
     "views": [
      {
       "cell_index": 1
      }
     ]
    },
    "c33ea4b97c6f4be7a055e0e0db8be00a": {
     "views": [
      {
       "cell_index": 1
      }
     ]
    },
    "c3682f954c93415094278d150be5cb42": {
     "views": [
      {
       "cell_index": 1
      }
     ]
    },
    "c37980220c294fc0b0a3c179fa7873cc": {
     "views": [
      {
       "cell_index": 1
      }
     ]
    },
    "c39f2531a97245809a6824db33319c5a": {
     "views": [
      {
       "cell_index": 1
      }
     ]
    },
    "c3e005e44ec14b0d988336e4dc1a03a7": {
     "views": [
      {
       "cell_index": 1
      }
     ]
    },
    "c41d5fa62e5d4856a3db3889d22a7653": {
     "views": [
      {
       "cell_index": 1
      }
     ]
    },
    "c424cbf2c0254774973aa421c28f1257": {
     "views": [
      {
       "cell_index": 1
      }
     ]
    },
    "c4375e831750477ab3e8f707540cfccb": {
     "views": [
      {
       "cell_index": 1
      }
     ]
    },
    "c47921888ad348098495a98d98d11ccf": {
     "views": [
      {
       "cell_index": 1
      }
     ]
    },
    "c497d5a16c1c49cfa77cd0c3e88721c8": {
     "views": [
      {
       "cell_index": 1
      }
     ]
    },
    "c50dd03a666147738664229e05841c97": {
     "views": [
      {
       "cell_index": 1
      }
     ]
    },
    "c554ea61aa0e4fc9b63f767eada0b438": {
     "views": [
      {
       "cell_index": 1
      }
     ]
    },
    "c56b8b5c485c4fefb45dd48106dd1a1c": {
     "views": [
      {
       "cell_index": 1
      }
     ]
    },
    "c58e4a18b1d445ae8be9f01f166301b3": {
     "views": [
      {
       "cell_index": 1
      }
     ]
    },
    "c616c7c52dec4789b695496120b0cb25": {
     "views": [
      {
       "cell_index": 1
      }
     ]
    },
    "c61dd05ec2564be9b00e56d2ae8fb4a7": {
     "views": [
      {
       "cell_index": 1
      }
     ]
    },
    "c663e043d3e54b76ba2546cece33dd8f": {
     "views": [
      {
       "cell_index": 1
      }
     ]
    },
    "c68dc1cbc39d4fcaa1bbec2721d9939a": {
     "views": [
      {
       "cell_index": 1
      }
     ]
    },
    "c6c5a9fe4e774003bfba6a4467538778": {
     "views": [
      {
       "cell_index": 1
      }
     ]
    },
    "c6f616e93d984745aed6b7ab9c86a61e": {
     "views": [
      {
       "cell_index": 1
      }
     ]
    },
    "c71b13dd0c7d431cac812f8f32cca169": {
     "views": [
      {
       "cell_index": 1
      }
     ]
    },
    "c7266d3b12184ef78eca3acbaabed948": {
     "views": [
      {
       "cell_index": 1
      }
     ]
    },
    "c7450795580b477581798ecd523855b4": {
     "views": [
      {
       "cell_index": 1
      }
     ]
    },
    "c75c7d4ef34545d4a1a8c927556d5dde": {
     "views": [
      {
       "cell_index": 1
      }
     ]
    },
    "c7b830da4e6d4ed1b3b11c6b52965951": {
     "views": [
      {
       "cell_index": 1
      }
     ]
    },
    "c7d3a05d7b924f488eb15563ea5f62fb": {
     "views": [
      {
       "cell_index": 1
      }
     ]
    },
    "c80055dac55040629499a88e58f2eb40": {
     "views": [
      {
       "cell_index": 1
      }
     ]
    },
    "c816e4aac1074a77bf964f9cdca1c35e": {
     "views": [
      {
       "cell_index": 1
      }
     ]
    },
    "c830dd17a18745c2a4d4864e5ac526d5": {
     "views": [
      {
       "cell_index": 1
      }
     ]
    },
    "c8638677787648b0b39011e380ca98c0": {
     "views": [
      {
       "cell_index": 1
      }
     ]
    },
    "c86b8487453b4559929b7ea8f2a80492": {
     "views": [
      {
       "cell_index": 1
      }
     ]
    },
    "c89ed684d4b04a76932fc0595c5a5b41": {
     "views": [
      {
       "cell_index": 1
      }
     ]
    },
    "c8a182e7ca0b458483664dbf54c94428": {
     "views": [
      {
       "cell_index": 1
      }
     ]
    },
    "c90181d2ab524f138966c01e5ee50e5a": {
     "views": [
      {
       "cell_index": 1
      }
     ]
    },
    "c934af0168ac49c09c315eeccf9b5346": {
     "views": [
      {
       "cell_index": 1
      }
     ]
    },
    "c93829f38d764b06af8a062b2713e33d": {
     "views": [
      {
       "cell_index": 1
      }
     ]
    },
    "c9e905e07df348dba47398708530a355": {
     "views": [
      {
       "cell_index": 1
      }
     ]
    },
    "ca720e1a1a72405191bbb1a69db3517e": {
     "views": [
      {
       "cell_index": 1
      }
     ]
    },
    "ca8ae01cac1948c6813ef36b05156a5e": {
     "views": [
      {
       "cell_index": 1
      }
     ]
    },
    "caf86b4bf23043c6a90cc316aa5d1a33": {
     "views": [
      {
       "cell_index": 1
      }
     ]
    },
    "cafb525958c7438c9da69ddd56f035ab": {
     "views": [
      {
       "cell_index": 1
      }
     ]
    },
    "cafdacdfe1114d3793949d682f2eb0d2": {
     "views": [
      {
       "cell_index": 1
      }
     ]
    },
    "cb6fb3335c1b41229cd90f4cb1b7fe8f": {
     "views": [
      {
       "cell_index": 1
      }
     ]
    },
    "cb8267168b6f4986a1f605a83a05eb76": {
     "views": [
      {
       "cell_index": 1
      }
     ]
    },
    "cb831d1fa3ce4d6a90d98d086087a249": {
     "views": [
      {
       "cell_index": 1
      }
     ]
    },
    "cc552652db594463ae3d70bf41af6cc6": {
     "views": [
      {
       "cell_index": 1
      }
     ]
    },
    "cc5edc994284442797e1810ea09bb8f2": {
     "views": [
      {
       "cell_index": 1
      }
     ]
    },
    "cc791b316b9d49b6aea97a2fe8a36b77": {
     "views": [
      {
       "cell_index": 1
      }
     ]
    },
    "cc8dc1ac3d7b489d9466d6f4b0446343": {
     "views": [
      {
       "cell_index": 1
      }
     ]
    },
    "cc98aeac98cd4528968966d67a7070c4": {
     "views": [
      {
       "cell_index": 1
      }
     ]
    },
    "ccae1eb9ea5945e291e2df650e8bc47e": {
     "views": [
      {
       "cell_index": 1
      }
     ]
    },
    "cd0e6d4d072040109f4f512631a11b9f": {
     "views": [
      {
       "cell_index": 1
      }
     ]
    },
    "cd513555ac94416cb9cc4ce75f62a355": {
     "views": [
      {
       "cell_index": 1
      }
     ]
    },
    "cdb6c3edf5f54df28a7d70537396ccdc": {
     "views": [
      {
       "cell_index": 1
      }
     ]
    },
    "cdfbf5940c8c4aafb5665657b8a06851": {
     "views": [
      {
       "cell_index": 1
      }
     ]
    },
    "ce367d7dc21e4bcd9fd8792951564047": {
     "views": [
      {
       "cell_index": 1
      }
     ]
    },
    "ce74fc7543494e1da0d25ebaf15cfe8f": {
     "views": [
      {
       "cell_index": 1
      }
     ]
    },
    "cecdabdee1af4b8ea83534a6191a3cf3": {
     "views": [
      {
       "cell_index": 1
      }
     ]
    },
    "cef76200312349da8f8ac35d25de6156": {
     "views": [
      {
       "cell_index": 1
      }
     ]
    },
    "cf0e5f6cecca419398f2112f7b1ea867": {
     "views": [
      {
       "cell_index": 1
      }
     ]
    },
    "cf610867f6c148be9a29a44c75d821c4": {
     "views": [
      {
       "cell_index": 1
      }
     ]
    },
    "cf8da43220cc420f99f3c454743ccec2": {
     "views": [
      {
       "cell_index": 1
      }
     ]
    },
    "d0178709fd3e43aeb7884b0547a6b7ea": {
     "views": [
      {
       "cell_index": 1
      }
     ]
    },
    "d054b701a86e44df98be2885a86fa7f6": {
     "views": [
      {
       "cell_index": 1
      }
     ]
    },
    "d0772e89ca2f43a38fafbb859a04e379": {
     "views": [
      {
       "cell_index": 1
      }
     ]
    },
    "d07e04d074624c97b3e9d4f394434d76": {
     "views": [
      {
       "cell_index": 1
      }
     ]
    },
    "d0982890a847421895da9239ef13c72f": {
     "views": [
      {
       "cell_index": 1
      }
     ]
    },
    "d0e6da57df8842b9a79596656702e352": {
     "views": [
      {
       "cell_index": 1
      }
     ]
    },
    "d1004db661684883b9a85f74b9458bd6": {
     "views": [
      {
       "cell_index": 1
      }
     ]
    },
    "d168e795df63469fb05609170b1506a7": {
     "views": [
      {
       "cell_index": 1
      }
     ]
    },
    "d179e413e0534e47930dc8a5509cfda8": {
     "views": [
      {
       "cell_index": 1
      }
     ]
    },
    "d201db31859e459c9394281a7c02a5a6": {
     "views": [
      {
       "cell_index": 1
      }
     ]
    },
    "d22f62dc75ce42939b131c52d1591e50": {
     "views": [
      {
       "cell_index": 1
      }
     ]
    },
    "d2890b3dce4f46ca906d54f3dbf0e60c": {
     "views": [
      {
       "cell_index": 1
      }
     ]
    },
    "d2a40c13186140dd9097eabd31584a3f": {
     "views": [
      {
       "cell_index": 1
      }
     ]
    },
    "d2af3a510bbe46afa0b27f3425b63402": {
     "views": [
      {
       "cell_index": 1
      }
     ]
    },
    "d2edaed357694eca8136fdd48010bd77": {
     "views": [
      {
       "cell_index": 1
      }
     ]
    },
    "d36585e42e3345d29e12c3407ce1ec8a": {
     "views": [
      {
       "cell_index": 1
      }
     ]
    },
    "d3a190fd36cb4ab99ff64858e78c11cb": {
     "views": [
      {
       "cell_index": 1
      }
     ]
    },
    "d3b06dbdb85f45d29679f4fbb16552d1": {
     "views": [
      {
       "cell_index": 1
      }
     ]
    },
    "d3b1e429b92f43209875149e37a91d90": {
     "views": [
      {
       "cell_index": 1
      }
     ]
    },
    "d3b57683ca71495e8229a92887570bb4": {
     "views": [
      {
       "cell_index": 1
      }
     ]
    },
    "d431397063b1412ca94b36df4d7e6965": {
     "views": [
      {
       "cell_index": 1
      }
     ]
    },
    "d496b6b951e04e8dbabf9ff76be9069e": {
     "views": [
      {
       "cell_index": 1
      }
     ]
    },
    "d4b7962d5e554500a6e8962ca0b03147": {
     "views": [
      {
       "cell_index": 1
      }
     ]
    },
    "d4ff56cba57e478e99eb53d91ef30cd9": {
     "views": [
      {
       "cell_index": 1
      }
     ]
    },
    "d5676fd9b4b74e02880b669bcc3202b1": {
     "views": [
      {
       "cell_index": 1
      }
     ]
    },
    "d5c67f4b8b694f2baeea34886037a8d7": {
     "views": [
      {
       "cell_index": 1
      }
     ]
    },
    "d6ad29b32a1f4cd6bc1c67d739437670": {
     "views": [
      {
       "cell_index": 1
      }
     ]
    },
    "d6b25dd6d78546868b7712d3e363c1d5": {
     "views": [
      {
       "cell_index": 1
      }
     ]
    },
    "d6df8368b62f4ea189eeb5207294edb4": {
     "views": [
      {
       "cell_index": 1
      }
     ]
    },
    "d72a55fec0ba40238dbe51c438434d2f": {
     "views": [
      {
       "cell_index": 1
      }
     ]
    },
    "d72b904cdf8b4e2dbd12c40d964639ea": {
     "views": [
      {
       "cell_index": 1
      }
     ]
    },
    "d73a769e392f4377a6d0813c4e96537b": {
     "views": [
      {
       "cell_index": 1
      }
     ]
    },
    "d7afae6a759a4483b03a17b371a74eab": {
     "views": [
      {
       "cell_index": 1
      }
     ]
    },
    "d812856db93f4520898e4246a23ad927": {
     "views": [
      {
       "cell_index": 1
      }
     ]
    },
    "d853274e92be40e0b60aceb7705e3ae5": {
     "views": [
      {
       "cell_index": 1
      }
     ]
    },
    "d87e30bdda924315b88ba4bef6ae404d": {
     "views": [
      {
       "cell_index": 1
      }
     ]
    },
    "d895ead12dd645dfa6a8059a21270dd4": {
     "views": [
      {
       "cell_index": 1
      }
     ]
    },
    "d8fbfdfc2a614e38af3d4474aa7dc487": {
     "views": [
      {
       "cell_index": 1
      }
     ]
    },
    "d9065750cbab49cab056a9eb96cae24e": {
     "views": [
      {
       "cell_index": 1
      }
     ]
    },
    "d939e8fdf0f24fceab35ca8336d6ea3d": {
     "views": [
      {
       "cell_index": 1
      }
     ]
    },
    "d9d7c1b10cba49b48fc04c6f367b2f3b": {
     "views": [
      {
       "cell_index": 1
      }
     ]
    },
    "d9df010784344e23a75953a49799cc4c": {
     "views": [
      {
       "cell_index": 1
      }
     ]
    },
    "d9e16303c40b43d389d639c79afcdd70": {
     "views": [
      {
       "cell_index": 1
      }
     ]
    },
    "d9f7824b9ef846e190d5a0c7c7a0f945": {
     "views": [
      {
       "cell_index": 1
      }
     ]
    },
    "da1e291496234c34aed887b3d7033e2d": {
     "views": [
      {
       "cell_index": 1
      }
     ]
    },
    "da1f67602b5946eeb682d89295e3e466": {
     "views": [
      {
       "cell_index": 1
      }
     ]
    },
    "da68fee7c36841c28832034f1901037e": {
     "views": [
      {
       "cell_index": 1
      }
     ]
    },
    "db00a1f0b6de422fb46145fe262366b7": {
     "views": [
      {
       "cell_index": 1
      }
     ]
    },
    "db17908a8b9041b08aee9241fca87805": {
     "views": [
      {
       "cell_index": 1
      }
     ]
    },
    "db1e6c45c8a549f186d9710284a345e5": {
     "views": [
      {
       "cell_index": 1
      }
     ]
    },
    "db4466c3addc425aa550c285e70308e9": {
     "views": [
      {
       "cell_index": 1
      }
     ]
    },
    "db5deda071dd4cd1a986c039b74fd5d4": {
     "views": [
      {
       "cell_index": 1
      }
     ]
    },
    "db5ebae01b364cf29e61cc22662eca18": {
     "views": [
      {
       "cell_index": 1
      }
     ]
    },
    "db63113befc24e78ac5ef0b7e7c64308": {
     "views": [
      {
       "cell_index": 1
      }
     ]
    },
    "db6d579083ce45819037516989eac8fe": {
     "views": [
      {
       "cell_index": 1
      }
     ]
    },
    "dbfefa0daf814320b2c087371eb31545": {
     "views": [
      {
       "cell_index": 1
      }
     ]
    },
    "dc7bf96b852b4e9c943af3b64ac5daa7": {
     "views": [
      {
       "cell_index": 1
      }
     ]
    },
    "dca90a0242ef43408aad107939567d62": {
     "views": [
      {
       "cell_index": 1
      }
     ]
    },
    "dce3decd43614d4d8afb170fd733ae44": {
     "views": [
      {
       "cell_index": 1
      }
     ]
    },
    "dd39f15fea7d41b6910b8ce6b27dffe0": {
     "views": [
      {
       "cell_index": 1
      }
     ]
    },
    "dd9e4b212121423d92470a12652fe85c": {
     "views": [
      {
       "cell_index": 1
      }
     ]
    },
    "ddabe4f9ea394877ba7aa15fd9faedbf": {
     "views": [
      {
       "cell_index": 1
      }
     ]
    },
    "ddc5ed6a05234ae295d0f2a8f549a1d1": {
     "views": [
      {
       "cell_index": 1
      }
     ]
    },
    "ddde77dcb3194617a9585f373d68cb19": {
     "views": [
      {
       "cell_index": 1
      }
     ]
    },
    "ddee98f21c2442f69df50ea442d387d4": {
     "views": [
      {
       "cell_index": 1
      }
     ]
    },
    "ddfcfefaec294d1f8e43a609d63f135c": {
     "views": [
      {
       "cell_index": 1
      }
     ]
    },
    "de478642ed20491094a92ec16fc65bd1": {
     "views": [
      {
       "cell_index": 1
      }
     ]
    },
    "de4c6c115e8141249cfe59cbb4011f1d": {
     "views": [
      {
       "cell_index": 1
      }
     ]
    },
    "de86cb64af0b43f7b2636ebb449d8400": {
     "views": [
      {
       "cell_index": 1
      }
     ]
    },
    "deb58f84f0094449a93b6211dbbb56da": {
     "views": [
      {
       "cell_index": 1
      }
     ]
    },
    "dee4f3dd91f14ff58eb33afdaa65f4e2": {
     "views": [
      {
       "cell_index": 1
      }
     ]
    },
    "df7e215e43714fdcb7880568083f508d": {
     "views": [
      {
       "cell_index": 1
      }
     ]
    },
    "dfe40fd535fc47d6a3028903ed3e7448": {
     "views": [
      {
       "cell_index": 1
      }
     ]
    },
    "e09deacb286e4aa7a4dac8ffa29a649b": {
     "views": [
      {
       "cell_index": 1
      }
     ]
    },
    "e0e9d8d5a8c94339b615b9f8fdb6ca92": {
     "views": [
      {
       "cell_index": 1
      }
     ]
    },
    "e123a662268041eb96bd15884ad8014b": {
     "views": [
      {
       "cell_index": 1
      }
     ]
    },
    "e1b1002124a74bfe8cb61a33113fdc79": {
     "views": [
      {
       "cell_index": 1
      }
     ]
    },
    "e1e7070260564a0f91c598ceca9eadc3": {
     "views": [
      {
       "cell_index": 1
      }
     ]
    },
    "e2404a2fedeb47899028a1dbc73a533f": {
     "views": [
      {
       "cell_index": 1
      }
     ]
    },
    "e257e3b82c924c6a8660947d86e1d2e5": {
     "views": [
      {
       "cell_index": 1
      }
     ]
    },
    "e27d614d0ade4d7797923701b0e20dc6": {
     "views": [
      {
       "cell_index": 1
      }
     ]
    },
    "e2aad8d1655f48178e7ac1bcab929c05": {
     "views": [
      {
       "cell_index": 1
      }
     ]
    },
    "e2c72d01bfdd49f19ef89351ea531aee": {
     "views": [
      {
       "cell_index": 1
      }
     ]
    },
    "e31090aca67f46bab757ec4c4ad9c176": {
     "views": [
      {
       "cell_index": 1
      }
     ]
    },
    "e374de3be6d4405db578f5bcd644ebc0": {
     "views": [
      {
       "cell_index": 1
      }
     ]
    },
    "e3752135be56455da51529547929c9db": {
     "views": [
      {
       "cell_index": 1
      }
     ]
    },
    "e3821080fa384840b450f725d0b7a3c6": {
     "views": [
      {
       "cell_index": 1
      }
     ]
    },
    "e3884ed1e14f4e22b2f44835c6a734df": {
     "views": [
      {
       "cell_index": 1
      }
     ]
    },
    "e38db5999ed245f9b221b31c527fe3ce": {
     "views": [
      {
       "cell_index": 1
      }
     ]
    },
    "e393798fc3214f378b0cfa1b7358f865": {
     "views": [
      {
       "cell_index": 1
      }
     ]
    },
    "e39cce3bd96d4c0d9ce43d1456d2aee8": {
     "views": [
      {
       "cell_index": 1
      }
     ]
    },
    "e41f4c42fdcc4b7b8472c8e1cdbaf266": {
     "views": [
      {
       "cell_index": 1
      }
     ]
    },
    "e4259ac5b9a248a1b9aa009d8a2da5cb": {
     "views": [
      {
       "cell_index": 1
      }
     ]
    },
    "e43598be78a94e6cac570100ace63cba": {
     "views": [
      {
       "cell_index": 1
      }
     ]
    },
    "e44256ea0b5a4d11ad8b2500a62e98d6": {
     "views": [
      {
       "cell_index": 1
      }
     ]
    },
    "e46c2851d92a4402a08fa5576bba6313": {
     "views": [
      {
       "cell_index": 1
      }
     ]
    },
    "e49666e4ba034b4da3f706d5fbff8542": {
     "views": [
      {
       "cell_index": 1
      }
     ]
    },
    "e4a62a21ac5a4693a9e66e7ea7ed4294": {
     "views": [
      {
       "cell_index": 1
      }
     ]
    },
    "e4c317c877314e7d8c394b62d65a13f2": {
     "views": [
      {
       "cell_index": 1
      }
     ]
    },
    "e4fcd077e87341c3b5d38b78665afdc3": {
     "views": [
      {
       "cell_index": 1
      }
     ]
    },
    "e55aa4df99d848fc916673986176ec93": {
     "views": [
      {
       "cell_index": 1
      }
     ]
    },
    "e57ac8f85c294fe1b352d969ab00580c": {
     "views": [
      {
       "cell_index": 1
      }
     ]
    },
    "e62e0c85da234b8fb0b0adbe10a77392": {
     "views": [
      {
       "cell_index": 1
      }
     ]
    },
    "e67ab4becfb94136908b468e2f71d62b": {
     "views": [
      {
       "cell_index": 1
      }
     ]
    },
    "e6a75d7c5207458c97cf2e6f79a7bbbb": {
     "views": [
      {
       "cell_index": 1
      }
     ]
    },
    "e6dac7752cb94ffc83e2654aa897f6b3": {
     "views": [
      {
       "cell_index": 1
      }
     ]
    },
    "e70f95682c7b43ceafc9bb5bd244475d": {
     "views": [
      {
       "cell_index": 1
      }
     ]
    },
    "e82f4104af2942858945febf8e18e94e": {
     "views": [
      {
       "cell_index": 1
      }
     ]
    },
    "e88c44c116a8460399a5662f585770ea": {
     "views": [
      {
       "cell_index": 1
      }
     ]
    },
    "e8d6d07ec695409d8ec8d98659a0408e": {
     "views": [
      {
       "cell_index": 1
      }
     ]
    },
    "e8d89a2d1efb4ffdbf96d1720669fcbb": {
     "views": [
      {
       "cell_index": 1
      }
     ]
    },
    "e931ea3d00a845428aeac5efc17ece84": {
     "views": [
      {
       "cell_index": 1
      }
     ]
    },
    "e93b18ee1f3942628cc0999e7fc4e781": {
     "views": [
      {
       "cell_index": 1
      }
     ]
    },
    "e993b99509e847a286ccb39bd2846862": {
     "views": [
      {
       "cell_index": 1
      }
     ]
    },
    "e9bb5f6db9dc493cbf3ff485e04740ab": {
     "views": [
      {
       "cell_index": 1
      }
     ]
    },
    "ea329d1932db4a92979e10ed93ed52b6": {
     "views": [
      {
       "cell_index": 1
      }
     ]
    },
    "ea4e1ecf469a47b38132c5a6a950c27a": {
     "views": [
      {
       "cell_index": 1
      }
     ]
    },
    "ea6447d8d89043c5beec64a31bbe0a80": {
     "views": [
      {
       "cell_index": 1
      }
     ]
    },
    "ea979becde5f4c0a825e707d358217b0": {
     "views": [
      {
       "cell_index": 1
      }
     ]
    },
    "eac129155f864ba7929c74121f29cc96": {
     "views": [
      {
       "cell_index": 1
      }
     ]
    },
    "eac3660fdb784080880d21cd77f8e83d": {
     "views": [
      {
       "cell_index": 1
      }
     ]
    },
    "eae59ded605540199b7fdd24241e6bed": {
     "views": [
      {
       "cell_index": 1
      }
     ]
    },
    "eb28c9f8f9a44175bfcace81912c211a": {
     "views": [
      {
       "cell_index": 1
      }
     ]
    },
    "eb98b90dac7949d48909c97f26e83822": {
     "views": [
      {
       "cell_index": 1
      }
     ]
    },
    "eba9491c5c45402d8a0f6838016e0f97": {
     "views": [
      {
       "cell_index": 1
      }
     ]
    },
    "ebf8a977051344ab8ac6640d756a3618": {
     "views": [
      {
       "cell_index": 1
      }
     ]
    },
    "ec776b27dba84a27bb485a0bf3ce0afe": {
     "views": [
      {
       "cell_index": 1
      }
     ]
    },
    "ecd7f8cf42ab444386c82f34c6311d46": {
     "views": [
      {
       "cell_index": 1
      }
     ]
    },
    "ed101867270645da8ee55d00b9dbd4ca": {
     "views": [
      {
       "cell_index": 1
      }
     ]
    },
    "ed23da3beb8d4c89a9c0286339306b35": {
     "views": [
      {
       "cell_index": 1
      }
     ]
    },
    "ed4a92eaaf154a5dae1f585cbb4283a1": {
     "views": [
      {
       "cell_index": 1
      }
     ]
    },
    "ed669aeea7ce48909b06455aeb5cfcd4": {
     "views": [
      {
       "cell_index": 1
      }
     ]
    },
    "ed7d799de0ab40dd82f45896f4917509": {
     "views": [
      {
       "cell_index": 1
      }
     ]
    },
    "eda9787839bc4d6e9a8a70b6a45529ea": {
     "views": [
      {
       "cell_index": 1
      }
     ]
    },
    "edc82223c165429888026121d1cb130e": {
     "views": [
      {
       "cell_index": 1
      }
     ]
    },
    "ee3dc7f73fb64b0184ff5e3cae7cbaa5": {
     "views": [
      {
       "cell_index": 1
      }
     ]
    },
    "ee82c94c5f1e4db58286e05bbedd4bce": {
     "views": [
      {
       "cell_index": 1
      }
     ]
    },
    "ee85f756a4cf41b6b2760707bfddb3ab": {
     "views": [
      {
       "cell_index": 1
      }
     ]
    },
    "eeb61e9d1a0a430f9a1fea84403af63c": {
     "views": [
      {
       "cell_index": 1
      }
     ]
    },
    "eed03a59648e41f7904f58aebfcff128": {
     "views": [
      {
       "cell_index": 1
      }
     ]
    },
    "eed3f29d957d47a6a201525b3fbbefb2": {
     "views": [
      {
       "cell_index": 1
      }
     ]
    },
    "eeff59be6b184770af4cae6ee5bd932b": {
     "views": [
      {
       "cell_index": 1
      }
     ]
    },
    "ef593498a4dc4e0ea141b4bbe7da30ce": {
     "views": [
      {
       "cell_index": 1
      }
     ]
    },
    "ef5df2c4214b4ede97b8a3f5f169c6f1": {
     "views": [
      {
       "cell_index": 1
      }
     ]
    },
    "efb2bcf744d849cc9ce11629247ca7a6": {
     "views": [
      {
       "cell_index": 1
      }
     ]
    },
    "efd44057f9ce4efc8ed5d20a0dcb6d8e": {
     "views": [
      {
       "cell_index": 1
      }
     ]
    },
    "f0383aa456354943992b1fb5da9ece42": {
     "views": [
      {
       "cell_index": 1
      }
     ]
    },
    "f0415df50d8944c782ccb58463028375": {
     "views": [
      {
       "cell_index": 1
      }
     ]
    },
    "f049305637bc4627873380386033d952": {
     "views": [
      {
       "cell_index": 1
      }
     ]
    },
    "f0494cb08e864c8eaf53d6c4d48134c1": {
     "views": [
      {
       "cell_index": 1
      }
     ]
    },
    "f057b084b35c417b968ee9ce2a44b8bc": {
     "views": [
      {
       "cell_index": 1
      }
     ]
    },
    "f05925fedff34a049abeefd5fd61fa1b": {
     "views": [
      {
       "cell_index": 1
      }
     ]
    },
    "f0a317b3d0d1447a867b555bb7140129": {
     "views": [
      {
       "cell_index": 1
      }
     ]
    },
    "f0b86b5f1d484ad0b2fef4ab0b79c52f": {
     "views": [
      {
       "cell_index": 1
      }
     ]
    },
    "f0c000b1d50547f1b6325dfebe3c4cfb": {
     "views": [
      {
       "cell_index": 1
      }
     ]
    },
    "f0df7b322300403788e064ef33eed1a8": {
     "views": [
      {
       "cell_index": 1
      }
     ]
    },
    "f131bfd58e5a4f2eb82c405f8c48774a": {
     "views": [
      {
       "cell_index": 1
      }
     ]
    },
    "f1732f2156dd4943af227029adc92efd": {
     "views": [
      {
       "cell_index": 1
      }
     ]
    },
    "f197c32d9b6e4c3faee3751f9b31c918": {
     "views": [
      {
       "cell_index": 1
      }
     ]
    },
    "f1f087921fa04fbdabb57fb9c5c233df": {
     "views": [
      {
       "cell_index": 1
      }
     ]
    },
    "f207c0d3a71d4b82a077c4491724754e": {
     "views": [
      {
       "cell_index": 1
      }
     ]
    },
    "f286679509fb4244a6e52dc73cedba4c": {
     "views": [
      {
       "cell_index": 1
      }
     ]
    },
    "f2930980296a436d8fa5074b76c3fdea": {
     "views": [
      {
       "cell_index": 1
      }
     ]
    },
    "f2ab2f27c6454a2885c331c8a4ace291": {
     "views": [
      {
       "cell_index": 1
      }
     ]
    },
    "f2b61f6881444a6fadaad0eee5ad1521": {
     "views": [
      {
       "cell_index": 1
      }
     ]
    },
    "f2d75bf9d49a405ca3236c2352f1aa05": {
     "views": [
      {
       "cell_index": 1
      }
     ]
    },
    "f34417df9554471e8d7032acd0f1ddb1": {
     "views": [
      {
       "cell_index": 1
      }
     ]
    },
    "f373ae00995b47958a2e876924d2ae4e": {
     "views": [
      {
       "cell_index": 1
      }
     ]
    },
    "f3e238fea0134b2e92e67a7753f74faf": {
     "views": [
      {
       "cell_index": 1
      }
     ]
    },
    "f405107e43a44a729ad5efdeec8b389b": {
     "views": [
      {
       "cell_index": 1
      }
     ]
    },
    "f488929050124303b26a9ad30c503aae": {
     "views": [
      {
       "cell_index": 1
      }
     ]
    },
    "f4a164ec6d8f4bf9a3f22a44da2e1b54": {
     "views": [
      {
       "cell_index": 1
      }
     ]
    },
    "f4daa5c899e84a30ab5a6d516eb80fb2": {
     "views": [
      {
       "cell_index": 1
      }
     ]
    },
    "f4db92e143674f34bfd68a9d0ffdfcd8": {
     "views": [
      {
       "cell_index": 1
      }
     ]
    },
    "f4ff9c1fdf7746e695e5a34fc3ce8c85": {
     "views": [
      {
       "cell_index": 1
      }
     ]
    },
    "f55d6008f8054c67bdf39b2f28252011": {
     "views": [
      {
       "cell_index": 1
      }
     ]
    },
    "f5609d799bfb4224a56e298cdd0e8479": {
     "views": [
      {
       "cell_index": 1
      }
     ]
    },
    "f5a32f505ba54ba38d3e18fc9fd38e46": {
     "views": [
      {
       "cell_index": 1
      }
     ]
    },
    "f5a5250132a640939d3581dc779755d1": {
     "views": [
      {
       "cell_index": 1
      }
     ]
    },
    "f5b1f737926d4e03a2489afd74842564": {
     "views": [
      {
       "cell_index": 1
      }
     ]
    },
    "f5eedb1e53a3475fb532a558502a81f1": {
     "views": [
      {
       "cell_index": 1
      }
     ]
    },
    "f6267c0d5f574566a60e1c7cb4c38fbb": {
     "views": [
      {
       "cell_index": 1
      }
     ]
    },
    "f65b3179807d41e1acac84e6910d08ee": {
     "views": [
      {
       "cell_index": 1
      }
     ]
    },
    "f6e73b9e76704a4292ac5e6a31f4a4a6": {
     "views": [
      {
       "cell_index": 1
      }
     ]
    },
    "f6ef93493b4b4aa493f66b052f64cfef": {
     "views": [
      {
       "cell_index": 1
      }
     ]
    },
    "f7b37977f2334cf4b018e8dd938a7566": {
     "views": [
      {
       "cell_index": 1
      }
     ]
    },
    "f7c373210c47499d999f42c4d95ebc09": {
     "views": [
      {
       "cell_index": 1
      }
     ]
    },
    "f7cba4a5dae745e49ad0106e3d584a06": {
     "views": [
      {
       "cell_index": 1
      }
     ]
    },
    "f7d7d71cacec4b56b3a93e8271ca2592": {
     "views": [
      {
       "cell_index": 1
      }
     ]
    },
    "f85810289c53420699375825a135b2b6": {
     "views": [
      {
       "cell_index": 1
      }
     ]
    },
    "f886c1751e354b0e96d7de1f8e948a7a": {
     "views": [
      {
       "cell_index": 1
      }
     ]
    },
    "f8a0c2896e684523a9fb0305cc4ced0c": {
     "views": [
      {
       "cell_index": 1
      }
     ]
    },
    "f9158ff0bc9f4135b02a06f86e9df037": {
     "views": [
      {
       "cell_index": 1
      }
     ]
    },
    "f9ba3bd8d78e4b26b8c679f757ca173d": {
     "views": [
      {
       "cell_index": 1
      }
     ]
    },
    "fa068058e816405889816defc0d5b8cc": {
     "views": [
      {
       "cell_index": 1
      }
     ]
    },
    "fa28d28e9df643aab6440d6193a604ad": {
     "views": [
      {
       "cell_index": 1
      }
     ]
    },
    "fac66f574c1d40248e750944a0bf2093": {
     "views": [
      {
       "cell_index": 1
      }
     ]
    },
    "faf72abcec4e41b09cffdbe5432d2119": {
     "views": [
      {
       "cell_index": 1
      }
     ]
    },
    "fbd941ad6d3145a18503c42f0475aad8": {
     "views": [
      {
       "cell_index": 1
      }
     ]
    },
    "fc0dbba75e1c478f9ebe6dfb66b70ff9": {
     "views": [
      {
       "cell_index": 1
      }
     ]
    },
    "fc0e1dcf17b14407b977def80d234e66": {
     "views": [
      {
       "cell_index": 1
      }
     ]
    },
    "fc29b3714f924e60b2c5c1d2c176d21d": {
     "views": [
      {
       "cell_index": 1
      }
     ]
    },
    "fc29cc9cfdab47da92c4c96ebebe5d9f": {
     "views": [
      {
       "cell_index": 1
      }
     ]
    },
    "fc57e1c41e964094a5fa5facaeed5a6c": {
     "views": [
      {
       "cell_index": 1
      }
     ]
    },
    "fd6a21138cc44fbb86978941d6a9db42": {
     "views": [
      {
       "cell_index": 1
      }
     ]
    },
    "fdd896617f084be58b32d652d6956b27": {
     "views": [
      {
       "cell_index": 1
      }
     ]
    },
    "fde4d75b23f9425db0af1a3cbfc7d806": {
     "views": [
      {
       "cell_index": 1
      }
     ]
    },
    "fe5f2af2c4c944cb926c2a9747cbe470": {
     "views": [
      {
       "cell_index": 1
      }
     ]
    },
    "fe8eaf4ad8884050910894bb9b273c00": {
     "views": [
      {
       "cell_index": 1
      }
     ]
    },
    "fec8bc7b83f948e0b13525e0f3ea08fc": {
     "views": [
      {
       "cell_index": 1
      }
     ]
    },
    "fed0623b845b40e78c982bd05c5a3865": {
     "views": [
      {
       "cell_index": 1
      }
     ]
    },
    "fed4e2be4b3a467fa26cbd3fead528c9": {
     "views": [
      {
       "cell_index": 1
      }
     ]
    },
    "fedfaf2f0246440d942c5fedd5ae85f2": {
     "views": [
      {
       "cell_index": 1
      }
     ]
    },
    "ff66939cd09f41cb8bf554e5341e4082": {
     "views": [
      {
       "cell_index": 1
      }
     ]
    },
    "ffb9aefe38e44cff81cd58390800e647": {
     "views": [
      {
       "cell_index": 1
      }
     ]
    }
   },
   "version": "1.2.0"
  }
 },
 "nbformat": 4,
 "nbformat_minor": 2
}
