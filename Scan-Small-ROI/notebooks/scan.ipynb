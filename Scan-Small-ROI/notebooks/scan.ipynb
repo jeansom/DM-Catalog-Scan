{
 "cells": [
  {
   "cell_type": "code",
   "execution_count": 4,
   "metadata": {
    "collapsed": false
   },
   "outputs": [],
   "source": [
    "import os,sys\n",
    "import argparse\n",
    "import copy\n",
    "\n",
    "import numpy as np\n",
    "from iminuit import Minuit\n",
    "import pandas as pd\n",
    "from scipy import interpolate, integrate\n",
    "from astropy import units as u\n",
    "from astropy.coordinates import SkyCoord, Distance\n",
    "import healpy as hp\n",
    "from tqdm import *\n",
    "\n",
    "from local_dirs import *\n",
    "from minuit_functions import call_ll\n",
    "\n",
    "# Additional modules\n",
    "sys.path.append(nptf_old_dir)\n",
    "sys.path.append(work_dir + '/AccurateSmoothing')\n",
    "sys.path.append(work_dir + '/mkDMMaps')\n",
    "import fermi.fermi_plugin as fp\n",
    "import mkDMMaps\n",
    "import king_smooth as ks\n",
    "import LL_inten_to_xsec as Litx\n",
    "\n",
    "# NPTFit modules\n",
    "from NPTFit import nptfit # module for performing scan\n",
    "from NPTFit import create_mask as cm # module for creating the mask"
   ]
  },
  {
   "cell_type": "code",
   "execution_count": 2,
   "metadata": {
    "collapsed": true
   },
   "outputs": [],
   "source": [
    "# Feynman dirs\n",
    "work_dir = '/group/hepheno/smsharma/Fermi-LSS/'\n",
    "psf_dir='/mnt/hepheno/CTBCORE/psf_data/'\n",
    "maps_dir='/mnt/hepheno/CTBCORE/'\n",
    "fermi_data_dir='/mnt/hepheno/FermiData/'\n",
    "data_folder='/tigress/Fermi-LSS/AdditionalData/'"
   ]
  },
  {
   "cell_type": "code",
   "execution_count": 5,
   "metadata": {
    "collapsed": true
   },
   "outputs": [],
   "source": [
    "class fake_code:\n",
    "    def __init__(self, n,var_names=['False']):\n",
    "        self.co_argcount = n\n",
    "        if var_names[0] != 'False':\n",
    "            self.co_varnames = tuple(var_names)\n",
    "        else:\n",
    "            self.co_varnames = tuple(map(str, range(n)))\n",
    "\n",
    "class call_ll:\n",
    "    def __init__(self, n,ll,var_names=['False']):\n",
    "        self.n = n\n",
    "        self.func_code = fake_code(n,var_names=var_names)\n",
    "        self.ll = ll\n",
    "    def __call__(self, *args):\n",
    "        return - self.ll([arg for arg in args])"
   ]
  },
  {
   "cell_type": "code",
   "execution_count": 67,
   "metadata": {
    "collapsed": false
   },
   "outputs": [],
   "source": []
  },
  {
   "cell_type": "code",
   "execution_count": 8,
   "metadata": {
    "collapsed": true
   },
   "outputs": [],
   "source": [
    "imc = 0\n",
    "iobj = 0"
   ]
  },
  {
   "cell_type": "code",
   "execution_count": 10,
   "metadata": {
    "collapsed": false
   },
   "outputs": [],
   "source": [
    "# Global settings\n",
    "nside=128\n",
    "eventclass=5 # 2 (Source) or 5 (UltracleanVeto)\n",
    "eventtype=0 # 0 (all), 3 (bestpsf) or 5 (top3 quartiles)\n",
    "diff = 'p7' # 'p6', 'p7', 'p8'\n",
    "emin = 0\n",
    "emax = 1\n",
    "\n",
    "# Load the Fermi plugin\n",
    "f_global = fp.fermi_plugin(maps_dir,fermi_data_dir=fermi_data_dir,work_dir=work_dir,CTB_en_min=emin,CTB_en_max=emax+1,nside=nside,eventclass=eventclass,eventtype=eventtype,newstyle=1,data_July16=True)"
   ]
  },
  {
   "cell_type": "code",
   "execution_count": 12,
   "metadata": {
    "collapsed": false
   },
   "outputs": [],
   "source": [
    "# Load necessary templates\n",
    "f_global.add_diffuse_newstyle(comp = diff,eventclass = eventclass, eventtype = eventtype) \n",
    "f_global.add_iso()  \n",
    "# f_global.add_ps_model()\n",
    "ps_temp = np.load('../AdditionalData/ps_map.npy')\n",
    "f_global.add_template_by_hand(comp='ps_model',template=ps_temp)\n",
    "f_global.add_bubbles() "
   ]
  },
  {
   "cell_type": "code",
   "execution_count": 14,
   "metadata": {
    "collapsed": false
   },
   "outputs": [],
   "source": [
    "catalog = pd.read_csv(\"../data/Catalogs//DarkSky_ALL_200,200,200_v3.csv\")\n",
    "l = catalog.l.values[iobj]\n",
    "b = catalog.b.values[iobj]\n",
    "\n",
    "mk = mkDMMaps.mkDMMaps(z = catalog.z[iobj], r_s = catalog.rvir_inf.values[iobj]/catalog.cvir_inf.values[iobj]*1e-3, J_0 = 10**catalog.mulog10J_inf.values[iobj],ell = l*np.pi/180,b = b*np.pi/180,nside=128, Burkert=False)\n",
    "the_map = mk.map\n",
    "DM_template = the_map/np.max(the_map)"
   ]
  },
  {
   "cell_type": "code",
   "execution_count": 15,
   "metadata": {
    "collapsed": true
   },
   "outputs": [],
   "source": [
    "ebins = 2*np.logspace(-1,3,41)[emin:emax+2]"
   ]
  },
  {
   "cell_type": "code",
   "execution_count": 59,
   "metadata": {
    "collapsed": false
   },
   "outputs": [
    {
     "name": "stderr",
     "output_type": "stream",
     "text": [
      "\r",
      "0it [00:00, ?it/s]"
     ]
    },
    {
     "data": {
      "text/html": [
       "<hr>"
      ]
     },
     "metadata": {},
     "output_type": "display_data"
    },
    {
     "data": {
      "text/html": [
       "\n",
       "        <table>\n",
       "            <tr>\n",
       "                <td title=\"Minimum value of function\">FCN = 5459.45163669</td>\n",
       "                <td title=\"Total number of call to FCN so far\">TOTAL NCALL = 138</td>\n",
       "                <td title=\"Number of call in last migrad\">NCALLS = 138</td>\n",
       "            </tr>\n",
       "            <tr>\n",
       "                <td title=\"Estimated distance to minimum\">EDM = 2.33869026787e-05</td>\n",
       "                <td title=\"Maximum EDM definition of convergence\">GOAL EDM = 1e-05</td>\n",
       "                <td title=\"Error def. Amount of increase in FCN to be defined as 1 standard deviation\">\n",
       "                UP = 1.0</td>\n",
       "            </tr>\n",
       "        </table>\n",
       "        \n",
       "        <table>\n",
       "            <tr>\n",
       "                <td align=\"center\" title=\"Validity of the migrad call\">Valid</td>\n",
       "                <td align=\"center\" title=\"Validity of parameters\">Valid Param</td>\n",
       "                <td align=\"center\" title=\"Is Covariance matrix accurate?\">Accurate Covar</td>\n",
       "                <td align=\"center\" title=\"Positive definiteness of covariance matrix\">PosDef</td>\n",
       "                <td align=\"center\" title=\"Was covariance matrix made posdef by adding diagonal element\">Made PosDef</td>\n",
       "            </tr>\n",
       "            <tr>\n",
       "                <td align=\"center\" style=\"background-color:#92CCA6\">True</td>\n",
       "                <td align=\"center\" style=\"background-color:#92CCA6\">True</td>\n",
       "                <td align=\"center\" style=\"background-color:#92CCA6\">True</td>\n",
       "                <td align=\"center\" style=\"background-color:#92CCA6\">True</td>\n",
       "                <td align=\"center\" style=\"background-color:#92CCA6\">False</td>\n",
       "            </tr>\n",
       "            <tr>\n",
       "                <td align=\"center\" title=\"Was last hesse call fail?\">Hesse Fail</td>\n",
       "                <td align=\"center\" title=\"Validity of covariance\">HasCov</td>\n",
       "                <td align=\"center\" title=\"Is EDM above goal EDM?\">Above EDM</td>\n",
       "                <td align=\"center\"></td>\n",
       "                <td align=\"center\" title=\"Did last migrad call reach max call limit?\">Reach calllim</td>\n",
       "            </tr>\n",
       "            <tr>\n",
       "                <td align=\"center\" style=\"background-color:#92CCA6\">False</td>\n",
       "                <td align=\"center\" style=\"background-color:#92CCA6\">True</td>\n",
       "                <td align=\"center\" style=\"background-color:#92CCA6\">False</td>\n",
       "                <td align=\"center\"></td>\n",
       "                <td align=\"center\" style=\"background-color:#92CCA6\">False</td>\n",
       "            </tr>\n",
       "        </table>\n",
       "        "
      ]
     },
     "metadata": {},
     "output_type": "display_data"
    },
    {
     "data": {
      "text/html": [
       "\n",
       "        <table>\n",
       "            <tr>\n",
       "                <td><a href=\"#\" onclick=\"$('#qHXsbsbnuc').toggle()\">+</a></td>\n",
       "                <td title=\"Variable name\">Name</td>\n",
       "                <td title=\"Value of parameter\">Value</td>\n",
       "                <td title=\"Parabolic error\">Parab Error</td>\n",
       "                <td title=\"Minos lower error\">Minos Error-</td>\n",
       "                <td title=\"Minos upper error\">Minos Error+</td>\n",
       "                <td title=\"Lower limit of the parameter\">Limit-</td>\n",
       "                <td title=\"Upper limit of the parameter\">Limit+</td>\n",
       "                <td title=\"Is the parameter fixed in the fit\">FIXED</td>\n",
       "            </tr>\n",
       "        \n",
       "            <tr>\n",
       "                <td>1</td>\n",
       "                <td>p7</td>\n",
       "                <td>1.18801</td>\n",
       "                <td>0.00968154</td>\n",
       "                <td>0</td>\n",
       "                <td>0</td>\n",
       "                <td>0.0</td>\n",
       "                <td>10.0</td>\n",
       "                <td></td>\n",
       "            </tr>\n",
       "            \n",
       "            <tr>\n",
       "                <td>2</td>\n",
       "                <td>iso</td>\n",
       "                <td>8.83146</td>\n",
       "                <td>0.464879</td>\n",
       "                <td>0</td>\n",
       "                <td>0</td>\n",
       "                <td>0.0</td>\n",
       "                <td>10.0</td>\n",
       "                <td></td>\n",
       "            </tr>\n",
       "            \n",
       "            <tr>\n",
       "                <td>3</td>\n",
       "                <td>psc</td>\n",
       "                <td>1.00968</td>\n",
       "                <td>0.0279165</td>\n",
       "                <td>0</td>\n",
       "                <td>0</td>\n",
       "                <td>0.0</td>\n",
       "                <td>10.0</td>\n",
       "                <td></td>\n",
       "            </tr>\n",
       "            \n",
       "            <tr>\n",
       "                <td>4</td>\n",
       "                <td>bub</td>\n",
       "                <td>0.1</td>\n",
       "                <td>6.57653</td>\n",
       "                <td>0</td>\n",
       "                <td>0</td>\n",
       "                <td>0.0</td>\n",
       "                <td>10.0</td>\n",
       "                <td></td>\n",
       "            </tr>\n",
       "            \n",
       "            </table>\n",
       "        \n",
       "            <pre id=\"qHXsbsbnuc\" style=\"display:none;\">\n",
       "            <textarea rows=\"14\" cols=\"50\" onclick=\"this.select()\" readonly>\\begin{tabular}{|c|r|r|r|r|r|r|r|c|}\n",
       "\\hline\n",
       " & Name & Value & Para Error & Error+ & Error- & Limit+ & Limit- & FIXED\\\\\n",
       "\\hline\n",
       "1 & p7 & 1.188e+00 & 9.682e-03 &  &  & 0.000e+00 & 1.000e+01 & \\\\\n",
       "\\hline\n",
       "2 & iso & 8.831e+00 & 4.649e-01 &  &  & 0.000e+00 & 1.000e+01 & \\\\\n",
       "\\hline\n",
       "3 & psc & 1.010e+00 & 2.792e-02 &  &  & 0.000e+00 & 1.000e+01 & \\\\\n",
       "\\hline\n",
       "4 & bub & 1.000e-01 & 6.577e+00 &  &  & 0.000e+00 & 1.000e+01 & \\\\\n",
       "\\hline\n",
       "\\end{tabular}</textarea>\n",
       "            </pre>\n",
       "            "
      ]
     },
     "metadata": {},
     "output_type": "display_data"
    },
    {
     "data": {
      "text/html": [
       "<hr>"
      ]
     },
     "metadata": {},
     "output_type": "display_data"
    },
    {
     "name": "stderr",
     "output_type": "stream",
     "text": [
      "1it [00:04,  4.15s/it]\n"
     ]
    }
   ],
   "source": [
    "A_ary = 10**np.linspace(-6,6,200)\n",
    "LL_inten_ary = np.zeros((len(ebins),len(A_ary)))\n",
    "inten_ary = np.zeros((len(ebins),len(A_ary)))\n",
    "\n",
    "for iebin, ebin in tqdm(enumerate(np.arange(emin,emax))):\n",
    "    \n",
    "    #######################\n",
    "    # Prepare templates   #\n",
    "    #######################\n",
    "\n",
    "    mc_file = np.load(mc_dir + \"/MC_allhalos_p7_nodm_v\"+str(imc)+\".npy\")[ebin].astype(np.float64)\n",
    "\n",
    "    fermi_data = f_global.CTB_count_maps[iebin].astype(np.int32)\n",
    "    fermi_exposure = f_global.CTB_exposure_maps[iebin]\n",
    "\n",
    "    dif = f_global.template_dict[diff][iebin]\n",
    "    iso = f_global.template_dict['iso'][iebin]\n",
    "    psc = f_global.template_dict['ps_model'][iebin]\n",
    "    bub = f_global.template_dict['bubs'][iebin]\n",
    "    \n",
    "    DM_intensity_base = np.sum(DM_template/fermi_exposure)/(4*np.pi)\n",
    "\n",
    "    #######################\n",
    "    # NPTFit fit as usual #\n",
    "    #######################\n",
    "\n",
    "    n = nptfit.NPTF(tag='norm_bin_'+str(ebin))\n",
    "    n.load_data(mc_file, fermi_exposure)\n",
    "\n",
    "    # Mask used in analysis\n",
    "    analysis_mask = cm.make_mask_total(mask_ring = True, inner = 0, outer = 10, ring_b = b, ring_l = l)\n",
    "    n.load_mask(analysis_mask)\n",
    "\n",
    "    n.add_template(dif, diff)\n",
    "    n.add_template(iso, 'iso')\n",
    "    n.add_template(psc, 'psc')\n",
    "    n.add_template(bub, 'bub')\n",
    "\n",
    "    n.add_poiss_model(diff, '$A_\\mathrm{dif}$', [0,10], False)\n",
    "    n.add_poiss_model('iso', '$A_\\mathrm{iso}$', [0,20], False)\n",
    "    n.add_poiss_model('psc', '$A_\\mathrm{psc}$', [0,10], False)\n",
    "    n.add_poiss_model('bub', '$A_\\mathrm{bub}$', [0,10], False)\n",
    "\n",
    "    n.configure_for_scan()\n",
    "    \n",
    "    ##########\n",
    "    # Minuit #\n",
    "    ##########\n",
    "\n",
    "    keys = n.poiss_model_keys\n",
    "    limit_dict = {}\n",
    "    init_val_dict = {}\n",
    "    step_size_dict = {}\n",
    "    for key in keys:\n",
    "        limit_dict['limit_'+key] = (0,10)\n",
    "        init_val_dict[key] = 0.1\n",
    "        step_size_dict['error_'+key] = 0.01\n",
    "    other_kwargs = {'print_level': 1}\n",
    "    z = limit_dict.copy()\n",
    "    z.update(other_kwargs)\n",
    "    z.update(limit_dict)\n",
    "    z.update(init_val_dict)\n",
    "    z.update(step_size_dict)\n",
    "    f = call_ll(len(keys),n.ll,keys)\n",
    "    m = Minuit(f,errordef=1,**z)\n",
    "    m.migrad()\n",
    "    \n",
    "    #######################\n",
    "    # Make background sum #\n",
    "    #######################\n",
    "\n",
    "    bkg_sum = np.zeros(len(mc_file))\n",
    "    for key in keys:\n",
    "        bkg_sum += n.templates_dict[key]*m.values[key]\n",
    "        \n",
    "    n2 = nptfit.NPTF(tag='dm_bin_'+str(ebin))\n",
    "    n2.load_data(mc_file, fermi_exposure)\n",
    "    n2.load_mask(analysis_mask)\n",
    "    n2.add_template(bkg_sum, 'bkg_sum')\n",
    "    n2.add_poiss_model('bkg_sum', '$A_\\mathrm{bkg}$', fixed=True, fixed_norm=1.0)\n",
    "    \n",
    "    #######################\n",
    "    # Get intensity LLs   #\n",
    "    #######################\n",
    "                       \n",
    "    for iA, A in enumerate(A_ary):\n",
    "        new_n2 = copy.deepcopy(n2)\n",
    "        new_n2.add_template(A*DM_template,'DM')\n",
    "        new_n2.add_poiss_model('DM','DM',False,fixed=True,fixed_norm=1.0)\n",
    "        new_n2.configure_for_scan()\n",
    "        max_LL = new_n2.ll([])\n",
    "        \n",
    "        LL_inten_ary[iebin, iA] = max_LL\n",
    "        inten_ary[iebin, iA] = DM_intensity_base*A"
   ]
  },
  {
   "cell_type": "code",
   "execution_count": 62,
   "metadata": {
    "collapsed": false
   },
   "outputs": [
    {
     "data": {
      "text/plain": [
       "True"
      ]
     },
     "execution_count": 62,
     "metadata": {},
     "output_type": "execute_result"
    }
   ],
   "source": [
    "np.sum(mc_file*np.logical_not(analysis_mask)) != 0"
   ]
  },
  {
   "cell_type": "code",
   "execution_count": 66,
   "metadata": {
    "collapsed": false
   },
   "outputs": [
    {
     "data": {
      "text/plain": [
       "5.0"
      ]
     },
     "execution_count": 66,
     "metadata": {},
     "output_type": "execute_result"
    }
   ],
   "source": [
    "1 and 5."
   ]
  },
  {
   "cell_type": "code",
   "execution_count": 53,
   "metadata": {
    "collapsed": false
   },
   "outputs": [],
   "source": [
    "dNdLogx_df = pd.read_csv('../AdditionalData/AtProduction_gammas.dat', delim_whitespace=True)\n",
    "\n",
    "marr = np.array([1.00000000e+01,1.50000000e+01,2.00000000e+01,2.50000000e+01,3.00000000e+01,4.00000000e+01,5.00000000e+01,6.00000000e+01,7.00000000e+01,8.00000000e+01,9.00000000e+01,1.00000000e+02,1.10000000e+02,1.20000000e+02,1.30000000e+02,1.40000000e+02,1.50000000e+02,1.60000000e+02,1.80000000e+02,2.00000000e+02,2.20000000e+02,2.40000000e+02,2.60000000e+02,2.80000000e+02,3.00000000e+02,3.30000000e+02,3.60000000e+02,4.00000000e+02,4.50000000e+02,5.00000000e+02,5.50000000e+02,6.00000000e+02,6.50000000e+02,7.00000000e+02,7.50000000e+02,8.00000000e+02,9.00000000e+02,1.00000000e+03,1.10000000e+03,1.20000000e+03,1.30000000e+03,1.50000000e+03,1.70000000e+03,2.00000000e+03,2.50000000e+03,3.00000000e+03,4.00000000e+03,5.00000000e+03,6.00000000e+03,7.00000000e+03,8.00000000e+03,9.00000000e+03,1.00000000e+04])\n",
    "\n",
    "channel = 'b'\n",
    "\n",
    "PPnoxsec_arr = np.zeros(shape=(len(marr),len(ebins)))\n",
    "for mi in range(len(marr)):\n",
    "    dNdLogx_ann_df = dNdLogx_df.query('mDM == ' + (str(np.int(float(marr[mi])))))[['Log[10,x]',channel]]\n",
    "    Egamma = np.array(marr[mi]*(10**dNdLogx_ann_df['Log[10,x]']))\n",
    "    dNdEgamma = np.array(dNdLogx_ann_df[channel]/(Egamma*np.log(10)))\n",
    "    dNdE_interp = interp1d(Egamma, dNdEgamma)\n",
    "    for ei in range(len(ebins)-1): # -1 because ebins-1 bins, ebins edges\n",
    "        # Only have flux if m > Ebin\n",
    "        if ebins[ei] < marr[mi]:\n",
    "            if ebins[ei+1] < marr[mi]:\n",
    "                # Whole bin is inside\n",
    "                PPnoxsec_arr[mi,ei] = 1.0/(8*np.pi*marr[mi]**2)*quad(lambda x: dNdE_interp(x), ebins[ei], ebins[ei+1])[0]\n",
    "            else:\n",
    "                # Bin only partially contained\n",
    "                PPnoxsec_arr[mi,ei] = 1.0/(8*np.pi*marr[mi]**2)*quad(lambda x: dNdE_interp(x), ebins[ei], marr[mi])[0]\n",
    "PPnoxsec_arr = PPnoxsec_arr"
   ]
  },
  {
   "cell_type": "code",
   "execution_count": 21,
   "metadata": {
    "collapsed": false
   },
   "outputs": [
    {
     "name": "stderr",
     "output_type": "stream",
     "text": [
      "100%|██████████| 53/53 [00:07<00:00,  7.48it/s]\n"
     ]
    }
   ],
   "source": [
    "xsecs = np.logspace(-33,-18,301)\n",
    "LL_ary_xsec = np.zeros((len(marr),len(xsecs)))\n",
    "\n",
    "for im in tqdm(range(len(marr))):\n",
    "    for ixsec, xsec in enumerate(xsecs):\n",
    "        for iebin in range(len(ebins)):\n",
    "            intval = PPnoxsec_arr[im][iebin]*10**catalog.mulog10J_inf.values[iobj]*xsec\n",
    "            LL_ary_xsec[im,ixsec] += 2*np.interp(intval,inten_ary[iebin], LL_inten_ary[iebin])"
   ]
  },
  {
   "cell_type": "code",
   "execution_count": 22,
   "metadata": {
    "collapsed": false
   },
   "outputs": [
    {
     "data": {
      "text/plain": [
       "(-2.71, 2)"
      ]
     },
     "execution_count": 22,
     "metadata": {},
     "output_type": "execute_result"
    },
    {
     "data": {
      "image/png": "[encoded data removed]",
      "text/plain": [
       "<matplotlib.figure.Figure at 0x7fdfae66d0d0>"
      ]
     },
     "metadata": {},
     "output_type": "display_data"
    }
   ],
   "source": [
    "plt.plot(xsecs,LL_ary_xsec[52]-LL_ary_xsec[52][0])\n",
    "plt.xscale(\"log\")\n",
    "plt.ylim(-2.71,2)"
   ]
  },
  {
   "cell_type": "code",
   "execution_count": null,
   "metadata": {
    "collapsed": true
   },
   "outputs": [],
   "source": []
  }
 ],
 "metadata": {
  "anaconda-cloud": {},
  "kernelspec": {
   "display_name": "Python 2",
   "language": "python",
   "name": "python2"
  },
  "language_info": {
   "codemirror_mode": {
    "name": "ipython",
    "version": 2
   },
   "file_extension": ".py",
   "mimetype": "text/x-python",
   "name": "python",
   "nbconvert_exporter": "python",
   "pygments_lexer": "ipython2",
   "version": "2.7.13"
  }
 },
 "nbformat": 4,
 "nbformat_minor": 1
}
