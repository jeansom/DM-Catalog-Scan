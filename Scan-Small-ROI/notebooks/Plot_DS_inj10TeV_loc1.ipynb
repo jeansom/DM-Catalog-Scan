{
 "cells": [
  {
   "cell_type": "code",
   "execution_count": 11,
   "metadata": {},
   "outputs": [
    {
     "name": "stdout",
     "output_type": "stream",
     "text": [
      "The autoreload extension is already loaded. To reload it, use:\n",
      "  %reload_ext autoreload\n"
     ]
    }
   ],
   "source": [
    "import sys\n",
    "sys.path.append(\"../\")\n",
    "\n",
    "import numpy as np\n",
    "import matplotlib.pyplot as plt\n",
    "import pandas as pd\n",
    "from tqdm import *\n",
    "from plot_skylocs_bands import LimitPlot\n",
    "\n",
    "%matplotlib inline\n",
    "%load_ext autoreload\n",
    "%autoreload 2"
   ]
  },
  {
   "cell_type": "code",
   "execution_count": 12,
   "metadata": {
    "collapsed": true
   },
   "outputs": [],
   "source": [
    "plots_dir = \"/tigress/nrodd/DM-Catalog-Scan/Scan-Small-ROI/plots_darksky/\""
   ]
  },
  {
   "cell_type": "markdown",
   "metadata": {},
   "source": [
    "# Plot"
   ]
  },
  {
   "cell_type": "code",
   "execution_count": 13,
   "metadata": {},
   "outputs": [
    {
     "name": "stderr",
     "output_type": "stream",
     "text": [
      "Widget Javascript not detected.  It may not be installed or enabled properly.\n"
     ]
    },
    {
     "data": {
      "application/vnd.jupyter.widget-view+json": {
       "model_id": "3292fad27a024479bd858e6852e67733"
      }
     },
     "metadata": {},
     "output_type": "display_data"
    },
    {
     "name": "stderr",
     "output_type": "stream",
     "text": [
      "Widget Javascript not detected.  It may not be installed or enabled properly.\n"
     ]
    },
    {
     "data": {
      "application/vnd.jupyter.widget-view+json": {
       "model_id": "c4c0d50466bd4176a3b6042053a40941"
      }
     },
     "metadata": {},
     "output_type": "display_data"
    },
    {
     "name": "stderr",
     "output_type": "stream",
     "text": [
      "Widget Javascript not detected.  It may not be installed or enabled properly.\n"
     ]
    },
    {
     "data": {
      "application/vnd.jupyter.widget-view+json": {
       "model_id": "9695a20c616047088a0c79094adf5f34"
      }
     },
     "metadata": {},
     "output_type": "display_data"
    },
    {
     "name": "stderr",
     "output_type": "stream",
     "text": [
      "Widget Javascript not detected.  It may not be installed or enabled properly.\n"
     ]
    },
    {
     "data": {
      "application/vnd.jupyter.widget-view+json": {
       "model_id": "1f7aafaf46284f1ab3702d054d2ff3ba"
      }
     },
     "metadata": {},
     "output_type": "display_data"
    },
    {
     "name": "stderr",
     "output_type": "stream",
     "text": [
      "Widget Javascript not detected.  It may not be installed or enabled properly.\n"
     ]
    },
    {
     "data": {
      "application/vnd.jupyter.widget-view+json": {
       "model_id": "525f97ecfcce4574a19720cb30af1817"
      }
     },
     "metadata": {},
     "output_type": "display_data"
    },
    {
     "name": "stderr",
     "output_type": "stream",
     "text": [
      "Widget Javascript not detected.  It may not be installed or enabled properly.\n"
     ]
    },
    {
     "data": {
      "application/vnd.jupyter.widget-view+json": {
       "model_id": "f16754eec2324971b77111ce15d24ffe"
      }
     },
     "metadata": {},
     "output_type": "display_data"
    },
    {
     "name": "stdout",
     "output_type": "stream",
     "text": [
      "\n"
     ]
    },
    {
     "name": "stderr",
     "output_type": "stream",
     "text": [
      "/tigress/smsharma/anaconda2/lib/python2.7/site-packages/ipykernel_launcher.py:54: RuntimeWarning: overflow encountered in power\n"
     ]
    }
   ],
   "source": [
    "nmc = 20\n",
    "\n",
    "xsec_max_ary = np.zeros((5,nmc))\n",
    "xu1 = np.zeros((5,nmc))\n",
    "xu2 = np.zeros((5,nmc))\n",
    "xl1 = np.zeros((5,nmc))\n",
    "xl2 = np.zeros((5,nmc))\n",
    "\n",
    "\n",
    "\n",
    "\n",
    "\n",
    "limit_ary = np.zeros((5,nmc))\n",
    "maxts_ary = np.zeros((5,nmc))\n",
    "\n",
    "for idm, dm in enumerate(tqdm_notebook([1,3,5,7,9])):\n",
    "    plot_mc = LimitPlot(data_dir='/tigress/nrodd/DM-Catalog-Scan/Scan-Small-ROI/data/DarkSky_sid_loc0_inj10000_dm' + str(dm)+'/',\n",
    "                        elephant=True, \n",
    "                        nmc=nmc, \n",
    "                        halos_ran=300, \n",
    "                        halos_to_keep=300,\n",
    "                        data_type=\"mc\",\n",
    "                        bcut=20,\n",
    "                        nonoverlap=True,\n",
    "                        nonoverlapradius=2.,\n",
    "                        cut_0p5=False,\n",
    "                        xsecslim=10,\n",
    "                        TS100=9,\n",
    "                        TS1000=9,\n",
    "                        elephantm = [52]) # 52 for 10 TeV\n",
    "    limit_ary_temp, xsec_max_ary_temp, xu1_temp, xu2_temp, xl1_temp, xl2_temp, maxts_ary_temp = plot_mc.return_limits()\n",
    "    \n",
    "    xsec_max_ary[idm] = xsec_max_ary_temp[-1,52,:]\n",
    "    xu1[idm] = xu1_temp[-1,52,:]\n",
    "    xu2[idm] = xu2_temp[-1,52,:]\n",
    "    xl1[idm] = xl1_temp[-1,52,:]\n",
    "    xl2[idm] = xl2_temp[-1,52,:]\n",
    "\n",
    "\n",
    "    limit_ary[idm] = limit_ary_temp[-1,52,:]\n",
    "    maxts_ary[idm] = maxts_ary_temp[-1,52,:]\n",
    "    \n",
    "xsec_max = np.log10(np.percentile(xsec_max_ary, [16,50,84], axis=1))\n",
    "xu1_max = np.log10(np.percentile(xu1, [16,50,84], axis=1))\n",
    "xu2_max = np.log10(np.percentile(xu2, [16,50,84], axis=1))\n",
    "xl1_max = np.log10(np.percentile(xl1, [16,50,84], axis=1))\n",
    "xl2_max = np.log10(np.percentile(xl2, [16,50,84], axis=1))\n",
    "\n",
    "\n",
    "\n",
    "\n",
    "\n",
    "lims = np.log10(np.percentile(10**limit_ary, [16,50,84], axis=1))\n",
    "maxtss = np.percentile(10**maxts_ary, [16,50,84], axis=1)"
   ]
  },
  {
   "cell_type": "code",
   "execution_count": null,
   "metadata": {
    "collapsed": true
   },
   "outputs": [],
   "source": [
    "plt.plot(np.logspace(-21,-25,5), np.percentile(maxts_ary, [50], axis=1)[0])\n",
    "plt.fill_between(np.logspace(-21,-25,5), np.percentile(maxts_ary, [16], axis=1)[0], np.percentile(maxts_ary, [84], axis=1)[0], alpha= 0.3)\n",
    "\n",
    "plt.yscale(\"log\")\n",
    "plt.xscale(\"log\")\n",
    "\n",
    "plt.xlabel(\"xsec\")\n",
    "plt.ylabel(\"maxTS\")"
   ]
  },
  {
   "cell_type": "code",
   "execution_count": null,
   "metadata": {
    "collapsed": true
   },
   "outputs": [],
   "source": [
    "LL2 = np.load(\"/tigress/nrodd/DM-Catalog-Scan/Scan-Small-ROI/data/DarkSky_sid_loc1_inj10000_dm9/LL2_TSmx_lim_b_o0_mc0.npz\")['LL2'][52]"
   ]
  },
  {
   "cell_type": "code",
   "execution_count": 33,
   "metadata": {
    "scrolled": false
   },
   "outputs": [
    {
     "data": {
      "image/png": "[encoded data removed]",
      "text/plain": [
       "<matplotlib.figure.Figure at 0x2abb7e782910>"
      ]
     },
     "metadata": {},
     "output_type": "display_data"
    },
    {
     "name": "stdout",
     "output_type": "stream",
     "text": [
      "11\n"
     ]
    },
    {
     "data": {
      "image/png": "[encoded data removed]",
      "text/plain": [
       "<matplotlib.figure.Figure at 0x2abb7f1709d0>"
      ]
     },
     "metadata": {},
     "output_type": "display_data"
    },
    {
     "data": {
      "image/png": "[encoded data removed]",
      "text/plain": [
       "<matplotlib.figure.Figure at 0x2abb7ec012d0>"
      ]
     },
     "metadata": {},
     "output_type": "display_data"
    }
   ],
   "source": [
    "for ie in range(30,33):\n",
    "    for imc in [11]:\n",
    "        LL2 = np.load(\"/tigress/nrodd/DM-Catalog-Scan/Scan-Small-ROI/data/DarkSky_sid_loc0_inj10000_dm9/LL_inten_o1_mc\"+str(imc)+\".npz\")['LL'][ie]\n",
    "        inten = np.load(\"/tigress/nrodd/DM-Catalog-Scan/Scan-Small-ROI/data/DarkSky_sid_loc0_inj10000_dm9/LL_inten_o1_mc\"+str(imc)+\".npz\")['intens'][ie]\n",
    "        if np.max(LL2 - LL2[0]) > 4:\n",
    "            print imc\n",
    "        plt.plot(inten, LL2 - LL2[0])\n",
    "        plt.ylim(-5,5)\n",
    "        plt.xscale(\"log\")\n",
    "    plt.show()"
   ]
  },
  {
   "cell_type": "code",
   "execution_count": 27,
   "metadata": {},
   "outputs": [
    {
     "data": {
      "image/png": "[encoded data removed]",
      "text/plain": [
       "<matplotlib.figure.Figure at 0x2abb7f226310>"
      ]
     },
     "metadata": {},
     "output_type": "display_data"
    }
   ],
   "source": [
    "for imc in range(20):\n",
    "    LL2 = np.load(\"/tigress/nrodd/DM-Catalog-Scan/Scan-Small-ROI/data/DarkSky_sid_loc0_inj10000_dm9/LL2_TSmx_lim_b_o1_mc\"+str(imc)+\".npz\")['LL2'][52]\n",
    "    xsecs = np.logspace(-33,-18,301)\n",
    "    LL2 - LL2[0]\n",
    "    plt.plot(xsecs, LL2 - LL2[0])\n",
    "    plt.ylim(-5,50)\n",
    "    plt.xscale(\"log\")"
   ]
  },
  {
   "cell_type": "code",
   "execution_count": 93,
   "metadata": {},
   "outputs": [
    {
     "data": {
      "text/plain": [
       "array([[         inf,  38.58906518,  32.91058975,  18.45305269,\n",
       "         14.07093155],\n",
       "       [         inf,  68.87767653,  61.38265368,  40.69395059,\n",
       "         41.26069393],\n",
       "       [         inf,  86.62036765,  81.82756862,  76.98703808,\n",
       "         66.15682683]])"
      ]
     },
     "execution_count": 93,
     "metadata": {},
     "output_type": "execute_result"
    }
   ],
   "source": [
    "np.log10(maxtss)"
   ]
  },
  {
   "cell_type": "code",
   "execution_count": 55,
   "metadata": {},
   "outputs": [
    {
     "data": {
      "image/png": "[encoded data removed]",
      "text/plain": [
       "<matplotlib.figure.Figure at 0x2abb98066290>"
      ]
     },
     "metadata": {},
     "output_type": "display_data"
    }
   ],
   "source": [
    "plot_h = 10/1.5\n",
    "plot_w = 8/1.5\n",
    "\n",
    "fig, ax = plt.subplots(1, figsize=(plot_h, plot_w))\n",
    "plt.plot(np.logspace(-21,-25,5),  10**xsec_max[1], label='$\\langle\\sigma v \\\\rangle_\\mathrm{TS_{max}}$')\n",
    "# plt.fill_between(np.logspace(-21,-25,5),  10**xl1_max[0], 10**xu1_max[2], alpha=0.4)\n",
    "plt.fill_between(np.logspace(-21,-25,5),  10**xl1_max[0], 10**xu1_max[2], alpha=0.2)\n",
    "plt.plot(np.logspace(-21,-25,5),  10**lims[1], label='$\\langle\\sigma v \\\\rangle_\\mathrm{Limit}$')\n",
    "plt.fill_between(np.logspace(-21,-25,5),  10**lims[0], 10**lims[2], alpha=0.2)\n",
    "plt.plot([10**-26,10**-20],[10**-26,10**-20],ls='--', color='grey')\n",
    "plt.xlabel(\"$\\langle \\sigma v \\\\rangle_\\mathrm{inj}$ [cm$^3$s$^{-1}$]\", fontsize=25)\n",
    "plt.ylabel(\"$\\langle \\sigma v \\\\rangle_\\mathrm{rec}$ [cm$^3$s$^{-1}$]\", fontsize=25)\n",
    "plt.ylim(10**-25,10**-20)\n",
    "plt.xlim(10**-25,10**-21)\n",
    "\n",
    "plt.xticks(fontsize=25);\n",
    "plt.yticks(fontsize=25);\n",
    "plt.yscale(\"log\")\n",
    "plt.xscale(\"log\")\n",
    "plt.legend(ncol=1,fancybox=True,facecolor='none',frameon=False, loc='lower right', fontsize=25)\n",
    "plt.title(\"\\\\textbf{\\emph{m}}$\\mathbf{_\\chi}$ \\\\textbf{= 10 TeV}\", fontsize=27,y=1.02)\n",
    "plt.tight_layout()\n",
    "plt.savefig(plots_dir + \"signal_recovery_10TeV.pdf\")\n",
    "plt.show()"
   ]
  },
  {
   "cell_type": "code",
   "execution_count": null,
   "metadata": {
    "collapsed": true
   },
   "outputs": [],
   "source": []
  }
 ],
 "metadata": {
  "kernelspec": {
   "display_name": "Python 2",
   "language": "python",
   "name": "python2"
  },
  "language_info": {
   "codemirror_mode": {
    "name": "ipython",
    "version": 2
   },
   "file_extension": ".py",
   "mimetype": "text/x-python",
   "name": "python",
   "nbconvert_exporter": "python",
   "pygments_lexer": "ipython2",
   "version": "2.7.13"
  }
 },
 "nbformat": 4,
 "nbformat_minor": 2
}
