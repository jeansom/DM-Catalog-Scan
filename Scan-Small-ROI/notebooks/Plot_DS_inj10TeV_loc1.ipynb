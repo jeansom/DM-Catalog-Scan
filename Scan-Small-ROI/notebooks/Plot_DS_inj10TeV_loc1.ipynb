{
 "cells": [
  {
   "cell_type": "code",
   "execution_count": null,
   "metadata": {
    "collapsed": true
   },
   "outputs": [],
   "source": [
    "import sys\n",
    "sys.path.append(\"../\")\n",
    "\n",
    "import numpy as np\n",
    "import matplotlib.pyplot as plt\n",
    "import pandas as pd\n",
    "from tqdm import *\n",
    "from plot import LimitPlot\n",
    "\n",
    "%matplotlib inline\n",
    "%load_ext autoreload\n",
    "%autoreload 2"
   ]
  },
  {
   "cell_type": "markdown",
   "metadata": {},
   "source": [
    "# Plot"
   ]
  },
  {
   "cell_type": "code",
   "execution_count": null,
   "metadata": {},
   "outputs": [],
   "source": [
    "nmc = 20\n",
    "\n",
    "xsec_max_ary = np.zeros((5,nmc))\n",
    "limit_ary = np.zeros((5,nmc))\n",
    "\n",
    "for idm, dm in enumerate(tqdm_notebook([1,3,5,7,9])):\n",
    "    plot_mc = LimitPlot(data_dir='/tigress/nrodd/DM-Catalog-Scan/Scan-Small-ROI/data/DarkSky_sid_loc0_inj10000_dm' + str(dm)+'/',\n",
    "                        elephant=True, \n",
    "                        nmc=nmc, \n",
    "                        halos_ran=1000, \n",
    "                        halos_to_keep=1000,\n",
    "                        data_type=\"mc\",\n",
    "                        bcut=20,\n",
    "                        nonoverlap=True,\n",
    "                        nonoverlapradius=2.,\n",
    "                        cut_0p5=False,\n",
    "                        xsecslim=10,\n",
    "                        TS100=9,\n",
    "                        TS1000=9,\n",
    "                        elephantm = [52]) # 52 for 10 TeV\n",
    "    limit_ary_temp, xsec_max_ary_temp = plot_mc.return_limits()\n",
    "    \n",
    "    xsec_max_ary[idm] = xsec_max_ary_temp[-1,52,:]\n",
    "    limit_ary[idm] = limit_ary_temp[-1,52,:]\n",
    "    \n",
    "xsec_max = np.log10(np.percentile(xsec_max_ary[:10], [16,50,84], axis=1))\n",
    "lims = np.log10(np.percentile(10**limit_ary[:10], [16,50,84], axis=1))"
   ]
  },
  {
   "cell_type": "code",
   "execution_count": null,
   "metadata": {},
   "outputs": [],
   "source": [
    "plt.plot(np.arange(-21,-26,-1),  xsec_max[1], label='maxTS')\n",
    "plt.fill_between(np.arange(-21,-26,-1),  xsec_max[0], xsec_max[2], alpha=0.2)\n",
    "plt.plot(np.arange(-21,-26,-1),  lims[1], label='Limit')\n",
    "plt.fill_between(np.arange(-21,-26,-1),  lims[0], lims[2], alpha=0.2)\n",
    "plt.plot([-26,-20],[-26,-20],ls='--', color='grey')\n",
    "plt.xlabel(\"$\\langle \\sigma v \\\\rangle_\\mathrm{inj}$ [cm$^3$s$^{-1}$]\")\n",
    "plt.ylabel(\"$\\langle \\sigma v \\\\rangle_\\mathrm{rec}$ [cm$^3$s$^{-1}$]\")\n",
    "plt.ylim(-26,-20)\n",
    "plt.xlim(-26,-20)\n",
    "plt.legend()\n",
    "plt.show()"
   ]
  },
  {
   "cell_type": "code",
   "execution_count": null,
   "metadata": {
    "collapsed": true
   },
   "outputs": [],
   "source": []
  }
 ],
 "metadata": {
  "kernelspec": {
   "display_name": "Python 2",
   "language": "python",
   "name": "python2"
  },
  "language_info": {
   "codemirror_mode": {
    "name": "ipython",
    "version": 2
   },
   "file_extension": ".py",
   "mimetype": "text/x-python",
   "name": "python",
   "nbconvert_exporter": "python",
   "pygments_lexer": "ipython2",
   "version": "2.7.13"
  }
 },
 "nbformat": 4,
 "nbformat_minor": 2
}
