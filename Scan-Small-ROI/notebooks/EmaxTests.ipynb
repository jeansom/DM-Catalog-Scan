{
 "cells": [
  {
   "cell_type": "code",
   "execution_count": 1,
   "metadata": {},
   "outputs": [
    {
     "name": "stderr",
     "output_type": "stream",
     "text": [
      "/tigress/smsharma/anaconda2/lib/python2.7/site-packages/IPython/core/interactiveshell.py:2717: DtypeWarning: Columns (21,22,23) have mixed types. Specify dtype option on import or set low_memory=False.\n",
      "  interactivity=interactivity, compiler=compiler, result=result)\n"
     ]
    }
   ],
   "source": [
    "import sys\n",
    "import shutil\n",
    "sys.path.append(\"../\")\n",
    "\n",
    "import numpy as np\n",
    "import matplotlib.pyplot as plt\n",
    "import pandas as pd\n",
    "from tqdm import *\n",
    "from plot_skylocs import LimitPlot\n",
    "from astropy.cosmology import Planck15\n",
    "import corner\n",
    "\n",
    "%matplotlib inline\n",
    "%load_ext autoreload\n",
    "%autoreload 2\n",
    "\n",
    "catalog = pd.read_csv(\"/tigress/nrodd/DM-Catalog-Scan/DataFiles/Catalogs/2MRSLocalTully_ALL_DATAPAPER_Planck15_v7.csv\")"
   ]
  },
  {
   "cell_type": "code",
   "execution_count": 2,
   "metadata": {},
   "outputs": [
    {
     "name": "stderr",
     "output_type": "stream",
     "text": [
      "/tigress/smsharma/anaconda2/lib/python2.7/site-packages/IPython/core/interactiveshell.py:2821: DtypeWarning: Columns (21,22,23) have mixed types. Specify dtype option on import or set low_memory=False.\n",
      "  if self.run_code(code, result):\n"
     ]
    },
    {
     "data": {
      "application/vnd.jupyter.widget-view+json": {
       "model_id": "66c5cf346c6141cfa34258ab2a43e1c2"
      }
     },
     "metadata": {},
     "output_type": "display_data"
    },
    {
     "name": "stdout",
     "output_type": "stream",
     "text": [
      "\n"
     ]
    }
   ],
   "source": [
    "plot_data_emax30 = LimitPlot(data_dir='/tigress/nrodd/DM-Catalog-Scan/Scan-Small-ROI/data/Tully//',\n",
    "                        elephant=False, \n",
    "                        nmc=1,\n",
    "                        bcut=20,\n",
    "                        nonoverlap=True,\n",
    "                        nonoverlapradius=2.,\n",
    "                        cut_0p5=False,\n",
    "                        xsecslim=10,\n",
    "                        TS100=9,\n",
    "                        TS1000=9,\n",
    "                        halos_ran=1000, \n",
    "                        halos_to_keep=1000,\n",
    "                        data_type=\"data\",\n",
    "                        catalog_file=\"/tigress/nrodd/DM-Catalog-Scan/DataFiles/Catalogs/2MRSLocalTully_ALL_DATAPAPER_Planck15_v7.csv\",\n",
    "                        file_prefix='LL2_TSmx_lim_b_emin4_emax30_o',\n",
    "                        skip_halos=[0])\n",
    "\n",
    "data_ary_emax30, _, maxTS_ary_emax30 = plot_data_emax30.return_limits()"
   ]
  },
  {
   "cell_type": "code",
   "execution_count": 8,
   "metadata": {},
   "outputs": [
    {
     "data": {
      "application/vnd.jupyter.widget-view+json": {
       "model_id": "b594c69e43a749b186e3aa37a3d77ee6"
      }
     },
     "metadata": {},
     "output_type": "display_data"
    }
   ],
   "source": [
    "plot_data_emax31 = LimitPlot(data_dir='/tigress/nrodd/DM-Catalog-Scan/Scan-Small-ROI/data/Tully//',\n",
    "                        elephant=False, \n",
    "                        nmc=1,\n",
    "                        bcut=20,\n",
    "                        nonoverlap=True,\n",
    "                        nonoverlapradius=2.,\n",
    "                        cut_0p5=False,\n",
    "                        xsecslim=10,\n",
    "                        TS100=9,\n",
    "                        TS1000=9,\n",
    "                        halos_ran=1000, \n",
    "                        halos_to_keep=1000,\n",
    "                        data_type=\"data\",\n",
    "                        catalog_file=\"/tigress/nrodd/DM-Catalog-Scan/DataFiles/Catalogs/2MRSLocalTully_ALL_DATAPAPER_Planck15_v7.csv\",\n",
    "                        file_prefix='LL2_TSmx_lim_b_emin4_emax31_o',\n",
    "                        skip_halos=[0])\n",
    "\n",
    "data_ary_emax31, _, maxTS_ary_emax31 = plot_data_emax31.return_limits()"
   ]
  },
  {
   "cell_type": "code",
   "execution_count": 9,
   "metadata": {},
   "outputs": [
    {
     "data": {
      "application/vnd.jupyter.widget-view+json": {
       "model_id": "d6319f0a96a54705a7cb556433012957"
      }
     },
     "metadata": {},
     "output_type": "display_data"
    },
    {
     "name": "stdout",
     "output_type": "stream",
     "text": [
      "\n"
     ]
    }
   ],
   "source": [
    "plot_data_emax32 = LimitPlot(data_dir='/tigress/nrodd/DM-Catalog-Scan/Scan-Small-ROI/data/Tully//',\n",
    "                        elephant=False, \n",
    "                        nmc=1,\n",
    "                        bcut=20,\n",
    "                        nonoverlap=True,\n",
    "                        nonoverlapradius=2.,\n",
    "                        cut_0p5=False,\n",
    "                        xsecslim=10,\n",
    "                        TS100=9,\n",
    "                        TS1000=9,\n",
    "                        halos_ran=1000, \n",
    "                        halos_to_keep=1000,\n",
    "                        data_type=\"data\",\n",
    "                        catalog_file=\"/tigress/nrodd/DM-Catalog-Scan/DataFiles/Catalogs/2MRSLocalTully_ALL_DATAPAPER_Planck15_v7.csv\",\n",
    "                        file_prefix='LL2_TSmx_lim_b_emin4_emax32_o',\n",
    "                        skip_halos=[0])\n",
    "\n",
    "data_ary_emax32, _, maxTS_ary_emax32 = plot_data_emax32.return_limits()"
   ]
  },
  {
   "cell_type": "code",
   "execution_count": 10,
   "metadata": {},
   "outputs": [
    {
     "data": {
      "application/vnd.jupyter.widget-view+json": {
       "model_id": "2c2b9895352b4b20be2b7d8f12b40792"
      }
     },
     "metadata": {},
     "output_type": "display_data"
    },
    {
     "name": "stdout",
     "output_type": "stream",
     "text": [
      "\n"
     ]
    }
   ],
   "source": [
    "plot_data_emax33 = LimitPlot(data_dir='/tigress/nrodd/DM-Catalog-Scan/Scan-Small-ROI/data/Tully//',\n",
    "                        elephant=False, \n",
    "                        nmc=1,\n",
    "                        bcut=20,\n",
    "                        nonoverlap=True,\n",
    "                        nonoverlapradius=2.,\n",
    "                        cut_0p5=False,\n",
    "                        xsecslim=10,\n",
    "                        TS100=9,\n",
    "                        TS1000=9,\n",
    "                        halos_ran=1000, \n",
    "                        halos_to_keep=1000,\n",
    "                        data_type=\"data\",\n",
    "                        catalog_file=\"/tigress/nrodd/DM-Catalog-Scan/DataFiles/Catalogs/2MRSLocalTully_ALL_DATAPAPER_Planck15_v7.csv\",\n",
    "                        file_prefix='LL2_TSmx_lim_b_emin4_emax33_o',\n",
    "                        skip_halos=[0])\n",
    "\n",
    "data_ary_emax33, _, maxTS_ary_emax33 = plot_data_emax33.return_limits()"
   ]
  },
  {
   "cell_type": "code",
   "execution_count": 11,
   "metadata": {},
   "outputs": [
    {
     "data": {
      "application/vnd.jupyter.widget-view+json": {
       "model_id": "e2b5d1f9d05a44348be4bc04f06519b9"
      }
     },
     "metadata": {},
     "output_type": "display_data"
    },
    {
     "name": "stdout",
     "output_type": "stream",
     "text": [
      "\n"
     ]
    }
   ],
   "source": [
    "plot_data_emax34 = LimitPlot(data_dir='/tigress/nrodd/DM-Catalog-Scan/Scan-Small-ROI/data/Tully//',\n",
    "                        elephant=False, \n",
    "                        nmc=1,\n",
    "                        bcut=20,\n",
    "                        nonoverlap=True,\n",
    "                        nonoverlapradius=2.,\n",
    "                        cut_0p5=False,\n",
    "                        xsecslim=10,\n",
    "                        TS100=9,\n",
    "                        TS1000=9,\n",
    "                        halos_ran=1000, \n",
    "                        halos_to_keep=1000,\n",
    "                        data_type=\"data\",\n",
    "                        catalog_file=\"/tigress/nrodd/DM-Catalog-Scan/DataFiles/Catalogs/2MRSLocalTully_ALL_DATAPAPER_Planck15_v7.csv\",\n",
    "                        file_prefix='LL2_TSmx_lim_b_emin4_emax34_o',\n",
    "                        skip_halos=[0])\n",
    "\n",
    "data_ary_emax34, _, maxTS_ary_emax34 = plot_data_emax34.return_limits()"
   ]
  },
  {
   "cell_type": "code",
   "execution_count": 12,
   "metadata": {},
   "outputs": [
    {
     "data": {
      "application/vnd.jupyter.widget-view+json": {
       "model_id": "3b9b5b24347d44e8a1e430797c6085d1"
      }
     },
     "metadata": {},
     "output_type": "display_data"
    },
    {
     "name": "stdout",
     "output_type": "stream",
     "text": [
      "\n"
     ]
    }
   ],
   "source": [
    "plot_data_emax35 = LimitPlot(data_dir='/tigress/nrodd/DM-Catalog-Scan/Scan-Small-ROI/data/Tully//',\n",
    "                        elephant=False, \n",
    "                        nmc=1,\n",
    "                        bcut=20,\n",
    "                        nonoverlap=True,\n",
    "                        nonoverlapradius=2.,\n",
    "                        cut_0p5=False,\n",
    "                        xsecslim=10,\n",
    "                        TS100=9,\n",
    "                        TS1000=9,\n",
    "                        halos_ran=1000, \n",
    "                        halos_to_keep=1000,\n",
    "                        data_type=\"data\",\n",
    "                        catalog_file=\"/tigress/nrodd/DM-Catalog-Scan/DataFiles/Catalogs/2MRSLocalTully_ALL_DATAPAPER_Planck15_v7.csv\",\n",
    "                        file_prefix='LL2_TSmx_lim_b_emin4_emax35_o',\n",
    "                        skip_halos=[0])\n",
    "\n",
    "data_ary_emax35, _, maxTS_ary_emax35 = plot_data_emax35.return_limits()"
   ]
  },
  {
   "cell_type": "code",
   "execution_count": 28,
   "metadata": {},
   "outputs": [
    {
     "data": {
      "application/vnd.jupyter.widget-view+json": {
       "model_id": "f5efa7b1a4a348b4b01c2d5da9839148"
      }
     },
     "metadata": {},
     "output_type": "display_data"
    },
    {
     "name": "stdout",
     "output_type": "stream",
     "text": [
      "\n"
     ]
    }
   ],
   "source": [
    "plot_data = LimitPlot(data_dir='/tigress/nrodd/DM-Catalog-Scan/Scan-Small-ROI/data/Tully//',\n",
    "                        elephant=False, \n",
    "                        nmc=1,\n",
    "                        bcut=20,\n",
    "                        nonoverlap=True,\n",
    "                        nonoverlapradius=2.,\n",
    "                        cut_0p5=False,\n",
    "                        xsecslim=10,\n",
    "                        TS100=9,\n",
    "                        TS1000=9,\n",
    "                        halos_ran=1000, \n",
    "                        halos_to_keep=1000,\n",
    "                        data_type=\"data\",\n",
    "                        catalog_file=\"/tigress/nrodd/DM-Catalog-Scan/DataFiles/Catalogs/2MRSLocalTully_ALL_DATAPAPER_Planck15_v7.csv\",\n",
    "                        file_prefix='LL2_TSmx_lim_b_emin4_o',\n",
    "                        skip_halos=[0])\n",
    "\n",
    "data_ary, _, maxTS_ary = plot_data.return_limits()"
   ]
  },
  {
   "cell_type": "code",
   "execution_count": 37,
   "metadata": {},
   "outputs": [
    {
     "data": {
      "text/plain": [
       "251.78508235883351"
      ]
     },
     "execution_count": 37,
     "metadata": {},
     "output_type": "execute_result"
    }
   ],
   "source": [
    "2*np.logspace(-1,3,41)[31]"
   ]
  },
  {
   "cell_type": "code",
   "execution_count": 38,
   "metadata": {},
   "outputs": [
    {
     "data": {
      "image/png": "[encoded data removed]",
      "text/plain": [
       "<matplotlib.figure.Figure at 0x2b50cd1c43d0>"
      ]
     },
     "metadata": {},
     "output_type": "display_data"
    }
   ],
   "source": [
    "fig, ax = plt.subplots(1, figsize=(plot_h, plot_w))\n",
    "\n",
    "fudge = 1.02\n",
    "\n",
    "# plt.fill_between(plot_data.marr,10**np.percentile(data_skylocs_ary[len(data_ary)], 2.5, axis=1),10**np.percentile(data_skylocs_ary[len(data_ary)], 97.5, axis=1),color='yellow',label=r'95\\% containment',alpha=0.6,lw=2)\n",
    "# plt.fill_between(plot_data.marr,10**np.percentile(data_skylocs_ary[len(data_ary)], 16, axis=1),10**np.percentile(data_skylocs_ary[len(data_ary)], 84, axis=1),color='limegreen',label=r'68\\% containment',alpha=0.7,lw=2)\n",
    "\n",
    "plt.plot(plot_data.marr,10**np.percentile(data_ary[-1], 2.5, axis=1), alpha=1, color='k',label=r'Old limit',lw=2.5)\n",
    "plt.plot(plot_data.marr,10**np.percentile(data_ary_emax33[-1], 2.5, axis=1), alpha=1, color='k',label=r'Up to 500 GeV',lw=2.5, ls='--')\n",
    "plt.plot(plot_data.marr,10**np.percentile(data_ary_emax30[-1], 2.5, axis=1), alpha=1, color='k',label=r'Up to 250 GeV',lw=2.5, ls=':')\n",
    "\n",
    "\n",
    "\n",
    "# plt.plot(plot_data.marr,10**np.percentile(data_ary_nb[-1], 2.5, axis=1), alpha=1, color='k',ls='--',label=r'Galaxy groups (no boost)',lw=2.5)\n",
    "\n",
    "\n",
    "# plt.plot(10**GCE[::,0],10**GCE[::,1],color='darkorange',alpha= 1.0,lw=1.4)\n",
    "# plt.plot(10**GCE[[0,-1],0],10**GCE[[0,-1],1],color='darkorange',alpha= 1.0,lw=1.4)\n",
    "# plt.plot(10**GCE_calore[::,0],10**GCE_calore[::,1],color='blue',alpha = 1.0,lw=1.4) #label = r'Daylan et. al. 2014 (2$\\sigma$)',alpha=0.5)\n",
    "# plt.plot(10**GCE_calore[[0,-1],0],10**GCE_calore[[0,-1],1],color='blue',alpha = 1.0,lw=1.4)\n",
    "# plt.plot(10**GCE_gordan[::,0],10**GCE_gordan[::,1],color='magenta',alpha = 1.0,lw=1.4)\n",
    "# plt.plot(10**GCE_gordan[[0,-1],0],10**GCE_gordan[[0,-1],1],color='magenta',alpha = 1.0,lw=1.4)\n",
    "# plt.errorbar([10**ab_mean[0]],[10**ab_mean[1]],yerr = [ np.array([10**ab_mean[1] - 10**ab_low]), np.array([10**ab_up - 10**ab_mean[1] ]) ],\n",
    "#             xerr = [ np.array([10**ab_mean[0] - 10**ab_L]), np.array([10**ab_R - 10**ab_mean[0] ]) ],color='red',\n",
    "#             linewidth=2.0, capsize=6,capthick=.6,markersize=6,marker='o',alpha=0.7,mec='k')\n",
    "\n",
    "# plt.plot(massD,LimD,color='grey',label = r'$\\mathit{Fermi}$ dwarfs (2016)',alpha=0.5)\n",
    "\n",
    "# plt.plot(thermal[::,0],thermal[::,1],linestyle='dotted',color='dimgrey',linewidth=1)\n",
    "\n",
    "\n",
    "# m3, = plt.plot([], [], c='limegreen' , marker='s', markersize=20,\n",
    "#               fillstyle='left', linestyle='none',alpha=0.6)\n",
    "\n",
    "# m4, = plt.plot([], [], c='yellow' , marker='s', markersize=20,\n",
    "#               fillstyle='right', linestyle='none',alpha=0.6)\n",
    "\n",
    "\n",
    "# handles,labels = ax.get_legend_handles_labels()\n",
    "# handles = [handles[0],(m3,m4),handles[1],handles[2]] #, handles[2]]\n",
    "# labels = [labels[0], '$68/95\\%$ containment','Galaxy groups, no boost',labels[2]] #, labels[2]]\n",
    "\n",
    "# labels = [u'Galaxy groups (this work)',\n",
    "# '$68/95\\%$ containment',\n",
    "#           u'Galaxy groups, no boost',\n",
    "#  u'$\\\\mathit{Fermi}$ dwarfs (2016)']\n",
    "\n",
    "# leg = plt.legend(handles,labels,loc=2,fontsize=17,fancybox=True,facecolor='none',frameon=False)\n",
    "\n",
    "plt.legend()\n",
    "\n",
    "plt.xscale('log')\n",
    "plt.yscale('log')\n",
    "plt.xticks(fontsize=23);\n",
    "plt.yticks(fontsize=23);\n",
    "plt.xlabel(r\"$m_\\chi$ [GeV]\",fontsize=23)\n",
    "plt.ylabel(r\"$\\langle \\sigma v \\rangle$ [cm$^3$ s$^{-1}$]\",fontsize=23)\n",
    "\n",
    "plt.xlim([1e1,1e4])\n",
    "plt.ylim([8e-28,2e-22])\n",
    "\n",
    "plt.text(200, 3.5e-27, r'\\textbf{Stacked Galaxy Groups}',fontsize=22,color='black')\n",
    "plt.text(320., 1.5e-27, r'\\emph{Fermi}-LAT Pass 8 Data, $b\\bar b$',fontsize=20,color='black')\n",
    "plt.text(380, 3.e-26, r'\\emph{Thermal relic cross section}',fontsize=19.,color='dimgrey')\n",
    "\n",
    "plt.tight_layout()\n",
    "\n",
    "# plt.savefig(plots_dir + 'bounds.pdf',bbox_inches='tight')"
   ]
  },
  {
   "cell_type": "code",
   "execution_count": 21,
   "metadata": {},
   "outputs": [
    {
     "data": {
      "image/png": "[encoded data removed]",
      "text/plain": [
       "<matplotlib.figure.Figure at 0x2b50c364d590>"
      ]
     },
     "metadata": {},
     "output_type": "display_data"
    }
   ],
   "source": [
    "plot_h = 10/1.2\n",
    "plot_w = 8/1.2\n",
    "\n",
    "fig, ax = plt.subplots(1, figsize=(plot_h, plot_w))\n",
    "\n",
    "plt.plot(plot_data_emax30.marr,np.percentile(maxTS_ary_emax30[-1], 2.5, axis=1), alpha=1, color='k',label=r'30',lw=2.5)\n",
    "plt.plot(plot_data_emax31.marr,np.percentile(maxTS_ary_emax31[-1], 2.5, axis=1), alpha=1, color='red',label=r'31',lw=2.5)\n",
    "\n",
    "plt.plot(plot_data_emax32.marr,np.percentile(maxTS_ary_emax32[-1], 2.5, axis=1), alpha=1, color='blue',label=r'32',lw=2.5)\n",
    "\n",
    "plt.plot(plot_data_emax33.marr,np.percentile(maxTS_ary_emax33[-1], 2.5, axis=1), alpha=1, color='green',label=r'33',lw=2.5)\n",
    "\n",
    "plt.plot(plot_data_emax34.marr,np.percentile(maxTS_ary_emax34[-1], 2.5, axis=1), alpha=1, color='orange',label=r'34',lw=2.5)\n",
    "\n",
    "# plt.plot(plot_data_emax35.marr,np.percentile(maxTS_ary_emax35[-1], 2.5, axis=1), alpha=1, color='purple',label=r'35',lw=2.5)\n",
    "\n",
    "\n",
    "# plt.fill_between(plot_data.marr,np.percentile(maxTS_skylocs_ary[-1], 2.5, axis=1),np.percentile(maxTS_skylocs_ary[-1], 97.5, axis=1),color='yellow',label=r'95\\% containment',alpha=0.6,lw=2)\n",
    "# plt.fill_between(plot_data.marr,np.percentile(maxTS_skylocs_ary[-1], 16, axis=1),np.percentile(maxTS_skylocs_ary[-1], 84, axis=1),color='limegreen',label=r'68\\% containment',alpha=0.7,lw=2)\n",
    "\n",
    "# m3, = plt.plot([], [], c='limegreen' , marker='s', markersize=20,\n",
    "#               fillstyle='left', linestyle='none',alpha=0.6)\n",
    "\n",
    "# m4, = plt.plot([], [], c='yellow' , marker='s', markersize=20,\n",
    "#               fillstyle='right', linestyle='none',alpha=0.6)\n",
    "\n",
    "\n",
    "\n",
    "plt.xscale(\"log\")\n",
    "# plt.yscale(\"log\")\n",
    "\n",
    "plt.xticks(fontsize=23);\n",
    "plt.yticks(fontsize=23);\n",
    "plt.xlabel(r\"$m_\\chi$ [GeV]\",fontsize=23)\n",
    "plt.ylabel(r\"TS$_\\mathrm{max}$\",fontsize=23)\n",
    "\n",
    "plt.xlim([1e1,1e4])\n",
    "# plt.ylim([8e-28,2e-22])\n",
    "# plt.yscale(\"log\")\n",
    "# plt.text(15.3, 100, r'\\textbf{Stacked Galaxy Groups}',fontsize=22,color='black')\n",
    "\n",
    "handles,labels = ax.get_legend_handles_labels()\n",
    "handles = [handles[0],(m3,m4)] #, handles[2]]\n",
    "# labels = [labels[0], handles[1],labels[4],labels[3],labels[2]] #, labels[2]]\n",
    "\n",
    "labels = [u'Data',\n",
    " u'$68/95\\%$ containment']\n",
    "\n",
    "# leg = plt.legend(handles,labels,loc=2,fontsize=17,fancybox=True,facecolor='none',frameon=False)\n",
    "\n",
    "\n",
    "\n",
    "plt.legend(ncol=1,fancybox=True,facecolor='none',frameon=False, loc='upper left', fontsize=23)\n",
    "\n",
    "plt.yscale(\"log\")\n",
    "# plt.ylim(-0.1,100)\n",
    "plt.tight_layout()\n",
    "\n",
    "# plt.savefig(plots_dir + 'global_maxts.pdf',bbox_inches='tight')"
   ]
  },
  {
   "cell_type": "code",
   "execution_count": null,
   "metadata": {
    "collapsed": true
   },
   "outputs": [],
   "source": []
  }
 ],
 "metadata": {
  "kernelspec": {
   "display_name": "Python 2",
   "language": "python",
   "name": "python2"
  },
  "language_info": {
   "codemirror_mode": {
    "name": "ipython",
    "version": 2
   },
   "file_extension": ".py",
   "mimetype": "text/x-python",
   "name": "python",
   "nbconvert_exporter": "python",
   "pygments_lexer": "ipython2",
   "version": "2.7.13"
  }
 },
 "nbformat": 4,
 "nbformat_minor": 2
}
