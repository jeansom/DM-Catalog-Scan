{
 "cells": [
  {
   "cell_type": "code",
   "execution_count": 1,
   "metadata": {
    "collapsed": true
   },
   "outputs": [],
   "source": [
    "import sys\n",
    "sys.path.append(\"../\")\n",
    "\n",
    "import numpy as np\n",
    "import healpy as hp\n",
    "import matplotlib.pyplot as plt\n",
    "import pandas as pd\n",
    "from tqdm import *\n",
    "from plot import LimitPlot\n",
    "\n",
    "%matplotlib inline\n",
    "%load_ext autoreload\n",
    "%autoreload 2"
   ]
  },
  {
   "cell_type": "code",
   "execution_count": 2,
   "metadata": {
    "collapsed": true
   },
   "outputs": [],
   "source": [
    "map_ebin0 = np.load('/tigress/nrodd/DM-Catalog-Scan/DataFiles/DM-Maps/Jfactor_Tully_map_final_smoothed_0.npy')\n",
    "map_ebin10 = np.load('/tigress/nrodd/DM-Catalog-Scan/DataFiles/DM-Maps/Jfactor_Tully_map_final_smoothed_10.npy')\n",
    "map_ebin12 = np.load('/tigress/nrodd/DM-Catalog-Scan/DataFiles/DM-Maps/Jfactor_Tully_map_final_smoothed_12.npy')\n",
    "map_ebin20 = np.load('/tigress/nrodd/DM-Catalog-Scan/DataFiles/DM-Maps/Jfactor_Tully_map_final_smoothed_20.npy')\n",
    "map_ebin30 = np.load('/tigress/nrodd/DM-Catalog-Scan/DataFiles/DM-Maps/Jfactor_Tully_map_final_smoothed_30.npy')\n",
    "map_ebin39 = np.load('/tigress/nrodd/DM-Catalog-Scan/DataFiles/DM-Maps/Jfactor_Tully_map_final_smoothed_39.npy')"
   ]
  },
  {
   "cell_type": "code",
   "execution_count": 11,
   "metadata": {},
   "outputs": [
    {
     "name": "stdout",
     "output_type": "stream",
     "text": [
      "(40, 196608)\n",
      "1.6841613483e+15\n",
      "(40, 196608)\n",
      "1.68403458809e+15\n"
     ]
    }
   ],
   "source": [
    "print np.shape(map_ebin0)\n",
    "print np.mean(map_ebin0[0])\n",
    "print np.shape(map_ebin39)\n",
    "print np.mean(map_ebin39[39])"
   ]
  },
  {
   "cell_type": "code",
   "execution_count": 10,
   "metadata": {},
   "outputs": [
    {
     "data": {
      "image/png": "[encoded data removed]",
      "text/plain": [
       "<matplotlib.figure.Figure at 0x2b16903b87d0>"
      ]
     },
     "metadata": {},
     "output_type": "display_data"
    }
   ],
   "source": [
    "#hp.mollview(map_ebin0[0],title='Ebin 0',max=1e16)\n",
    "hp.mollview(map_ebin10[10],title='Ebin 10',min=1e16,max=1e17)"
   ]
  },
  {
   "cell_type": "code",
   "execution_count": 28,
   "metadata": {
    "collapsed": true
   },
   "outputs": [],
   "source": [
    "outmap = np.zeros((40,hp.nside2npix(128)))\n",
    "\n",
    "for i in range(40):\n",
    "    if i == 11:\n",
    "        load = np.load('/tigress/nrodd/DM-Catalog-Scan/DataFiles/DM-Maps/Jfactor_Tully_map_final_smoothed_'+str(10)+'.npy')\n",
    "        outmap[i] = load[10]\n",
    "    elif i == 13:\n",
    "        load = np.load('/tigress/nrodd/DM-Catalog-Scan/DataFiles/DM-Maps/Jfactor_Tully_map_final_smoothed_'+str(12)+'.npy')\n",
    "        outmap[i] = load[12]\n",
    "    else:\n",
    "        load = np.load('/tigress/nrodd/DM-Catalog-Scan/DataFiles/DM-Maps/Jfactor_Tully_map_final_smoothed_'+str(i)+'.npy')\n",
    "        outmap[i] = load[i]"
   ]
  },
  {
   "cell_type": "code",
   "execution_count": 29,
   "metadata": {},
   "outputs": [
    {
     "name": "stdout",
     "output_type": "stream",
     "text": [
      "1.0\n",
      "0.99993139731\n",
      "0.9998931541\n",
      "0.999866989794\n",
      "0.999853124732\n",
      "0.999834596354\n",
      "0.999832717059\n",
      "0.999833218831\n",
      "0.999833867357\n",
      "0.999837723386\n",
      "0.999835681814\n",
      "0.999835681814\n",
      "0.999830989947\n",
      "0.999830989947\n",
      "0.999856530471\n",
      "0.999849141093\n",
      "0.999857981754\n",
      "0.999884683332\n",
      "0.999875728966\n",
      "0.999876490356\n",
      "0.999912165382\n",
      "0.999913063641\n",
      "0.999923850504\n",
      "0.999923281701\n",
      "0.999925256757\n",
      "0.999925633491\n",
      "0.999926194688\n",
      "0.999925875363\n",
      "0.999925789733\n",
      "0.99992681276\n",
      "0.999928226899\n",
      "0.999928156491\n",
      "0.999927002048\n",
      "0.999927455683\n",
      "0.999927485253\n",
      "0.999926559578\n",
      "0.999924694983\n",
      "0.999924306081\n",
      "0.999924829005\n",
      "0.999924733927\n"
     ]
    }
   ],
   "source": [
    "for i in range(40):\n",
    "    print np.mean(outmap[i])/np.mean(outmap[0])"
   ]
  },
  {
   "cell_type": "code",
   "execution_count": 30,
   "metadata": {
    "collapsed": true
   },
   "outputs": [],
   "source": [
    "np.save('/tigress/nrodd/DM-Catalog-Scan/DataFiles/DM-Maps/Jfactor_Tully_map_final_smoothed.npy',outmap)"
   ]
  },
  {
   "cell_type": "code",
   "execution_count": null,
   "metadata": {
    "collapsed": true
   },
   "outputs": [],
   "source": []
  }
 ],
 "metadata": {
  "kernelspec": {
   "display_name": "Python 2",
   "language": "python",
   "name": "python2"
  },
  "language_info": {
   "codemirror_mode": {
    "name": "ipython",
    "version": 2
   },
   "file_extension": ".py",
   "mimetype": "text/x-python",
   "name": "python",
   "nbconvert_exporter": "python",
   "pygments_lexer": "ipython2",
   "version": "2.7.13"
  }
 },
 "nbformat": 4,
 "nbformat_minor": 2
}
