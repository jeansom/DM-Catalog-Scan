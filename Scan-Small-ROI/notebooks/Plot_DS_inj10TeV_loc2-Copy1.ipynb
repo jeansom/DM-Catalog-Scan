{
 "cells": [
  {
   "cell_type": "code",
   "execution_count": 4,
   "metadata": {},
   "outputs": [
    {
     "name": "stdout",
     "output_type": "stream",
     "text": [
      "The autoreload extension is already loaded. To reload it, use:\n",
      "  %reload_ext autoreload\n"
     ]
    }
   ],
   "source": [
    "import sys\n",
    "sys.path.append(\"../\")\n",
    "\n",
    "import numpy as np\n",
    "import matplotlib.pyplot as plt\n",
    "import pandas as pd\n",
    "from tqdm import *\n",
    "from plot_skylocs import LimitPlot\n",
    "import healpy as hp\n",
    "\n",
    "%matplotlib inline\n",
    "%load_ext autoreload\n",
    "%autoreload 2"
   ]
  },
  {
   "cell_type": "code",
   "execution_count": 3,
   "metadata": {},
   "outputs": [
    {
     "data": {
      "text/plain": [
       "array([[  3.08386156e+15,   1.88357752e+15,   2.12722797e+15, ...,\n",
       "          1.45978605e+15,   1.09961241e+15,   1.28332127e+15],\n",
       "       [  3.48806781e+15,   1.91766677e+15,   2.38461525e+15, ...,\n",
       "          1.46881209e+15,   1.01084904e+15,   1.12867849e+15],\n",
       "       [  3.80876163e+15,   1.84255396e+15,   2.60051851e+15, ...,\n",
       "          1.40015486e+15,   9.17263915e+14,   9.98756073e+14],\n",
       "       ..., \n",
       "       [  7.05240686e+13,   6.06691710e+14,   2.07889014e+14, ...,\n",
       "          2.54817830e+15,   1.25463077e+13,   0.00000000e+00],\n",
       "       [  6.67846153e+13,   6.09686727e+14,   1.96864966e+14, ...,\n",
       "          2.56075773e+15,   1.18807432e+13,   0.00000000e+00],\n",
       "       [  6.79912717e+13,   6.08501162e+14,   2.00421734e+14, ...,\n",
       "          2.55577822e+15,   1.20951242e+13,   0.00000000e+00]])"
      ]
     },
     "execution_count": 3,
     "metadata": {},
     "output_type": "execute_result"
    }
   ],
   "source": [
    "np.load(\"//tigress/nrodd/2mass2furious/AccurateSmoothing/SmoothedMaps/Jfactor_DS_true_map_200.0_200.0_200.0b1e+20_a1e+13_final_smoothed.npy\")"
   ]
  },
  {
   "cell_type": "code",
   "execution_count": null,
   "metadata": {
    "collapsed": true
   },
   "outputs": [],
   "source": []
  }
 ],
 "metadata": {
  "kernelspec": {
   "display_name": "Python 2",
   "language": "python",
   "name": "python2"
  },
  "language_info": {
   "codemirror_mode": {
    "name": "ipython",
    "version": 2
   },
   "file_extension": ".py",
   "mimetype": "text/x-python",
   "name": "python",
   "nbconvert_exporter": "python",
   "pygments_lexer": "ipython2",
   "version": "2.7.13"
  }
 },
 "nbformat": 4,
 "nbformat_minor": 2
}
