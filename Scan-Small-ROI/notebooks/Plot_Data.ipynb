{
 "cells": [
  {
   "cell_type": "code",
   "execution_count": 1,
   "metadata": {
    "collapsed": true
   },
   "outputs": [],
   "source": [
    "import sys\n",
    "import shutil\n",
    "sys.path.append(\"../\")\n",
    "\n",
    "import numpy as np\n",
    "import matplotlib.pyplot as plt\n",
    "import pandas as pd\n",
    "from tqdm import *\n",
    "from plot_skylocs import LimitPlot\n",
    "from astropy.cosmology import Planck15\n",
    "import corner\n",
    "\n",
    "%matplotlib inline\n",
    "%load_ext autoreload\n",
    "%autoreload 2"
   ]
  },
  {
   "cell_type": "markdown",
   "metadata": {},
   "source": [
    "# Housekeeping"
   ]
  },
  {
   "cell_type": "markdown",
   "metadata": {},
   "source": [
    "## Move skylocs to appropriate directories"
   ]
  },
  {
   "cell_type": "code",
   "execution_count": null,
   "metadata": {
    "collapsed": true
   },
   "outputs": [],
   "source": [
    "nmc = 300\n",
    "nobj = 1000\n",
    "for imc in tqdm_notebook(range(200,300)):\n",
    "    for iobj in tqdm_notebook(range(nobj)):\n",
    "        shutil.move(\"/tigress/nrodd/DM-Catalog-Scan/Scan-Small-ROI/data/Tully_skylocs_no0p5mask\"+str(imc)+\"/LL2_TSmx_lim_b_o\"+str(iobj)+\"_data.npz\",\\\n",
    "                    \"/tigress/nrodd/DM-Catalog-Scan/Scan-Small-ROI/data/Tully_skylocs_no0p5mask/LL2_TSmx_lim_b_o\"+str(iobj)+\"_data_skyloc\"+str(imc)+\".npz\")\n"
   ]
  },
  {
   "cell_type": "code",
   "execution_count": 2,
   "metadata": {},
   "outputs": [
    {
     "name": "stderr",
     "output_type": "stream",
     "text": [
      "/tigress/smsharma/anaconda2/lib/python2.7/site-packages/IPython/core/interactiveshell.py:2717: DtypeWarning: Columns (21,22,23) have mixed types. Specify dtype option on import or set low_memory=False.\n",
      "  interactivity=interactivity, compiler=compiler, result=result)\n"
     ]
    }
   ],
   "source": [
    "catalog = pd.read_csv(\"/tigress/nrodd/DM-Catalog-Scan/DataFiles/Catalogs/2MRSLocalTully_ALL_DATAPAPER_Planck15_v7.csv\")"
   ]
  },
  {
   "cell_type": "code",
   "execution_count": null,
   "metadata": {
    "collapsed": true
   },
   "outputs": [],
   "source": [
    "catalog = pd.read_csv(\"/tigress/nrodd/DM-Catalog-Scan/DataFiles/Catalogs/2MRSLocalTully_ALL_DATAPAPER_Planck15_v7.csv\")\n",
    "\n",
    "nmc = 200\n",
    "nobj = 1000\n",
    "for imc in tqdm_notebook(range(nmc)):\n",
    "    lb_temp = []\n",
    "    for iobj in tqdm_notebook(range(nobj)):\n",
    "        rep_angext = np.array([0.02785567,0.12069876,0.21354185,0.30638494,0.39922802,0.49207111,0.5849142,0.67775728,0.77060037,0.86344346,0.95628654,1.04912963,1.14197272,1.2348158,1.32765889,1.42050198,1.51334507,1.60618815,1.69903124,1.79187433])\n",
    "        obj_angext = 2*catalog[u'rs'].values[iobj] / \\\n",
    "                     (Planck15.angular_diameter_distance(catalog[u'z'].values[iobj]).value*1000) \\\n",
    "                     * 180./np.pi\n",
    "        rep_index = (np.abs(rep_angext-obj_angext)).argmin()\n",
    "\n",
    "        lb_temp.append(np.loadtxt(\"../data/Tully_randlocs\"+str(int(np.loadtxt(\"../data/Tully_skylocs_no0p5mask\"+str(imc)+\"/skyloc_obj\"+str(iobj)+\".txt\")))+\"/lb_obj\"+str(rep_index)+\".dat\"))\n",
    "    np.save(\"../data/Tully_skylocs_no0p5mask/lb_cat_mc\"+str(imc)+\".npy\", lb_temp)"
   ]
  },
  {
   "cell_type": "markdown",
   "metadata": {},
   "source": [
    "## Change some channel names to be able to open the files"
   ]
  },
  {
   "cell_type": "code",
   "execution_count": null,
   "metadata": {
    "collapsed": true
   },
   "outputs": [],
   "source": [
    "nobj = 1000\n",
    "\n",
    "for iobj in tqdm_notebook(range(nobj)):\n",
    "    shutil.move(\"/tigress/nrodd/DM-Catalog-Scan/Scan-Small-ROI/data/Tully_tau/LL2_TSmx_lim_\\[Tau]_o\"+str(iobj)+\"_data.npz\",\\\n",
    "                \"/tigress/nrodd/DM-Catalog-Scan/Scan-Small-ROI/data/Tully_tau/LL2_TSmx_lim_tau_o\"+str(iobj)+\"_data.npz\")\n",
    "\n"
   ]
  },
  {
   "cell_type": "code",
   "execution_count": null,
   "metadata": {
    "collapsed": true
   },
   "outputs": [],
   "source": [
    "for iobj in tqdm_notebook(range(nobj)):\n",
    "    shutil.move(\"/tigress/nrodd/DM-Catalog-Scan/Scan-Small-ROI/data/Tully_mu/LL2_TSmx_lim_\\[Mu]_o\"+str(iobj)+\"_data.npz\",\\\n",
    "                \"/tigress/nrodd/DM-Catalog-Scan/Scan-Small-ROI/data/Tully_mu/LL2_TSmx_lim_mu_o\"+str(iobj)+\"_data.npz\")\n",
    "\n",
    "\n"
   ]
  },
  {
   "cell_type": "markdown",
   "metadata": {},
   "source": [
    "# Figure 1"
   ]
  },
  {
   "cell_type": "code",
   "execution_count": 3,
   "metadata": {
    "collapsed": true
   },
   "outputs": [],
   "source": [
    "work_dir = '/tigress/bsafdi/github/NPTF-working/NPTF-ID-Catalog/runs_sid/notebooks/LimitPlot//'\n",
    "plots_dir = '/tigress/nrodd/DM-Catalog-Scan/Scan-Small-ROI/plots/'\n",
    "data_dir = work_dir + 'data/'\n"
   ]
  },
  {
   "cell_type": "code",
   "execution_count": 4,
   "metadata": {
    "collapsed": true
   },
   "outputs": [],
   "source": [
    "data_file_names =[ data_dir + f for f in ['stath_max-lim.dat','stath_min-lim.dat','statp_q16-lim.dat','statp_q84-lim.dat',\n",
    "                  'Jcm_q16-lim.dat','Jcm_q84-lim.dat','GCE.dat','FermiDwarf.dat','nominal-data.dat','gce-abazajian.dat',\n",
    "                                         'gce-calore.dat','gce-gordon.dat','thermal-relic.dat'  ] ]\n",
    "\n",
    "data_files = [np.loadtxt(f) for f in data_file_names]\n"
   ]
  },
  {
   "cell_type": "code",
   "execution_count": 5,
   "metadata": {
    "collapsed": true
   },
   "outputs": [],
   "source": [
    "####Poisson error bands\n",
    "massP = 10**data_files[2][::,0]\n",
    "Lim16 = 10**data_files[2][::,1]\n",
    "Lim84 = 10**data_files[3][::,1]\n",
    "LimP_disp = (np.log10(Lim84) - np.log10(Lim16))/2.0\n",
    "\n",
    "####Halo Stat error bands\n",
    "massH = 10**data_files[4][::,0]\n",
    "LimH16 = 10**data_files[4][::,1]\n",
    "LimH84 = 10**data_files[5][::,1]\n",
    "LimH_disp = (np.log10(LimH84) - np.log10(LimH16))/2.0\n",
    "\n",
    "\n",
    "#####Combine the uncertainties\n",
    "Lim_uncert = np.sqrt(LimP_disp**2 + LimH_disp**2)\n",
    "\n",
    "###GCE\n",
    "GCE = data_files[6]\n",
    "GCE_ab = data_files[9]\n",
    "GCE_calore = data_files[10]\n",
    "GCE_gordan = data_files[11]\n",
    "\n",
    "###Fermi Dwarf\n",
    "massD = 10**data_files[8][::,0]\n",
    "LimD = 10**data_files[8][::,1]\n",
    "\n",
    "#####thermal\n",
    "thermal = 10**data_files[12]\n",
    "\n",
    "###Cross Corr\n",
    "mDM_ary = [10,20,50,100,200,300,400,500,700,1000,10000]\n",
    "lim_ary = np.array(np.array([[  3.47613312e-25,   3.19993932e-25,   4.09432255e-25,\n",
    "          5.74111275e-25,   8.19273323e-25,   1.11412925e-24,\n",
    "          1.54077804e-24,   1.88342427e-24,   2.45742289e-24,\n",
    "          3.51413849e-24,   1.88285952e-23],\n",
    "       [  6.84653178e-25,   6.11339438e-25,   8.88586835e-25,\n",
    "          1.46856813e-24,   2.37706561e-24,   3.06228027e-24,\n",
    "          3.78778553e-24,   4.28537842e-24,   5.06539081e-24,\n",
    "          6.20444331e-24,   3.37611100e-23]]))\n"
   ]
  },
  {
   "cell_type": "code",
   "execution_count": 6,
   "metadata": {
    "collapsed": true
   },
   "outputs": [],
   "source": [
    "ab_mean = GCE_ab[0]\n",
    "ab_up = GCE_ab[-1,1]\n",
    "ab_low = GCE_ab[1,1]\n",
    "ab_L = GCE_ab[3,0]\n",
    "ab_R = GCE_ab[2,0]"
   ]
  },
  {
   "cell_type": "code",
   "execution_count": 7,
   "metadata": {
    "collapsed": true
   },
   "outputs": [],
   "source": [
    "plot_data_skylocs = LimitPlot(data_dir='/tigress/nrodd/DM-Catalog-Scan/Scan-Small-ROI/data/Tully_skylocs_no0p5mask',\n",
    "                        elephant=False, \n",
    "                        nmc=200,\n",
    "                        bcut=20,\n",
    "                        nonoverlap=True,\n",
    "                        nonoverlapradius=2.,\n",
    "                        xsecslim=10,\n",
    "                        TS100=9,\n",
    "                        TS1000=9,\n",
    "                        halos_ran=1000, \n",
    "                        halos_to_keep=1000,\n",
    "                        data_type=\"skylocs\")"
   ]
  },
  {
   "cell_type": "code",
   "execution_count": 8,
   "metadata": {
    "collapsed": true
   },
   "outputs": [],
   "source": [
    "# data_skylocs_ary, _ = plot_data_skylocs.return_limits()"
   ]
  },
  {
   "cell_type": "code",
   "execution_count": 9,
   "metadata": {
    "collapsed": true
   },
   "outputs": [],
   "source": [
    "# np.save(\"data_skylocs_ary\",data_skylocs_ary)"
   ]
  },
  {
   "cell_type": "code",
   "execution_count": 10,
   "metadata": {
    "collapsed": true
   },
   "outputs": [],
   "source": [
    "data_skylocs_ary = np.load(\"data_skylocs_ary.npy\")"
   ]
  },
  {
   "cell_type": "code",
   "execution_count": 11,
   "metadata": {
    "collapsed": true
   },
   "outputs": [],
   "source": [
    "# plot_data_10k = LimitPlot(data_dir='/tigress/nrodd/DM-Catalog-Scan/Scan-Small-ROI/data/Tully//',\n",
    "#                         elephant=False, \n",
    "#                         nmc=1,\n",
    "#                         bcut=20,\n",
    "#                         nonoverlap=True,\n",
    "#                         nonoverlapradius=2.,\n",
    "#                         cut_0p5=False,\n",
    "#                         xsecslim=10,\n",
    "#                         TS100=4,\n",
    "#                         TS1000=9,\n",
    "#                         halos_ran=10000, \n",
    "#                         halos_to_keep=10000,\n",
    "#                         data_type=\"data\",\n",
    "#                         catalog_file=\"/tigress/nrodd/DM-Catalog-Scan/DataFiles/Catalogs/2MRSLocalTully_ALL_DATAPAPER_Planck15_v7.csv\")"
   ]
  },
  {
   "cell_type": "code",
   "execution_count": 12,
   "metadata": {
    "collapsed": true
   },
   "outputs": [],
   "source": [
    "# data_ary_10k, _ = plot_data_10k.return_limits()"
   ]
  },
  {
   "cell_type": "code",
   "execution_count": 36,
   "metadata": {
    "collapsed": true
   },
   "outputs": [],
   "source": [
    "plot_data = LimitPlot(data_dir='/tigress/nrodd/DM-Catalog-Scan/Scan-Small-ROI/data/Tully//',\n",
    "                        elephant=False, \n",
    "                        nmc=1,\n",
    "                        bcut=20,\n",
    "                        nonoverlap=True,\n",
    "                        nonoverlapradius=2.,\n",
    "                        cut_0p5=False,\n",
    "                        xsecslim=10,\n",
    "                        TS100=9,\n",
    "                        TS1000=9,\n",
    "                        halos_ran=1000, \n",
    "                        halos_to_keep=1000,\n",
    "                        data_type=\"data\",\n",
    "                        catalog_file=\"/tigress/nrodd/DM-Catalog-Scan/DataFiles/Catalogs/2MRSLocalTully_ALL_DATAPAPER_Planck15_v7.csv\",\n",
    "                        file_prefix='LL2_TSmx_lim_b_emin4_o')"
   ]
  },
  {
   "cell_type": "code",
   "execution_count": 37,
   "metadata": {},
   "outputs": [
    {
     "data": {
      "application/vnd.jupyter.widget-view+json": {
       "model_id": "91e5d971e0d44f6ba95053c45b020dfd"
      }
     },
     "metadata": {},
     "output_type": "display_data"
    },
    {
     "name": "stdout",
     "output_type": "stream",
     "text": [
      "\n"
     ]
    }
   ],
   "source": [
    "data_ary, _, maxTS_ary = plot_data.return_limits()"
   ]
  },
  {
   "cell_type": "code",
   "execution_count": 28,
   "metadata": {
    "collapsed": true
   },
   "outputs": [],
   "source": [
    "plot_data_nb = LimitPlot(data_dir='/tigress/nrodd/DM-Catalog-Scan/Scan-Small-ROI/data/Tully/////',\n",
    "                        elephant=False, \n",
    "                        nmc=1,\n",
    "                        bcut=20,\n",
    "                        nonoverlap=True,\n",
    "                        nonoverlapradius=2.,\n",
    "                        cut_0p5=False,\n",
    "                        xsecslim=10,\n",
    "                        TS100=16,\n",
    "                        TS1000=16,\n",
    "                        halos_ran=1000, \n",
    "                        halos_to_keep=1000,\n",
    "                        data_type=\"data\",\n",
    "                        catalog_file=\"/tigress/nrodd/DM-Catalog-Scan/DataFiles/Catalogs/2MRSLocalTully_ALL_DATAPAPER_Planck15_v7.csv\",\n",
    "                        file_prefix='LL2_TSmx_lim_b_nb_o')"
   ]
  },
  {
   "cell_type": "code",
   "execution_count": 29,
   "metadata": {},
   "outputs": [
    {
     "data": {
      "application/vnd.jupyter.widget-view+json": {
       "model_id": "c10d0a1f418e48ea9413eaac3747a3df"
      }
     },
     "metadata": {},
     "output_type": "display_data"
    },
    {
     "name": "stdout",
     "output_type": "stream",
     "text": [
      "\n"
     ]
    }
   ],
   "source": [
    "data_ary_nb, _, _ = plot_data_nb.return_limits()"
   ]
  },
  {
   "cell_type": "code",
   "execution_count": 17,
   "metadata": {
    "collapsed": true
   },
   "outputs": [],
   "source": [
    "plot_data_skylocs = LimitPlot(data_dir='/tigress/nrodd/DM-Catalog-Scan/Scan-Small-ROI/data/Tully_skylocs_no0p5mask',\n",
    "                        elephant=False, \n",
    "                        nmc=200,\n",
    "                        bcut=20,\n",
    "                        nonoverlap=True,\n",
    "                        nonoverlapradius=2.,\n",
    "                        xsecslim=10,\n",
    "                        TS100=9,\n",
    "                        TS1000=9,\n",
    "                        halos_ran=1000, \n",
    "                        halos_to_keep=1000,\n",
    "                        data_type=\"skylocs\",\n",
    "                        custom_good_vals=plot_data.passed_halos)"
   ]
  },
  {
   "cell_type": "code",
   "execution_count": 34,
   "metadata": {
    "collapsed": true
   },
   "outputs": [],
   "source": [
    "# data_skylocs_ary, _, maxTS_skylocs_ary = plot_data_skylocs.return_limits()"
   ]
  },
  {
   "cell_type": "code",
   "execution_count": null,
   "metadata": {
    "collapsed": true
   },
   "outputs": [],
   "source": [
    "# np.save(\"data_skylocs_200_ary\",data_skylocs_ary)"
   ]
  },
  {
   "cell_type": "code",
   "execution_count": 19,
   "metadata": {
    "collapsed": true
   },
   "outputs": [],
   "source": [
    "plot_h = 10/1.2\n",
    "plot_w = 8/1.2"
   ]
  },
  {
   "cell_type": "code",
   "execution_count": 44,
   "metadata": {},
   "outputs": [
    {
     "data": {
      "image/png": "[encoded data removed]",
      "text/plain": [
       "<matplotlib.figure.Figure at 0x2b0a708efd10>"
      ]
     },
     "metadata": {},
     "output_type": "display_data"
    }
   ],
   "source": [
    "fig, ax = plt.subplots(1, figsize=(plot_h, plot_w))\n",
    "\n",
    "fudge = 1.02\n",
    "\n",
    "# plt.fill_between(plot_data.marr,10**np.percentile(data_skylocs_ary[len(data_ary)], 2.5, axis=1),10**np.percentile(data_skylocs_ary[len(data_ary)], 97.5, axis=1),color='yellow',label=r'95\\% containment',alpha=0.6,lw=2)\n",
    "# plt.fill_between(plot_data.marr,10**np.percentile(data_skylocs_ary[len(data_ary)], 16, axis=1),10**np.percentile(data_skylocs_ary[len(data_ary)], 84, axis=1),color='limegreen',label=r'68\\% containment',alpha=0.7,lw=2)\n",
    "\n",
    "# plt.plot(plot_data.marr,10**np.percentile(data_ary[-1], 2.5, axis=1), alpha=1, color='k',label=r'Galaxy groups (this work)',lw=2.5)\n",
    "# plt.plot(plot_data.marr,10**np.percentile(data_ary_nb[-1], 2.5, axis=1), alpha=1, color='k',ls='--',label=r'Galaxy groups (no boost)',lw=2.5)\n",
    "\n",
    "\n",
    "plt.plot(10**GCE[::,0],10**GCE[::,1],color='darkorange',alpha= 1.0,lw=1.4)\n",
    "plt.plot(10**GCE[[0,-1],0],10**GCE[[0,-1],1],color='darkorange',alpha= 1.0,lw=1.4)\n",
    "plt.plot(10**GCE_calore[::,0],10**GCE_calore[::,1],color='blue',alpha = 1.0,lw=1.4) #label = r'Daylan et. al. 2014 (2$\\sigma$)',alpha=0.5)\n",
    "plt.plot(10**GCE_calore[[0,-1],0],10**GCE_calore[[0,-1],1],color='blue',alpha = 1.0,lw=1.4)\n",
    "plt.plot(10**GCE_gordan[::,0],10**GCE_gordan[::,1],color='magenta',alpha = 1.0,lw=1.4)\n",
    "plt.plot(10**GCE_gordan[[0,-1],0],10**GCE_gordan[[0,-1],1],color='magenta',alpha = 1.0,lw=1.4)\n",
    "plt.errorbar([10**ab_mean[0]],[10**ab_mean[1]],yerr = [ np.array([10**ab_mean[1] - 10**ab_low]), np.array([10**ab_up - 10**ab_mean[1] ]) ],\n",
    "            xerr = [ np.array([10**ab_mean[0] - 10**ab_L]), np.array([10**ab_R - 10**ab_mean[0] ]) ],color='red',\n",
    "            linewidth=2.0, capsize=6,capthick=.6,markersize=6,marker='o',alpha=0.7,mec='k')\n",
    "\n",
    "plt.plot(massD,LimD,color='grey',label = r'$\\mathit{Fermi}$ dwarfs (2016)',alpha=0.5)\n",
    "\n",
    "plt.plot(thermal[::,0],thermal[::,1],linestyle='dotted',color='dimgrey',linewidth=1)\n",
    "\n",
    "# handles,labels = ax.get_legend_handles_labels()\n",
    "# handles = [handles[0],handles[4], handles[3],handles[1],handles[2]] #, handles[2]]\n",
    "# labels = [labels[0], handles[1],labels[4],labels[3],labels[2]] #, labels[2]]\n",
    "\n",
    "# labels = [u'Galaxy groups (this work)',\n",
    "#  u'95\\\\% containment',\n",
    "#  u'68\\\\% containment',\n",
    "#           u'Galaxy groups, no boost',\n",
    "#  u'$\\\\mathit{Fermi}$ dwarfs (2016)']\n",
    "\n",
    "# leg = plt.legend(handles,labels,loc=2,fontsize=17,fancybox=True,facecolor='none',frameon=False)\n",
    "\n",
    "plt.xscale('log')\n",
    "plt.yscale('log')\n",
    "plt.xticks(fontsize=23);\n",
    "plt.yticks(fontsize=23);\n",
    "plt.xlabel(r\"$m_\\chi$ [GeV]\",fontsize=23)\n",
    "plt.ylabel(r\"$\\langle \\sigma v \\rangle$ [cm$^3$ s$^{-1}$]\",fontsize=23)\n",
    "\n",
    "plt.xlim([1e1,1e4])\n",
    "plt.ylim([8e-28,2e-22])\n",
    "\n",
    "plt.text(240.3, 3.5e-27, r'\\textbf{\\emph{Fermi} Galaxy Groups}',fontsize=22,color='black')\n",
    "plt.text(950.3, 1.5e-27, r'Tully Catalogs, $b\\bar b$',fontsize=20,color='black')\n",
    "plt.text(380, 3.e-26, r'\\emph{Thermal relic cross section}',fontsize=19.,color='dimgrey')\n",
    "\n",
    "plt.tight_layout()\n",
    "\n",
    "plt.savefig(plots_dir + 'dwarfs.pdf',bbox_inches='tight')\n",
    "\n"
   ]
  },
  {
   "cell_type": "code",
   "execution_count": 33,
   "metadata": {},
   "outputs": [
    {
     "data": {
      "image/png": "[encoded data removed]",
      "text/plain": [
       "<matplotlib.figure.Figure at 0x2b0a51804b90>"
      ]
     },
     "metadata": {},
     "output_type": "display_data"
    }
   ],
   "source": [
    "fig, ax = plt.subplots(1, figsize=(plot_h, plot_w))\n",
    "\n",
    "fudge = 1.02\n",
    "\n",
    "plt.fill_between(plot_data.marr,10**np.percentile(data_skylocs_ary[len(data_ary)], 2.5, axis=1),10**np.percentile(data_skylocs_ary[len(data_ary)], 97.5, axis=1),color='yellow',label=r'95\\% containment',alpha=0.6,lw=2)\n",
    "plt.fill_between(plot_data.marr,10**np.percentile(data_skylocs_ary[len(data_ary)], 16, axis=1),10**np.percentile(data_skylocs_ary[len(data_ary)], 84, axis=1),color='limegreen',label=r'68\\% containment',alpha=0.7,lw=2)\n",
    "\n",
    "plt.plot(plot_data.marr,10**np.percentile(data_ary[-1], 2.5, axis=1), alpha=1, color='k',label=r'Galaxy groups (this work)',lw=2.5)\n",
    "plt.plot(plot_data.marr,10**np.percentile(data_ary_nb[-1], 2.5, axis=1), alpha=1, color='k',ls='--',label=r'Galaxy groups (no boost)',lw=2.5)\n",
    "\n",
    "\n",
    "plt.plot(10**GCE[::,0],10**GCE[::,1],color='darkorange',alpha= 1.0,lw=1.4)\n",
    "plt.plot(10**GCE[[0,-1],0],10**GCE[[0,-1],1],color='darkorange',alpha= 1.0,lw=1.4)\n",
    "plt.plot(10**GCE_calore[::,0],10**GCE_calore[::,1],color='blue',alpha = 1.0,lw=1.4) #label = r'Daylan et. al. 2014 (2$\\sigma$)',alpha=0.5)\n",
    "plt.plot(10**GCE_calore[[0,-1],0],10**GCE_calore[[0,-1],1],color='blue',alpha = 1.0,lw=1.4)\n",
    "plt.plot(10**GCE_gordan[::,0],10**GCE_gordan[::,1],color='magenta',alpha = 1.0,lw=1.4)\n",
    "plt.plot(10**GCE_gordan[[0,-1],0],10**GCE_gordan[[0,-1],1],color='magenta',alpha = 1.0,lw=1.4)\n",
    "plt.errorbar([10**ab_mean[0]],[10**ab_mean[1]],yerr = [ np.array([10**ab_mean[1] - 10**ab_low]), np.array([10**ab_up - 10**ab_mean[1] ]) ],\n",
    "            xerr = [ np.array([10**ab_mean[0] - 10**ab_L]), np.array([10**ab_R - 10**ab_mean[0] ]) ],color='red',\n",
    "            linewidth=2.0, capsize=6,capthick=.6,markersize=6,marker='o',alpha=0.7,mec='k')\n",
    "\n",
    "plt.plot(massD,LimD,color='grey',label = r'$\\mathit{Fermi}$ dwarfs (2016)',alpha=0.5)\n",
    "\n",
    "plt.plot(thermal[::,0],thermal[::,1],linestyle='dotted',color='dimgrey',linewidth=1)\n",
    "\n",
    "handles,labels = ax.get_legend_handles_labels()\n",
    "handles = [handles[0],handles[4], handles[3],handles[1],handles[2]] #, handles[2]]\n",
    "labels = [labels[0], handles[1],labels[4],labels[3],labels[2]] #, labels[2]]\n",
    "\n",
    "labels = [u'Galaxy groups (this work)',\n",
    " u'95\\\\% containment',\n",
    " u'68\\\\% containment',\n",
    "          u'Galaxy groups, no boost',\n",
    " u'$\\\\mathit{Fermi}$ dwarfs (2016)']\n",
    "\n",
    "leg = plt.legend(handles,labels,loc=2,fontsize=17,fancybox=True,facecolor='none',frameon=False)\n",
    "\n",
    "plt.xscale('log')\n",
    "plt.yscale('log')\n",
    "plt.xticks(fontsize=23);\n",
    "plt.yticks(fontsize=23);\n",
    "plt.xlabel(r\"$m_\\chi$ [GeV]\",fontsize=23)\n",
    "plt.ylabel(r\"$\\langle \\sigma v \\rangle$ [cm$^3$ s$^{-1}$]\",fontsize=23)\n",
    "\n",
    "plt.xlim([1e1,1e4])\n",
    "plt.ylim([8e-28,2e-22])\n",
    "\n",
    "plt.text(240.3, 3.5e-27, r'\\textbf{\\emph{Fermi} Galaxy Groups}',fontsize=22,color='black')\n",
    "plt.text(950.3, 1.5e-27, r'Tully Catalogs, $b\\bar b$',fontsize=20,color='black')\n",
    "plt.text(380, 3.e-26, r'\\emph{Thermal relic cross section}',fontsize=19.,color='dimgrey')\n",
    "\n",
    "plt.tight_layout()\n",
    "\n",
    "# plt.savefig(plots_dir + 'bounds.pdf',bbox_inches='tight')\n",
    "\n"
   ]
  },
  {
   "cell_type": "code",
   "execution_count": null,
   "metadata": {
    "collapsed": true
   },
   "outputs": [],
   "source": [
    "midx = 11\n",
    "fig, ax = plt.subplots(1, figsize=(plot_h, plot_w))\n",
    "\n",
    "plt.plot(np.arange(len(data_ary[:,midx,:])) + 1,10**np.percentile(data_ary[:,midx,:],[50],axis=1)[0], color='k',lw=2)\n",
    "plt.fill_between(np.arange(len(data_skylocs_ary[:,midx,:])) + 1,10**np.percentile(data_skylocs_ary[:,midx,:],[2.5],axis=1)[0],10**np.percentile(data_skylocs_ary[:,midx,:],[97.5],axis=1)[0], alpha=0.3, color='salmon')\n",
    "plt.fill_between(np.arange(len(data_skylocs_ary[:,midx,:])) + 1,10**np.percentile(data_skylocs_ary[:,midx,:],[16],axis=1)[0],10**np.percentile(data_skylocs_ary[:,midx,:],[84],axis=1)[0], alpha=0.4, color='salmon')\n",
    "\n",
    "plt.xscale('log')\n",
    "plt.yscale('log')\n",
    "plt.xticks(fontsize=23);\n",
    "plt.yticks(fontsize=23);\n",
    "plt.xlabel(r\"$N_\\mathrm{H}$ (halo number)]\",fontsize=23)\n",
    "plt.ylabel(r\"$\\langle \\sigma v \\rangle$ [cm$^3$ s$^{-1}$]\",fontsize=23)\n",
    "plt.xlim(1,len(data_ary[:,midx,:]) + 1) \n",
    "#     plt.xlim([1e1,1e4])\n",
    "plt.ylim([1.5e-26,3e-24])\n",
    "\n",
    "plt.text(1.3, 3.1e-26, r'\\textbf{\\emph{Fermi} Galaxy Groups}',fontsize=22,color='black')\n",
    "plt.text(1.3, 2.0e-26, r'Tully Catalogs, $b\\bar b, m_\\chi = 100$ GeV',fontsize=20,color='black')\n",
    "plt.tight_layout()\n",
    "\n",
    "# plt.savefig(plots_dir + 'elephant.pdf',bbox_inches='tight')\n",
    "\n",
    "\n"
   ]
  },
  {
   "cell_type": "markdown",
   "metadata": {},
   "source": [
    "## Other elephants"
   ]
  },
  {
   "cell_type": "code",
   "execution_count": null,
   "metadata": {
    "collapsed": true
   },
   "outputs": [],
   "source": [
    "midx = 0\n",
    "fig, ax = plt.subplots(1, figsize=(plot_h, plot_w))\n",
    "\n",
    "plt.plot(np.arange(len(data_ary[:,midx,:])) + 1,10**np.percentile(data_ary[:,midx,:],[50],axis=1)[0], color='k',lw=2)\n",
    "plt.fill_between(np.arange(len(data_skylocs_ary[:,midx,:])) + 1,10**np.percentile(data_skylocs_ary[:,midx,:],[2.5],axis=1)[0],10**np.percentile(data_skylocs_ary[:,midx,:],[97.5],axis=1)[0], alpha=0.3, color='salmon')\n",
    "plt.fill_between(np.arange(len(data_skylocs_ary[:,midx,:])) + 1,10**np.percentile(data_skylocs_ary[:,midx,:],[16],axis=1)[0],10**np.percentile(data_skylocs_ary[:,midx,:],[84],axis=1)[0], alpha=0.4, color='salmon')\n",
    "\n",
    "plt.xscale('log')\n",
    "plt.yscale('log')\n",
    "plt.xticks(fontsize=23);\n",
    "plt.yticks(fontsize=23);\n",
    "plt.xlabel(r\"$N_\\mathrm{H}$ (halo number)]\",fontsize=23)\n",
    "plt.ylabel(r\"$\\langle \\sigma v \\rangle$ [cm$^3$ s$^{-1}$]\",fontsize=23)\n",
    "plt.xlim(1,len(data_ary[:,midx,:]) + 1) \n",
    "#     plt.xlim([1e1,1e4])\n",
    "plt.ylim([1.5e-27,1e-24])\n",
    "\n",
    "plt.text(1.3, 3.1e-27, r'\\textbf{\\emph{Fermi} Galaxy Groups}',fontsize=22,color='black')\n",
    "plt.text(1.3, 1.85e-27, r'Tully Catalogs, $b\\bar b, m_\\chi = 10$ GeV',fontsize=20,color='black')\n",
    "plt.tight_layout()\n",
    "\n",
    "# plt.savefig(plots_dir + 'elephant10.pdf',bbox_inches='tight')\n",
    "\n",
    "\n",
    "\n"
   ]
  },
  {
   "cell_type": "code",
   "execution_count": null,
   "metadata": {
    "collapsed": true
   },
   "outputs": [],
   "source": [
    "midx = 52\n",
    "fig, ax = plt.subplots(1, figsize=(plot_h, plot_w))\n",
    "\n",
    "plt.plot(np.arange(len(data_ary[:,midx,:])) + 1,10**np.percentile(data_ary[:,midx,:],[50],axis=1)[0], color='k',lw=2)\n",
    "plt.fill_between(np.arange(len(data_skylocs_ary[:,midx,:])) + 1,10**np.percentile(data_skylocs_ary[:,midx,:],[2.5],axis=1)[0],10**np.percentile(data_skylocs_ary[:,midx,:],[97.5],axis=1)[0], alpha=0.3, color='salmon')\n",
    "plt.fill_between(np.arange(len(data_skylocs_ary[:,midx,:])) + 1,10**np.percentile(data_skylocs_ary[:,midx,:],[16],axis=1)[0],10**np.percentile(data_skylocs_ary[:,midx,:],[84],axis=1)[0], alpha=0.4, color='salmon')\n",
    "\n",
    "plt.xscale('log')\n",
    "plt.yscale('log')\n",
    "plt.xticks(fontsize=23);\n",
    "plt.yticks(fontsize=23);\n",
    "plt.xlabel(r\"$N_\\mathrm{H}$ (halo number)]\",fontsize=23)\n",
    "plt.ylabel(r\"$\\langle \\sigma v \\rangle$ [cm$^3$ s$^{-1}$]\",fontsize=23)\n",
    "plt.xlim(1,len(data_ary[:,midx,:]) + 1) \n",
    "#     plt.xlim([1e1,1e4])\n",
    "plt.ylim([3e-24,1e-21])\n",
    "\n",
    "plt.text(1.3, 6e-24, r'\\textbf{\\emph{Fermi} Galaxy Groups}',fontsize=22,color='black')\n",
    "plt.text(1.3, 3.8e-24, r'Tully Catalogs, $b\\bar b, m_\\chi = 10$ TeV',fontsize=20,color='black')\n",
    "plt.tight_layout()\n",
    "\n",
    "# plt.savefig(plots_dir + 'elephant10000.pdf',bbox_inches='tight')\n",
    "\n",
    "\n",
    "\n",
    "\n"
   ]
  },
  {
   "cell_type": "markdown",
   "metadata": {},
   "source": [
    "# Tables"
   ]
  },
  {
   "cell_type": "code",
   "execution_count": null,
   "metadata": {
    "collapsed": true
   },
   "outputs": [],
   "source": [
    "catalog = pd.read_csv(\"/tigress/nrodd/DM-Catalog-Scan/DataFiles/Catalogs/2MRSLocalTully_ALL_DATAPAPER_Planck15_v7.csv\")"
   ]
  },
  {
   "cell_type": "code",
   "execution_count": null,
   "metadata": {
    "collapsed": true
   },
   "outputs": [],
   "source": [
    "catalog.columns.values"
   ]
  },
  {
   "cell_type": "code",
   "execution_count": null,
   "metadata": {
    "collapsed": true
   },
   "outputs": [],
   "source": [
    "catalog['zred'] = catalog['z']*1000\n",
    "catalog['log10cvir_inf'] = np.log10(catalog['cvir_inf'])\n",
    "catalog['bsh'] = 10**catalog['mulog10J_inf']/10**catalog['mulog10Jnb_inf'] - 1\n",
    "catalog['paperName'] = [catalog['GName'][i] if isinstance(catalog['GName'][i], str) else catalog['Name'][i] for i in range(len(catalog))]"
   ]
  },
  {
   "cell_type": "code",
   "execution_count": null,
   "metadata": {
    "collapsed": true,
    "scrolled": false
   },
   "outputs": [],
   "source": [
    "catalog_paper = catalog.iloc[plot_data.passed_halos][['paperName','mulog10J_inf','log10Mvir_inf','zred','l','b','log10cvir_inf', 'theta_vir','bsh']].round(2).to_latex(index = False)"
   ]
  },
  {
   "cell_type": "code",
   "execution_count": null,
   "metadata": {
    "collapsed": true
   },
   "outputs": [],
   "source": [
    "print catalog_paper"
   ]
  },
  {
   "cell_type": "code",
   "execution_count": null,
   "metadata": {
    "collapsed": true
   },
   "outputs": [],
   "source": [
    "catalog_app = catalog[:100][['paperName','mulog10J_inf','log10Mvir_inf','zred','l','b','log10cvir_inf', 'theta_vir','bsh']]"
   ]
  },
  {
   "cell_type": "code",
   "execution_count": null,
   "metadata": {
    "collapsed": true
   },
   "outputs": [],
   "source": [
    "catalog_app['maxTS'] = [np.load(\"../data/Tully/LL2_TSmx_lim_b_o\" + str(iobj) + \"_data.npz\")['TSmx'][0] for iobj in range(len(catalog_app))]"
   ]
  },
  {
   "cell_type": "code",
   "execution_count": null,
   "metadata": {
    "collapsed": true
   },
   "outputs": [],
   "source": [
    "print catalog_app.round(2).to_latex(index = False)"
   ]
  },
  {
   "cell_type": "code",
   "execution_count": null,
   "metadata": {
    "collapsed": true
   },
   "outputs": [],
   "source": [
    "catalog_lu = pd.read_csv(\"/tigress/nrodd/DM-Catalog-Scan/DataFiles/Catalogs/2MRSLu_ALL_DATAPAPER_Planck15_v5.csv\")"
   ]
  },
  {
   "cell_type": "code",
   "execution_count": null,
   "metadata": {
    "collapsed": true
   },
   "outputs": [],
   "source": [
    "catalog_lu['zred'] = catalog_lu['z']*1000\n",
    "catalog_lu['log10cvir_inf'] = np.log10(catalog_lu['cvir_inf'])\n",
    "catalog_lu['bsh'] = 10**catalog_lu['mulog10J_inf']/10**catalog_lu['mulog10Jnb_inf'] - 1\n",
    "catalog_lu['paperName'] = [catalog_lu['Name'].values[i] for i in range(len(catalog_lu))]"
   ]
  },
  {
   "cell_type": "code",
   "execution_count": null,
   "metadata": {
    "collapsed": true
   },
   "outputs": [],
   "source": [
    "catalog_lu_app = catalog_lu[:100][['paperName','mulog10J_inf','log10Mvir_inf','zred','l','b','log10cvir_inf', 'ang_ext','bsh']]"
   ]
  },
  {
   "cell_type": "code",
   "execution_count": null,
   "metadata": {
    "collapsed": true
   },
   "outputs": [],
   "source": [
    "catalog_lu_app['maxTS'] = [np.load(\"../data/Lu/LL2_TSmx_lim_b_o\" + str(iobj) + \"_data.npz\")['TSmx'][0] for iobj in range(len(catalog_lu_app))]"
   ]
  },
  {
   "cell_type": "code",
   "execution_count": null,
   "metadata": {
    "collapsed": true
   },
   "outputs": [],
   "source": [
    "print catalog_lu_app.round(2).to_latex(index = False)"
   ]
  },
  {
   "cell_type": "markdown",
   "metadata": {},
   "source": [
    "# Sky maps"
   ]
  },
  {
   "cell_type": "code",
   "execution_count": null,
   "metadata": {
    "collapsed": true
   },
   "outputs": [],
   "source": [
    "l = catalog['l'][plot_data.passed_halos].values\n",
    "b = catalog['b'][plot_data.passed_halos].values\n",
    "s = 1000*10**catalog['mulog10J_inf'][plot_data.passed_halos].values/10**catalog['mulog10J_inf'][plot_data.passed_halos].values[0]"
   ]
  },
  {
   "cell_type": "code",
   "execution_count": null,
   "metadata": {
    "collapsed": true
   },
   "outputs": [],
   "source": [
    "import healpy as hp\n",
    "hp.mollview(np.zeros(hp.nside2npix(128)))\n",
    "hp.projscatter(l, b, lonlat=True, coord='G', marker='o', color='orange',s = s)\n",
    "# for i in tqdm_notebook(range(len(l))):\n",
    "#     hp.projscatter(l[i], b[i], lonlat=True, coord='G', marker='o', color='orange',s = s[i])"
   ]
  },
  {
   "cell_type": "markdown",
   "metadata": {},
   "source": [
    "# Other channels"
   ]
  },
  {
   "cell_type": "code",
   "execution_count": null,
   "metadata": {
    "collapsed": true
   },
   "outputs": [],
   "source": [
    "plot_data_channels = []\n",
    "\n",
    "for channel in tqdm_notebook(['e','mu','tau','q','c','t','W','Z']):\n",
    "# for channel in tqdm_notebook(['tau']):\n",
    "\n",
    "    channel_str = channel\n",
    "\n",
    "    plot_data_temp = LimitPlot(data_dir='/tigress/nrodd/DM-Catalog-Scan/Scan-Small-ROI/data/Tully_'+channel+'/////',\n",
    "                            elephant=False, \n",
    "                            nmc=1,\n",
    "                            bcut=20,\n",
    "                            nonoverlap=True,\n",
    "                            nonoverlapradius=2.,\n",
    "                            cut_0p5=False,\n",
    "                            xsecslim=10,\n",
    "                            TS100=4,\n",
    "                            TS1000=9,\n",
    "                            halos_ran=1000, \n",
    "                            halos_to_keep=1000,\n",
    "                            data_type=\"data\",\n",
    "                            catalog_file=\"/tigress/nrodd/DM-Catalog-Scan/DataFiles/Catalogs/2MRSLocalTully_ALL_DATAPAPER_Planck15_v7.csv\",\n",
    "                            file_prefix=r'LL2_TSmx_lim_'+channel_str+r'_o')\n",
    "\n",
    "    plot_data_channels.append(plot_data_temp)"
   ]
  },
  {
   "cell_type": "code",
   "execution_count": null,
   "metadata": {
    "collapsed": true
   },
   "outputs": [],
   "source": [
    "data_ary_channels = []\n",
    "\n",
    "for i in range(len(tqdm_notebook(plot_data_channels))):\n",
    "    data_ary_channels.append(plot_data_channels[i].return_limits())"
   ]
  },
  {
   "cell_type": "code",
   "execution_count": null,
   "metadata": {
    "collapsed": true
   },
   "outputs": [],
   "source": [
    "plot_colors = [\"forestgreen\",\"forestgreen\",\"forestgreen\",\"goldenrod\",\"goldenrod\",\"goldenrod\",\"lightcoral\",\"lightcoral\"]\n",
    "plot_ls = [\"-\",\"--\",\"-.\",\"-\",\"--\",\"-.\",\"-\",\"--\"]"
   ]
  },
  {
   "cell_type": "code",
   "execution_count": null,
   "metadata": {
    "collapsed": true
   },
   "outputs": [],
   "source": [
    "fig,ax = plt.subplots(1,figsize=(10/1.2,8/1.2))\n",
    "\n",
    "# plt.plot(m_arr,data_lim,color='k',label=r'Galaxy groups (this work)',linewidth=2,linestyle='solid')\n",
    "# plt.plot(m_arr,data_lim_nb,color='black',label=r'Galaxy groups (no boost)',linewidth=1,linestyle='dashed')\n",
    "\n",
    "# fudge=1.0 \n",
    "# plt.fill_between(m_arr,fudge*rot_q2p5,fudge*rot_q97p5,color='yellow',label=r'95\\% containment',alpha=0.6)\n",
    "# plt.fill_between(m_arr,fudge*rot_q16,fudge*rot_q84,color='limegreen',label=r'68\\% containment',alpha=0.7)\n",
    "\n",
    "plt.plot(plot_data.marr,10**np.percentile(data_ary[-1], 2.5, axis=1), alpha=1, color='k',label=r'$b$')\n",
    "\n",
    "\n",
    "\n",
    "for i, label in enumerate((['e','mu','tau','q','c','t','W','Z'])):\n",
    "    if label in [\"mu\",\"tau\"]:\n",
    "        label = \"\\\\\" + label\n",
    "    label = \"$\" + label + \"$\"    \n",
    "    plt.plot(plot_data.marr,[None if v == 1.0 else v for v in 10**np.percentile(data_ary_channels[i][0][-1], 16, axis=1)], label=label, color=plot_colors[i],ls=plot_ls[i])\n",
    "\n",
    "plt.plot(thermal[::,0],thermal[::,1],linestyle='dotted',color='dimgrey',linewidth=1)\n",
    "plt.text(380, 3.e-26, r'\\emph{Thermal relic cross section}',fontsize=19.,color='dimgrey')\n",
    "# plt.text(7000, 1.0e-27, r'$b \\bar b$',fontsize=20,color='black')\n",
    "\n",
    "# set the alpha value of the legend: it will be translucent\n",
    "# leg.get_frame().set_alpha(0.1)\n",
    "\n",
    "plt.xscale('log')\n",
    "plt.yscale('log')\n",
    "plt.xticks(fontsize=23);\n",
    "plt.yticks(fontsize=23);\n",
    "plt.xlabel(r\"$m_\\chi$ [GeV]\",fontsize=23)\n",
    "plt.ylabel(r\"$\\langle \\sigma v \\rangle$ [cm$^3$ s$^{-1}$]\",fontsize=23)\n",
    "#plt.legend(fontsize=18,loc = 2)\n",
    "\n",
    "plt.xlim([1e1,1e4])\n",
    "plt.ylim([8e-28,2e-22])\n",
    "\n",
    "plt.text(240.3, 3.5e-27, r'\\textbf{\\emph{Fermi} Galaxy Groups}',fontsize=22,color='black')\n",
    "plt.text(310.3, 1.5e-27, r'Other annihilation channels',fontsize=20,color='black')\n",
    "\n",
    "plt.legend(ncol=2,fancybox=True,facecolor='none',frameon=False,loc='upper left')\n",
    "\n",
    "plt.tight_layout()\n",
    "\n",
    "plt.savefig(plots_dir + 'other_annh.pdf',bbox_inches='tight')\n",
    "\n",
    "\n"
   ]
  },
  {
   "cell_type": "markdown",
   "metadata": {},
   "source": [
    "# Systematics"
   ]
  },
  {
   "cell_type": "code",
   "execution_count": null,
   "metadata": {
    "collapsed": true
   },
   "outputs": [],
   "source": [
    "plot_data_Lu = LimitPlot(data_dir='/tigress/nrodd/DM-Catalog-Scan/Scan-Small-ROI/data/Lu//',\n",
    "                        elephant=False, \n",
    "                        nmc=1,\n",
    "                        bcut=20,\n",
    "                        nonoverlap=True,\n",
    "                        nonoverlapradius=2.,\n",
    "                        cut_0p5=False,\n",
    "                        xsecslim=10,\n",
    "                        TS100=4,\n",
    "                        TS1000=9,\n",
    "                        halos_ran=1000, \n",
    "                        halos_to_keep=1000,\n",
    "                        data_type=\"data\",\n",
    "                        catalog_file=\"/tigress/nrodd/DM-Catalog-Scan/DataFiles/Catalogs/2MRSLu_ALL_DATAPAPER_Planck15_v5.csv\")"
   ]
  },
  {
   "cell_type": "code",
   "execution_count": null,
   "metadata": {
    "collapsed": true
   },
   "outputs": [],
   "source": [
    "data_ary_Lu, _ = plot_data_Lu.return_limits()"
   ]
  },
  {
   "cell_type": "code",
   "execution_count": null,
   "metadata": {
    "collapsed": true
   },
   "outputs": [],
   "source": [
    "plot_data_p7 = LimitPlot(data_dir='/tigress/nrodd/DM-Catalog-Scan/Scan-Small-ROI/data/Tully_p7///',\n",
    "                        elephant=False, \n",
    "                        nmc=1,\n",
    "                        bcut=20,\n",
    "                        nonoverlap=True,\n",
    "                        nonoverlapradius=2.,\n",
    "                        cut_0p5=True,\n",
    "                        xsecslim=10,\n",
    "                        TS100=4,\n",
    "                        TS1000=9,\n",
    "                        halos_ran=1000, \n",
    "                        halos_to_keep=1000,\n",
    "                        data_type=\"data\",\n",
    "                        catalog_file=\"/tigress/nrodd/DM-Catalog-Scan/DataFiles/Catalogs/2MRSLocalTully_ALL_DATAPAPER_Planck15_v7.csv\")"
   ]
  },
  {
   "cell_type": "code",
   "execution_count": null,
   "metadata": {
    "collapsed": true
   },
   "outputs": [],
   "source": [
    "data_ary_p7, _ = plot_data_p7.return_limits()"
   ]
  },
  {
   "cell_type": "code",
   "execution_count": null,
   "metadata": {
    "collapsed": true
   },
   "outputs": [],
   "source": [
    "plot_data_UCV3 = LimitPlot(data_dir='/tigress/nrodd/DM-Catalog-Scan/Scan-Small-ROI/data/Tully_UCV3///',\n",
    "                        elephant=False, \n",
    "                        nmc=1,\n",
    "                        bcut=20,\n",
    "                        nonoverlap=True,\n",
    "                        nonoverlapradius=2.,\n",
    "                        cut_0p5=False,\n",
    "                        xsecslim=10,\n",
    "                        TS100=4,\n",
    "                        TS1000=9,\n",
    "                        halos_ran=1000, \n",
    "                        halos_to_keep=1000,\n",
    "                        data_type=\"data\",\n",
    "                        catalog_file=\"/tigress/nrodd/DM-Catalog-Scan/DataFiles/Catalogs/2MRSLocalTully_ALL_DATAPAPER_Planck15_v7.csv\")"
   ]
  },
  {
   "cell_type": "code",
   "execution_count": null,
   "metadata": {
    "collapsed": true
   },
   "outputs": [],
   "source": [
    "data_ary_UCV3, _ = plot_data_UCV3.return_limits()"
   ]
  },
  {
   "cell_type": "code",
   "execution_count": null,
   "metadata": {
    "collapsed": true
   },
   "outputs": [],
   "source": [
    "plot_data_useboost = LimitPlot(data_dir='/tigress/nrodd/DM-Catalog-Scan/Scan-Small-ROI/data/Tully_useboost////',\n",
    "                        elephant=False, \n",
    "                        nmc=1,\n",
    "                        bcut=20,\n",
    "                        nonoverlap=True,\n",
    "                        nonoverlapradius=2.,\n",
    "                        cut_0p5=False,\n",
    "                        xsecslim=10,\n",
    "                        TS100=4,\n",
    "                        TS1000=9,\n",
    "                        halos_ran=1000, \n",
    "                        halos_to_keep=1000,\n",
    "                        data_type=\"data\",\n",
    "                        catalog_file=\"/tigress/nrodd/DM-Catalog-Scan/DataFiles/Catalogs/2MRSLocalTully_ALL_DATAPAPER_Planck15_v7.csv\")"
   ]
  },
  {
   "cell_type": "code",
   "execution_count": null,
   "metadata": {
    "collapsed": true
   },
   "outputs": [],
   "source": [
    "data_ary_useboost, _ = plot_data_useboost.return_limits()"
   ]
  },
  {
   "cell_type": "code",
   "execution_count": null,
   "metadata": {
    "collapsed": true
   },
   "outputs": [],
   "source": [
    "plot_data_Burkert = LimitPlot(data_dir='/tigress/nrodd/DM-Catalog-Scan/Scan-Small-ROI/data/Tully_Burkert///',\n",
    "                        elephant=False, \n",
    "                        nmc=1,\n",
    "                        bcut=20,\n",
    "                        nonoverlap=True,\n",
    "                        nonoverlapradius=2.,\n",
    "                        cut_0p5=False,\n",
    "                        xsecslim=10,\n",
    "                        TS100=4,\n",
    "                        TS1000=9,\n",
    "                        halos_ran=1000, \n",
    "                        halos_to_keep=1000,\n",
    "                        data_type=\"data\",\n",
    "                        catalog_file=\"/tigress/nrodd/DM-Catalog-Scan/DataFiles/Catalogs/2MRSLocalTully_ALL_DATAPAPER_Planck15_v7.csv\",\n",
    "                             file_prefix=\"LL2_TSmx_lim_b_Burk_o\")"
   ]
  },
  {
   "cell_type": "code",
   "execution_count": null,
   "metadata": {
    "collapsed": true
   },
   "outputs": [],
   "source": [
    "data_ary_Burkert, _ = plot_data_Burkert.return_limits()"
   ]
  },
  {
   "cell_type": "code",
   "execution_count": null,
   "metadata": {
    "collapsed": true
   },
   "outputs": [],
   "source": [
    "plot_data_diemerconc = LimitPlot(data_dir='/tigress/nrodd/DM-Catalog-Scan/Scan-Small-ROI/data/Tully_diemerconc///',\n",
    "                        elephant=False, \n",
    "                        nmc=1,\n",
    "                        bcut=20,\n",
    "                        nonoverlap=True,\n",
    "                        nonoverlapradius=2.,\n",
    "                        cut_0p5=False,\n",
    "                        xsecslim=10,\n",
    "                        TS100=4,\n",
    "                        TS1000=9,\n",
    "                        halos_ran=1000, \n",
    "                        halos_to_keep=1000,\n",
    "                        data_type=\"data\",\n",
    "                        catalog_file=\"/tigress/nrodd/DM-Catalog-Scan/DataFiles/Catalogs/2MRSLocalTully_ALL_DATAPAPER_Planck15_diemerconc_v7.csv\"\n",
    "                                )"
   ]
  },
  {
   "cell_type": "code",
   "execution_count": null,
   "metadata": {
    "collapsed": true
   },
   "outputs": [],
   "source": [
    "data_ary_diemerconc, _ = plot_data_diemerconc.return_limits()"
   ]
  },
  {
   "cell_type": "code",
   "execution_count": null,
   "metadata": {
    "collapsed": true
   },
   "outputs": [],
   "source": [
    "plot_data_gaoboost = LimitPlot(data_dir='/tigress/nrodd/DM-Catalog-Scan/Scan-Small-ROI/data/Tully_gaoboost////',\n",
    "                        elephant=False, \n",
    "                        nmc=1,\n",
    "                        bcut=20,\n",
    "                        nonoverlap=True,\n",
    "                        nonoverlapradius=2.,\n",
    "                        cut_0p5=False,\n",
    "                        xsecslim=10,\n",
    "                        TS100=4,\n",
    "                        TS1000=9,\n",
    "                        halos_ran=1000, \n",
    "                        halos_to_keep=1000,\n",
    "                        data_type=\"data\",\n",
    "                        catalog_file=\"/tigress/nrodd/DM-Catalog-Scan/DataFiles/Catalogs/2MRSLocalTully_ALL_DATAPAPER_Planck15_gaoboost_v7.csv\"\n",
    "                                )"
   ]
  },
  {
   "cell_type": "code",
   "execution_count": null,
   "metadata": {
    "collapsed": true
   },
   "outputs": [],
   "source": [
    "data_ary_gaoboost, _ = plot_data_gaoboost.return_limits()"
   ]
  },
  {
   "cell_type": "code",
   "execution_count": null,
   "metadata": {
    "collapsed": true
   },
   "outputs": [],
   "source": [
    "plot_data_mmin1e4 = LimitPlot(data_dir='/tigress/nrodd/DM-Catalog-Scan/Scan-Small-ROI/data/Tully_mmin1e4////',\n",
    "                        elephant=False, \n",
    "                        nmc=1,\n",
    "                        bcut=20,\n",
    "                        nonoverlap=True,\n",
    "                        nonoverlapradius=2.,\n",
    "                        cut_0p5=False,\n",
    "                        xsecslim=10,\n",
    "                        TS100=4,\n",
    "                        TS1000=9,\n",
    "                        halos_ran=1000, \n",
    "                        halos_to_keep=1000,\n",
    "                        data_type=\"data\",\n",
    "                        catalog_file=\"/tigress/nrodd/DM-Catalog-Scan/DataFiles/Catalogs/2MRSLocalTully_ALL_DATAPAPER_Planck15_mmin1e4_v7.csv\"\n",
    "                                )"
   ]
  },
  {
   "cell_type": "code",
   "execution_count": null,
   "metadata": {
    "collapsed": true
   },
   "outputs": [],
   "source": [
    "data_ary_mmin1e4, _ = plot_data_mmin1e4.return_limits()"
   ]
  },
  {
   "cell_type": "code",
   "execution_count": null,
   "metadata": {
    "collapsed": true
   },
   "outputs": [],
   "source": [
    "plot_data_sanchezboost = LimitPlot(data_dir='/tigress/nrodd/DM-Catalog-Scan/Scan-Small-ROI/data/Tully_sanchezboost/////',\n",
    "                        elephant=False, \n",
    "                        nmc=1,\n",
    "                        bcut=20,\n",
    "                        nonoverlap=True,\n",
    "                        nonoverlapradius=2.,\n",
    "                        cut_0p5=False,\n",
    "                        xsecslim=10,\n",
    "                        TS100=4,\n",
    "                        TS1000=9,\n",
    "                        halos_ran=1000, \n",
    "                        halos_to_keep=1000,\n",
    "                        data_type=\"data\",\n",
    "                        catalog_file=\"/tigress/nrodd/DM-Catalog-Scan/DataFiles/Catalogs/2MRSLocalTully_ALL_DATAPAPER_Planck15_sanchezboost_v7.csv\"\n",
    "                                )"
   ]
  },
  {
   "cell_type": "code",
   "execution_count": null,
   "metadata": {
    "collapsed": true
   },
   "outputs": [],
   "source": [
    "data_ary_sanchezboost, _ = plot_data_sanchezboost.return_limits()"
   ]
  },
  {
   "cell_type": "code",
   "execution_count": null,
   "metadata": {
    "collapsed": true
   },
   "outputs": [],
   "source": [
    "plot_data_alpha20 = LimitPlot(data_dir='/tigress/nrodd/DM-Catalog-Scan/Scan-Small-ROI/data/Tully_sanchezboost/////',\n",
    "                        elephant=False, \n",
    "                        nmc=1,\n",
    "                        bcut=20,\n",
    "                        nonoverlap=True,\n",
    "                        nonoverlapradius=2.,\n",
    "                        cut_0p5=False,\n",
    "                        xsecslim=10,\n",
    "                        TS100=4,\n",
    "                        TS1000=9,\n",
    "                        halos_ran=1000, \n",
    "                        halos_to_keep=1000,\n",
    "                        data_type=\"data\",\n",
    "                        catalog_file=\"/tigress/nrodd/DM-Catalog-Scan/DataFiles/Catalogs/2MRSLocalTully_ALL_DATAPAPER_Planck15_alpha20_v7.csv\"\n",
    "                                )"
   ]
  },
  {
   "cell_type": "code",
   "execution_count": null,
   "metadata": {
    "collapsed": true
   },
   "outputs": [],
   "source": [
    "data_ary_alpha20, _ = plot_data_alpha20.return_limits()"
   ]
  },
  {
   "cell_type": "code",
   "execution_count": null,
   "metadata": {
    "collapsed": true
   },
   "outputs": [],
   "source": [
    "fig,ax = plt.subplots(1,figsize=(10/1.2,8/1.2))\n",
    "\n",
    "# plt.plot(m_arr,data_lim,color='k',label=r'Galaxy groups (this work)',linewidth=2,linestyle='solid')\n",
    "# plt.plot(m_arr,data_lim_nb,color='black',label=r'Galaxy groups (no boost)',linewidth=1,linestyle='dashed')\n",
    "\n",
    "# fudge=1.0 \n",
    "# plt.fill_between(m_arr,fudge*rot_q2p5,fudge*rot_q97p5,color='yellow',label=r'95\\% containment',alpha=0.6)\n",
    "# plt.fill_between(m_arr,fudge*rot_q16,fudge*rot_q84,color='limegreen',label=r'68\\% containment',alpha=0.7)\n",
    "\n",
    "plt.plot(plot_data.marr,10**np.percentile(data_ary[-1], 2.5, axis=1), alpha=1, color='k',label=r'Baseline (Tully catalogs)')\n",
    "plt.plot(plot_data.marr,10**np.percentile(data_ary_Lu[-1], 2.5, axis=1), alpha=1, color='k',label=r'Lu group catalog',ls='--')\n",
    "\n",
    "\n",
    "\n",
    "plt.plot(thermal[::,0],thermal[::,1],linestyle='dotted',color='dimgrey',linewidth=1)\n",
    "plt.text(380, 3.e-26, r'\\emph{Thermal relic cross section}',fontsize=19.,color='dimgrey')\n",
    "# plt.text(7000, 1.0e-27, r'$b \\bar b$',fontsize=20,color='black')\n",
    "\n",
    "# set the alpha value of the legend: it will be translucent\n",
    "# leg.get_frame().set_alpha(0.1)\n",
    "\n",
    "plt.xscale('log')\n",
    "plt.yscale('log')\n",
    "plt.xticks(fontsize=23);\n",
    "plt.yticks(fontsize=23);\n",
    "plt.xlabel(r\"$m_\\chi$ [GeV]\",fontsize=23)\n",
    "plt.ylabel(r\"$\\langle \\sigma v \\rangle$ [cm$^3$ s$^{-1}$]\",fontsize=23)\n",
    "#plt.legend(fontsize=18,loc = 2)\n",
    "\n",
    "plt.xlim([1e1,1e4])\n",
    "plt.ylim([8e-28,2e-22])\n",
    "\n",
    "plt.text(240.3, 3.5e-27, r'\\textbf{\\emph{Fermi} Galaxy Groups}',fontsize=22,color='black')\n",
    "plt.text(1100.3, 1.5e-27, r'Lu group catalog',fontsize=20,color='black')\n",
    "\n",
    "plt.legend(ncol=1,fancybox=True,facecolor='none',frameon=False)\n",
    "\n",
    "plt.tight_layout()\n",
    "\n",
    "plt.savefig(plots_dir + 'systematics_lu.pdf',bbox_inches='tight')"
   ]
  },
  {
   "cell_type": "code",
   "execution_count": null,
   "metadata": {
    "collapsed": true
   },
   "outputs": [],
   "source": [
    "fig,ax = plt.subplots(1,figsize=(10/1.2,8/1.2))\n",
    "\n",
    "for midx in [11]:\n",
    "    plt.plot(np.arange(len(data_ary[:,midx,:])) + 1,10**np.percentile(data_ary[:,midx,:],[50],axis=1)[0], color='k', ls='-', label=\"Baseline (Tully catalogs)\")\n",
    "    plt.plot(np.arange(len(data_ary_Lu[:,midx,:])) + 1,10**np.percentile(data_ary_Lu[:,midx,:],[50],axis=1)[0], color='k', ls='--', label=\"Lu group catalog\")\n",
    "\n",
    "\n",
    "#     plt.title(\"$M_\\chi$ = \" + str(int(plot_data_skylocs.marr[midx])) + \" GeV\")\n",
    "    \n",
    "    plt.xlabel(\"$N_h$\",fontsize=23)\n",
    "    plt.ylabel(\"$\\langle \\sigma v \\\\rangle$ [cm$^3$s$^{-1}$]\",fontsize=23)\n",
    "    \n",
    "    plt.xscale(\"log\")\n",
    "    plt.yscale(\"log\")\n",
    "    \n",
    "    plt.xticks(fontsize=23);\n",
    "    plt.yticks(fontsize=23);\n",
    "\n",
    "    plt.legend(ncol=1,fancybox=True,facecolor='none',frameon=False)\n",
    "    plt.text(15.3, 1.5e-26, r'\\textbf{\\emph{Fermi} Galaxy Groups}',fontsize=22,color='black')\n",
    "    plt.text(60.3, 0.9e-26, r'Lu group catalog',fontsize=20,color='black')\n",
    "\n",
    "\n",
    "    plt.ylim(5e-27,5e-24)\n",
    "    plt.xlim(min(np.arange(len(data_ary_Lu[:,midx,:]))),max(np.arange(len(data_ary_Lu[:,midx,:]))))\n",
    "    plt.tight_layout()\n",
    "\n",
    "\n",
    "    plt.savefig(plots_dir + \"systematics_lu_elephant.pdf\")\n",
    "    plt.show()"
   ]
  },
  {
   "cell_type": "code",
   "execution_count": null,
   "metadata": {
    "collapsed": true
   },
   "outputs": [],
   "source": [
    "fig,ax = plt.subplots(1,figsize=(10/1.2,8/1.2))\n",
    "\n",
    "# plt.plot(m_arr,data_lim,color='k',label=r'Galaxy groups (this work)',linewidth=2,linestyle='solid')\n",
    "# plt.plot(m_arr,data_lim_nb,color='black',label=r'Galaxy groups (no boost)',linewidth=1,linestyle='dashed')\n",
    "\n",
    "# fudge=1.0 \n",
    "# plt.fill_between(m_arr,fudge*rot_q2p5,fudge*rot_q97p5,color='yellow',label=r'95\\% containment',alpha=0.6)\n",
    "# plt.fill_between(m_arr,fudge*rot_q16,fudge*rot_q84,color='limegreen',label=r'68\\% containment',alpha=0.7)\n",
    "\n",
    "plt.plot(plot_data.marr,10**np.percentile(data_ary[-1], 2.5, axis=1), alpha=1, color='k',label=r'Baseline')\n",
    "plt.plot(plot_data.marr,10**np.percentile(data_ary_p7[-1], 2.5, axis=1), alpha=1, color='k',label=r'\\texttt{p7v6} diffuse model',ls='--')\n",
    "plt.plot(plot_data.marr,10**np.percentile(data_ary_UCV3[-1], 2.5, axis=1), alpha=1, color='k',label=r'Top PSF quartile',ls='-.')\n",
    "\n",
    "\n",
    "\n",
    "\n",
    "plt.plot(thermal[::,0],thermal[::,1],linestyle='dotted',color='dimgrey',linewidth=1)\n",
    "plt.text(380, 3.e-26, r'\\emph{Thermal relic cross section}',fontsize=19.,color='dimgrey')\n",
    "# plt.text(7000, 1.0e-27, r'$b \\bar b$',fontsize=20,color='black')\n",
    "\n",
    "# set the alpha value of the legend: it will be translucent\n",
    "# leg.get_frame().set_alpha(0.1)\n",
    "\n",
    "plt.xscale('log')\n",
    "plt.yscale('log')\n",
    "plt.xticks(fontsize=23);\n",
    "plt.yticks(fontsize=23);\n",
    "plt.xlabel(r\"$m_\\chi$ [GeV]\",fontsize=23)\n",
    "plt.ylabel(r\"$\\langle \\sigma v \\rangle$ [cm$^3$ s$^{-1}$]\",fontsize=23)\n",
    "#plt.legend(fontsize=18,loc = 2)\n",
    "\n",
    "plt.xlim([1e1,1e4])\n",
    "plt.ylim([8e-28,2e-22])\n",
    "\n",
    "plt.text(240.3, 3.5e-27, r'\\textbf{\\emph{Fermi} Galaxy Groups}',fontsize=22,color='black')\n",
    "plt.text(63., 1.5e-27, r'Data set and foreground model variations',fontsize=20,color='black')\n",
    "\n",
    "plt.legend(ncol=1,fancybox=True,facecolor='none',frameon=False)\n",
    "\n",
    "plt.tight_layout()\n",
    "\n",
    "plt.savefig(plots_dir + 'systematics_dataset.pdf',bbox_inches='tight')"
   ]
  },
  {
   "cell_type": "code",
   "execution_count": null,
   "metadata": {
    "collapsed": true
   },
   "outputs": [],
   "source": [
    "fig,ax = plt.subplots(1,figsize=(10/1.2,8/1.2))\n",
    "\n",
    "# plt.plot(m_arr,data_lim,color='k',label=r'Galaxy groups (this work)',linewidth=2,linestyle='solid')\n",
    "# plt.plot(m_arr,data_lim_nb,color='black',label=r'Galaxy groups (no boost)',linewidth=1,linestyle='dashed')\n",
    "\n",
    "# fudge=1.0 \n",
    "# plt.fill_between(m_arr,fudge*rot_q2p5,fudge*rot_q97p5,color='yellow',label=r'95\\% containment',alpha=0.6)\n",
    "# plt.fill_between(m_arr,fudge*rot_q16,fudge*rot_q84,color='limegreen',label=r'68\\% containment',alpha=0.7)\n",
    "\n",
    "plt.plot(plot_data.marr,10**np.percentile(data_ary[-1], 2.5, axis=1), alpha=1, color='k',label=r'Baseline')\n",
    "plt.plot(plot_data.marr,10**np.percentile(data_ary_useboost[-1], 2.5, axis=1), alpha=1, color='k',label=r'$\\rho_\\mathrm{NFW}$-boosted profile',ls='--')\n",
    "plt.plot(plot_data.marr,10**np.percentile(data_ary_Burkert[-1], 2.5, axis=1), alpha=1, color='k',label=r'Burkert profile',ls='-.')\n",
    "plt.plot(plot_data.marr,10**np.percentile(data_ary_diemerconc[-1], 2.5, axis=1), alpha=1, color='k',label=r'Diemer concentration',ls=':')\n",
    "\n",
    "\n",
    "\n",
    "\n",
    "\n",
    "plt.plot(thermal[::,0],thermal[::,1],linestyle='dotted',color='dimgrey',linewidth=1)\n",
    "plt.text(380, 3.e-26, r'\\emph{Thermal relic cross section}',fontsize=19.,color='dimgrey')\n",
    "# plt.text(7000, 1.0e-27, r'$b \\bar b$',fontsize=20,color='black')\n",
    "\n",
    "# set the alpha value of the legend: it will be translucent\n",
    "# leg.get_frame().set_alpha(0.1)\n",
    "\n",
    "plt.xscale('log')\n",
    "plt.yscale('log')\n",
    "plt.xticks(fontsize=23);\n",
    "plt.yticks(fontsize=23);\n",
    "plt.xlabel(r\"$m_\\chi$ [GeV]\",fontsize=23)\n",
    "plt.ylabel(r\"$\\langle \\sigma v \\rangle$ [cm$^3$ s$^{-1}$]\",fontsize=23)\n",
    "#plt.legend(fontsize=18,loc = 2)\n",
    "\n",
    "plt.xlim([1e1,1e4])\n",
    "plt.ylim([8e-28,2e-22])\n",
    "\n",
    "plt.text(240.3, 3.5e-27, r'\\textbf{\\emph{Fermi} Galaxy Groups}',fontsize=22,color='black')\n",
    "plt.text(70.3, 1.5e-27, r'Halo profile and concentration variations',fontsize=20,color='black')\n",
    "\n",
    "plt.legend(ncol=1,fancybox=True,facecolor='none',frameon=False)\n",
    "\n",
    "plt.tight_layout()\n",
    "\n",
    "plt.savefig(plots_dir + 'systematics_profile_conc.pdf',bbox_inches='tight')"
   ]
  },
  {
   "cell_type": "code",
   "execution_count": null,
   "metadata": {
    "collapsed": true
   },
   "outputs": [],
   "source": [
    "fig,ax = plt.subplots(1,figsize=(10/1.2,8/1.2))\n",
    "\n",
    "# plt.plot(m_arr,data_lim,color='k',label=r'Galaxy groups (this work)',linewidth=2,linestyle='solid')\n",
    "# plt.plot(m_arr,data_lim_nb,color='black',label=r'Galaxy groups (no boost)',linewidth=1,linestyle='dashed')\n",
    "\n",
    "# fudge=1.0 \n",
    "# plt.fill_between(m_arr,fudge*rot_q2p5,fudge*rot_q97p5,color='yellow',label=r'95\\% containment',alpha=0.6)\n",
    "# plt.fill_between(m_arr,fudge*rot_q16,fudge*rot_q84,color='limegreen',label=r'68\\% containment',alpha=0.7)\n",
    "\n",
    "plt.plot(plot_data.marr,10**np.percentile(data_ary[-1], 2.5, axis=1), alpha=1, color='k',label=r'Baseline (Bartels)')\n",
    "plt.plot(plot_data.marr,10**np.percentile(data_ary_mmin1e4[-1], 2.5, axis=1), alpha=1, color='k',label=r'Bartels $M_\\mathrm{min} = 10^{4}M_\\odot$',ls='-.')\n",
    "plt.plot(plot_data.marr,10**np.percentile(data_ary_alpha20[-1], 2.5, axis=1), alpha=1, color='k',label=r'Bartels $\\alpha = 2.0$',ls='--')\n",
    "plt.plot(plot_data.marr,10**np.percentile(data_ary_sanchezboost[-1], 2.5, axis=1), alpha=1, color='k',label=r\"{Molin\\'{e}}\",ls=':')\n",
    "plt.plot(plot_data.marr,10**np.percentile(data_ary_gaoboost[-1], 2.5, axis=1), alpha=1, color='grey',label=r'Gao',ls='--')\n",
    "\n",
    "\n",
    "\n",
    "\n",
    "\n",
    "\n",
    "\n",
    "plt.plot(thermal[::,0],thermal[::,1],linestyle='dotted',color='dimgrey',linewidth=1)\n",
    "plt.text(380, 3.e-26, r'\\emph{Thermal relic cross section}',fontsize=19.,color='dimgrey')\n",
    "# plt.text(7000, 1.0e-27, r'$b \\bar b$',fontsize=20,color='black')\n",
    "\n",
    "# set the alpha value of the legend: it will be translucent\n",
    "# leg.get_frame().set_alpha(0.1)\n",
    "\n",
    "plt.xscale('log')\n",
    "plt.yscale('log')\n",
    "plt.xticks(fontsize=23);\n",
    "plt.yticks(fontsize=23);\n",
    "plt.xlabel(r\"$m_\\chi$ [GeV]\",fontsize=23)\n",
    "plt.ylabel(r\"$\\langle \\sigma v \\rangle$ [cm$^3$ s$^{-1}$]\",fontsize=23)\n",
    "#plt.legend(fontsize=18,loc = 2)\n",
    "\n",
    "plt.xlim([1e1,1e4])\n",
    "plt.ylim([8e-28,2e-22])\n",
    "\n",
    "plt.text(240.3, 3.5e-27, r'\\textbf{\\emph{Fermi} Galaxy Groups}',fontsize=22,color='black')\n",
    "plt.text(540.3, 1.5e-27, r'Boost model variations',fontsize=20,color='black')\n",
    "\n",
    "plt.legend(ncol=1,fancybox=True,facecolor='none',frameon=False)\n",
    "\n",
    "plt.tight_layout()\n",
    "\n",
    "plt.savefig(plots_dir + 'systematics_boost.pdf',bbox_inches='tight')"
   ]
  },
  {
   "cell_type": "markdown",
   "metadata": {},
   "source": [
    "# Individual halos"
   ]
  },
  {
   "cell_type": "code",
   "execution_count": null,
   "metadata": {
    "collapsed": true
   },
   "outputs": [],
   "source": [
    "plot_single_mcs = []\n",
    "plot_single_datas = []\n",
    "\n",
    "maxts_single_mcs = []\n",
    "maxts_single_datas = []\n",
    "\n",
    "\n",
    "for i in tqdm_notebook(range(10)):\n",
    "    plot_single_mc, _, maxts_single_mc  = plot_data_skylocs.return_limits_single(i)\n",
    "    plot_single_data, _, maxts_single_data= plot_data.return_limits_single(i)\n",
    "    \n",
    "    plot_single_mcs.append(plot_single_mc)\n",
    "    plot_single_datas.append(plot_single_data)\n",
    "    \n",
    "    maxts_single_mcs.append(maxts_single_mc)\n",
    "    maxts_single_datas.append(maxts_single_data)"
   ]
  },
  {
   "cell_type": "code",
   "execution_count": null,
   "metadata": {
    "collapsed": true
   },
   "outputs": [],
   "source": [
    "save_dir = '/tigress/bsafdi/github/NPTF-working/NPTF-ID-Catalog/runs_sid/notebooks/DataArrays/'\n",
    "\n",
    "oFig1 = plt.figure(1,figsize=(15,20))\n",
    "\n",
    "# for sidx in [0]:\n",
    "for idx,i in tqdm_notebook(enumerate(range(10))):\n",
    "\n",
    "    \n",
    "\n",
    "    oFig1.add_subplot(5,2,idx+1)\n",
    "    plt.fill_between(plot_data.marr,10**np.percentile(plot_single_mcs[i], 2.5, axis=1),10**np.percentile(plot_single_mcs[i], 97.5, axis=1), alpha=0.6, color='yellow')\n",
    "    plt.fill_between(plot_data.marr,10**np.percentile(plot_single_mcs[i], 16, axis=1),10**np.percentile(plot_single_mcs[i], 84, axis=1), alpha=0.7, color='limegreen')\n",
    "    plt.plot(plot_data.marr,10**np.percentile(plot_single_datas[i], 2.5, axis=1), alpha=1., color='k',ls='-')\n",
    "\n",
    "    plt.yscale(\"log\")\n",
    "    plt.xscale(\"log\")\n",
    "    plt.xlim(10,10000)\n",
    "    plt.ylim(10**-27,10**-20)\n",
    "    plt.plot(thermal[::,0],thermal[::,1],linestyle='dotted',color='dimgrey',linewidth=1)\n",
    "    plt.text(1500, 3.5e-26, r'\\emph{Thermal relic}',fontsize=19.,color='dimgrey')\n",
    "\n",
    "    plt.xticks(fontsize=23);\n",
    "    plt.yticks(fontsize=23);\n",
    "    plt.xlabel(r\"$m_\\chi$ [GeV]\",fontsize=23)\n",
    "\n",
    "    if i % 2 == 0: plt.ylabel(\"$\\langle \\sigma v \\\\rangle$ [cm$^3$s$^{-1}$]\",fontsize=23)\n",
    "    if i in plot_data.passed_halos:\n",
    "        plt.text(10**1.1,10**-20.85, r'\\textbf{Object '+str(i)+'} / ' + catalog['paperName'].values[i].replace(\"_\", \"\"), fontsize=19, color='k')\n",
    "    else:\n",
    "        plt.text(10**1.1,10**-20.85, r'\\textbf{Object '+str(i)+'} / ' + catalog['paperName'].values[i].replace(\"_\", \"\"), fontsize=19, color='red')\n",
    "    plt.text(10**1.1,10**-21.8, '$\\log_{10}J='+str(catalog['mulog10J_inf'].values[i])[:5] + \"$ GeV$^2$ cm$^{-5}$ sr\", fontsize=19, color='k')#/(GeV$^2$ cm$^{-5}$)\n",
    "\n",
    "    plt.legend(loc = 'upper right')\n",
    "    plt.tight_layout()\n",
    "plt.savefig(plots_dir + \"data_individual_lims.pdf\")\n",
    "\n"
   ]
  },
  {
   "cell_type": "code",
   "execution_count": null,
   "metadata": {
    "collapsed": true
   },
   "outputs": [],
   "source": [
    "save_dir = '/tigress/bsafdi/github/NPTF-working/NPTF-ID-Catalog/runs_sid/notebooks/DataArrays/'\n",
    "\n",
    "oFig1 = plt.figure(1,figsize=(15,20))\n",
    "\n",
    "for idx,i in tqdm_notebook(enumerate(range(10))):\n",
    "\n",
    "    oFig1.add_subplot(5,2,idx+1)\n",
    "    plt.fill_between(plot_data.marr,np.percentile(maxts_single_mcs[i], 2.5, axis=1),np.percentile(maxts_single_mcs[i], 97.5, axis=1), alpha=0.6, color='yellow')\n",
    "    plt.fill_between(plot_data.marr,np.percentile(maxts_single_mcs[i], 16, axis=1),np.percentile(maxts_single_mcs[i], 84, axis=1), alpha=0.7, color='limegreen')\n",
    "    plt.plot(plot_data.marr,np.percentile(maxts_single_datas[i], 2.5, axis=1), alpha=1., color='k',ls='-')\n",
    "\n",
    "    plt.xscale(\"log\")\n",
    "    plt.xlim(10,10000)\n",
    "    plt.ylim(0, 50)\n",
    "\n",
    "    plt.xticks(fontsize=23);\n",
    "    plt.yticks(fontsize=23);\n",
    "\n",
    "    if i % 2 == 0: plt.ylabel(\"TS$_\\mathrm{max}$\",fontsize=23)\n",
    "    if i in plot_data.passed_halos:\n",
    "        plt.text(10**1.1,45, r'\\textbf{Object '+str(i)+'} / ' + catalog['paperName'].values[i].replace(\"_\", \"\"), fontsize=19, color='k')\n",
    "    else:\n",
    "        plt.text(10**1.1,45, r'\\textbf{Object '+str(i)+'} / ' + catalog['paperName'].values[i].replace(\"_\", \"\"), fontsize=19, color='red')\n",
    "    plt.text(10**1.1,38, '$\\log_{10}J='+str(catalog['mulog10J_inf'].values[i])[:5] + \"$ GeV$^2$ cm$^{-5}$ sr\", fontsize=19, color='k')#/(GeV$^2$ cm$^{-5}$)\n",
    "\n",
    "plt.tight_layout()\n",
    "plt.savefig(plots_dir + \"data_individual_maxts.pdf\")\n",
    "\n"
   ]
  },
  {
   "cell_type": "code",
   "execution_count": null,
   "metadata": {
    "collapsed": true
   },
   "outputs": [],
   "source": [
    "en_bins = 2*np.logspace(-1,3,41)\n",
    "bin_centers = [10**((np.log10(en_bins[i])+np.log10(en_bins[i+1]))/2.) for i in range(40)]\n",
    "\n",
    "en_stacked = np.vstack((en_bins,en_bins)).reshape((-1,),order='F')[1:-1]"
   ]
  },
  {
   "cell_type": "code",
   "execution_count": null,
   "metadata": {
    "collapsed": true
   },
   "outputs": [],
   "source": []
  },
  {
   "cell_type": "code",
   "execution_count": null,
   "metadata": {
    "collapsed": true
   },
   "outputs": [],
   "source": [
    "fig, axes2d = plt.subplots(nrows=5, ncols=2,\n",
    "                           figsize=(15,20))\n",
    "\n",
    "data_dir = \"../data/Tully/\"\n",
    "sim_dir = \"../data/Tully_randlocs\"\n",
    "for l, row in tqdm_notebook(enumerate(axes2d)):\n",
    "    for j, cell in enumerate(row):\n",
    "        ihalo = l*2 + j\n",
    "        halo = plot_data.passed_halos[l*2 + j]\n",
    "        d_ivals = np.load(data_dir + 'LL_inten_o'+str(halo)+'_data.npz')['intens']\n",
    "        d_lvals = np.load(data_dir + 'LL_inten_o'+str(halo)+'_data.npz')['LL']\n",
    "        \n",
    "        rep_angext = np.array([0.02785567,0.12069876,0.21354185,0.30638494,0.39922802,0.49207111,0.5849142,0.67775728,0.77060037,0.86344346,0.95628654,1.04912963,1.14197272,1.2348158,1.32765889,1.42050198,1.51334507,1.60618815,1.69903124,1.79187433])\n",
    "        obj_angext = 2*catalog[u'rs'].values[ihalo] / \\\n",
    "                     (Planck15.angular_diameter_distance(catalog[u'z'].values[ihalo]).value*1000) \\\n",
    "                     * 180./np.pi\n",
    "        rep_index = (np.abs(rep_angext-obj_angext)).argmin()\n",
    "        \n",
    "        s_ivals = np.load(sim_dir + '0/LL_inten_o'+str(rep_index)+'_data.npz')['intens'] # intensity the same for all MC\n",
    "\n",
    "        nsim = 1500\n",
    "        sim_arr_all = np.zeros(shape=(nsim,40,200))\n",
    "\n",
    "        limit_total = np.zeros((nsim, 40 ))\n",
    "\n",
    "        for i in (range(nsim)):\n",
    "            sim_arr_all[i] = np.load(sim_dir + str(i) + '/LL_inten_o'+str(rep_index)+'_data.npz')['LL']\n",
    "\n",
    "        for i in (range(40)):\n",
    "            tmp_TS = np.zeros(shape=(nsim,200))\n",
    "            for j in range(nsim):\n",
    "                tmp_TS[j] = 2*(sim_arr_all[j,i,:]-sim_arr_all[j,i,0])\n",
    "                max_arg= np.argmax(tmp_TS[j])\n",
    "                max_val = tmp_TS[j][max_arg]\n",
    "                for xi in range(max_arg,len(s_ivals[i])):\n",
    "                    val = tmp_TS[j][xi]-max_val\n",
    "                    if val < -2.71:\n",
    "                        limit_total[j, i] = s_ivals[i][xi]\n",
    "                        break\n",
    "\n",
    "\n",
    "\n",
    "        limit_data = np.zeros(40)\n",
    "        for en in range(40):\n",
    "            TS_data = 2*(d_lvals[en]-d_lvals[en,0])\n",
    "            max_arg= np.argmax(TS_data)\n",
    "            max_val = TS_data[max_arg]\n",
    "            for xi in range(max_arg,len(d_ivals[en])):\n",
    "                val = TS_data[xi]-max_val\n",
    "                if val < -2.71:\n",
    "                    limit_data[en] = d_ivals[en][xi]\n",
    "                    break\n",
    "\n",
    "        lims = np.transpose([corner.quantile(np.transpose(limit_total)[i],[.025,0.14,.68,0.975]) for i in range(40)])\n",
    "\n",
    "        fluxlim_stacked = np.vstack((limit_data,limit_data)).reshape((-1,),order='F')[:]\n",
    "        fluxlim_stacked_sim2p5 = np.vstack((lims[0],lims[0])).reshape((-1,),order='F')[:]\n",
    "        fluxlim_stacked_sim16 = np.vstack((lims[1],lims[1])).reshape((-1,),order='F')[:]\n",
    "        fluxlim_stacked_sim68 = np.vstack((lims[2],lims[2])).reshape((-1,),order='F')[:]\n",
    "        fluxlim_stacked_sim97p5 = np.vstack((lims[3],lims[3])).reshape((-1,),order='F')[:]\n",
    "\n",
    "        cell.fill_between(np.log10(en_stacked), np.log10(fluxlim_stacked_sim2p5),np.log10(fluxlim_stacked_sim97p5), color='yellow',alpha=0.6)\n",
    "        cell.fill_between(np.log10(en_stacked), np.log10(fluxlim_stacked_sim16),np.log10(fluxlim_stacked_sim68), color='limegreen',alpha=0.7)\n",
    "        \n",
    "        cell.set_xlabel(\"$E$ [GeV]\")\n",
    "        \n",
    "        if ihalo == 4:\n",
    "            cell.set_ylabel(\"Flux [cm$^{-2}$ s$^{-1}$]\")\n",
    "\n",
    "\n",
    "        cell.set_xlim(np.log10(.2),np.log10(2000))\n",
    "        cell.set_ylim(-12,-8)\n",
    "        \n",
    "        cell.set_yticks([-12,-10,-8])\n",
    "        cell.set_yticklabels([\"$10^{-12}$\",\"$10^{-10}$\",\"$10^{-8}$\"], fontsize=23)\n",
    "    \n",
    "\n",
    "        cell.set_xticks([0,1,2,3])\n",
    "        cell.set_xticklabels([\"$10^{0}$\",\"$10^{1}$\",\"$10^{2}$\",\"$10^{3}$\"], fontsize=23)\n",
    "\n",
    "\n",
    "        for i in range(len(bin_centers)):\n",
    "            cell.arrow(np.log10(bin_centers[i]), np.log10(limit_data[i]), 0, -.3, length_includes_head=True,head_width=.06, head_length=.1, fc='k', ec='k')\n",
    "\n",
    "        cell.errorbar(np.log10(bin_centers), np.log10(limit_data), marker='_',markersize= 6.,color='k',ls='none')\n",
    "\n",
    "        cell.text(3.,-8.8, r'\\textbf{Object '+str(halo)+'} / ' + catalog['paperName'].values[halo].replace(\"_\", \"\"), fontsize=17, color='k',horizontalalignment='right')\n",
    "\n",
    "plt.tight_layout()\n",
    "plt.savefig(plots_dir + \"FluxUL.pdf\")"
   ]
  },
  {
   "cell_type": "markdown",
   "metadata": {},
   "source": [
    "# max TS"
   ]
  },
  {
   "cell_type": "code",
   "execution_count": 42,
   "metadata": {},
   "outputs": [
    {
     "data": {
      "image/png": "[encoded data removed]",
      "text/plain": [
       "<matplotlib.figure.Figure at 0x2b0a5bc26750>"
      ]
     },
     "metadata": {},
     "output_type": "display_data"
    }
   ],
   "source": [
    "fig, ax = plt.subplots(1, figsize=(plot_h, plot_w))\n",
    "\n",
    "plt.plot(plot_data.marr,np.percentile(maxTS_ary[-1], 2.5, axis=1), alpha=1, color='k',label=r'Data',lw=2.5)\n",
    "\n",
    "# plt.fill_between(plot_data.marr,np.percentile(maxTS_skylocs_ary[-1], 2.5, axis=1),np.percentile(maxTS_skylocs_ary[-1], 97.5, axis=1),color='yellow',label=r'95\\% containment',alpha=0.6,lw=2)\n",
    "# plt.fill_between(plot_data.marr,np.percentile(maxTS_skylocs_ary[-1], 16, axis=1),np.percentile(maxTS_skylocs_ary[-1], 84, axis=1),color='limegreen',label=r'68\\% containment',alpha=0.7,lw=2)\n",
    "\n",
    "\n",
    "plt.xscale(\"log\")\n",
    "plt.yscale(\"log\")\n",
    "\n",
    "plt.xticks(fontsize=23);\n",
    "plt.yticks(fontsize=23);\n",
    "plt.xlabel(r\"$m_\\chi$ [GeV]\",fontsize=23)\n",
    "plt.ylabel(r\"TS$_\\mathrm{max}$\",fontsize=23)\n",
    "\n",
    "plt.xlim([1e1,1e4])\n",
    "# plt.ylim([8e-28,2e-22])\n",
    "# plt.yscale(\"log\")\n",
    "# plt.text(15.3, 100, r'\\textbf{\\emph{Fermi} Galaxy Groups}',fontsize=22,color='black')\n",
    "plt.legend(ncol=1,fancybox=True,facecolor='none',frameon=False, loc='upper left')\n",
    "\n",
    "\n",
    "# plt.ylim(-0.1,100)\n",
    "plt.tight_layout()\n",
    "\n",
    "# plt.savefig(plots_dir + 'maxTS.pdf',bbox_inches='tight')\n",
    "\n",
    "\n",
    "\n"
   ]
  },
  {
   "cell_type": "code",
   "execution_count": null,
   "metadata": {
    "collapsed": true
   },
   "outputs": [],
   "source": [
    "plot_data_test = LimitPlot(data_dir='/tigress/nrodd/DM-Catalog-Scan/Scan-Small-ROI/data/Tully//',\n",
    "                        elephant=False, \n",
    "                        nmc=1,\n",
    "                        bcut=20,\n",
    "                        nonoverlap=True,\n",
    "                        nonoverlapradius=2.,\n",
    "                        cut_0p5=False,\n",
    "                        xsecslim=10,\n",
    "                        TS100=400000,\n",
    "                        TS1000=9,\n",
    "                        halos_ran=100, \n",
    "                        halos_to_keep=100,\n",
    "                        data_type=\"data\",\n",
    "                        catalog_file=\"/tigress/nrodd/DM-Catalog-Scan/DataFiles/Catalogs/2MRSLocalTully_ALL_DATAPAPER_Planck15_v7.csv\")\n",
    "\n",
    "data_ary_test, _, maxTS_ary_test = plot_data_test.return_limits()"
   ]
  },
  {
   "cell_type": "code",
   "execution_count": null,
   "metadata": {
    "collapsed": true,
    "scrolled": false
   },
   "outputs": [],
   "source": [
    "save_dir = '/tigress/bsafdi/github/NPTF-working/NPTF-ID-Catalog/runs_sid/notebooks/DataArrays/'\n",
    "\n",
    "oFig1 = plt.figure(1,figsize=(15,40))\n",
    "\n",
    "for idx,i in tqdm_notebook(enumerate(range(20))):\n",
    "\n",
    "    oFig1.add_subplot(10,2,idx+1)\n",
    "#     plt.fill_between(plot_data.marr,np.percentile(maxTS_skylocs_ary[i], 2.5, axis=1),np.percentile(maxTS_skylocs_ary[i], 97.5, axis=1), alpha=0.6, color='yellow')\n",
    "#     plt.fill_between(plot_data.marr,np.percentile(maxTS_skylocs_ary[i], 16, axis=1),np.percentile(maxTS_skylocs_ary[i], 84, axis=1), alpha=0.7, color='limegreen')\n",
    "    plt.plot(plot_data.marr,np.percentile(maxTS_ary_test[i], 2.5, axis=1), alpha=1., color='k',ls='-')\n",
    "\n",
    "    plt.xscale(\"log\")\n",
    "    plt.xlim(10,10000)\n",
    "#     plt.ylim(0, 50)\n",
    "    \n",
    "#     plt.yscale(\"log\")\n",
    "    plt.xticks(fontsize=23);\n",
    "    plt.yticks(fontsize=23);\n",
    "\n",
    "    if i % 2 == 0: plt.ylabel(\"TS$_\\mathrm{max}$\",fontsize=23)\n",
    "#     if i in plot_data.passed_halos:\n",
    "#         plt.text(10**1.1,45, r'\\textbf{Object '+str(i)+'} / ' + catalog['paperName'].values[i].replace(\"_\", \"\"), fontsize=19, color='k')\n",
    "#     else:\n",
    "#         plt.text(10**1.1,45, r'\\textbf{Object '+str(i)+'} / ' + catalog['paperName'].values[i].replace(\"_\", \"\"), fontsize=19, color='red')\n",
    "#     plt.text(10**1.1,38, '$\\log_{10}J='+str(catalog['mulog10J_inf'].values[i])[:5] + \"$ GeV$^2$ cm$^{-5}$ sr\", fontsize=19, color='k')#/(GeV$^2$ cm$^{-5}$)\n",
    "\n",
    "plt.tight_layout()\n",
    "# plt.savefig(plots_dir + \"data_individual_maxts.pdf\")\n",
    "\n",
    "\n"
   ]
  },
  {
   "cell_type": "code",
   "execution_count": null,
   "metadata": {
    "collapsed": true
   },
   "outputs": [],
   "source": [
    "xsecs = np.logspace(-33,-18,301)"
   ]
  },
  {
   "cell_type": "code",
   "execution_count": null,
   "metadata": {
    "collapsed": true
   },
   "outputs": [],
   "source": [
    "LL1  = np.load(\"../data/Tully/LL2_TSmx_lim_b_o\" + str(plot_data.passed_halos[0]) + \"_data.npz\")['LL2'][11] + np.load(\"../data/Tully/LL2_TSmx_lim_b_o\" + str(plot_data.passed_halos[1]) + \"_data.npz\")['LL2'][11]\n",
    "LL1-=LL1[0]\n",
    "LL2  = np.load(\"../data/Tully/LL2_TSmx_lim_b_o\" + str(plot_data.passed_halos[2]) + \"_data.npz\")['LL2'][11]\n",
    "LL2-=LL2[0]"
   ]
  },
  {
   "cell_type": "code",
   "execution_count": null,
   "metadata": {
    "collapsed": true
   },
   "outputs": [],
   "source": [
    "LL1"
   ]
  },
  {
   "cell_type": "code",
   "execution_count": null,
   "metadata": {
    "collapsed": true
   },
   "outputs": [],
   "source": [
    "print max(LL1)\n",
    "print max(LL2)\n",
    "print max(LL3)"
   ]
  },
  {
   "cell_type": "code",
   "execution_count": null,
   "metadata": {
    "collapsed": true
   },
   "outputs": [],
   "source": [
    "plt.plot(xsecs, LL1)\n",
    "plt.ylim(-5 + LL1[0],5 + LL1[0])\n",
    "plt.xscale(\"log\")\n",
    "plt.show()\n",
    "plt.plot(xsecs, LL2)\n",
    "plt.ylim(-5 + LL2[0],5 + LL2[0])\n",
    "plt.xscale(\"log\")\n",
    "plt.show()\n",
    "\n",
    "LL3 = LL1 + LL2\n",
    "plt.plot(xsecs, LL3)\n",
    "plt.ylim(-5 + LL3[0],5 + LL3[0])\n",
    "plt.xscale(\"log\")\n",
    "plt.show()"
   ]
  },
  {
   "cell_type": "code",
   "execution_count": null,
   "metadata": {
    "collapsed": true,
    "scrolled": false
   },
   "outputs": [],
   "source": [
    "LL = np.zeros(len(np.load(\"../data/Tully/LL2_TSmx_lim_b_o\" + str(iobj) + \"_data.npz\")['LL2'][5]))\n",
    "\n",
    "for iobj in tqdm_notebook(plot_data.passed_halos[:3]):\n",
    "# for iobj in tqdm_notebook([1,3,5]):\n",
    "    LL_new = np.load(\"../data/Tully/LL2_TSmx_lim_b_o\" + str(iobj) + \"_data.npz\")['LL2'][11]\n",
    "#     LL_new -= LL_new[0]\n",
    "    LL+= LL_new\n",
    "    LL -= LL[0]\n",
    "    plt.plot(xsecs, LL)\n",
    "    plt.xscale(\"log\")\n",
    "#     plt.ylim(-5,5)\n",
    "    plt.ylim(-5 + LL[0],5 + LL[0])\n",
    "    plt.show()\n",
    "#     plt.plot(xsecs, LL_new, color='forestgreen')\n",
    "#     plt.xscale(\"log\")\n",
    "#     plt.ylim(-5 + LL_new[0],5 + LL_new[0])\n",
    "#     plt.show()\n",
    "\n",
    "\n",
    "\n",
    "\n",
    "#     print LL[0]\n",
    "\n",
    "#     print np.max(LL)"
   ]
  },
  {
   "cell_type": "markdown",
   "metadata": {},
   "source": [
    "# TS and xsec cuts"
   ]
  },
  {
   "cell_type": "code",
   "execution_count": null,
   "metadata": {
    "collapsed": true
   },
   "outputs": [],
   "source": [
    "plot_data_TS9 = LimitPlot(data_dir='/tigress/nrodd/DM-Catalog-Scan/Scan-Small-ROI/data/Tully//',\n",
    "                        elephant=False, \n",
    "                        nmc=1,\n",
    "                        bcut=20,\n",
    "                        nonoverlap=True,\n",
    "                        nonoverlapradius=2.,\n",
    "                        cut_0p5=False,\n",
    "                        xsecslim=10,\n",
    "                        TS100=9,\n",
    "                        TS1000=16,\n",
    "                        halos_ran=1000, \n",
    "                        halos_to_keep=1000,\n",
    "                        data_type=\"data\",\n",
    "                        catalog_file=\"/tigress/nrodd/DM-Catalog-Scan/DataFiles/Catalogs/2MRSLocalTully_ALL_DATAPAPER_Planck15_v7.csv\")\n",
    "\n",
    "plot_data_xsec20 = LimitPlot(data_dir='/tigress/nrodd/DM-Catalog-Scan/Scan-Small-ROI/data/Tully//',\n",
    "                        elephant=False, \n",
    "                        nmc=1,\n",
    "                        bcut=20,\n",
    "                        nonoverlap=True,\n",
    "                        nonoverlapradius=2.,\n",
    "                        cut_0p5=False,\n",
    "                        xsecslim=20,\n",
    "                        TS100=4,\n",
    "                        TS1000=9,\n",
    "                        halos_ran=1000, \n",
    "                        halos_to_keep=1000,\n",
    "                        data_type=\"data\",\n",
    "                        catalog_file=\"/tigress/nrodd/DM-Catalog-Scan/DataFiles/Catalogs/2MRSLocalTully_ALL_DATAPAPER_Planck15_v7.csv\")\n",
    "\n",
    "plot_data_nocut = LimitPlot(data_dir='/tigress/nrodd/DM-Catalog-Scan/Scan-Small-ROI/data/Tully//',\n",
    "                        elephant=False, \n",
    "                        nmc=1,\n",
    "                        bcut=20,\n",
    "                        nonoverlap=True,\n",
    "                        nonoverlapradius=2.,\n",
    "                        cut_0p5=False,\n",
    "                        xsecslim=10000000000,\n",
    "                        TS100=4,\n",
    "                        TS1000=9,\n",
    "                        halos_ran=1000, \n",
    "                        halos_to_keep=1000,\n",
    "                        data_type=\"data\",\n",
    "                        catalog_file=\"/tigress/nrodd/DM-Catalog-Scan/DataFiles/Catalogs/2MRSLocalTully_ALL_DATAPAPER_Planck15_v7.csv\")\n",
    "\n",
    "\n",
    "plot_data_noverlap5 = LimitPlot(data_dir='/tigress/nrodd/DM-Catalog-Scan/Scan-Small-ROI/data/Tully//',\n",
    "                        elephant=False, \n",
    "                        nmc=1,\n",
    "                        bcut=20,\n",
    "                        nonoverlap=True,\n",
    "                        nonoverlapradius=5.,\n",
    "                        cut_0p5=False,\n",
    "                        xsecslim=10,\n",
    "                        TS100=4,\n",
    "                        TS1000=9,\n",
    "                        halos_ran=1000, \n",
    "                        halos_to_keep=1000,\n",
    "                        data_type=\"data\",\n",
    "                        catalog_file=\"/tigress/nrodd/DM-Catalog-Scan/DataFiles/Catalogs/2MRSLocalTully_ALL_DATAPAPER_Planck15_v7.csv\")\n",
    "\n",
    "\n",
    "plot_data_bcut15 = LimitPlot(data_dir='/tigress/nrodd/DM-Catalog-Scan/Scan-Small-ROI/data/Tully//',\n",
    "                        elephant=False, \n",
    "                        nmc=1,\n",
    "                        bcut=15,\n",
    "                        nonoverlap=True,\n",
    "                        nonoverlapradius=2.,\n",
    "                        cut_0p5=False,\n",
    "                        xsecslim=10,\n",
    "                        TS100=4,\n",
    "                        TS1000=9,\n",
    "                        halos_ran=1000, \n",
    "                        halos_to_keep=1000,\n",
    "                        data_type=\"data\",\n",
    "                        catalog_file=\"/tigress/nrodd/DM-Catalog-Scan/DataFiles/Catalogs/2MRSLocalTully_ALL_DATAPAPER_Planck15_v7.csv\")"
   ]
  },
  {
   "cell_type": "code",
   "execution_count": null,
   "metadata": {
    "collapsed": true
   },
   "outputs": [],
   "source": [
    "data_ary_TS9, _, _ = plot_data_TS9.return_limits()\n",
    "data_ary_xsec20, _, _ = plot_data_xsec20.return_limits()\n",
    "data_ary_nocut, _, _ = plot_data_nocut.return_limits()\n",
    "data_ary_noverlap5, _, _ = plot_data_noverlap5.return_limits()\n",
    "data_ary_bcut15, _, _ = plot_data_bcut15.return_limits()"
   ]
  },
  {
   "cell_type": "code",
   "execution_count": null,
   "metadata": {
    "collapsed": true
   },
   "outputs": [],
   "source": [
    "\n",
    "plot_data_Andromeda = LimitPlot(data_dir='/tigress/nrodd/DM-Catalog-Scan/Scan-Small-ROI/data/Tully//',\n",
    "                        elephant=False, \n",
    "                        nmc=1,\n",
    "                        bcut=20,\n",
    "                        nonoverlap=True,\n",
    "                        nonoverlapradius=2.,\n",
    "                        cut_0p5=False,\n",
    "                        xsecslim=10,\n",
    "                        TS100=4,\n",
    "                        TS1000=9,\n",
    "                        halos_ran=1000, \n",
    "                        halos_to_keep=1000,\n",
    "                        data_type=\"data\",\n",
    "                        catalog_file=\"/tigress/nrodd/DM-Catalog-Scan/DataFiles/Catalogs/2MRSLocalTully_ALL_DATAPAPER_Planck15_v7.csv\",\n",
    "                               skip_halos=[])"
   ]
  },
  {
   "cell_type": "code",
   "execution_count": null,
   "metadata": {
    "collapsed": true
   },
   "outputs": [],
   "source": [
    "data_ary_Andromeda, _, _ = plot_data_Andromeda.return_limits()"
   ]
  },
  {
   "cell_type": "code",
   "execution_count": null,
   "metadata": {
    "collapsed": true
   },
   "outputs": [],
   "source": [
    "fig,ax = plt.subplots(1,figsize=(10/1.2,8/1.2))\n",
    "\n",
    "# plt.plot(m_arr,data_lim,color='k',label=r'Galaxy groups (this work)',linewidth=2,linestyle='solid')\n",
    "# plt.plot(m_arr,data_lim_nb,color='black',label=r'Galaxy groups (no boost)',linewidth=1,linestyle='dashed')\n",
    "\n",
    "# fudge=1.0 \n",
    "# plt.fill_between(m_arr,fudge*rot_q2p5,fudge*rot_q97p5,color='yellow',label=r'95\\% containment',alpha=0.6)\n",
    "# plt.fill_between(m_arr,fudge*rot_q16,fudge*rot_q84,color='limegreen',label=r'68\\% containment',alpha=0.7)\n",
    "\n",
    "plt.plot(plot_data.marr,10**np.percentile(data_ary[-1], 2.5, axis=1), alpha=1, color='k',label=r'Baseline')\n",
    "plt.plot(plot_data.marr,10**np.percentile(data_ary_TS9[-1], 2.5, axis=1), alpha=1, color='k',label=r'TS$_\\mathrm{max < 100} = 9$, TS$_\\mathrm{max > 100} = 16$',ls='--')\n",
    "plt.plot(plot_data.marr,10**np.percentile(data_ary_xsec20[-1], 2.5, axis=1), alpha=1, color='k',label=r'$\\widehat{\\langle\\sigma v\\rangle} > 20 \\times \\langle\\sigma v\\rangle^*_\\mathrm{lim}(m_\\chi)$',ls='-.')\n",
    "plt.plot(plot_data.marr,10**np.percentile(data_ary_nocut[-1], 2.5, axis=1), alpha=1, color='k',label=r'No cuts',ls=':')\n",
    "\n",
    "\n",
    "\n",
    "\n",
    "plt.plot(thermal[::,0],thermal[::,1],linestyle='dotted',color='dimgrey',linewidth=1)\n",
    "plt.text(380, 3.e-26, r'\\emph{Thermal relic cross section}',fontsize=19.,color='dimgrey')\n",
    "# plt.text(7000, 1.0e-27, r'$b \\bar b$',fontsize=20,color='black')\n",
    "\n",
    "# set the alpha value of the legend: it will be translucent\n",
    "# leg.get_frame().set_alpha(0.1)\n",
    "\n",
    "plt.xscale('log')\n",
    "plt.yscale('log')\n",
    "plt.xticks(fontsize=23);\n",
    "plt.yticks(fontsize=23);\n",
    "plt.xlabel(r\"$m_\\chi$ [GeV]\",fontsize=23)\n",
    "plt.ylabel(r\"$\\langle \\sigma v \\rangle$ [cm$^3$ s$^{-1}$]\",fontsize=23)\n",
    "#plt.legend(fontsize=18,loc = 2)\n",
    "\n",
    "plt.xlim([1e1,1e4])\n",
    "plt.ylim([8e-28,2e-22])\n",
    "\n",
    "plt.text(240.3, 3.5e-27, r'\\textbf{\\emph{Fermi} Galaxy Groups}',fontsize=22,color='black')\n",
    "plt.text(380., 1.5e-27, r'Effect of TS and $\\langle\\sigma v \\rangle$ cuts',fontsize=20,color='black')\n",
    "\n",
    "plt.legend(ncol=1,fancybox=True,facecolor='none',frameon=False)\n",
    "\n",
    "plt.tight_layout()\n",
    "\n",
    "plt.savefig(plots_dir + 'systematics_cuts.pdf',bbox_inches='tight')"
   ]
  },
  {
   "cell_type": "code",
   "execution_count": null,
   "metadata": {
    "collapsed": true
   },
   "outputs": [],
   "source": [
    "fig,ax = plt.subplots(1,figsize=(10/1.2,8/1.2))\n",
    "\n",
    "# plt.plot(m_arr,data_lim,color='k',label=r'Galaxy groups (this work)',linewidth=2,linestyle='solid')\n",
    "# plt.plot(m_arr,data_lim_nb,color='black',label=r'Galaxy groups (no boost)',linewidth=1,linestyle='dashed')\n",
    "\n",
    "# fudge=1.0 \n",
    "# plt.fill_between(m_arr,fudge*rot_q2p5,fudge*rot_q97p5,color='yellow',label=r'95\\% containment',alpha=0.6)\n",
    "# plt.fill_between(m_arr,fudge*rot_q16,fudge*rot_q84,color='limegreen',label=r'68\\% containment',alpha=0.7)\n",
    "\n",
    "plt.plot(plot_data.marr,10**np.percentile(data_ary[-1], 2.5, axis=1), alpha=1, color='k',label=r'Baseline')\n",
    "plt.plot(plot_data.marr,10**np.percentile(data_ary_noverlap5[-1], 2.5, axis=1), alpha=1, color='k',label=r'No overlap within 5$^\\circ$',ls='--')\n",
    "plt.plot(plot_data.marr,10**np.percentile(data_ary_bcut15[-1], 2.5, axis=1), alpha=1, color='k',label=r'$|b| \\geq 15$',ls='-.')\n",
    "plt.plot(plot_data.marr,10**np.percentile(data_ary_Andromeda[-1], 2.5, axis=1), alpha=1, color='k',label=r'Including M31',ls='-', lw=2.2)\n",
    "plt.plot(plot_data.marr,10**np.percentile(data_ary_10k[-1], 2.5, axis=1), alpha=1, color='k',label=r'10k halos',ls=':')\n",
    "\n",
    "\n",
    "\n",
    "\n",
    "plt.plot(thermal[::,0],thermal[::,1],linestyle='dotted',color='dimgrey',linewidth=1)\n",
    "plt.text(380, 3.e-26, r'\\emph{Thermal relic cross section}',fontsize=19.,color='dimgrey')\n",
    "# plt.text(7000, 1.0e-27, r'$b \\bar b$',fontsize=20,color='black')\n",
    "\n",
    "# set the alpha value of the legend: it will be translucent\n",
    "# leg.get_frame().set_alpha(0.1)\n",
    "\n",
    "plt.xscale('log')\n",
    "plt.yscale('log')\n",
    "plt.xticks(fontsize=23);\n",
    "plt.yticks(fontsize=23);\n",
    "plt.xlabel(r\"$m_\\chi$ [GeV]\",fontsize=23)\n",
    "plt.ylabel(r\"$\\langle \\sigma v \\rangle$ [cm$^3$ s$^{-1}$]\",fontsize=23)\n",
    "#plt.legend(fontsize=18,loc = 2)\n",
    "\n",
    "plt.xlim([1e1,1e4])\n",
    "plt.ylim([8e-28,2e-22])\n",
    "\n",
    "plt.text(240.3, 3.5e-27, r'\\textbf{\\emph{Fermi} Galaxy Groups}',fontsize=22,color='black')\n",
    "plt.text(75., 1.5e-27, r'Non-overlapping halos and halo number',fontsize=20,color='black')\n",
    "\n",
    "plt.legend(ncol=1,fancybox=True,facecolor='none',frameon=False)\n",
    "\n",
    "plt.tight_layout()\n",
    "\n",
    "plt.savefig(plots_dir + 'systematics_nh.pdf',bbox_inches='tight')"
   ]
  },
  {
   "cell_type": "code",
   "execution_count": null,
   "metadata": {
    "collapsed": true
   },
   "outputs": [],
   "source": [
    "    hp.mollview(\"/tigress/nrodd/DM-Catalog-Scan/DataFiles/MonteCarlo/MC_allhalos_p7\")"
   ]
  }
 ],
 "metadata": {
  "kernelspec": {
   "display_name": "Python 2",
   "language": "python",
   "name": "python2"
  },
  "language_info": {
   "codemirror_mode": {
    "name": "ipython",
    "version": 2
   },
   "file_extension": ".py",
   "mimetype": "text/x-python",
   "name": "python",
   "nbconvert_exporter": "python",
   "pygments_lexer": "ipython2",
   "version": "2.7.13"
  },
  "widgets": {
   "state": {
    "012ba866089346be806b0466fe25c63e": {
     "views": [
      {
       "cell_index": 20
      }
     ]
    },
    "118bca15969e4fe1b1476631177501c3": {
     "views": [
      {
       "cell_index": 20
      }
     ]
    },
    "19668f4c61b24e00951d06977d840f5b": {
     "views": [
      {
       "cell_index": 20
      }
     ]
    },
    "1b084adedc184496b5dd0e4985acdff5": {
     "views": [
      {
       "cell_index": 19
      }
     ]
    },
    "1f19dd48d3a144e9a9515248de056009": {
     "views": [
      {
       "cell_index": 20
      }
     ]
    },
    "257408b046bc4df1a18bde7bf8f35e8b": {
     "views": [
      {
       "cell_index": 26
      }
     ]
    },
    "271e23f19d9741a092a26a581d73f3df": {
     "views": [
      {
       "cell_index": 44
      }
     ]
    },
    "376d7b64c77945d59299a6045ac1b510": {
     "views": [
      {
       "cell_index": 30
      }
     ]
    },
    "51a524a0d983471e86dd60280df11bb4": {
     "views": [
      {
       "cell_index": 28
      }
     ]
    },
    "548a48e93e604b83ae576fd2b242bedc": {
     "views": [
      {
       "cell_index": 14
      }
     ]
    },
    "597e5421b8a3451d8fd7d66a6764ae6d": {
     "views": [
      {
       "cell_index": 32
      }
     ]
    },
    "62123e01510149238ba0e85b23f86af1": {
     "views": [
      {
       "cell_index": 44
      }
     ]
    },
    "767c6b4000fd4baf8fdabae3764c9d72": {
     "views": [
      {
       "cell_index": 20
      }
     ]
    },
    "7f5e10c3f93c4372ab5830454209f4ea": {
     "views": [
      {
       "cell_index": 20
      }
     ]
    },
    "8874b178da824737880874164be611f9": {
     "views": [
      {
       "cell_index": 20
      }
     ]
    },
    "9cab2fa21f1a434a96fafeaaf6feda10": {
     "views": [
      {
       "cell_index": 20
      }
     ]
    },
    "9cf57e9eeb08456d8df330fece7658fc": {
     "views": [
      {
       "cell_index": 44
      }
     ]
    },
    "9f287033bb2a4980a4eeb5bf0a3fdee6": {
     "views": [
      {
       "cell_index": 20
      }
     ]
    },
    "a1680a5b218b4a2c825a5997d7a1161e": {
     "views": [
      {
       "cell_index": 14
      }
     ]
    },
    "a735a4068c7f4907b4a6b31ef4cae7d5": {
     "views": [
      {
       "cell_index": 20
      }
     ]
    },
    "a78ab3b33a1f40e385e3d02483b507c0": {
     "views": [
      {
       "cell_index": 34
      }
     ]
    },
    "c756dc0164f846f7b66c2c405ad30364": {
     "views": [
      {
       "cell_index": 16
      }
     ]
    },
    "c9d5f2358cf349e19d15e318f860963f": {
     "views": [
      {
       "cell_index": 38
      }
     ]
    },
    "cb4c4d5a1c774afaa37e225e01f78a1a": {
     "views": [
      {
       "cell_index": 24
      }
     ]
    },
    "d7eb0927fc0440d8b42061ab72d9cc65": {
     "views": [
      {
       "cell_index": 20
      }
     ]
    },
    "d85d1ea7988d41a4a30f1a3d540fe842": {
     "views": [
      {
       "cell_index": 20
      }
     ]
    },
    "e5ea20b54c3947fb9867d9cc9bcd7858": {
     "views": [
      {
       "cell_index": 20
      }
     ]
    },
    "ffdb73649a1e4159b74d66202245d0e1": {
     "views": [
      {
       "cell_index": 36
      }
     ]
    }
   },
   "version": "1.2.0"
  }
 },
 "nbformat": 4,
 "nbformat_minor": 2
}
