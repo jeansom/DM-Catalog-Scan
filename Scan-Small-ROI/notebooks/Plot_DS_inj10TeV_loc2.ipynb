{
 "cells": [
  {
   "cell_type": "code",
   "execution_count": 9,
   "metadata": {},
   "outputs": [
    {
     "name": "stdout",
     "output_type": "stream",
     "text": [
      "The autoreload extension is already loaded. To reload it, use:\n",
      "  %reload_ext autoreload\n"
     ]
    }
   ],
   "source": [
    "import sys\n",
    "sys.path.append(\"../\")\n",
    "\n",
    "import numpy as np\n",
    "import matplotlib.pyplot as plt\n",
    "import pandas as pd\n",
    "from tqdm import *\n",
    "from plot_skylocs import LimitPlot\n",
    "\n",
    "%matplotlib inline\n",
    "%load_ext autoreload\n",
    "%autoreload 2"
   ]
  },
  {
   "cell_type": "code",
   "execution_count": 10,
   "metadata": {
    "collapsed": true
   },
   "outputs": [],
   "source": [
    "plots_dir = \"/tigress/nrodd/DM-Catalog-Scan/Scan-Small-ROI/plots_darksky/\""
   ]
  },
  {
   "cell_type": "markdown",
   "metadata": {},
   "source": [
    "# Plot"
   ]
  },
  {
   "cell_type": "code",
   "execution_count": 12,
   "metadata": {},
   "outputs": [
    {
     "data": {
      "application/vnd.jupyter.widget-view+json": {
       "model_id": "87175f3da41f4998acada8b080156a40"
      }
     },
     "metadata": {},
     "output_type": "display_data"
    },
    {
     "data": {
      "application/vnd.jupyter.widget-view+json": {
       "model_id": "0be2211cbd504ea39463bfa33f93d31b"
      }
     },
     "metadata": {},
     "output_type": "display_data"
    },
    {
     "data": {
      "application/vnd.jupyter.widget-view+json": {
       "model_id": "854b60534eda4232b6ddc42cca0ac572"
      }
     },
     "metadata": {},
     "output_type": "display_data"
    },
    {
     "data": {
      "application/vnd.jupyter.widget-view+json": {
       "model_id": "4fc7b88bfb6d47a9b54e709627b19d65"
      }
     },
     "metadata": {},
     "output_type": "display_data"
    },
    {
     "data": {
      "application/vnd.jupyter.widget-view+json": {
       "model_id": "0333b658dc724f0496df942161b61ad3"
      }
     },
     "metadata": {},
     "output_type": "display_data"
    },
    {
     "data": {
      "application/vnd.jupyter.widget-view+json": {
       "model_id": "c83cde6709514291ba358ae8a84a3803"
      }
     },
     "metadata": {},
     "output_type": "display_data"
    },
    {
     "name": "stdout",
     "output_type": "stream",
     "text": [
      "\n"
     ]
    },
    {
     "name": "stderr",
     "output_type": "stream",
     "text": [
      "/tigress/smsharma/anaconda2/lib/python2.7/site-packages/ipykernel_launcher.py:30: RuntimeWarning: overflow encountered in power\n"
     ]
    }
   ],
   "source": [
    "nmc = 20\n",
    "\n",
    "xsec_max_ary = np.zeros((5,nmc))\n",
    "limit_ary = np.zeros((5,nmc))\n",
    "maxts_ary = np.zeros((5,nmc))\n",
    "\n",
    "for idm, dm in enumerate(tqdm_notebook([1,3,5,7,9])):\n",
    "    plot_mc = LimitPlot(data_dir='/tigress/nrodd/DM-Catalog-Scan/Scan-Small-ROI/data/DarkSky_sid_loc1_inj10000_dm' + str(dm)+'/',\n",
    "                        elephant=True, \n",
    "                        nmc=nmc, \n",
    "                        halos_ran=1000, \n",
    "                        halos_to_keep=1000,\n",
    "                        data_type=\"mc\",\n",
    "                        bcut=20,\n",
    "                        nonoverlap=True,\n",
    "                        nonoverlapradius=2.,\n",
    "                        cut_0p5=False,\n",
    "                        xsecslim=10,\n",
    "                        TS100=9,\n",
    "                        TS1000=9,\n",
    "                        elephantm = [52]) # 52 for 10 TeV\n",
    "    limit_ary_temp, xsec_max_ary_temp, maxts_ary_temp = plot_mc.return_limits()\n",
    "    \n",
    "    xsec_max_ary[idm] = xsec_max_ary_temp[-1,52,:]\n",
    "    limit_ary[idm] = limit_ary_temp[-1,52,:]\n",
    "    maxts_ary[idm] = maxts_ary_temp[-1,52,:]\n",
    "    \n",
    "xsec_max = np.log10(np.percentile(xsec_max_ary, [16,50,84], axis=1))\n",
    "lims = np.log10(np.percentile(10**limit_ary, [16,50,84], axis=1))\n",
    "maxtss = np.percentile(10**maxts_ary, [16,50,84], axis=1)"
   ]
  },
  {
   "cell_type": "code",
   "execution_count": null,
   "metadata": {
    "collapsed": true
   },
   "outputs": [],
   "source": [
    "np.load(\"/tigress/nrodd/DM-Catalog-Scan/Scan-Small-ROI/data/DarkSky_sid_loc1_inj10000_dm1/\")"
   ]
  },
  {
   "cell_type": "code",
   "execution_count": 28,
   "metadata": {},
   "outputs": [
    {
     "data": {
      "text/plain": [
       "array([  1.00000000e-21,   1.00000000e-22,   1.00000000e-23,\n",
       "         1.00000000e-24,   1.00000000e-25,   1.00000000e-26])"
      ]
     },
     "execution_count": 28,
     "metadata": {},
     "output_type": "execute_result"
    }
   ],
   "source": [
    "np.logspace(-21,-26,6)"
   ]
  },
  {
   "cell_type": "code",
   "execution_count": 14,
   "metadata": {},
   "outputs": [
    {
     "data": {
      "image/png": "[encoded data removed]",
      "text/plain": [
       "<matplotlib.figure.Figure at 0x2ba4a351acd0>"
      ]
     },
     "metadata": {},
     "output_type": "display_data"
    }
   ],
   "source": [
    "plot_h = 10/1.2\n",
    "plot_w = 8/1.2\n",
    "\n",
    "fig, ax = plt.subplots(1, figsize=(plot_h, plot_w))\n",
    "plt.plot(np.logspace(-21,-25,5),  10**xsec_max[1], label='$\\langle\\sigma v \\\\rangle_\\mathrm{TS_{max}}$')\n",
    "plt.fill_between(np.logspace(-21,-25,5),  10**xsec_max[0], 10**xsec_max[2], alpha=0.2)\n",
    "plt.plot(np.logspace(-21,-25,5),  10**lims[1], label='$\\langle\\sigma v \\\\rangle_\\mathrm{Limit}$')\n",
    "plt.fill_between(np.logspace(-21,-25,5),  10**lims[0], 10**lims[2], alpha=0.2)\n",
    "plt.plot([10**-26,10**-20],[10**-26,10**-20],ls='--', color='grey')\n",
    "plt.xlabel(\"$\\langle \\sigma v \\\\rangle_\\mathrm{inj}$ [cm$^3$s$^{-1}$]\", fontsize=25)\n",
    "plt.ylabel(\"$\\langle \\sigma v \\\\rangle_\\mathrm{rec}$ [cm$^3$s$^{-1}$]\", fontsize=25)\n",
    "plt.ylim(10**-25,10**-20)\n",
    "plt.xlim(10**-25,10**-21)\n",
    "plt.xticks(fontsize=25);\n",
    "plt.yticks(fontsize=25);\n",
    "plt.yscale(\"log\")\n",
    "plt.xscale(\"log\")\n",
    "plt.legend(ncol=1,fancybox=True,facecolor='none',frameon=False, loc='lower right', fontsize=25)\n",
    "# plt.title(\"Signal Recovery, $m_\\chi = 10$ TeV\", fontsize=25)\n",
    "plt.tight_layout()\n",
    "plt.savefig(plots_dir + \"signal_recovery_10TeV_loc2.pdf\")\n",
    "plt.show()"
   ]
  },
  {
   "cell_type": "code",
   "execution_count": null,
   "metadata": {
    "collapsed": true
   },
   "outputs": [],
   "source": []
  }
 ],
 "metadata": {
  "kernelspec": {
   "display_name": "Python 2",
   "language": "python",
   "name": "python2"
  },
  "language_info": {
   "codemirror_mode": {
    "name": "ipython",
    "version": 2
   },
   "file_extension": ".py",
   "mimetype": "text/x-python",
   "name": "python",
   "nbconvert_exporter": "python",
   "pygments_lexer": "ipython2",
   "version": "2.7.13"
  }
 },
 "nbformat": 4,
 "nbformat_minor": 2
}
