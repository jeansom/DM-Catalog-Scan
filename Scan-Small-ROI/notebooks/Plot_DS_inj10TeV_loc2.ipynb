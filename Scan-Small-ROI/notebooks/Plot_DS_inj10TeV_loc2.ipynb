{
 "cells": [
  {
   "cell_type": "code",
   "execution_count": 8,
   "metadata": {},
   "outputs": [
    {
     "name": "stdout",
     "output_type": "stream",
     "text": [
      "The autoreload extension is already loaded. To reload it, use:\n",
      "  %reload_ext autoreload\n"
     ]
    }
   ],
   "source": [
    "import sys\n",
    "sys.path.append(\"../\")\n",
    "\n",
    "import numpy as np\n",
    "import matplotlib.pyplot as plt\n",
    "import pandas as pd\n",
    "from tqdm import *\n",
    "from plot_skylocs import LimitPlot\n",
    "\n",
    "%matplotlib inline\n",
    "%load_ext autoreload\n",
    "%autoreload 2"
   ]
  },
  {
   "cell_type": "code",
   "execution_count": 9,
   "metadata": {
    "collapsed": true
   },
   "outputs": [],
   "source": [
    "plots_dir = \"/tigress/nrodd/DM-Catalog-Scan/Scan-Small-ROI/plots_darksky/\""
   ]
  },
  {
   "cell_type": "markdown",
   "metadata": {},
   "source": [
    "# Plot"
   ]
  },
  {
   "cell_type": "code",
   "execution_count": 48,
   "metadata": {},
   "outputs": [
    {
     "data": {
      "application/vnd.jupyter.widget-view+json": {
       "model_id": "f748048803824e80bf26c6ce75515045"
      }
     },
     "metadata": {},
     "output_type": "display_data"
    },
    {
     "data": {
      "application/vnd.jupyter.widget-view+json": {
       "model_id": "008631d9ca414f9e927ae9b6589f65b5"
      }
     },
     "metadata": {},
     "output_type": "display_data"
    },
    {
     "name": "stdout",
     "output_type": "stream",
     "text": [
      "\n"
     ]
    },
    {
     "ename": "ValueError",
     "evalue": "need more than 3 values to unpack",
     "output_type": "error",
     "traceback": [
      "\u001b[0;31m---------------------------------------------------------------------------\u001b[0m",
      "\u001b[0;31mValueError\u001b[0m                                Traceback (most recent call last)",
      "\u001b[0;32m<ipython-input-48-274fa879c434>\u001b[0m in \u001b[0;36m<module>\u001b[0;34m()\u001b[0m\n\u001b[1;32m     29\u001b[0m                         \u001b[0mTS1000\u001b[0m\u001b[0;34m=\u001b[0m\u001b[0;36m9\u001b[0m\u001b[0;34m,\u001b[0m\u001b[0;34m\u001b[0m\u001b[0m\n\u001b[1;32m     30\u001b[0m                         elephantm = [52]) # 52 for 10 TeV\n\u001b[0;32m---> 31\u001b[0;31m     \u001b[0mlimit_ary_temp\u001b[0m\u001b[0;34m,\u001b[0m \u001b[0mxsec_max_ary_temp\u001b[0m\u001b[0;34m,\u001b[0m \u001b[0mxu1_temp\u001b[0m\u001b[0;34m,\u001b[0m \u001b[0mxu2_temp\u001b[0m\u001b[0;34m,\u001b[0m \u001b[0mxl1_temp\u001b[0m\u001b[0;34m,\u001b[0m \u001b[0mxl2_temp\u001b[0m\u001b[0;34m,\u001b[0m \u001b[0mmaxts_ary_temp\u001b[0m \u001b[0;34m=\u001b[0m \u001b[0mplot_mc\u001b[0m\u001b[0;34m.\u001b[0m\u001b[0mreturn_limits\u001b[0m\u001b[0;34m(\u001b[0m\u001b[0;34m)\u001b[0m\u001b[0;34m\u001b[0m\u001b[0m\n\u001b[0m\u001b[1;32m     32\u001b[0m \u001b[0;34m\u001b[0m\u001b[0m\n\u001b[1;32m     33\u001b[0m     \u001b[0mxsec_max_ary\u001b[0m\u001b[0;34m[\u001b[0m\u001b[0midm\u001b[0m\u001b[0;34m]\u001b[0m \u001b[0;34m=\u001b[0m \u001b[0mxsec_max_ary_temp\u001b[0m\u001b[0;34m[\u001b[0m\u001b[0;34m-\u001b[0m\u001b[0;36m1\u001b[0m\u001b[0;34m,\u001b[0m\u001b[0;36m52\u001b[0m\u001b[0;34m,\u001b[0m\u001b[0;34m:\u001b[0m\u001b[0;34m]\u001b[0m\u001b[0;34m\u001b[0m\u001b[0m\n",
      "\u001b[0;31mValueError\u001b[0m: need more than 3 values to unpack"
     ]
    }
   ],
   "source": [
    "nmc = 20\n",
    "\n",
    "xsec_max_ary = np.zeros((5,nmc))\n",
    "xu1 = np.zeros((5,nmc))\n",
    "xu2 = np.zeros((5,nmc))\n",
    "xl1 = np.zeros((5,nmc))\n",
    "xl2 = np.zeros((5,nmc))\n",
    "\n",
    "\n",
    "\n",
    "\n",
    "\n",
    "limit_ary = np.zeros((5,nmc))\n",
    "maxts_ary = np.zeros((5,nmc))\n",
    "\n",
    "for idm, dm in enumerate(tqdm_notebook([1,3,5,7,9])):\n",
    "    plot_mc = LimitPlot(data_dir='/tigress/nrodd/DM-Catalog-Scan/Scan-Small-ROI/data/DarkSky_sid_loc1_inj10000_dm' + str(dm)+'/',\n",
    "                        elephant=True, \n",
    "                        nmc=nmc, \n",
    "                        halos_ran=1000, \n",
    "                        halos_to_keep=1000,\n",
    "                        data_type=\"mc\",\n",
    "                        bcut=20,\n",
    "                        nonoverlap=True,\n",
    "                        nonoverlapradius=2.,\n",
    "                        cut_0p5=False,\n",
    "                        xsecslim=10,\n",
    "                        TS100=9,\n",
    "                        TS1000=9,\n",
    "                        elephantm = [52]) # 52 for 10 TeV\n",
    "    limit_ary_temp, xsec_max_ary_temp, xu1_temp, xu2_temp, xl1_temp, xl2_temp, maxts_ary_temp = plot_mc.return_limits()\n",
    "    \n",
    "    xsec_max_ary[idm] = xsec_max_ary_temp[-1,52,:]\n",
    "    xu1[idm] = xu1_temp[-1,52,:]\n",
    "    xu2[idm] = xu2_temp[-1,52,:]\n",
    "    xl1[idm] = xl1_temp[-1,52,:]\n",
    "    xl2[idm] = xl2_temp[-1,52,:]\n",
    "\n",
    "\n",
    "    limit_ary[idm] = limit_ary_temp[-1,52,:]\n",
    "    maxts_ary[idm] = maxts_ary_temp[-1,52,:]\n",
    "    \n",
    "xsec_max = np.log10(np.percentile(xsec_max_ary, [16,50,84], axis=1))\n",
    "xu1_max = np.log10(np.percentile(xu1, [16,50,84], axis=1))\n",
    "xu2_max = np.log10(np.percentile(xu2, [16,50,84], axis=1))\n",
    "xl1_max = np.log10(np.percentile(xl1, [16,50,84], axis=1))\n",
    "xl2_max = np.log10(np.percentile(xl2, [16,50,84], axis=1))\n",
    "\n",
    "\n",
    "\n",
    "\n",
    "\n",
    "lims = np.log10(np.percentile(10**limit_ary, [16,50,84], axis=1))\n",
    "maxtss = np.percentile(10**maxts_ary, [16,50,84], axis=1)"
   ]
  },
  {
   "cell_type": "code",
   "execution_count": 15,
   "metadata": {},
   "outputs": [
    {
     "data": {
      "text/plain": [
       "<matplotlib.text.Text at 0x2aed4a73f950>"
      ]
     },
     "execution_count": 15,
     "metadata": {},
     "output_type": "execute_result"
    },
    {
     "data": {
      "image/png": "[encoded data removed]",
      "text/plain": [
       "<matplotlib.figure.Figure at 0x2aed535f1490>"
      ]
     },
     "metadata": {},
     "output_type": "display_data"
    }
   ],
   "source": [
    "plt.plot(np.logspace(-21,-25,5), np.percentile(maxts_ary, [50], axis=1)[0])\n",
    "plt.fill_between(np.logspace(-21,-25,5), np.percentile(maxts_ary, [16], axis=1)[0], np.percentile(maxts_ary, [84], axis=1)[0], alpha= 0.3)\n",
    "\n",
    "plt.yscale(\"log\")\n",
    "plt.xscale(\"log\")\n",
    "\n",
    "plt.xlabel(\"xsec\")\n",
    "plt.ylabel(\"maxTS\")"
   ]
  },
  {
   "cell_type": "code",
   "execution_count": null,
   "metadata": {
    "collapsed": true
   },
   "outputs": [],
   "source": [
    "np.load(\"/tigress/nrodd/DM-Catalog-Scan/Scan-Small-ROI/data/DarkSky_sid_loc1_inj10000_dm1/\")"
   ]
  },
  {
   "cell_type": "code",
   "execution_count": 28,
   "metadata": {},
   "outputs": [
    {
     "data": {
      "text/plain": [
       "array([  1.00000000e-21,   1.00000000e-22,   1.00000000e-23,\n",
       "         1.00000000e-24,   1.00000000e-25,   1.00000000e-26])"
      ]
     },
     "execution_count": 28,
     "metadata": {},
     "output_type": "execute_result"
    }
   ],
   "source": [
    "np.logspace(-21,-26,6)"
   ]
  },
  {
   "cell_type": "code",
   "execution_count": 47,
   "metadata": {},
   "outputs": [
    {
     "data": {
      "image/png": "[encoded data removed]",
      "text/plain": [
       "<matplotlib.figure.Figure at 0x2aed53d30490>"
      ]
     },
     "metadata": {},
     "output_type": "display_data"
    }
   ],
   "source": [
    "plot_h = 10/1.5\n",
    "plot_w = 8/1.5\n",
    "\n",
    "fig, ax = plt.subplots(1, figsize=(plot_h, plot_w))\n",
    "plt.plot(np.logspace(-21,-25,5),  10**xsec_max[1], label='$\\langle\\sigma v \\\\rangle_\\mathrm{TS_{max}}$')\n",
    "# plt.fill_between(np.logspace(-21,-25,5),  10**xl1_max[0], 10**xu1_max[2], alpha=0.4)\n",
    "plt.fill_between(np.logspace(-21,-25,5),  10**xl1_max[0], 10**xu1_max[2], alpha=0.2)\n",
    "plt.plot(np.logspace(-21,-25,5),  10**lims[1], label='$\\langle\\sigma v \\\\rangle_\\mathrm{Limit}$')\n",
    "plt.fill_between(np.logspace(-21,-25,5),  10**lims[0], 10**lims[2], alpha=0.2)\n",
    "plt.plot([10**-26,10**-20],[10**-26,10**-20],ls='--', color='grey')\n",
    "plt.xlabel(\"$\\langle \\sigma v \\\\rangle_\\mathrm{inj}$ [cm$^3$s$^{-1}$]\", fontsize=25)\n",
    "plt.ylabel(\"$\\langle \\sigma v \\\\rangle_\\mathrm{rec}$ [cm$^3$s$^{-1}$]\", fontsize=25)\n",
    "plt.ylim(10**-25,10**-20)\n",
    "plt.xlim(10**-25,10**-21)\n",
    "\n",
    "plt.xticks(fontsize=25);\n",
    "plt.yticks(fontsize=25);\n",
    "plt.yscale(\"log\")\n",
    "plt.xscale(\"log\")\n",
    "# plt.legend(ncol=2,fancybox=True,facecolor='none',frameon=False, loc='upper left', fontsize=23, columnspacing=.2)\n",
    "# plt.title(\"Signal Recovery, $m_\\chi = 10$ TeV\", fontsize=25)\n",
    "\n",
    "a = plt.axes([.58, .3, .29, .32])\n",
    "plt.plot(np.logspace(-21,-25,5), np.percentile(maxts_ary, [50], axis=1)[0], color='firebrick')\n",
    "plt.fill_between(np.logspace(-21,-25,5), np.percentile(maxts_ary, [16], axis=1)[0], np.percentile(maxts_ary, [84], axis=1)[0], alpha= 0.3, color='firebrick')\n",
    "\n",
    "plt.yscale(\"log\")\n",
    "plt.xscale(\"log\")\n",
    "\n",
    "# plt.xlabel(\"xsec\")\n",
    "plt.ylabel(\"TS$_\\mathrm{max}$\")\n",
    "plt.xlim(10**-25,10**-21)\n",
    "\n",
    "plt.ylim(1e-1,1e4)\n",
    "\n",
    "plt.tight_layout()\n",
    "\n",
    "plt.savefig(plots_dir + \"signal_recovery_10TeV_loc2.pdf\")\n",
    "plt.show()"
   ]
  },
  {
   "cell_type": "code",
   "execution_count": null,
   "metadata": {
    "collapsed": true
   },
   "outputs": [],
   "source": []
  }
 ],
 "metadata": {
  "kernelspec": {
   "display_name": "Python 2",
   "language": "python",
   "name": "python2"
  },
  "language_info": {
   "codemirror_mode": {
    "name": "ipython",
    "version": 2
   },
   "file_extension": ".py",
   "mimetype": "text/x-python",
   "name": "python",
   "nbconvert_exporter": "python",
   "pygments_lexer": "ipython2",
   "version": "2.7.13"
  }
 },
 "nbformat": 4,
 "nbformat_minor": 2
}
