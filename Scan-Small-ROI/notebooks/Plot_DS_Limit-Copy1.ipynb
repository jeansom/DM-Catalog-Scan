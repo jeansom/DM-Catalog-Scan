{
 "cells": [
  {
   "cell_type": "code",
   "execution_count": 8,
   "metadata": {},
   "outputs": [
    {
     "name": "stdout",
     "output_type": "stream",
     "text": [
      "The autoreload extension is already loaded. To reload it, use:\n",
      "  %reload_ext autoreload\n"
     ]
    }
   ],
   "source": [
    "import sys\n",
    "sys.path.append(\"../\")\n",
    "\n",
    "import numpy as np\n",
    "import matplotlib.pyplot as plt\n",
    "import pandas as pd\n",
    "from tqdm import *\n",
    "from plot_skylocs import LimitPlot\n",
    "\n",
    "%matplotlib inline\n",
    "%load_ext autoreload\n",
    "%autoreload 2"
   ]
  },
  {
   "cell_type": "code",
   "execution_count": 9,
   "metadata": {
    "collapsed": true
   },
   "outputs": [],
   "source": [
    "plots_dir = \"/tigress/nrodd/DM-Catalog-Scan/Scan-Small-ROI/plots_darksky/\""
   ]
  },
  {
   "cell_type": "markdown",
   "metadata": {},
   "source": [
    "# Initialize"
   ]
  },
  {
   "cell_type": "code",
   "execution_count": 10,
   "metadata": {
    "collapsed": true
   },
   "outputs": [],
   "source": [
    "mainmc = 100\n",
    "submc = 20\n",
    "halos = 1000\n",
    "\n",
    "plot_mc_lim = LimitPlot(data_dir='/tigress/nrodd/DM-Catalog-Scan/Scan-Small-ROI/data/DarkSky_sid_loc0/',\n",
    "                        elephant=False, \n",
    "                        nmc=mainmc, \n",
    "                        halos_ran=halos, \n",
    "                        halos_to_keep=halos,\n",
    "                        data_type=\"mc\",\n",
    "                        bcut=20,\n",
    "                        nonoverlap=True,\n",
    "                        nonoverlapradius=2.,\n",
    "                        cut_0p5=False,\n",
    "                        xsecslim=10,\n",
    "                        TS100=4,\n",
    "                        TS1000=9)\n",
    "\n",
    "plot_mc_nb_loc0 = LimitPlot(data_dir='/tigress/nrodd/DM-Catalog-Scan/Scan-Small-ROI/data/DarkSky_sid_loc0/',\n",
    "                        elephant=False, \n",
    "                        nmc=submc, \n",
    "                        halos_ran=halos, \n",
    "                        halos_to_keep=halos,\n",
    "                        data_type=\"mc\",\n",
    "                        bcut=20,\n",
    "                        nonoverlap=True,\n",
    "                        nonoverlapradius=2.,\n",
    "                        cut_0p5=False,\n",
    "                        xsecslim=10,\n",
    "                        TS100=4,\n",
    "                        TS1000=9,\n",
    "                        file_prefix='LL2_TSmx_lim_b_nb_o')\n",
    "\n",
    "plot_mc_loc0 = LimitPlot(data_dir='/tigress/nrodd/DM-Catalog-Scan/Scan-Small-ROI/data/DarkSky_sid_loc0/',\n",
    "                        elephant=False, \n",
    "                        nmc=submc, \n",
    "                        halos_ran=halos, \n",
    "                        halos_to_keep=halos,\n",
    "                        data_type=\"mc\",\n",
    "                        bcut=20,\n",
    "                        nonoverlap=True,\n",
    "                        nonoverlapradius=2.,\n",
    "                        cut_0p5=False,\n",
    "                        xsecslim=10,\n",
    "                        TS100=4,\n",
    "                        TS1000=9)\n",
    "\n",
    "plot_mc_loc1 = LimitPlot(data_dir='/tigress/nrodd/DM-Catalog-Scan/Scan-Small-ROI/data/DarkSky_sid_loc1/',\n",
    "                        elephant=False, \n",
    "                        nmc=submc, \n",
    "                        halos_ran=halos, \n",
    "                        halos_to_keep=halos,\n",
    "                        data_type=\"mc\",\n",
    "                        bcut=20,\n",
    "                        nonoverlap=True,\n",
    "                        nonoverlapradius=2.,\n",
    "                        cut_0p5=False,\n",
    "                        xsecslim=10,\n",
    "                        TS100=4,\n",
    "                        TS1000=9)\n",
    "\n",
    "plot_mc_loc2 = LimitPlot(data_dir='/tigress/nrodd/DM-Catalog-Scan/Scan-Small-ROI/data/DarkSky_sid_loc2/',\n",
    "                        elephant=False, \n",
    "                        nmc=submc, \n",
    "                        halos_ran=halos, \n",
    "                        halos_to_keep=halos,\n",
    "                        data_type=\"mc\",\n",
    "                        bcut=20,\n",
    "                        nonoverlap=True,\n",
    "                        nonoverlapradius=2.,\n",
    "                        cut_0p5=False,\n",
    "                        xsecslim=10,\n",
    "                        TS100=4,\n",
    "                        TS1000=9)\n",
    "\n",
    "plot_mc_loc3 = LimitPlot(data_dir='/tigress/nrodd/DM-Catalog-Scan/Scan-Small-ROI/data/DarkSky_sid_loc3/',\n",
    "                        elephant=False, \n",
    "                        nmc=submc, \n",
    "                        halos_ran=halos, \n",
    "                        halos_to_keep=halos,\n",
    "                        data_type=\"mc\",\n",
    "                        bcut=20,\n",
    "                        nonoverlap=True,\n",
    "                        nonoverlapradius=2.,\n",
    "                        cut_0p5=False,\n",
    "                        xsecslim=10,\n",
    "                        TS100=4,\n",
    "                        TS1000=9)\n",
    "\n",
    "plot_mc_loc4 = LimitPlot(data_dir='/tigress/nrodd/DM-Catalog-Scan/Scan-Small-ROI/data/DarkSky_sid_loc4/',\n",
    "                        elephant=False, \n",
    "                        nmc=submc, \n",
    "                        halos_ran=halos, \n",
    "                        halos_to_keep=halos,\n",
    "                        data_type=\"mc\",\n",
    "                        bcut=20,\n",
    "                        nonoverlap=True,\n",
    "                        nonoverlapradius=2.,\n",
    "                        cut_0p5=False,\n",
    "                        xsecslim=10,\n",
    "                        TS100=4,\n",
    "                        TS1000=9)\n",
    "\n",
    "plot_mc_loc5 = LimitPlot(data_dir='/tigress/nrodd/DM-Catalog-Scan/Scan-Small-ROI/data/DarkSky_sid_loc5/',\n",
    "                        elephant=False, \n",
    "                        nmc=submc, \n",
    "                        halos_ran=halos, \n",
    "                        halos_to_keep=halos,\n",
    "                        data_type=\"mc\",\n",
    "                        bcut=20,\n",
    "                        nonoverlap=True,\n",
    "                        nonoverlapradius=2.,\n",
    "                        cut_0p5=False,\n",
    "                        xsecslim=10,\n",
    "                        TS100=4,\n",
    "                        TS1000=9)\n",
    "\n",
    "plot_mc_loc6 = LimitPlot(data_dir='/tigress/nrodd/DM-Catalog-Scan/Scan-Small-ROI/data/DarkSky_sid_loc6/',\n",
    "                        elephant=False, \n",
    "                        nmc=submc, \n",
    "                        halos_ran=halos, \n",
    "                        halos_to_keep=halos,\n",
    "                        data_type=\"mc\",\n",
    "                        bcut=20,\n",
    "                        nonoverlap=True,\n",
    "                        nonoverlapradius=2.,\n",
    "                        cut_0p5=False,\n",
    "                        xsecslim=10,\n",
    "                        TS100=4,\n",
    "                        TS1000=9)\n",
    "\n",
    "plot_mc_loc7 = LimitPlot(data_dir='/tigress/nrodd/DM-Catalog-Scan/Scan-Small-ROI/data/DarkSky_sid_loc7/',\n",
    "                        elephant=False, \n",
    "                        nmc=submc, \n",
    "                        halos_ran=halos, \n",
    "                        halos_to_keep=halos,\n",
    "                        data_type=\"mc\",\n",
    "                        bcut=20,\n",
    "                        nonoverlap=True,\n",
    "                        nonoverlapradius=2.,\n",
    "                        cut_0p5=False,\n",
    "                        xsecslim=10,\n",
    "                        TS100=4,\n",
    "                        TS1000=9)\n",
    "\n",
    "plot_mc_loc8 = LimitPlot(data_dir='/tigress/nrodd/DM-Catalog-Scan/Scan-Small-ROI/data/DarkSky_sid_loc8/',\n",
    "                        elephant=False, \n",
    "                        nmc=submc, \n",
    "                        halos_ran=halos, \n",
    "                        halos_to_keep=halos,\n",
    "                        data_type=\"mc\",\n",
    "                        bcut=20,\n",
    "                        nonoverlap=True,\n",
    "                        nonoverlapradius=2.,\n",
    "                        cut_0p5=False,\n",
    "                        xsecslim=10,\n",
    "                        TS100=4,\n",
    "                        TS1000=9)"
   ]
  },
  {
   "cell_type": "markdown",
   "metadata": {},
   "source": [
    "# Plot"
   ]
  },
  {
   "cell_type": "code",
   "execution_count": 11,
   "metadata": {},
   "outputs": [
    {
     "data": {
      "application/vnd.jupyter.widget-view+json": {
       "model_id": "2427fb2b8cb0487ba24a59ce487bf6b6"
      }
     },
     "metadata": {},
     "output_type": "display_data"
    },
    {
     "name": "stdout",
     "output_type": "stream",
     "text": [
      "\n"
     ]
    }
   ],
   "source": [
    "mc_ary0_nb, _,_ = plot_mc_nb_loc0.return_limits()"
   ]
  },
  {
   "cell_type": "code",
   "execution_count": 3,
   "metadata": {},
   "outputs": [
    {
     "data": {
      "application/vnd.jupyter.widget-view+json": {
       "model_id": "fd4f9a3bbfa544eb9bf34c1902f92bee"
      }
     },
     "metadata": {},
     "output_type": "display_data"
    },
    {
     "name": "stdout",
     "output_type": "stream",
     "text": [
      "\n"
     ]
    },
    {
     "data": {
      "application/vnd.jupyter.widget-view+json": {
       "model_id": "efac7c50fdac40c9b1f88c35ec475cfb"
      }
     },
     "metadata": {},
     "output_type": "display_data"
    },
    {
     "name": "stdout",
     "output_type": "stream",
     "text": [
      "\n"
     ]
    },
    {
     "data": {
      "application/vnd.jupyter.widget-view+json": {
       "model_id": "fc593ff4879f4d8ab144c6459a4fd546"
      }
     },
     "metadata": {},
     "output_type": "display_data"
    },
    {
     "name": "stdout",
     "output_type": "stream",
     "text": [
      "\n"
     ]
    },
    {
     "data": {
      "application/vnd.jupyter.widget-view+json": {
       "model_id": "05b09fca88444c149e4c61f90fdfb8ad"
      }
     },
     "metadata": {},
     "output_type": "display_data"
    },
    {
     "name": "stdout",
     "output_type": "stream",
     "text": [
      "\n"
     ]
    },
    {
     "data": {
      "application/vnd.jupyter.widget-view+json": {
       "model_id": "c106650b2e444ad1a48d4fb6869faae8"
      }
     },
     "metadata": {},
     "output_type": "display_data"
    },
    {
     "name": "stdout",
     "output_type": "stream",
     "text": [
      "\n"
     ]
    },
    {
     "data": {
      "application/vnd.jupyter.widget-view+json": {
       "model_id": "04287930720d4128a1cd269e1ee56301"
      }
     },
     "metadata": {},
     "output_type": "display_data"
    },
    {
     "name": "stdout",
     "output_type": "stream",
     "text": [
      "\n"
     ]
    },
    {
     "data": {
      "application/vnd.jupyter.widget-view+json": {
       "model_id": "ab51d756c5e54ea9ade10b18220183a3"
      }
     },
     "metadata": {},
     "output_type": "display_data"
    },
    {
     "name": "stdout",
     "output_type": "stream",
     "text": [
      "\n"
     ]
    },
    {
     "data": {
      "application/vnd.jupyter.widget-view+json": {
       "model_id": "e9f489fdb1c54a04bb836d6487029503"
      }
     },
     "metadata": {},
     "output_type": "display_data"
    },
    {
     "name": "stdout",
     "output_type": "stream",
     "text": [
      "\n"
     ]
    },
    {
     "data": {
      "application/vnd.jupyter.widget-view+json": {
       "model_id": "22070b4bf437489eb6f7cab76671b9ae"
      }
     },
     "metadata": {},
     "output_type": "display_data"
    },
    {
     "name": "stdout",
     "output_type": "stream",
     "text": [
      "\n"
     ]
    },
    {
     "data": {
      "application/vnd.jupyter.widget-view+json": {
       "model_id": "748b8011a0ad4102881723b7a2b7a472"
      }
     },
     "metadata": {},
     "output_type": "display_data"
    },
    {
     "name": "stdout",
     "output_type": "stream",
     "text": [
      "\n"
     ]
    }
   ],
   "source": [
    "# First calculate limits\n",
    "lim_ary, _ = plot_mc_lim.return_limits()\n",
    "\n",
    "mc_ary0, _ = plot_mc_loc0.return_limits()\n",
    "mc_ary1, _ = plot_mc_loc1.return_limits()\n",
    "mc_ary2, _ = plot_mc_loc2.return_limits()\n",
    "mc_ary3, _ = plot_mc_loc3.return_limits()\n",
    "mc_ary4, _ = plot_mc_loc4.return_limits()\n",
    "mc_ary5, _ = plot_mc_loc5.return_limits()\n",
    "mc_ary6, _ = plot_mc_loc6.return_limits()\n",
    "mc_ary7, _ = plot_mc_loc7.return_limits()\n",
    "mc_ary8, _ = plot_mc_loc8.return_limits()\n",
    "\n",
    "# Combination\n",
    "combination = np.zeros((9,53))\n",
    "combination[0] = np.percentile(mc_ary0[-1], 50, axis=1)\n",
    "combination[1] = np.percentile(mc_ary1[-1], 50, axis=1)\n",
    "combination[2] = np.percentile(mc_ary2[-1], 50, axis=1)\n",
    "combination[3] = np.percentile(mc_ary3[-1], 50, axis=1)\n",
    "combination[4] = np.percentile(mc_ary4[-1], 50, axis=1)\n",
    "combination[5] = np.percentile(mc_ary5[-1], 50, axis=1)\n",
    "combination[6] = np.percentile(mc_ary6[-1], 50, axis=1)\n",
    "combination[7] = np.percentile(mc_ary7[-1], 50, axis=1)\n",
    "combination[8] = np.percentile(mc_ary8[-1], 50, axis=1)"
   ]
  },
  {
   "cell_type": "code",
   "execution_count": 4,
   "metadata": {
    "collapsed": true
   },
   "outputs": [],
   "source": [
    "np.save(\"combination\", combination)"
   ]
  },
  {
   "cell_type": "code",
   "execution_count": 5,
   "metadata": {
    "collapsed": true
   },
   "outputs": [],
   "source": [
    "np.save(\"mc_ary0\", mc_ary0)\n",
    "np.save(\"mc_ary1\", mc_ary1)\n",
    "np.save(\"mc_ary2\", mc_ary2)\n",
    "np.save(\"mc_ary3\", mc_ary3)\n",
    "np.save(\"mc_ary4\", mc_ary4)\n",
    "np.save(\"mc_ary5\", mc_ary5)\n",
    "np.save(\"mc_ary6\", mc_ary6)\n",
    "np.save(\"mc_ary7\", mc_ary7)\n",
    "np.save(\"mc_ary8\", mc_ary8)"
   ]
  },
  {
   "cell_type": "code",
   "execution_count": 6,
   "metadata": {
    "collapsed": true
   },
   "outputs": [],
   "source": [
    "np.save(\"lim_ary\", lim_ary)"
   ]
  },
  {
   "cell_type": "code",
   "execution_count": 3,
   "metadata": {
    "collapsed": true
   },
   "outputs": [],
   "source": [
    "lim_ary = np.load(\"lim_ary.npy\")\n",
    "combination = np.load(\"combination.npy\")"
   ]
  },
  {
   "cell_type": "code",
   "execution_count": 24,
   "metadata": {},
   "outputs": [
    {
     "data": {
      "image/png": "[encoded data removed]",
      "text/plain": [
       "<matplotlib.figure.Figure at 0x2aad7bb165d0>"
      ]
     },
     "metadata": {},
     "output_type": "display_data"
    }
   ],
   "source": [
    "plt.fill_between(plot_mc_lim.marr,np.percentile(lim_ary[-1], 16, axis=1),np.percentile(lim_ary[-1], 84, axis=1), alpha=0.4, color='forestgreen',label='DS Location 1')\n",
    "plt.fill_between(plot_mc_lim.marr,np.percentile(combination, 16, axis=0),np.percentile(combination, 84, axis=0), alpha=0.4, color='orange',label='Median DS Locations')\n",
    "plt.axhline(np.log10(3e-26), ls = '--', color='grey')\n",
    "plt.xscale(\"log\")\n",
    "plt.xlim(10,10000)\n",
    "plt.ylabel(\"$\\langle \\sigma v \\\\rangle$ [cm$^3$s$^{-1}$]\")\n",
    "plt.xlabel(\"$m_\\chi$\")\n",
    "plt.legend()\n",
    "plt.show()"
   ]
  },
  {
   "cell_type": "code",
   "execution_count": 4,
   "metadata": {
    "collapsed": true
   },
   "outputs": [],
   "source": [
    "work_dir = '/tigress/bsafdi/github/NPTF-working/NPTF-ID-Catalog/runs_sid/notebooks/LimitPlot//'\n",
    "plots_dir = '/tigress/nrodd/DM-Catalog-Scan/Scan-Small-ROI/plots/'\n",
    "data_dir = work_dir + 'data/'\n",
    "\n",
    "data_file_names =[ data_dir + f for f in ['stath_max-lim.dat','stath_min-lim.dat','statp_q16-lim.dat','statp_q84-lim.dat',\n",
    "                  'Jcm_q16-lim.dat','Jcm_q84-lim.dat','GCE.dat','FermiDwarf.dat','nominal-data.dat','gce-abazajian.dat',\n",
    "                                         'gce-calore.dat','gce-gordon.dat','thermal-relic.dat'  ] ]\n",
    "\n",
    "data_files = [np.loadtxt(f) for f in data_file_names]\n",
    "\n",
    "####Poisson error bands\n",
    "massP = 10**data_files[2][::,0]\n",
    "Lim16 = 10**data_files[2][::,1]\n",
    "Lim84 = 10**data_files[3][::,1]\n",
    "LimP_disp = (np.log10(Lim84) - np.log10(Lim16))/2.0\n",
    "\n",
    "####Halo Stat error bands\n",
    "massH = 10**data_files[4][::,0]\n",
    "LimH16 = 10**data_files[4][::,1]\n",
    "LimH84 = 10**data_files[5][::,1]\n",
    "LimH_disp = (np.log10(LimH84) - np.log10(LimH16))/2.0\n",
    "\n",
    "\n",
    "#####Combine the uncertainties\n",
    "Lim_uncert = np.sqrt(LimP_disp**2 + LimH_disp**2)\n",
    "\n",
    "###GCE\n",
    "GCE = data_files[6]\n",
    "GCE_ab = data_files[9]\n",
    "GCE_calore = data_files[10]\n",
    "GCE_gordan = data_files[11]\n",
    "\n",
    "###Fermi Dwarf\n",
    "massD = 10**data_files[8][::,0]\n",
    "LimD = 10**data_files[8][::,1]\n",
    "\n",
    "#####thermal\n",
    "thermal = 10**data_files[12]\n",
    "\n",
    "###Cross Corr\n",
    "mDM_ary = [10,20,50,100,200,300,400,500,700,1000,10000]\n",
    "# lim_ary = np.array(np.array([[  3.47613312e-25,   3.19993932e-25,   4.09432255e-25,\n",
    "#           5.74111275e-25,   8.19273323e-25,   1.11412925e-24,\n",
    "#           1.54077804e-24,   1.88342427e-24,   2.45742289e-24,\n",
    "#           3.51413849e-24,   1.88285952e-23],\n",
    "#        [  6.84653178e-25,   6.11339438e-25,   8.88586835e-25,\n",
    "#           1.46856813e-24,   2.37706561e-24,   3.06228027e-24,\n",
    "#           3.78778553e-24,   4.28537842e-24,   5.06539081e-24,\n",
    "#           6.20444331e-24,   3.37611100e-23]]))\n"
   ]
  },
  {
   "cell_type": "code",
   "execution_count": 5,
   "metadata": {
    "collapsed": true
   },
   "outputs": [],
   "source": [
    "marr = np.array([1.00000000e+01,1.50000000e+01,2.00000000e+01,2.50000000e+01,3.00000000e+01,4.00000000e+01,5.00000000e+01,6.00000000e+01,7.00000000e+01,8.00000000e+01,9.00000000e+01,1.00000000e+02,1.10000000e+02,1.20000000e+02,1.30000000e+02,1.40000000e+02,1.50000000e+02,1.60000000e+02,1.80000000e+02,2.00000000e+02,2.20000000e+02,2.40000000e+02,2.60000000e+02,2.80000000e+02,3.00000000e+02,3.30000000e+02,3.60000000e+02,4.00000000e+02,4.50000000e+02,5.00000000e+02,5.50000000e+02,6.00000000e+02,6.50000000e+02,7.00000000e+02,7.50000000e+02,8.00000000e+02,9.00000000e+02,1.00000000e+03,1.10000000e+03,1.20000000e+03,1.30000000e+03,1.50000000e+03,1.70000000e+03,2.00000000e+03,2.50000000e+03,3.00000000e+03,4.00000000e+03,5.00000000e+03,6.00000000e+03,7.00000000e+03,8.00000000e+03,9.00000000e+03,1.00000000e+04])"
   ]
  },
  {
   "cell_type": "code",
   "execution_count": 6,
   "metadata": {
    "collapsed": true
   },
   "outputs": [],
   "source": [
    "igrb_lim = np.load(\"igrb_lim.npy\")\n",
    "igrb_mchi = np.load(\"igrb_mchi.npy\")"
   ]
  },
  {
   "cell_type": "code",
   "execution_count": 16,
   "metadata": {},
   "outputs": [
    {
     "data": {
      "text/plain": [
       "(1000, 53, 20)"
      ]
     },
     "execution_count": 16,
     "metadata": {},
     "output_type": "execute_result"
    }
   ],
   "source": [
    "np.shape(mc_ary0_nb)"
   ]
  },
  {
   "cell_type": "code",
   "execution_count": 25,
   "metadata": {},
   "outputs": [
    {
     "data": {
      "text/plain": [
       "array([  4.83007749e-25,   6.67044891e-25,   8.36089914e-25,\n",
       "         1.02112940e-24,   1.21131602e-24,   1.44343469e-24,\n",
       "         1.72386911e-24,   1.99662476e-24,   2.31313535e-24,\n",
       "         2.65688086e-24,   2.99926829e-24,   3.29565156e-24,\n",
       "         3.47187766e-24,   3.62314304e-24,   3.89651589e-24,\n",
       "         4.52413735e-24,   4.94400053e-24,   5.33622287e-24,\n",
       "         6.41630996e-24,   6.79252790e-24,   7.92621738e-24,\n",
       "         8.63886296e-24,   9.43285438e-24,   1.04492595e-23,\n",
       "         1.14970668e-23,   1.38594809e-23,   1.50944142e-23,\n",
       "         1.67734971e-23,   1.99410076e-23,   2.27726596e-23,\n",
       "         2.62493198e-23,   2.90509849e-23,   3.29730678e-23,\n",
       "         3.70205987e-23,   4.03637068e-23,   4.35376395e-23,\n",
       "         5.01135045e-23,   5.59099318e-23,   6.17705748e-23,\n",
       "         6.75056502e-23,   7.45664991e-23,   8.93500332e-23,\n",
       "         1.03212053e-22,   1.24488700e-22,   1.62324315e-22,\n",
       "         1.98765755e-22,   2.75941806e-22,   3.60305475e-22,\n",
       "         4.50526487e-22,   5.44604316e-22,   6.45179883e-22,\n",
       "         7.47415277e-22,   8.56755794e-22])"
      ]
     },
     "execution_count": 25,
     "metadata": {},
     "output_type": "execute_result"
    }
   ],
   "source": [
    "10**np.percentile(mc_ary0_nb[-1], 50, axis=1)"
   ]
  },
  {
   "cell_type": "code",
   "execution_count": 23,
   "metadata": {},
   "outputs": [
    {
     "data": {
      "text/plain": [
       "array([    10.,     15.,     20.,     25.,     30.,     40.,     50.,\n",
       "           60.,     70.,     80.,     90.,    100.,    110.,    120.,\n",
       "          130.,    140.,    150.,    160.,    180.,    200.,    220.,\n",
       "          240.,    260.,    280.,    300.,    330.,    360.,    400.,\n",
       "          450.,    500.,    550.,    600.,    650.,    700.,    750.,\n",
       "          800.,    900.,   1000.,   1100.,   1200.,   1300.,   1500.,\n",
       "         1700.,   2000.,   2500.,   3000.,   4000.,   5000.,   6000.,\n",
       "         7000.,   8000.,   9000.,  10000.])"
      ]
     },
     "execution_count": 23,
     "metadata": {},
     "output_type": "execute_result"
    }
   ],
   "source": [
    "marr"
   ]
  },
  {
   "cell_type": "code",
   "execution_count": 47,
   "metadata": {},
   "outputs": [
    {
     "data": {
      "image/png": "[encoded data removed]",
      "text/plain": [
       "<matplotlib.figure.Figure at 0x2aae3c1c5550>"
      ]
     },
     "metadata": {},
     "output_type": "display_data"
    }
   ],
   "source": [
    "fig,ax = plt.subplots(1,figsize=(10/1.2,8/1.2))\n",
    "\n",
    "# plt.plot(m_arr,data_lim,color='k',label=r'Galaxy groups (this work)',linewidth=2,linestyle='solid')\n",
    "# plt.plot(m_arr,data_lim_nb,color='black',label=r'Galaxy groups (no boost)',linewidth=1,linestyle='dashed')\n",
    "\n",
    "# fudge=1.0 \n",
    "# plt.fill_between(m_arr,fudge*rot_q2p5,fudge*rot_q97p5,color='yellow',label=r'95\\% containment',alpha=0.6)\n",
    "# plt.fill_between(m_arr,fudge*rot_q16,fudge*rot_q84,color='limegreen',label=r'68\\% containment',alpha=0.7)\n",
    "\n",
    "plt.plot(igrb_mchi, igrb_lim, label='Isotropic', color='orange', lw=2)\n",
    "\n",
    "plt.fill_between(marr,10**np.percentile(lim_ary[-1], 16, axis=1),10**np.percentile(lim_ary[-1], 84, axis=1), alpha=0.4, color='cornflowerblue',label='Location 1')\n",
    "plt.fill_between(marr,10**np.percentile(combination, 16, axis=0),10**np.percentile(combination, 84, axis=0), alpha=0.4, color='forestgreen',label='Median Locations')\n",
    "\n",
    "plt.plot(marr,10**np.percentile(lim_ary[-1], 50, axis=1), alpha=0.4, color='mediumblue', ls='--', lw=2)\n",
    "\n",
    "plt.plot(marr,10**np.percentile(mc_ary0_nb[-1], 50, axis=1), alpha=0.4, color='firebrick',label='Location 1 (No boost)', ls='--',lw=2)\n",
    "\n",
    "\n",
    "\n",
    "plt.axhline(np.log10(3e-26), ls = '--', color='grey')\n",
    "plt.xscale(\"log\")\n",
    "plt.xlim(10,10000)\n",
    "plt.ylabel(\"$\\langle \\sigma v \\\\rangle$ [cm$^3$s$^{-1}$]\")\n",
    "plt.xlabel(\"$m_\\chi$\")\n",
    "plt.legend()\n",
    "# plt.plot(plot_data.marr,10**np.percentile(data_ary_10k[-1], 2.5, axis=1), alpha=1, color='k',label=r'10k halos',ls=':')\n",
    "\n",
    "\n",
    "\n",
    "\n",
    "plt.plot(thermal[::,0],thermal[::,1],linestyle='dotted',color='dimgrey',linewidth=1)\n",
    "plt.text(380, 3.e-26, r'\\emph{Thermal relic cross section}',fontsize=19.,color='dimgrey')\n",
    "# plt.text(7000, 1.0e-27, r'$b \\bar b$',fontsize=20,color='black')\n",
    "\n",
    "# set the alpha value of the legend: it will be translucent\n",
    "# leg.get_frame().set_alpha(0.1)\n",
    "\n",
    "plt.xscale('log')\n",
    "plt.yscale('log')\n",
    "plt.xticks(fontsize=23);\n",
    "plt.yticks(fontsize=23);\n",
    "plt.xlabel(r\"$m_\\chi$ [GeV]\",fontsize=23)\n",
    "plt.ylabel(r\"$\\langle \\sigma v \\rangle$ [cm$^3$ s$^{-1}$]\",fontsize=23)\n",
    "#plt.legend(fontsize=18,loc = 2)\n",
    "\n",
    "plt.xlim([1e1,1e4])\n",
    "plt.ylim([8e-28,2e-22])\n",
    "\n",
    "plt.text(12., 8e-23, r'\\textbf{Dark matter sensitivity}',fontsize=22,color='black')\n",
    "plt.text(12., 3.5e-23, r'\\texttt{DarkSky} simulation',fontsize=22,color='black')\n",
    "\n",
    "# plt.text(75., 1.5e-27, r'Non-overlapping halos and halo number',fontsize=20,color='black')\n",
    "\n",
    "plt.legend(ncol=2,fancybox=True,facecolor='none',frameon=False,loc='lower right', columnspacing=1)\n",
    "\n",
    "plt.tight_layout()\n",
    "\n",
    "plt.text(13,1.2e-27,\"$b\\\\bar b$\",fontsize=23)\n",
    "plt.savefig(plots_dir + 'darksky_limits.pdf',bbox_inches='tight')"
   ]
  },
  {
   "cell_type": "code",
   "execution_count": null,
   "metadata": {
    "collapsed": true
   },
   "outputs": [],
   "source": []
  }
 ],
 "metadata": {
  "kernelspec": {
   "display_name": "Python 2",
   "language": "python",
   "name": "python2"
  },
  "language_info": {
   "codemirror_mode": {
    "name": "ipython",
    "version": 2
   },
   "file_extension": ".py",
   "mimetype": "text/x-python",
   "name": "python",
   "nbconvert_exporter": "python",
   "pygments_lexer": "ipython2",
   "version": "2.7.13"
  }
 },
 "nbformat": 4,
 "nbformat_minor": 2
}
