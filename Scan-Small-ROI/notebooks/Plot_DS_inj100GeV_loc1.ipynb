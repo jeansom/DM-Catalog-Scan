{
 "cells": [
  {
   "cell_type": "code",
   "execution_count": 1,
   "metadata": {
    "collapsed": true
   },
   "outputs": [],
   "source": [
    "import sys\n",
    "sys.path.append(\"../\")\n",
    "\n",
    "import numpy as np\n",
    "import matplotlib.pyplot as plt\n",
    "import pandas as pd\n",
    "from tqdm import *\n",
    "from plot import LimitPlot\n",
    "\n",
    "%matplotlib inline\n",
    "%load_ext autoreload\n",
    "%autoreload 2"
   ]
  },
  {
   "cell_type": "markdown",
   "metadata": {},
   "source": [
    "# Plot"
   ]
  },
  {
   "cell_type": "code",
   "execution_count": 2,
   "metadata": {},
   "outputs": [
    {
     "data": {
      "application/vnd.jupyter.widget-view+json": {
       "model_id": "8c17226adbee4452bccfc384444e77f5"
      }
     },
     "metadata": {},
     "output_type": "display_data"
    },
    {
     "data": {
      "application/vnd.jupyter.widget-view+json": {
       "model_id": "d10a9fa83aa44c3cbbf3a35a674d11bb"
      }
     },
     "metadata": {},
     "output_type": "display_data"
    },
    {
     "data": {
      "application/vnd.jupyter.widget-view+json": {
       "model_id": "c5f114438878408c99dc0c8d59ae36ef"
      }
     },
     "metadata": {},
     "output_type": "display_data"
    },
    {
     "data": {
      "application/vnd.jupyter.widget-view+json": {
       "model_id": "c0381aafd33f4f0c810ba25ec10073e0"
      }
     },
     "metadata": {},
     "output_type": "display_data"
    },
    {
     "data": {
      "application/vnd.jupyter.widget-view+json": {
       "model_id": "f5040cb9c1fb42baab4a38ef59961516"
      }
     },
     "metadata": {},
     "output_type": "display_data"
    },
    {
     "data": {
      "application/vnd.jupyter.widget-view+json": {
       "model_id": "162aa8e914c64f6ca1af84c4d34465a9"
      }
     },
     "metadata": {},
     "output_type": "display_data"
    },
    {
     "name": "stdout",
     "output_type": "stream",
     "text": [
      "\n"
     ]
    }
   ],
   "source": [
    "nmc = 20\n",
    "\n",
    "xsec_max_ary = np.zeros((5,nmc))\n",
    "limit_ary = np.zeros((5,nmc))\n",
    "\n",
    "for idm, dm in enumerate(tqdm_notebook([5,7,9,11,13])):\n",
    "    plot_mc = LimitPlot(data_dir='/tigress/nrodd/DM-Catalog-Scan/Scan-Small-ROI/data/DarkSky_sid_loc0_inj10_dm' + str(dm)+'/',\n",
    "                        elephant=True, \n",
    "                        nmc=nmc, \n",
    "                        halos_ran=1000, \n",
    "                        halos_to_keep=1000,\n",
    "                        data_type=\"mc\",\n",
    "                        bcut=20,\n",
    "                        nonoverlap=True,\n",
    "                        nonoverlapradius=2.,\n",
    "                        cut_0p5=False,\n",
    "                        xsecslim=10,\n",
    "                        TS100=9,\n",
    "                        TS1000=9,\n",
    "                        elephantm = [11]) # 0 for 10 GeV\n",
    "    limit_ary_temp, xsec_max_ary_temp = plot_mc.return_limits()\n",
    "    \n",
    "    xsec_max_ary[idm] = xsec_max_ary_temp[-1,11,:]\n",
    "    limit_ary[idm] = limit_ary_temp[-1,11,:]\n",
    "    \n",
    "xsec_max = np.log10(np.percentile(xsec_max_ary, [16,50,84], axis=1))\n",
    "lims = np.log10(np.percentile(10**limit_ary, [16,50,84], axis=1))"
   ]
  },
  {
   "cell_type": "code",
   "execution_count": 3,
   "metadata": {},
   "outputs": [
    {
     "data": {
      "image/png": "[encoded data removed]",
      "text/plain": [
       "<matplotlib.figure.Figure at 0x2ba603f7a990>"
      ]
     },
     "metadata": {},
     "output_type": "display_data"
    }
   ],
   "source": [
    "plt.plot(np.arange(-23,-28,-1),  xsec_max[1], label='maxTS')\n",
    "plt.fill_between(np.arange(-23,-28,-1),  xsec_max[0], xsec_max[2], alpha=0.2)\n",
    "plt.plot(np.arange(-23,-28,-1),  lims[1], label='Limit')\n",
    "plt.fill_between(np.arange(-23,-28,-1),  lims[0], lims[2], alpha=0.2)\n",
    "plt.plot([-28,-21],[-28,-21],ls='--', color='grey')\n",
    "plt.xlabel(\"$\\langle \\sigma v \\\\rangle_\\mathrm{inj}$ [cm$^3$s$^{-1}$]\")\n",
    "plt.ylabel(\"$\\langle \\sigma v \\\\rangle_\\mathrm{rec}$ [cm$^3$s$^{-1}$]\")\n",
    "plt.ylim(-28,-22)\n",
    "plt.xlim(-28,-22)\n",
    "plt.legend()\n",
    "plt.show()"
   ]
  },
  {
   "cell_type": "code",
   "execution_count": null,
   "metadata": {
    "collapsed": true
   },
   "outputs": [],
   "source": []
  }
 ],
 "metadata": {
  "kernelspec": {
   "display_name": "Python 2",
   "language": "python",
   "name": "python2"
  },
  "language_info": {
   "codemirror_mode": {
    "name": "ipython",
    "version": 2
   },
   "file_extension": ".py",
   "mimetype": "text/x-python",
   "name": "python",
   "nbconvert_exporter": "python",
   "pygments_lexer": "ipython2",
   "version": "2.7.13"
  }
 },
 "nbformat": 4,
 "nbformat_minor": 2
}
