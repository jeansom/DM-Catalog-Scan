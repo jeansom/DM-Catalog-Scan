{
 "cells": [
  {
   "cell_type": "code",
   "execution_count": 1,
   "metadata": {
    "collapsed": true
   },
   "outputs": [],
   "source": [
    "import sys\n",
    "import shutil\n",
    "sys.path.append(\"../\")\n",
    "\n",
    "import numpy as np\n",
    "import matplotlib.pyplot as plt\n",
    "import pandas as pd\n",
    "from tqdm import *\n",
    "from plot_skylocs import LimitPlot\n",
    "from astropy.cosmology import Planck15\n",
    "import corner\n",
    "\n",
    "%matplotlib inline\n",
    "%load_ext autoreload\n",
    "%autoreload 2"
   ]
  },
  {
   "cell_type": "code",
   "execution_count": 2,
   "metadata": {},
   "outputs": [
    {
     "name": "stderr",
     "output_type": "stream",
     "text": [
      "/tigress/smsharma/anaconda2/lib/python2.7/site-packages/IPython/core/interactiveshell.py:2717: DtypeWarning: Columns (21,22,23) have mixed types. Specify dtype option on import or set low_memory=False.\n",
      "  interactivity=interactivity, compiler=compiler, result=result)\n"
     ]
    }
   ],
   "source": [
    "catalog = pd.read_csv(\"/tigress/nrodd/DM-Catalog-Scan/DataFiles/Catalogs/2MRSLocalTully_ALL_DATAPAPER_Planck15_v7.csv\")"
   ]
  },
  {
   "cell_type": "code",
   "execution_count": 3,
   "metadata": {},
   "outputs": [
    {
     "name": "stderr",
     "output_type": "stream",
     "text": [
      "/tigress/smsharma/anaconda2/lib/python2.7/site-packages/IPython/core/interactiveshell.py:2821: DtypeWarning: Columns (21,22,23) have mixed types. Specify dtype option on import or set low_memory=False.\n",
      "  if self.run_code(code, result):\n"
     ]
    }
   ],
   "source": [
    "plot_data = LimitPlot(data_dir='/tigress/nrodd/DM-Catalog-Scan/Scan-Small-ROI/data/Tully//',\n",
    "                        elephant=False, \n",
    "                        nmc=1,\n",
    "                        bcut=20,\n",
    "                        nonoverlap=True,\n",
    "                        nonoverlapradius=2.,\n",
    "                        cut_0p5=False,\n",
    "                        xsecslim=10,\n",
    "                        TS100=4,\n",
    "                        TS1000=9,\n",
    "                        halos_ran=1000, \n",
    "                        halos_to_keep=1000,\n",
    "                        data_type=\"data\",\n",
    "                        catalog_file=\"/tigress/nrodd/DM-Catalog-Scan/DataFiles/Catalogs/2MRSLocalTully_ALL_DATAPAPER_Planck15_v7.csv\")\n",
    "\n",
    "plot_data_skylocs = LimitPlot(data_dir='/tigress/nrodd/DM-Catalog-Scan/Scan-Small-ROI/data/Tully_skylocs_no0p5mask',\n",
    "                        elephant=False, \n",
    "                        nmc=200,\n",
    "                        bcut=20,\n",
    "                        nonoverlap=True,\n",
    "                        nonoverlapradius=2.,\n",
    "                        xsecslim=10,\n",
    "                        TS100=4,\n",
    "                        TS1000=9,\n",
    "                        halos_ran=1000, \n",
    "                        halos_to_keep=1000,\n",
    "                        data_type=\"skylocs\")"
   ]
  },
  {
   "cell_type": "code",
   "execution_count": 4,
   "metadata": {},
   "outputs": [
    {
     "data": {
      "application/vnd.jupyter.widget-view+json": {
       "model_id": "40600a8773714ddb85e2f936e0d11dda"
      }
     },
     "metadata": {},
     "output_type": "display_data"
    },
    {
     "name": "stdout",
     "output_type": "stream",
     "text": [
      "\n"
     ]
    }
   ],
   "source": [
    "data_ary, _, maxTS_ary = plot_data.return_limits()"
   ]
  },
  {
   "cell_type": "code",
   "execution_count": 5,
   "metadata": {
    "collapsed": true
   },
   "outputs": [],
   "source": [
    "en_bins = 2*np.logspace(-1,3,41)\n",
    "bin_centers = [10**((np.log10(en_bins[i])+np.log10(en_bins[i+1]))/2.) for i in range(40)]\n",
    "\n",
    "en_stacked = np.vstack((en_bins,en_bins)).reshape((-1,),order='F')[1:-1]"
   ]
  },
  {
   "cell_type": "code",
   "execution_count": null,
   "metadata": {},
   "outputs": [],
   "source": [
    "fig, axes2d = plt.subplots(nrows=5, ncols=2,\n",
    "                           figsize=(15,20))\n",
    "\n",
    "data_dir = \"../data/Tully/\"\n",
    "sim_dir = \"../data/Tully_randlocs\"\n",
    "for l, row in tqdm_notebook(enumerate(axes2d)):\n",
    "    for j, cell in enumerate(row):\n",
    "        ihalo = l*2 + j\n",
    "        halo = plot_data.passed_halos[l*2 + j]\n",
    "        d_ivals = np.load(data_dir + 'LL_inten_o'+str(halo)+'_data.npz')['intens']\n",
    "        d_lvals = np.load(data_dir + 'LL_inten_o'+str(halo)+'_data.npz')['LL']\n",
    "        \n",
    "        rep_angext = np.array([0.02785567,0.12069876,0.21354185,0.30638494,0.39922802,0.49207111,0.5849142,0.67775728,0.77060037,0.86344346,0.95628654,1.04912963,1.14197272,1.2348158,1.32765889,1.42050198,1.51334507,1.60618815,1.69903124,1.79187433])\n",
    "        obj_angext = 2*catalog[u'rs'].values[ihalo] / \\\n",
    "                     (Planck15.angular_diameter_distance(catalog[u'z'].values[ihalo]).value*1000) \\\n",
    "                     * 180./np.pi\n",
    "        rep_index = (np.abs(rep_angext-obj_angext)).argmin()\n",
    "        print \"At halo:\",ihalo\n",
    "        print \"Rep index:\",rep_index\n",
    "        \n",
    "        s_ivals = np.load(sim_dir + '0/LL_inten_o'+str(rep_index)+'_data.npz')['intens'] # intensity the same for all MC\n",
    "\n",
    "        nsim = 1500\n",
    "        sim_arr_all = np.zeros(shape=(nsim,40,200))\n",
    "\n",
    "        limit_total = np.zeros((nsim, 40 ))\n",
    "\n",
    "        for i in (range(nsim)):\n",
    "            sim_arr_all[i] = np.load(sim_dir + str(i) + '/LL_inten_o'+str(rep_index)+'_data.npz')['LL']\n",
    "\n",
    "        for i in (range(40)):\n",
    "            tmp_TS = np.zeros(shape=(nsim,200))\n",
    "            for j in range(nsim):\n",
    "                tmp_TS[j] = 2*(sim_arr_all[j,i,:]-sim_arr_all[j,i,0])\n",
    "                max_arg= np.argmax(tmp_TS[j])\n",
    "                max_val = tmp_TS[j][max_arg]\n",
    "                for xi in range(max_arg,len(s_ivals[i])):\n",
    "                    val = tmp_TS[j][xi]-max_val\n",
    "                    if val < -2.71:\n",
    "                        limit_total[j, i] = s_ivals[i][xi]\n",
    "                        break\n",
    "\n",
    "\n",
    "\n",
    "        limit_data = np.zeros(40)\n",
    "        for en in range(40):\n",
    "            TS_data = 2*(d_lvals[en]-d_lvals[en,0])\n",
    "            max_arg= np.argmax(TS_data)\n",
    "            max_val = TS_data[max_arg]\n",
    "            for xi in range(max_arg,len(d_ivals[en])):\n",
    "                val = TS_data[xi]-max_val\n",
    "                if val < -2.71:\n",
    "                    limit_data[en] = d_ivals[en][xi]\n",
    "                    break\n",
    "\n",
    "        lims = np.transpose([corner.quantile(np.transpose(limit_total)[i],[.025,0.14,.68,0.975]) for i in range(40)])\n",
    "\n",
    "        fluxlim_stacked = np.vstack((limit_data,limit_data)).reshape((-1,),order='F')[:]\n",
    "        fluxlim_stacked_sim2p5 = np.vstack((lims[0],lims[0])).reshape((-1,),order='F')[:]\n",
    "        fluxlim_stacked_sim16 = np.vstack((lims[1],lims[1])).reshape((-1,),order='F')[:]\n",
    "        fluxlim_stacked_sim68 = np.vstack((lims[2],lims[2])).reshape((-1,),order='F')[:]\n",
    "        fluxlim_stacked_sim97p5 = np.vstack((lims[3],lims[3])).reshape((-1,),order='F')[:]\n",
    "\n",
    "        cell.fill_between(np.log10(en_stacked), np.log10(fluxlim_stacked_sim2p5),np.log10(fluxlim_stacked_sim97p5), color='yellow',alpha=0.6)\n",
    "        cell.fill_between(np.log10(en_stacked), np.log10(fluxlim_stacked_sim16),np.log10(fluxlim_stacked_sim68), color='limegreen',alpha=0.7)\n",
    "        \n",
    "        cell.set_xlabel(\"$E$ [GeV]\")\n",
    "        \n",
    "        if ihalo == 4:\n",
    "            cell.set_ylabel(\"Flux [cm$^{-2}$ s$^{-1}$ sr$^{-1}$]\")\n",
    "\n",
    "\n",
    "        cell.set_xlim(np.log10(.2),np.log10(2000))\n",
    "        cell.set_ylim(-12,-8)\n",
    "        \n",
    "        cell.set_yticks([-12,-10,-8])\n",
    "        cell.set_yticklabels([\"$10^{-12}$\",\"$10^{-10}$\",\"$10^{-8}$\"], fontsize=23)\n",
    "    \n",
    "\n",
    "        cell.set_xticks([0,1,2,3])\n",
    "        cell.set_xticklabels([\"$10^{0}$\",\"$10^{1}$\",\"$10^{2}$\",\"$10^{3}$\"], fontsize=23)\n",
    "\n",
    "\n",
    "        for i in range(len(bin_centers)):\n",
    "            cell.arrow(np.log10(bin_centers[i]), np.log10(limit_data[i]), 0, -.3, length_includes_head=True,head_width=.06, head_length=.1, fc='k', ec='k')\n",
    "\n",
    "        cell.errorbar(np.log10(bin_centers), np.log10(limit_data), marker='_',markersize= 6.,color='k',ls='none')\n",
    "\n",
    "        cell.text(3.,-8.8, r'\\textbf{Object '+str(halo)+'} / ' + catalog['Name'].values[halo].replace(\"_\", \"\"), fontsize=17, color='k',horizontalalignment='right')\n",
    "\n",
    "plt.tight_layout()\n",
    "#plt.savefig(plots_dir + \"FluxUL.pdf\")"
   ]
  },
  {
   "cell_type": "code",
   "execution_count": 6,
   "metadata": {},
   "outputs": [
    {
     "data": {
      "application/vnd.jupyter.widget-view+json": {
       "model_id": "fe366a1493b5407e83de5744a7f8de62"
      }
     },
     "metadata": {},
     "output_type": "display_data"
    },
    {
     "name": "stdout",
     "output_type": "stream",
     "text": [
      "At halo: 1\n",
      "Rep index: 19\n",
      "At halo: 3\n",
      "Rep index: 19\n",
      "At halo: 6\n",
      "Rep index: 19\n",
      "At halo: 7\n",
      "Rep index: 16\n",
      "At halo: 8\n",
      "Rep index: 15\n",
      "At halo: 10\n",
      "Rep index: 16\n",
      "At halo: 12\n",
      "Rep index: 13\n",
      "At halo: 14\n",
      "Rep index: 10\n",
      "At halo: 20\n",
      "Rep index: 9\n",
      "At halo: 21\n",
      "Rep index: 9\n",
      "\n"
     ]
    },
    {
     "data": {
      "image/png": "[encoded data removed]",
      "text/plain": [
       "<matplotlib.figure.Figure at 0x2b77addaf210>"
      ]
     },
     "metadata": {},
     "output_type": "display_data"
    }
   ],
   "source": [
    "fig, axes2d = plt.subplots(nrows=5, ncols=2,\n",
    "                           figsize=(15,20))\n",
    "\n",
    "data_dir = \"../data/Tully/\"\n",
    "sim_dir = \"../data/Tully_randlocs\"\n",
    "for l, row in tqdm_notebook(enumerate(axes2d)):\n",
    "    for j, cell in enumerate(row):\n",
    "        ihalo = l*2 + j\n",
    "        halo = plot_data.passed_halos[l*2 + j]\n",
    "        d_ivals = np.load(data_dir + 'LL_inten_o'+str(halo)+'_data.npz')['intens']\n",
    "        d_lvals = np.load(data_dir + 'LL_inten_o'+str(halo)+'_data.npz')['LL']\n",
    "        \n",
    "        rep_angext = np.array([0.02785567,0.12069876,0.21354185,0.30638494,0.39922802,0.49207111,0.5849142,0.67775728,0.77060037,0.86344346,0.95628654,1.04912963,1.14197272,1.2348158,1.32765889,1.42050198,1.51334507,1.60618815,1.69903124,1.79187433])\n",
    "        obj_angext = 2*catalog[u'rs'].values[ihalo] / \\\n",
    "                     (Planck15.angular_diameter_distance(catalog[u'z'].values[ihalo]).value*1000) \\\n",
    "                     * 180./np.pi\n",
    "        rep_index = (np.abs(rep_angext-obj_angext)).argmin()\n",
    "        print \"At halo:\",halo\n",
    "        print \"Rep index:\",rep_index"
   ]
  },
  {
   "cell_type": "code",
   "execution_count": null,
   "metadata": {
    "collapsed": true
   },
   "outputs": [],
   "source": []
  }
 ],
 "metadata": {
  "kernelspec": {
   "display_name": "Python 2",
   "language": "python",
   "name": "python2"
  },
  "language_info": {
   "codemirror_mode": {
    "name": "ipython",
    "version": 2
   },
   "file_extension": ".py",
   "mimetype": "text/x-python",
   "name": "python",
   "nbconvert_exporter": "python",
   "pygments_lexer": "ipython2",
   "version": "2.7.13"
  }
 },
 "nbformat": 4,
 "nbformat_minor": 2
}
