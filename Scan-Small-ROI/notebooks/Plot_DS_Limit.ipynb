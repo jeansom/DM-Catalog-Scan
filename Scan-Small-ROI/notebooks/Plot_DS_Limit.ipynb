{
 "cells": [
  {
   "cell_type": "code",
   "execution_count": 1,
   "metadata": {},
   "outputs": [],
   "source": [
    "import sys\n",
    "sys.path.append(\"../\")\n",
    "\n",
    "import numpy as np\n",
    "import matplotlib.pyplot as plt\n",
    "import pandas as pd\n",
    "from tqdm import *\n",
    "from plot import LimitPlot\n",
    "\n",
    "%matplotlib inline\n",
    "%load_ext autoreload\n",
    "%autoreload 2"
   ]
  },
  {
   "cell_type": "markdown",
   "metadata": {},
   "source": [
    "# Initialize"
   ]
  },
  {
   "cell_type": "code",
   "execution_count": 8,
   "metadata": {
    "collapsed": true
   },
   "outputs": [],
   "source": [
    "mainmc = 100\n",
    "submc = 20\n",
    "halos = 1000\n",
    "\n",
    "plot_mc_lim = LimitPlot(data_dir='/tigress/nrodd/DM-Catalog-Scan/Scan-Small-ROI/data/DarkSky_sid_loc0/',\n",
    "                        elephant=False, \n",
    "                        nmc=mainmc, \n",
    "                        halos_ran=halos, \n",
    "                        halos_to_keep=halos,\n",
    "                        data_type=\"mc\",\n",
    "                        bcut=20,\n",
    "                        nonoverlap=True,\n",
    "                        nonoverlapradius=2.,\n",
    "                        cut_0p5=False,\n",
    "                        xsecslim=10,\n",
    "                        TS100=4,\n",
    "                        TS1000=9)\n",
    "\n",
    "plot_mc_loc0 = LimitPlot(data_dir='/tigress/nrodd/DM-Catalog-Scan/Scan-Small-ROI/data/DarkSky_sid_loc0/',\n",
    "                        elephant=False, \n",
    "                        nmc=submc, \n",
    "                        halos_ran=halos, \n",
    "                        halos_to_keep=halos,\n",
    "                        data_type=\"mc\",\n",
    "                        bcut=20,\n",
    "                        nonoverlap=True,\n",
    "                        nonoverlapradius=2.,\n",
    "                        cut_0p5=False,\n",
    "                        xsecslim=10,\n",
    "                        TS100=4,\n",
    "                        TS1000=9)\n",
    "\n",
    "plot_mc_loc1 = LimitPlot(data_dir='/tigress/nrodd/DM-Catalog-Scan/Scan-Small-ROI/data/DarkSky_sid_loc1/',\n",
    "                        elephant=False, \n",
    "                        nmc=submc, \n",
    "                        halos_ran=halos, \n",
    "                        halos_to_keep=halos,\n",
    "                        data_type=\"mc\",\n",
    "                        bcut=20,\n",
    "                        nonoverlap=True,\n",
    "                        nonoverlapradius=2.,\n",
    "                        cut_0p5=False,\n",
    "                        xsecslim=10,\n",
    "                        TS100=4,\n",
    "                        TS1000=9)\n",
    "\n",
    "plot_mc_loc2 = LimitPlot(data_dir='/tigress/nrodd/DM-Catalog-Scan/Scan-Small-ROI/data/DarkSky_sid_loc2/',\n",
    "                        elephant=False, \n",
    "                        nmc=submc, \n",
    "                        halos_ran=halos, \n",
    "                        halos_to_keep=halos,\n",
    "                        data_type=\"mc\",\n",
    "                        bcut=20,\n",
    "                        nonoverlap=True,\n",
    "                        nonoverlapradius=2.,\n",
    "                        cut_0p5=False,\n",
    "                        xsecslim=10,\n",
    "                        TS100=4,\n",
    "                        TS1000=9)\n",
    "\n",
    "plot_mc_loc3 = LimitPlot(data_dir='/tigress/nrodd/DM-Catalog-Scan/Scan-Small-ROI/data/DarkSky_sid_loc3/',\n",
    "                        elephant=False, \n",
    "                        nmc=submc, \n",
    "                        halos_ran=halos, \n",
    "                        halos_to_keep=halos,\n",
    "                        data_type=\"mc\",\n",
    "                        bcut=20,\n",
    "                        nonoverlap=True,\n",
    "                        nonoverlapradius=2.,\n",
    "                        cut_0p5=False,\n",
    "                        xsecslim=10,\n",
    "                        TS100=4,\n",
    "                        TS1000=9)\n",
    "\n",
    "plot_mc_loc4 = LimitPlot(data_dir='/tigress/nrodd/DM-Catalog-Scan/Scan-Small-ROI/data/DarkSky_sid_loc4/',\n",
    "                        elephant=False, \n",
    "                        nmc=submc, \n",
    "                        halos_ran=halos, \n",
    "                        halos_to_keep=halos,\n",
    "                        data_type=\"mc\",\n",
    "                        bcut=20,\n",
    "                        nonoverlap=True,\n",
    "                        nonoverlapradius=2.,\n",
    "                        cut_0p5=False,\n",
    "                        xsecslim=10,\n",
    "                        TS100=4,\n",
    "                        TS1000=9)\n",
    "\n",
    "plot_mc_loc5 = LimitPlot(data_dir='/tigress/nrodd/DM-Catalog-Scan/Scan-Small-ROI/data/DarkSky_sid_loc5/',\n",
    "                        elephant=False, \n",
    "                        nmc=submc, \n",
    "                        halos_ran=halos, \n",
    "                        halos_to_keep=halos,\n",
    "                        data_type=\"mc\",\n",
    "                        bcut=20,\n",
    "                        nonoverlap=True,\n",
    "                        nonoverlapradius=2.,\n",
    "                        cut_0p5=False,\n",
    "                        xsecslim=10,\n",
    "                        TS100=4,\n",
    "                        TS1000=9)\n",
    "\n",
    "plot_mc_loc6 = LimitPlot(data_dir='/tigress/nrodd/DM-Catalog-Scan/Scan-Small-ROI/data/DarkSky_sid_loc6/',\n",
    "                        elephant=False, \n",
    "                        nmc=submc, \n",
    "                        halos_ran=halos, \n",
    "                        halos_to_keep=halos,\n",
    "                        data_type=\"mc\",\n",
    "                        bcut=20,\n",
    "                        nonoverlap=True,\n",
    "                        nonoverlapradius=2.,\n",
    "                        cut_0p5=False,\n",
    "                        xsecslim=10,\n",
    "                        TS100=4,\n",
    "                        TS1000=9)\n",
    "\n",
    "plot_mc_loc7 = LimitPlot(data_dir='/tigress/nrodd/DM-Catalog-Scan/Scan-Small-ROI/data/DarkSky_sid_loc7/',\n",
    "                        elephant=False, \n",
    "                        nmc=submc, \n",
    "                        halos_ran=halos, \n",
    "                        halos_to_keep=halos,\n",
    "                        data_type=\"mc\",\n",
    "                        bcut=20,\n",
    "                        nonoverlap=True,\n",
    "                        nonoverlapradius=2.,\n",
    "                        cut_0p5=False,\n",
    "                        xsecslim=10,\n",
    "                        TS100=4,\n",
    "                        TS1000=9)\n",
    "\n",
    "plot_mc_loc8 = LimitPlot(data_dir='/tigress/nrodd/DM-Catalog-Scan/Scan-Small-ROI/data/DarkSky_sid_loc8/',\n",
    "                        elephant=False, \n",
    "                        nmc=submc, \n",
    "                        halos_ran=halos, \n",
    "                        halos_to_keep=halos,\n",
    "                        data_type=\"mc\",\n",
    "                        bcut=20,\n",
    "                        nonoverlap=True,\n",
    "                        nonoverlapradius=2.,\n",
    "                        cut_0p5=False,\n",
    "                        xsecslim=10,\n",
    "                        TS100=4,\n",
    "                        TS1000=9)"
   ]
  },
  {
   "cell_type": "markdown",
   "metadata": {},
   "source": [
    "# Check for missing files"
   ]
  },
  {
   "cell_type": "code",
   "execution_count": 3,
   "metadata": {},
   "outputs": [
    {
     "name": "stderr",
     "output_type": "stream",
     "text": [
      "Widget Javascript not detected.  It may not be installed or enabled properly.\n"
     ]
    },
    {
     "data": {
      "application/vnd.jupyter.widget-view+json": {
       "model_id": "7608ff97667c437d95b04528e04c4ed0"
      }
     },
     "metadata": {},
     "output_type": "display_data"
    },
    {
     "name": "stdout",
     "output_type": "stream",
     "text": [
      "\n",
      "0 files missing!\n"
     ]
    },
    {
     "name": "stderr",
     "output_type": "stream",
     "text": [
      "Widget Javascript not detected.  It may not be installed or enabled properly.\n"
     ]
    },
    {
     "data": {
      "application/vnd.jupyter.widget-view+json": {
       "model_id": "187a1b1b210c402a9a46286d599f69ab"
      }
     },
     "metadata": {},
     "output_type": "display_data"
    },
    {
     "name": "stdout",
     "output_type": "stream",
     "text": [
      "\n",
      "0 files missing!\n"
     ]
    },
    {
     "name": "stderr",
     "output_type": "stream",
     "text": [
      "Widget Javascript not detected.  It may not be installed or enabled properly.\n"
     ]
    },
    {
     "data": {
      "application/vnd.jupyter.widget-view+json": {
       "model_id": "f6d842dd339547879b81b30aae53ef1d"
      }
     },
     "metadata": {},
     "output_type": "display_data"
    },
    {
     "name": "stdout",
     "output_type": "stream",
     "text": [
      "\n",
      "0 files missing!\n"
     ]
    },
    {
     "name": "stderr",
     "output_type": "stream",
     "text": [
      "Widget Javascript not detected.  It may not be installed or enabled properly.\n"
     ]
    },
    {
     "data": {
      "application/vnd.jupyter.widget-view+json": {
       "model_id": "18c5878a4db84b4482da7a3920d552c2"
      }
     },
     "metadata": {},
     "output_type": "display_data"
    },
    {
     "name": "stdout",
     "output_type": "stream",
     "text": [
      "\n",
      "0 files missing!\n"
     ]
    },
    {
     "name": "stderr",
     "output_type": "stream",
     "text": [
      "Widget Javascript not detected.  It may not be installed or enabled properly.\n"
     ]
    },
    {
     "data": {
      "application/vnd.jupyter.widget-view+json": {
       "model_id": "6adf984cca1a4a15bf016263118e843b"
      }
     },
     "metadata": {},
     "output_type": "display_data"
    },
    {
     "name": "stdout",
     "output_type": "stream",
     "text": [
      "\n",
      "0 files missing!\n"
     ]
    }
   ],
   "source": [
    "# We looked at location 0-3 in the elephant plotting file, check remaining here\n",
    "imc_missing4, iobj_missing4 = plot_mc_loc4.files_exist()\n",
    "imc_missing5, iobj_missing5 = plot_mc_loc5.files_exist()\n",
    "imc_missing6, iobj_missing6 = plot_mc_loc6.files_exist()\n",
    "imc_missing7, iobj_missing7 = plot_mc_loc7.files_exist()\n",
    "imc_missing8, iobj_missing8 = plot_mc_loc8.files_exist()"
   ]
  },
  {
   "cell_type": "markdown",
   "metadata": {},
   "source": [
    "# Plot"
   ]
  },
  {
   "cell_type": "code",
   "execution_count": 9,
   "metadata": {},
   "outputs": [
    {
     "name": "stderr",
     "output_type": "stream",
     "text": [
      "Widget Javascript not detected.  It may not be installed or enabled properly.\n"
     ]
    },
    {
     "data": {
      "application/vnd.jupyter.widget-view+json": {
       "model_id": "73dc7119360241b09f80f8125117265b"
      }
     },
     "metadata": {},
     "output_type": "display_data"
    },
    {
     "name": "stdout",
     "output_type": "stream",
     "text": [
      "\n"
     ]
    },
    {
     "name": "stderr",
     "output_type": "stream",
     "text": [
      "Widget Javascript not detected.  It may not be installed or enabled properly.\n"
     ]
    },
    {
     "data": {
      "application/vnd.jupyter.widget-view+json": {
       "model_id": "53847f388acb4f20b6a6a980f76278f3"
      }
     },
     "metadata": {},
     "output_type": "display_data"
    },
    {
     "name": "stdout",
     "output_type": "stream",
     "text": [
      "\n"
     ]
    },
    {
     "name": "stderr",
     "output_type": "stream",
     "text": [
      "Widget Javascript not detected.  It may not be installed or enabled properly.\n"
     ]
    },
    {
     "data": {
      "application/vnd.jupyter.widget-view+json": {
       "model_id": "a8ee81b040b146e9aebc5e7dea20a658"
      }
     },
     "metadata": {},
     "output_type": "display_data"
    },
    {
     "name": "stdout",
     "output_type": "stream",
     "text": [
      "\n"
     ]
    },
    {
     "name": "stderr",
     "output_type": "stream",
     "text": [
      "Widget Javascript not detected.  It may not be installed or enabled properly.\n"
     ]
    },
    {
     "data": {
      "application/vnd.jupyter.widget-view+json": {
       "model_id": "7c1dbc1818c24cce8e8601da8477b6d6"
      }
     },
     "metadata": {},
     "output_type": "display_data"
    },
    {
     "name": "stdout",
     "output_type": "stream",
     "text": [
      "\n"
     ]
    },
    {
     "name": "stderr",
     "output_type": "stream",
     "text": [
      "Widget Javascript not detected.  It may not be installed or enabled properly.\n"
     ]
    },
    {
     "data": {
      "application/vnd.jupyter.widget-view+json": {
       "model_id": "72b65149b9314adfa1712d964d8e0669"
      }
     },
     "metadata": {},
     "output_type": "display_data"
    },
    {
     "name": "stdout",
     "output_type": "stream",
     "text": [
      "\n"
     ]
    },
    {
     "name": "stderr",
     "output_type": "stream",
     "text": [
      "Widget Javascript not detected.  It may not be installed or enabled properly.\n"
     ]
    },
    {
     "data": {
      "application/vnd.jupyter.widget-view+json": {
       "model_id": "31a75d5e75b84849b6d020f2deb525d1"
      }
     },
     "metadata": {},
     "output_type": "display_data"
    },
    {
     "name": "stdout",
     "output_type": "stream",
     "text": [
      "\n"
     ]
    },
    {
     "name": "stderr",
     "output_type": "stream",
     "text": [
      "Widget Javascript not detected.  It may not be installed or enabled properly.\n"
     ]
    },
    {
     "data": {
      "application/vnd.jupyter.widget-view+json": {
       "model_id": "bfa38f8e27bb4d7e85bc64e8f526e12a"
      }
     },
     "metadata": {},
     "output_type": "display_data"
    },
    {
     "name": "stdout",
     "output_type": "stream",
     "text": [
      "\n"
     ]
    },
    {
     "name": "stderr",
     "output_type": "stream",
     "text": [
      "Widget Javascript not detected.  It may not be installed or enabled properly.\n"
     ]
    },
    {
     "data": {
      "application/vnd.jupyter.widget-view+json": {
       "model_id": "70d8081ca02a42b098b4503b217905b6"
      }
     },
     "metadata": {},
     "output_type": "display_data"
    },
    {
     "name": "stdout",
     "output_type": "stream",
     "text": [
      "\n"
     ]
    },
    {
     "name": "stderr",
     "output_type": "stream",
     "text": [
      "Widget Javascript not detected.  It may not be installed or enabled properly.\n"
     ]
    },
    {
     "data": {
      "application/vnd.jupyter.widget-view+json": {
       "model_id": "6d5d8bb64b024a48961e402ca4968f10"
      }
     },
     "metadata": {},
     "output_type": "display_data"
    },
    {
     "name": "stdout",
     "output_type": "stream",
     "text": [
      "\n"
     ]
    },
    {
     "name": "stderr",
     "output_type": "stream",
     "text": [
      "Widget Javascript not detected.  It may not be installed or enabled properly.\n"
     ]
    },
    {
     "data": {
      "application/vnd.jupyter.widget-view+json": {
       "model_id": "902cdf1e8dc449389241a6f5d477657f"
      }
     },
     "metadata": {},
     "output_type": "display_data"
    },
    {
     "name": "stdout",
     "output_type": "stream",
     "text": [
      "\n"
     ]
    }
   ],
   "source": [
    "# First calculate limits\n",
    "lim_ary, _ = plot_mc_lim.return_limits()\n",
    "\n",
    "mc_ary0, _ = plot_mc_loc0.return_limits()\n",
    "mc_ary1, _ = plot_mc_loc1.return_limits()\n",
    "mc_ary2, _ = plot_mc_loc2.return_limits()\n",
    "mc_ary3, _ = plot_mc_loc3.return_limits()\n",
    "mc_ary4, _ = plot_mc_loc4.return_limits()\n",
    "mc_ary5, _ = plot_mc_loc5.return_limits()\n",
    "mc_ary6, _ = plot_mc_loc6.return_limits()\n",
    "mc_ary7, _ = plot_mc_loc7.return_limits()\n",
    "mc_ary8, _ = plot_mc_loc8.return_limits()\n",
    "\n",
    "# Combination\n",
    "combination = np.zeros((9,53))\n",
    "combination[0] = np.percentile(mc_ary0[-1], 50, axis=1)\n",
    "combination[1] = np.percentile(mc_ary1[-1], 50, axis=1)\n",
    "combination[2] = np.percentile(mc_ary2[-1], 50, axis=1)\n",
    "combination[3] = np.percentile(mc_ary3[-1], 50, axis=1)\n",
    "combination[4] = np.percentile(mc_ary4[-1], 50, axis=1)\n",
    "combination[5] = np.percentile(mc_ary5[-1], 50, axis=1)\n",
    "combination[6] = np.percentile(mc_ary6[-1], 50, axis=1)\n",
    "combination[7] = np.percentile(mc_ary7[-1], 50, axis=1)\n",
    "combination[8] = np.percentile(mc_ary8[-1], 50, axis=1)"
   ]
  },
  {
   "cell_type": "code",
   "execution_count": 10,
   "metadata": {},
   "outputs": [
    {
     "data": {
      "image/png": "[encoded data removed]",
      "text/plain": [
       "<matplotlib.figure.Figure at 0x2acc26659c10>"
      ]
     },
     "metadata": {},
     "output_type": "display_data"
    }
   ],
   "source": [
    "plt.fill_between(plot_mc_lim.marr,np.percentile(lim_ary[-1], 16, axis=1),np.percentile(lim_ary[-1], 84, axis=1), alpha=0.4, color='forestgreen',label='DS Location 1')\n",
    "plt.fill_between(plot_mc_lim.marr,np.percentile(combination, 16, axis=0),np.percentile(combination, 84, axis=0), alpha=0.4, color='orange',label='Median DS Locations')\n",
    "plt.axhline(np.log10(3e-26), ls = '--', color='grey')\n",
    "plt.xscale(\"log\")\n",
    "plt.xlim(10,10000)\n",
    "plt.ylabel(\"$\\langle \\sigma v \\\\rangle$ [cm$^3$s$^{-1}$]\")\n",
    "plt.xlabel(\"$m_\\chi$\")\n",
    "plt.legend()\n",
    "plt.show()"
   ]
  }
 ],
 "metadata": {
  "kernelspec": {
   "display_name": "Python 2",
   "language": "python",
   "name": "python2"
  },
  "language_info": {
   "codemirror_mode": {
    "name": "ipython",
    "version": 2
   },
   "file_extension": ".py",
   "mimetype": "text/x-python",
   "name": "python",
   "nbconvert_exporter": "python",
   "pygments_lexer": "ipython2",
   "version": "2.7.13"
  }
 },
 "nbformat": 4,
 "nbformat_minor": 2
}
