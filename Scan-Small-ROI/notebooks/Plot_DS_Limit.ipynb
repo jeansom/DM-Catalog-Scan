{
 "cells": [
  {
   "cell_type": "code",
   "execution_count": 1,
   "metadata": {
    "collapsed": true
   },
   "outputs": [],
   "source": [
    "import sys\n",
    "sys.path.append(\"../\")\n",
    "\n",
    "import numpy as np\n",
    "import matplotlib.pyplot as plt\n",
    "import pandas as pd\n",
    "from tqdm import *\n",
    "from plot import LimitPlot\n",
    "\n",
    "%matplotlib inline\n",
    "%load_ext autoreload\n",
    "%autoreload 2"
   ]
  },
  {
   "cell_type": "code",
   "execution_count": 34,
   "metadata": {
    "collapsed": true
   },
   "outputs": [],
   "source": [
    "plots_dir = \"/tigress/nrodd/DM-Catalog-Scan/Scan-Small-ROI/plots_darksky/\""
   ]
  },
  {
   "cell_type": "markdown",
   "metadata": {},
   "source": [
    "# Initialize"
   ]
  },
  {
   "cell_type": "code",
   "execution_count": 2,
   "metadata": {
    "collapsed": true
   },
   "outputs": [],
   "source": [
    "mainmc = 100\n",
    "submc = 20\n",
    "halos = 1000\n",
    "\n",
    "plot_mc_lim = LimitPlot(data_dir='/tigress/nrodd/DM-Catalog-Scan/Scan-Small-ROI/data/DarkSky_sid_loc0/',\n",
    "                        elephant=False, \n",
    "                        nmc=mainmc, \n",
    "                        halos_ran=halos, \n",
    "                        halos_to_keep=halos,\n",
    "                        data_type=\"mc\",\n",
    "                        bcut=20,\n",
    "                        nonoverlap=True,\n",
    "                        nonoverlapradius=2.,\n",
    "                        cut_0p5=False,\n",
    "                        xsecslim=10,\n",
    "                        TS100=4,\n",
    "                        TS1000=9)\n",
    "\n",
    "plot_mc_loc0 = LimitPlot(data_dir='/tigress/nrodd/DM-Catalog-Scan/Scan-Small-ROI/data/DarkSky_sid_loc0/',\n",
    "                        elephant=False, \n",
    "                        nmc=submc, \n",
    "                        halos_ran=halos, \n",
    "                        halos_to_keep=halos,\n",
    "                        data_type=\"mc\",\n",
    "                        bcut=20,\n",
    "                        nonoverlap=True,\n",
    "                        nonoverlapradius=2.,\n",
    "                        cut_0p5=False,\n",
    "                        xsecslim=10,\n",
    "                        TS100=4,\n",
    "                        TS1000=9)\n",
    "\n",
    "plot_mc_loc1 = LimitPlot(data_dir='/tigress/nrodd/DM-Catalog-Scan/Scan-Small-ROI/data/DarkSky_sid_loc1/',\n",
    "                        elephant=False, \n",
    "                        nmc=submc, \n",
    "                        halos_ran=halos, \n",
    "                        halos_to_keep=halos,\n",
    "                        data_type=\"mc\",\n",
    "                        bcut=20,\n",
    "                        nonoverlap=True,\n",
    "                        nonoverlapradius=2.,\n",
    "                        cut_0p5=False,\n",
    "                        xsecslim=10,\n",
    "                        TS100=4,\n",
    "                        TS1000=9)\n",
    "\n",
    "plot_mc_loc2 = LimitPlot(data_dir='/tigress/nrodd/DM-Catalog-Scan/Scan-Small-ROI/data/DarkSky_sid_loc2/',\n",
    "                        elephant=False, \n",
    "                        nmc=submc, \n",
    "                        halos_ran=halos, \n",
    "                        halos_to_keep=halos,\n",
    "                        data_type=\"mc\",\n",
    "                        bcut=20,\n",
    "                        nonoverlap=True,\n",
    "                        nonoverlapradius=2.,\n",
    "                        cut_0p5=False,\n",
    "                        xsecslim=10,\n",
    "                        TS100=4,\n",
    "                        TS1000=9)\n",
    "\n",
    "plot_mc_loc3 = LimitPlot(data_dir='/tigress/nrodd/DM-Catalog-Scan/Scan-Small-ROI/data/DarkSky_sid_loc3/',\n",
    "                        elephant=False, \n",
    "                        nmc=submc, \n",
    "                        halos_ran=halos, \n",
    "                        halos_to_keep=halos,\n",
    "                        data_type=\"mc\",\n",
    "                        bcut=20,\n",
    "                        nonoverlap=True,\n",
    "                        nonoverlapradius=2.,\n",
    "                        cut_0p5=False,\n",
    "                        xsecslim=10,\n",
    "                        TS100=4,\n",
    "                        TS1000=9)\n",
    "\n",
    "plot_mc_loc4 = LimitPlot(data_dir='/tigress/nrodd/DM-Catalog-Scan/Scan-Small-ROI/data/DarkSky_sid_loc4/',\n",
    "                        elephant=False, \n",
    "                        nmc=submc, \n",
    "                        halos_ran=halos, \n",
    "                        halos_to_keep=halos,\n",
    "                        data_type=\"mc\",\n",
    "                        bcut=20,\n",
    "                        nonoverlap=True,\n",
    "                        nonoverlapradius=2.,\n",
    "                        cut_0p5=False,\n",
    "                        xsecslim=10,\n",
    "                        TS100=4,\n",
    "                        TS1000=9)\n",
    "\n",
    "plot_mc_loc5 = LimitPlot(data_dir='/tigress/nrodd/DM-Catalog-Scan/Scan-Small-ROI/data/DarkSky_sid_loc5/',\n",
    "                        elephant=False, \n",
    "                        nmc=submc, \n",
    "                        halos_ran=halos, \n",
    "                        halos_to_keep=halos,\n",
    "                        data_type=\"mc\",\n",
    "                        bcut=20,\n",
    "                        nonoverlap=True,\n",
    "                        nonoverlapradius=2.,\n",
    "                        cut_0p5=False,\n",
    "                        xsecslim=10,\n",
    "                        TS100=4,\n",
    "                        TS1000=9)\n",
    "\n",
    "plot_mc_loc6 = LimitPlot(data_dir='/tigress/nrodd/DM-Catalog-Scan/Scan-Small-ROI/data/DarkSky_sid_loc6/',\n",
    "                        elephant=False, \n",
    "                        nmc=submc, \n",
    "                        halos_ran=halos, \n",
    "                        halos_to_keep=halos,\n",
    "                        data_type=\"mc\",\n",
    "                        bcut=20,\n",
    "                        nonoverlap=True,\n",
    "                        nonoverlapradius=2.,\n",
    "                        cut_0p5=False,\n",
    "                        xsecslim=10,\n",
    "                        TS100=4,\n",
    "                        TS1000=9)\n",
    "\n",
    "plot_mc_loc7 = LimitPlot(data_dir='/tigress/nrodd/DM-Catalog-Scan/Scan-Small-ROI/data/DarkSky_sid_loc7/',\n",
    "                        elephant=False, \n",
    "                        nmc=submc, \n",
    "                        halos_ran=halos, \n",
    "                        halos_to_keep=halos,\n",
    "                        data_type=\"mc\",\n",
    "                        bcut=20,\n",
    "                        nonoverlap=True,\n",
    "                        nonoverlapradius=2.,\n",
    "                        cut_0p5=False,\n",
    "                        xsecslim=10,\n",
    "                        TS100=4,\n",
    "                        TS1000=9)\n",
    "\n",
    "plot_mc_loc8 = LimitPlot(data_dir='/tigress/nrodd/DM-Catalog-Scan/Scan-Small-ROI/data/DarkSky_sid_loc8/',\n",
    "                        elephant=False, \n",
    "                        nmc=submc, \n",
    "                        halos_ran=halos, \n",
    "                        halos_to_keep=halos,\n",
    "                        data_type=\"mc\",\n",
    "                        bcut=20,\n",
    "                        nonoverlap=True,\n",
    "                        nonoverlapradius=2.,\n",
    "                        cut_0p5=False,\n",
    "                        xsecslim=10,\n",
    "                        TS100=4,\n",
    "                        TS1000=9)"
   ]
  },
  {
   "cell_type": "markdown",
   "metadata": {},
   "source": [
    "# Plot"
   ]
  },
  {
   "cell_type": "code",
   "execution_count": 3,
   "metadata": {},
   "outputs": [
    {
     "data": {
      "application/vnd.jupyter.widget-view+json": {
       "model_id": "fd4f9a3bbfa544eb9bf34c1902f92bee"
      }
     },
     "metadata": {},
     "output_type": "display_data"
    },
    {
     "name": "stdout",
     "output_type": "stream",
     "text": [
      "\n"
     ]
    },
    {
     "data": {
      "application/vnd.jupyter.widget-view+json": {
       "model_id": "efac7c50fdac40c9b1f88c35ec475cfb"
      }
     },
     "metadata": {},
     "output_type": "display_data"
    },
    {
     "name": "stdout",
     "output_type": "stream",
     "text": [
      "\n"
     ]
    },
    {
     "data": {
      "application/vnd.jupyter.widget-view+json": {
       "model_id": "fc593ff4879f4d8ab144c6459a4fd546"
      }
     },
     "metadata": {},
     "output_type": "display_data"
    },
    {
     "name": "stdout",
     "output_type": "stream",
     "text": [
      "\n"
     ]
    },
    {
     "data": {
      "application/vnd.jupyter.widget-view+json": {
       "model_id": "05b09fca88444c149e4c61f90fdfb8ad"
      }
     },
     "metadata": {},
     "output_type": "display_data"
    },
    {
     "name": "stdout",
     "output_type": "stream",
     "text": [
      "\n"
     ]
    },
    {
     "data": {
      "application/vnd.jupyter.widget-view+json": {
       "model_id": "c106650b2e444ad1a48d4fb6869faae8"
      }
     },
     "metadata": {},
     "output_type": "display_data"
    },
    {
     "name": "stdout",
     "output_type": "stream",
     "text": [
      "\n"
     ]
    },
    {
     "data": {
      "application/vnd.jupyter.widget-view+json": {
       "model_id": "04287930720d4128a1cd269e1ee56301"
      }
     },
     "metadata": {},
     "output_type": "display_data"
    },
    {
     "name": "stdout",
     "output_type": "stream",
     "text": [
      "\n"
     ]
    },
    {
     "data": {
      "application/vnd.jupyter.widget-view+json": {
       "model_id": "ab51d756c5e54ea9ade10b18220183a3"
      }
     },
     "metadata": {},
     "output_type": "display_data"
    },
    {
     "name": "stdout",
     "output_type": "stream",
     "text": [
      "\n"
     ]
    },
    {
     "data": {
      "application/vnd.jupyter.widget-view+json": {
       "model_id": "e9f489fdb1c54a04bb836d6487029503"
      }
     },
     "metadata": {},
     "output_type": "display_data"
    },
    {
     "name": "stdout",
     "output_type": "stream",
     "text": [
      "\n"
     ]
    },
    {
     "data": {
      "application/vnd.jupyter.widget-view+json": {
       "model_id": "22070b4bf437489eb6f7cab76671b9ae"
      }
     },
     "metadata": {},
     "output_type": "display_data"
    },
    {
     "name": "stdout",
     "output_type": "stream",
     "text": [
      "\n"
     ]
    },
    {
     "data": {
      "application/vnd.jupyter.widget-view+json": {
       "model_id": "748b8011a0ad4102881723b7a2b7a472"
      }
     },
     "metadata": {},
     "output_type": "display_data"
    },
    {
     "name": "stdout",
     "output_type": "stream",
     "text": [
      "\n"
     ]
    }
   ],
   "source": [
    "# First calculate limits\n",
    "lim_ary, _ = plot_mc_lim.return_limits()\n",
    "\n",
    "mc_ary0, _ = plot_mc_loc0.return_limits()\n",
    "mc_ary1, _ = plot_mc_loc1.return_limits()\n",
    "mc_ary2, _ = plot_mc_loc2.return_limits()\n",
    "mc_ary3, _ = plot_mc_loc3.return_limits()\n",
    "mc_ary4, _ = plot_mc_loc4.return_limits()\n",
    "mc_ary5, _ = plot_mc_loc5.return_limits()\n",
    "mc_ary6, _ = plot_mc_loc6.return_limits()\n",
    "mc_ary7, _ = plot_mc_loc7.return_limits()\n",
    "mc_ary8, _ = plot_mc_loc8.return_limits()\n",
    "\n",
    "# Combination\n",
    "combination = np.zeros((9,53))\n",
    "combination[0] = np.percentile(mc_ary0[-1], 50, axis=1)\n",
    "combination[1] = np.percentile(mc_ary1[-1], 50, axis=1)\n",
    "combination[2] = np.percentile(mc_ary2[-1], 50, axis=1)\n",
    "combination[3] = np.percentile(mc_ary3[-1], 50, axis=1)\n",
    "combination[4] = np.percentile(mc_ary4[-1], 50, axis=1)\n",
    "combination[5] = np.percentile(mc_ary5[-1], 50, axis=1)\n",
    "combination[6] = np.percentile(mc_ary6[-1], 50, axis=1)\n",
    "combination[7] = np.percentile(mc_ary7[-1], 50, axis=1)\n",
    "combination[8] = np.percentile(mc_ary8[-1], 50, axis=1)"
   ]
  },
  {
   "cell_type": "code",
   "execution_count": 4,
   "metadata": {
    "collapsed": true
   },
   "outputs": [],
   "source": [
    "np.save(\"combination\", combination)"
   ]
  },
  {
   "cell_type": "code",
   "execution_count": 5,
   "metadata": {
    "collapsed": true
   },
   "outputs": [],
   "source": [
    "np.save(\"mc_ary0\", mc_ary0)\n",
    "np.save(\"mc_ary1\", mc_ary1)\n",
    "np.save(\"mc_ary2\", mc_ary2)\n",
    "np.save(\"mc_ary3\", mc_ary3)\n",
    "np.save(\"mc_ary4\", mc_ary4)\n",
    "np.save(\"mc_ary5\", mc_ary5)\n",
    "np.save(\"mc_ary6\", mc_ary6)\n",
    "np.save(\"mc_ary7\", mc_ary7)\n",
    "np.save(\"mc_ary8\", mc_ary8)"
   ]
  },
  {
   "cell_type": "code",
   "execution_count": 6,
   "metadata": {
    "collapsed": true
   },
   "outputs": [],
   "source": [
    "np.save(\"lim_ary\", lim_ary)"
   ]
  },
  {
   "cell_type": "code",
   "execution_count": 23,
   "metadata": {},
   "outputs": [],
   "source": [
    "lim_ary = np.load(\"lim_ary.npy\")"
   ]
  },
  {
   "cell_type": "code",
   "execution_count": 24,
   "metadata": {},
   "outputs": [
    {
     "data": {
      "image/png": "[encoded data removed]",
      "text/plain": [
       "<matplotlib.figure.Figure at 0x2aad7bb165d0>"
      ]
     },
     "metadata": {},
     "output_type": "display_data"
    }
   ],
   "source": [
    "plt.fill_between(plot_mc_lim.marr,np.percentile(lim_ary[-1], 16, axis=1),np.percentile(lim_ary[-1], 84, axis=1), alpha=0.4, color='forestgreen',label='DS Location 1')\n",
    "plt.fill_between(plot_mc_lim.marr,np.percentile(combination, 16, axis=0),np.percentile(combination, 84, axis=0), alpha=0.4, color='orange',label='Median DS Locations')\n",
    "plt.axhline(np.log10(3e-26), ls = '--', color='grey')\n",
    "plt.xscale(\"log\")\n",
    "plt.xlim(10,10000)\n",
    "plt.ylabel(\"$\\langle \\sigma v \\\\rangle$ [cm$^3$s$^{-1}$]\")\n",
    "plt.xlabel(\"$m_\\chi$\")\n",
    "plt.legend()\n",
    "plt.show()"
   ]
  },
  {
   "cell_type": "code",
   "execution_count": 25,
   "metadata": {
    "collapsed": true
   },
   "outputs": [],
   "source": [
    "work_dir = '/tigress/bsafdi/github/NPTF-working/NPTF-ID-Catalog/runs_sid/notebooks/LimitPlot//'\n",
    "plots_dir = '/tigress/nrodd/DM-Catalog-Scan/Scan-Small-ROI/plots/'\n",
    "data_dir = work_dir + 'data/'\n",
    "\n",
    "data_file_names =[ data_dir + f for f in ['stath_max-lim.dat','stath_min-lim.dat','statp_q16-lim.dat','statp_q84-lim.dat',\n",
    "                  'Jcm_q16-lim.dat','Jcm_q84-lim.dat','GCE.dat','FermiDwarf.dat','nominal-data.dat','gce-abazajian.dat',\n",
    "                                         'gce-calore.dat','gce-gordon.dat','thermal-relic.dat'  ] ]\n",
    "\n",
    "data_files = [np.loadtxt(f) for f in data_file_names]\n",
    "\n",
    "####Poisson error bands\n",
    "massP = 10**data_files[2][::,0]\n",
    "Lim16 = 10**data_files[2][::,1]\n",
    "Lim84 = 10**data_files[3][::,1]\n",
    "LimP_disp = (np.log10(Lim84) - np.log10(Lim16))/2.0\n",
    "\n",
    "####Halo Stat error bands\n",
    "massH = 10**data_files[4][::,0]\n",
    "LimH16 = 10**data_files[4][::,1]\n",
    "LimH84 = 10**data_files[5][::,1]\n",
    "LimH_disp = (np.log10(LimH84) - np.log10(LimH16))/2.0\n",
    "\n",
    "\n",
    "#####Combine the uncertainties\n",
    "Lim_uncert = np.sqrt(LimP_disp**2 + LimH_disp**2)\n",
    "\n",
    "###GCE\n",
    "GCE = data_files[6]\n",
    "GCE_ab = data_files[9]\n",
    "GCE_calore = data_files[10]\n",
    "GCE_gordan = data_files[11]\n",
    "\n",
    "###Fermi Dwarf\n",
    "massD = 10**data_files[8][::,0]\n",
    "LimD = 10**data_files[8][::,1]\n",
    "\n",
    "#####thermal\n",
    "thermal = 10**data_files[12]\n",
    "\n",
    "###Cross Corr\n",
    "mDM_ary = [10,20,50,100,200,300,400,500,700,1000,10000]\n",
    "# lim_ary = np.array(np.array([[  3.47613312e-25,   3.19993932e-25,   4.09432255e-25,\n",
    "#           5.74111275e-25,   8.19273323e-25,   1.11412925e-24,\n",
    "#           1.54077804e-24,   1.88342427e-24,   2.45742289e-24,\n",
    "#           3.51413849e-24,   1.88285952e-23],\n",
    "#        [  6.84653178e-25,   6.11339438e-25,   8.88586835e-25,\n",
    "#           1.46856813e-24,   2.37706561e-24,   3.06228027e-24,\n",
    "#           3.78778553e-24,   4.28537842e-24,   5.06539081e-24,\n",
    "#           6.20444331e-24,   3.37611100e-23]]))\n"
   ]
  },
  {
   "cell_type": "code",
   "execution_count": 39,
   "metadata": {},
   "outputs": [
    {
     "data": {
      "image/png": "[encoded data removed]",
      "text/plain": [
       "<matplotlib.figure.Figure at 0x2aad772de210>"
      ]
     },
     "metadata": {},
     "output_type": "display_data"
    }
   ],
   "source": [
    "fig,ax = plt.subplots(1,figsize=(10/1.2,8/1.2))\n",
    "\n",
    "# plt.plot(m_arr,data_lim,color='k',label=r'Galaxy groups (this work)',linewidth=2,linestyle='solid')\n",
    "# plt.plot(m_arr,data_lim_nb,color='black',label=r'Galaxy groups (no boost)',linewidth=1,linestyle='dashed')\n",
    "\n",
    "# fudge=1.0 \n",
    "# plt.fill_between(m_arr,fudge*rot_q2p5,fudge*rot_q97p5,color='yellow',label=r'95\\% containment',alpha=0.6)\n",
    "# plt.fill_between(m_arr,fudge*rot_q16,fudge*rot_q84,color='limegreen',label=r'68\\% containment',alpha=0.7)\n",
    "\n",
    "plt.fill_between(plot_mc_lim.marr,10**np.percentile(lim_ary[-1], 16, axis=1),10**np.percentile(lim_ary[-1], 84, axis=1), alpha=0.4, color='cornflowerblue',label='\\\\texttt{DarkSky} Location 1')\n",
    "plt.fill_between(plot_mc_lim.marr,10**np.percentile(combination, 16, axis=0),10**np.percentile(combination, 84, axis=0), alpha=0.4, color='forestgreen',label='Median \\\\texttt{DarkSky} Locations')\n",
    "plt.axhline(np.log10(3e-26), ls = '--', color='grey')\n",
    "plt.xscale(\"log\")\n",
    "plt.xlim(10,10000)\n",
    "plt.ylabel(\"$\\langle \\sigma v \\\\rangle$ [cm$^3$s$^{-1}$]\")\n",
    "plt.xlabel(\"$m_\\chi$\")\n",
    "plt.legend()\n",
    "# plt.plot(plot_data.marr,10**np.percentile(data_ary_10k[-1], 2.5, axis=1), alpha=1, color='k',label=r'10k halos',ls=':')\n",
    "\n",
    "\n",
    "\n",
    "\n",
    "plt.plot(thermal[::,0],thermal[::,1],linestyle='dotted',color='dimgrey',linewidth=1)\n",
    "plt.text(380, 3.e-26, r'\\emph{Thermal relic cross section}',fontsize=19.,color='dimgrey')\n",
    "# plt.text(7000, 1.0e-27, r'$b \\bar b$',fontsize=20,color='black')\n",
    "\n",
    "# set the alpha value of the legend: it will be translucent\n",
    "# leg.get_frame().set_alpha(0.1)\n",
    "\n",
    "plt.xscale('log')\n",
    "plt.yscale('log')\n",
    "plt.xticks(fontsize=23);\n",
    "plt.yticks(fontsize=23);\n",
    "plt.xlabel(r\"$m_\\chi$ [GeV]\",fontsize=23)\n",
    "plt.ylabel(r\"$\\langle \\sigma v \\rangle$ [cm$^3$ s$^{-1}$]\",fontsize=23)\n",
    "#plt.legend(fontsize=18,loc = 2)\n",
    "\n",
    "plt.xlim([1e1,1e4])\n",
    "plt.ylim([8e-28,2e-22])\n",
    "\n",
    "# plt.text(240.3, 3.5e-27, r'\\textbf{\\emph{Fermi} Galaxy Groups}',fontsize=22,color='black')\n",
    "# plt.text(75., 1.5e-27, r'Non-overlapping halos and halo number',fontsize=20,color='black')\n",
    "\n",
    "plt.legend(ncol=1,fancybox=True,facecolor='none',frameon=False,loc='upper left')\n",
    "\n",
    "plt.tight_layout()\n",
    "\n",
    "plt.text(6100,1.2e-27,\"$b\\\\bar b$\",fontsize=23)\n",
    "plt.savefig(plots_dir + 'darksky_limits.pdf',bbox_inches='tight')"
   ]
  },
  {
   "cell_type": "code",
   "execution_count": null,
   "metadata": {
    "collapsed": true
   },
   "outputs": [],
   "source": []
  }
 ],
 "metadata": {
  "kernelspec": {
   "display_name": "Python 2",
   "language": "python",
   "name": "python2"
  },
  "language_info": {
   "codemirror_mode": {
    "name": "ipython",
    "version": 2
   },
   "file_extension": ".py",
   "mimetype": "text/x-python",
   "name": "python",
   "nbconvert_exporter": "python",
   "pygments_lexer": "ipython2",
   "version": "2.7.13"
  }
 },
 "nbformat": 4,
 "nbformat_minor": 2
}
